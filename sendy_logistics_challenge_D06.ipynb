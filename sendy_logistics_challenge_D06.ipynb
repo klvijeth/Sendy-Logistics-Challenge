{
 "cells": [
  {
   "cell_type": "markdown",
   "metadata": {
    "colab_type": "text",
    "id": "7iNP7lF-i7fR"
   },
   "source": [
    "# Sendy Logistics Challenge\n",
    "\n",
    "### Problem Statement:\n",
    "#### To predict the estimated time of arrival (ETA) for motorbike deliveries in Nairobi, Kenya.\n",
    "(To predict the estimated time of delivery of orders, from the point of driver pickup to the point of arrival at final destination.)\n",
    "\n",
    "https://zindi.africa/competitions/sendy-logistics-challenge\n",
    "\n",
    "Logistics in Sub-Saharan Africa increases the cost of manufactured goods by up to 320%; while in Europe, it only accounts for up to 90% of the manufacturing cost. Economies are better when logistics is efficient and affordable and hence the challenge. The data consists of 29 attribute which shall help determine the time that is needed for delivery of a parcel made under Sendy, a delivery servive.\n",
    "\n",
    "The solution will help enhance customer communication and improve the reliability of service; which will ultimately improve customer experience. In addition, the solution will enable Sendy to realize cost savings, and ultimately reduce the cost of doing business, through improved resource management and planning for order scheduling."
   ]
  },
  {
   "cell_type": "markdown",
   "metadata": {
    "colab_type": "text",
    "id": "pYrPhEObi7fa"
   },
   "source": [
    "#### Team: D_06\n",
    "#### Members:\n",
    "266 Vibha Hegde\n",
    "\n",
    "257 Tejaswini Kale\n",
    "\n",
    "262 Usman Khan\n",
    "\n",
    "273 K L Vijeth"
   ]
  },
  {
   "cell_type": "code",
   "execution_count": 0,
   "metadata": {
    "colab": {
     "base_uri": "https://localhost:8080/",
     "height": 119
    },
    "colab_type": "code",
    "id": "RLLr497xZKbX",
    "outputId": "f9f3f8ec-8299-47de-c47e-36c2ff4f5515"
   },
   "outputs": [
    {
     "name": "stdout",
     "output_type": "stream",
     "text": [
      "Populating the interactive namespace from numpy and matplotlib\n"
     ]
    },
    {
     "name": "stderr",
     "output_type": "stream",
     "text": [
      "/usr/local/lib/python3.6/dist-packages/IPython/core/magics/pylab.py:161: UserWarning:\n",
      "\n",
      "pylab import has clobbered these variables: ['datetime']\n",
      "`%matplotlib` prevents importing * from pylab and numpy\n",
      "\n"
     ]
    }
   ],
   "source": [
    "import pandas as pd\n",
    "import matplotlib.pyplot as plt\n",
    "import seaborn as sns\n",
    "\n",
    "import plotly.express as px\n",
    "import plotly.graph_objects as go\n",
    "import plotly.offline as py\n",
    "\n",
    "from sklearn.linear_model import LinearRegression\n",
    "from sklearn.linear_model import Lasso\n",
    "from sklearn.linear_model import HuberRegressor\n",
    "from sklearn.ensemble import RandomForestRegressor\n",
    "from sklearn.ensemble import AdaBoostRegressor\n",
    "from sklearn.ensemble import GradientBoostingRegressor\n",
    "from sklearn.preprocessing import OneHotEncoder,LabelEncoder,MinMaxScaler,normalize\n",
    "from sklearn.model_selection import train_test_split \n",
    "from sklearn.model_selection import cross_val_score, GridSearchCV\n",
    "from sklearn.model_selection import learning_curve\n",
    "from sklearn.model_selection import KFold\n",
    "from sklearn.model_selection import cross_val_predict\n",
    "from sklearn.preprocessing import MinMaxScaler\n",
    "from sklearn.preprocessing import PolynomialFeatures\n",
    "from sklearn import metrics\n",
    "from sklearn import svm\n",
    "from sklearn.metrics import r2_score\n",
    "\n",
    "import xgboost as xgb\n",
    "from copy import deepcopy\n",
    "from datetime import datetime\n",
    "from IPython.display import HTML\n",
    "import json\n",
    "%pylab inline\n",
    "\n"
   ]
  },
  {
   "cell_type": "code",
   "execution_count": 0,
   "metadata": {
    "colab": {
     "base_uri": "https://localhost:8080/",
     "height": 122
    },
    "colab_type": "code",
    "id": "wikMJRVrjObu",
    "outputId": "8fb0dca2-ebcd-451b-b272-6ccf19ec9973"
   },
   "outputs": [
    {
     "name": "stdout",
     "output_type": "stream",
     "text": [
      "Go to this URL in a browser: https://accounts.google.com/o/oauth2/auth?client_id=947318989803-6bn6qk8qdgf4n4g3pfee6491hc0brc4i.apps.googleusercontent.com&redirect_uri=urn%3Aietf%3Awg%3Aoauth%3A2.0%3Aoob&scope=email%20https%3A%2F%2Fwww.googleapis.com%2Fauth%2Fdocs.test%20https%3A%2F%2Fwww.googleapis.com%2Fauth%2Fdrive%20https%3A%2F%2Fwww.googleapis.com%2Fauth%2Fdrive.photos.readonly%20https%3A%2F%2Fwww.googleapis.com%2Fauth%2Fpeopleapi.readonly&response_type=code\n",
      "\n",
      "Enter your authorization code:\n",
      "··········\n",
      "Mounted at /content/drive\n"
     ]
    }
   ],
   "source": [
    "from google.colab import drive\n",
    "drive.mount('/content/drive')"
   ]
  },
  {
   "cell_type": "code",
   "execution_count": 0,
   "metadata": {
    "colab": {},
    "colab_type": "code",
    "id": "CuF7XsrEjnHQ"
   },
   "outputs": [],
   "source": [
    "import os\n",
    "os.chdir(\"drive/My Drive/sendy\")"
   ]
  },
  {
   "cell_type": "markdown",
   "metadata": {
    "colab_type": "text",
    "id": "8h6FtCVGp2-y"
   },
   "source": [
    "# **Training dataset**"
   ]
  },
  {
   "cell_type": "markdown",
   "metadata": {
    "colab_type": "text",
    "id": "nnZ2G0v8i7fv"
   },
   "source": [
    "#### Reading Training data into a Pandas Data Frame."
   ]
  },
  {
   "cell_type": "code",
   "execution_count": 0,
   "metadata": {
    "colab": {
     "base_uri": "https://localhost:8080/",
     "height": 224
    },
    "colab_type": "code",
    "id": "5Jj9pPGRuHsH",
    "outputId": "f691bb10-ca9d-419c-a10e-af6198853efa"
   },
   "outputs": [
    {
     "data": {
      "text/html": [
       "<div>\n",
       "<style scoped>\n",
       "    .dataframe tbody tr th:only-of-type {\n",
       "        vertical-align: middle;\n",
       "    }\n",
       "\n",
       "    .dataframe tbody tr th {\n",
       "        vertical-align: top;\n",
       "    }\n",
       "\n",
       "    .dataframe thead th {\n",
       "        text-align: right;\n",
       "    }\n",
       "</style>\n",
       "<table border=\"1\" class=\"dataframe\">\n",
       "  <thead>\n",
       "    <tr style=\"text-align: right;\">\n",
       "      <th></th>\n",
       "      <th>Order_No</th>\n",
       "      <th>User_Id</th>\n",
       "      <th>Vehicle_Type</th>\n",
       "      <th>Platform_Type</th>\n",
       "      <th>Type</th>\n",
       "      <th>Placement_Day_of_Month</th>\n",
       "      <th>Placement_Weekday</th>\n",
       "      <th>Placement_Time</th>\n",
       "      <th>Confirmation_Day_of_Month</th>\n",
       "      <th>Confirmation_Weekday</th>\n",
       "      <th>Confirmation_Time</th>\n",
       "      <th>Arrival_at_Pickup_Day_of_Month</th>\n",
       "      <th>Arrival_at_Pickup_Weekday</th>\n",
       "      <th>Arrival_at_Pickup_Time</th>\n",
       "      <th>Pickup_Day_of_Month</th>\n",
       "      <th>Pickup_Weekday</th>\n",
       "      <th>Pickup_Time</th>\n",
       "      <th>Arrival_at_Destination_Day_of_Month</th>\n",
       "      <th>Arrival_at_Destination_Weekday</th>\n",
       "      <th>Arrival_at_Destination_Time</th>\n",
       "      <th>Distance</th>\n",
       "      <th>Temperature</th>\n",
       "      <th>Precipitation</th>\n",
       "      <th>Pickup_Lat</th>\n",
       "      <th>Pickup_Long</th>\n",
       "      <th>Destination_Lat</th>\n",
       "      <th>Destination_Long</th>\n",
       "      <th>Rider_Id</th>\n",
       "      <th>Time_from_Pickup_to_Arrival</th>\n",
       "    </tr>\n",
       "  </thead>\n",
       "  <tbody>\n",
       "    <tr>\n",
       "      <th>0</th>\n",
       "      <td>Order_No_4211</td>\n",
       "      <td>User_Id_633</td>\n",
       "      <td>Bike</td>\n",
       "      <td>3</td>\n",
       "      <td>Business</td>\n",
       "      <td>9</td>\n",
       "      <td>5</td>\n",
       "      <td>9:35:46 AM</td>\n",
       "      <td>9</td>\n",
       "      <td>5</td>\n",
       "      <td>9:40:10 AM</td>\n",
       "      <td>9</td>\n",
       "      <td>5</td>\n",
       "      <td>10:04:47 AM</td>\n",
       "      <td>9</td>\n",
       "      <td>5</td>\n",
       "      <td>10:27:30 AM</td>\n",
       "      <td>9</td>\n",
       "      <td>5</td>\n",
       "      <td>10:39:55 AM</td>\n",
       "      <td>4</td>\n",
       "      <td>20.4</td>\n",
       "      <td>NaN</td>\n",
       "      <td>-1.317755</td>\n",
       "      <td>36.830370</td>\n",
       "      <td>-1.300406</td>\n",
       "      <td>36.829741</td>\n",
       "      <td>Rider_Id_432</td>\n",
       "      <td>745</td>\n",
       "    </tr>\n",
       "    <tr>\n",
       "      <th>1</th>\n",
       "      <td>Order_No_25375</td>\n",
       "      <td>User_Id_2285</td>\n",
       "      <td>Bike</td>\n",
       "      <td>3</td>\n",
       "      <td>Personal</td>\n",
       "      <td>12</td>\n",
       "      <td>5</td>\n",
       "      <td>11:16:16 AM</td>\n",
       "      <td>12</td>\n",
       "      <td>5</td>\n",
       "      <td>11:23:21 AM</td>\n",
       "      <td>12</td>\n",
       "      <td>5</td>\n",
       "      <td>11:40:22 AM</td>\n",
       "      <td>12</td>\n",
       "      <td>5</td>\n",
       "      <td>11:44:09 AM</td>\n",
       "      <td>12</td>\n",
       "      <td>5</td>\n",
       "      <td>12:17:22 PM</td>\n",
       "      <td>16</td>\n",
       "      <td>26.4</td>\n",
       "      <td>NaN</td>\n",
       "      <td>-1.351453</td>\n",
       "      <td>36.899315</td>\n",
       "      <td>-1.295004</td>\n",
       "      <td>36.814358</td>\n",
       "      <td>Rider_Id_856</td>\n",
       "      <td>1993</td>\n",
       "    </tr>\n",
       "    <tr>\n",
       "      <th>2</th>\n",
       "      <td>Order_No_1899</td>\n",
       "      <td>User_Id_265</td>\n",
       "      <td>Bike</td>\n",
       "      <td>3</td>\n",
       "      <td>Business</td>\n",
       "      <td>30</td>\n",
       "      <td>2</td>\n",
       "      <td>12:39:25 PM</td>\n",
       "      <td>30</td>\n",
       "      <td>2</td>\n",
       "      <td>12:42:44 PM</td>\n",
       "      <td>30</td>\n",
       "      <td>2</td>\n",
       "      <td>12:49:34 PM</td>\n",
       "      <td>30</td>\n",
       "      <td>2</td>\n",
       "      <td>12:53:03 PM</td>\n",
       "      <td>30</td>\n",
       "      <td>2</td>\n",
       "      <td>1:00:38 PM</td>\n",
       "      <td>3</td>\n",
       "      <td>NaN</td>\n",
       "      <td>NaN</td>\n",
       "      <td>-1.308284</td>\n",
       "      <td>36.843419</td>\n",
       "      <td>-1.300921</td>\n",
       "      <td>36.828195</td>\n",
       "      <td>Rider_Id_155</td>\n",
       "      <td>455</td>\n",
       "    </tr>\n",
       "    <tr>\n",
       "      <th>3</th>\n",
       "      <td>Order_No_9336</td>\n",
       "      <td>User_Id_1402</td>\n",
       "      <td>Bike</td>\n",
       "      <td>3</td>\n",
       "      <td>Business</td>\n",
       "      <td>15</td>\n",
       "      <td>5</td>\n",
       "      <td>9:25:34 AM</td>\n",
       "      <td>15</td>\n",
       "      <td>5</td>\n",
       "      <td>9:26:05 AM</td>\n",
       "      <td>15</td>\n",
       "      <td>5</td>\n",
       "      <td>9:37:56 AM</td>\n",
       "      <td>15</td>\n",
       "      <td>5</td>\n",
       "      <td>9:43:06 AM</td>\n",
       "      <td>15</td>\n",
       "      <td>5</td>\n",
       "      <td>10:05:27 AM</td>\n",
       "      <td>9</td>\n",
       "      <td>19.2</td>\n",
       "      <td>NaN</td>\n",
       "      <td>-1.281301</td>\n",
       "      <td>36.832396</td>\n",
       "      <td>-1.257147</td>\n",
       "      <td>36.795063</td>\n",
       "      <td>Rider_Id_855</td>\n",
       "      <td>1341</td>\n",
       "    </tr>\n",
       "    <tr>\n",
       "      <th>4</th>\n",
       "      <td>Order_No_27883</td>\n",
       "      <td>User_Id_1737</td>\n",
       "      <td>Bike</td>\n",
       "      <td>1</td>\n",
       "      <td>Personal</td>\n",
       "      <td>13</td>\n",
       "      <td>1</td>\n",
       "      <td>9:55:18 AM</td>\n",
       "      <td>13</td>\n",
       "      <td>1</td>\n",
       "      <td>9:56:18 AM</td>\n",
       "      <td>13</td>\n",
       "      <td>1</td>\n",
       "      <td>10:03:53 AM</td>\n",
       "      <td>13</td>\n",
       "      <td>1</td>\n",
       "      <td>10:05:23 AM</td>\n",
       "      <td>13</td>\n",
       "      <td>1</td>\n",
       "      <td>10:25:37 AM</td>\n",
       "      <td>9</td>\n",
       "      <td>15.4</td>\n",
       "      <td>NaN</td>\n",
       "      <td>-1.266597</td>\n",
       "      <td>36.792118</td>\n",
       "      <td>-1.295041</td>\n",
       "      <td>36.809817</td>\n",
       "      <td>Rider_Id_770</td>\n",
       "      <td>1214</td>\n",
       "    </tr>\n",
       "  </tbody>\n",
       "</table>\n",
       "</div>"
      ],
      "text/plain": [
       "         Order_No       User_Id  ...      Rider_Id  Time_from_Pickup_to_Arrival\n",
       "0   Order_No_4211   User_Id_633  ...  Rider_Id_432                          745\n",
       "1  Order_No_25375  User_Id_2285  ...  Rider_Id_856                         1993\n",
       "2   Order_No_1899   User_Id_265  ...  Rider_Id_155                          455\n",
       "3   Order_No_9336  User_Id_1402  ...  Rider_Id_855                         1341\n",
       "4  Order_No_27883  User_Id_1737  ...  Rider_Id_770                         1214\n",
       "\n",
       "[5 rows x 29 columns]"
      ]
     },
     "execution_count": 4,
     "metadata": {
      "tags": []
     },
     "output_type": "execute_result"
    }
   ],
   "source": [
    "col_names=['Order_No', 'User_Id', 'Vehicle_Type', 'Platform_Type',\n",
    "       'Type', 'Placement_Day_of_Month',\n",
    "       'Placement_Weekday', 'Placement_Time',\n",
    "       'Confirmation_Day_of_Month', 'Confirmation_Weekday',\n",
    "       'Confirmation_Time', 'Arrival_at_Pickup_Day_of_Month',\n",
    "       'Arrival_at_Pickup_Weekday', 'Arrival_at_Pickup_Time',\n",
    "       'Pickup_Day_of_Month', 'Pickup_Weekday', 'Pickup_Time',\n",
    "       'Arrival_at_Destination_Day_of_Month',\n",
    "       'Arrival_at_Destination_Weekday',\n",
    "       'Arrival_at_Destination_Time', 'Distance', 'Temperature',\n",
    "       'Precipitation', 'Pickup_Lat', 'Pickup_Long',\n",
    "       'Destination_Lat', 'Destination_Long', 'Rider_Id',\n",
    "       'Time_from_Pickup_to_Arrival']\n",
    "       \n",
    "data=pd.read_csv(\"Train.csv\",names=col_names,skiprows=1)\n",
    "data.head()"
   ]
  },
  {
   "cell_type": "markdown",
   "metadata": {
    "colab_type": "text",
    "id": "vSkJ9-1Yi7f-"
   },
   "source": [
    "#### Reading Rider information into a data frame."
   ]
  },
  {
   "cell_type": "code",
   "execution_count": 0,
   "metadata": {
    "colab": {},
    "colab_type": "code",
    "id": "xp899v5ckJE8"
   },
   "outputs": [],
   "source": [
    "ridCol=['Rider_Id','No_Of_Orders','Age','Average_Rating','No_of_Ratings']"
   ]
  },
  {
   "cell_type": "code",
   "execution_count": 0,
   "metadata": {
    "colab": {
     "base_uri": "https://localhost:8080/",
     "height": 204
    },
    "colab_type": "code",
    "id": "FkbZklXvGrrJ",
    "outputId": "33204531-add2-4772-f003-19c278a59265"
   },
   "outputs": [
    {
     "data": {
      "text/html": [
       "<div>\n",
       "<style scoped>\n",
       "    .dataframe tbody tr th:only-of-type {\n",
       "        vertical-align: middle;\n",
       "    }\n",
       "\n",
       "    .dataframe tbody tr th {\n",
       "        vertical-align: top;\n",
       "    }\n",
       "\n",
       "    .dataframe thead th {\n",
       "        text-align: right;\n",
       "    }\n",
       "</style>\n",
       "<table border=\"1\" class=\"dataframe\">\n",
       "  <thead>\n",
       "    <tr style=\"text-align: right;\">\n",
       "      <th></th>\n",
       "      <th>Rider_Id</th>\n",
       "      <th>No_Of_Orders</th>\n",
       "      <th>Age</th>\n",
       "      <th>Average_Rating</th>\n",
       "      <th>No_of_Ratings</th>\n",
       "    </tr>\n",
       "  </thead>\n",
       "  <tbody>\n",
       "    <tr>\n",
       "      <th>0</th>\n",
       "      <td>Rider_Id_396</td>\n",
       "      <td>2946</td>\n",
       "      <td>2298</td>\n",
       "      <td>14.0</td>\n",
       "      <td>1159</td>\n",
       "    </tr>\n",
       "    <tr>\n",
       "      <th>1</th>\n",
       "      <td>Rider_Id_479</td>\n",
       "      <td>360</td>\n",
       "      <td>951</td>\n",
       "      <td>13.5</td>\n",
       "      <td>176</td>\n",
       "    </tr>\n",
       "    <tr>\n",
       "      <th>2</th>\n",
       "      <td>Rider_Id_648</td>\n",
       "      <td>1746</td>\n",
       "      <td>821</td>\n",
       "      <td>14.3</td>\n",
       "      <td>466</td>\n",
       "    </tr>\n",
       "    <tr>\n",
       "      <th>3</th>\n",
       "      <td>Rider_Id_753</td>\n",
       "      <td>314</td>\n",
       "      <td>980</td>\n",
       "      <td>12.5</td>\n",
       "      <td>75</td>\n",
       "    </tr>\n",
       "    <tr>\n",
       "      <th>4</th>\n",
       "      <td>Rider_Id_335</td>\n",
       "      <td>536</td>\n",
       "      <td>1113</td>\n",
       "      <td>13.7</td>\n",
       "      <td>156</td>\n",
       "    </tr>\n",
       "  </tbody>\n",
       "</table>\n",
       "</div>"
      ],
      "text/plain": [
       "       Rider_Id  No_Of_Orders   Age  Average_Rating  No_of_Ratings\n",
       "0  Rider_Id_396          2946  2298            14.0           1159\n",
       "1  Rider_Id_479           360   951            13.5            176\n",
       "2  Rider_Id_648          1746   821            14.3            466\n",
       "3  Rider_Id_753           314   980            12.5             75\n",
       "4  Rider_Id_335           536  1113            13.7            156"
      ]
     },
     "execution_count": 6,
     "metadata": {
      "tags": []
     },
     "output_type": "execute_result"
    }
   ],
   "source": [
    "riders=pd.read_csv('Riders.csv',names=ridCol,skiprows=1)\n",
    "riders.head()"
   ]
  },
  {
   "cell_type": "markdown",
   "metadata": {
    "colab_type": "text",
    "id": "Mpq5_GZxpq2a"
   },
   "source": [
    "# Data Exploration"
   ]
  },
  {
   "cell_type": "markdown",
   "metadata": {
    "colab_type": "text",
    "id": "JQ8Gm4DKi7gK"
   },
   "source": [
    "#### Analysis of Null values in training dataset."
   ]
  },
  {
   "cell_type": "code",
   "execution_count": 0,
   "metadata": {
    "colab": {
     "base_uri": "https://localhost:8080/",
     "height": 68
    },
    "colab_type": "code",
    "id": "1l7Ib2AkvU1v",
    "outputId": "d79bf07d-19ab-4240-f9b4-bf1a230876d9"
   },
   "outputs": [
    {
     "data": {
      "text/plain": [
       "Temperature      20.593368\n",
       "Precipitation    97.396349\n",
       "dtype: float64"
      ]
     },
     "execution_count": 7,
     "metadata": {
      "tags": []
     },
     "output_type": "execute_result"
    }
   ],
   "source": [
    "data_nan=(data.isnull().sum() / data.shape[0]) * 100\n",
    "data_nan[data_nan>0]"
   ]
  },
  {
   "cell_type": "markdown",
   "metadata": {
    "colab_type": "text",
    "id": "6QhnRKc1i7gW"
   },
   "source": [
    "#### Number of orders placed on the four different platforms by platform type."
   ]
  },
  {
   "cell_type": "code",
   "execution_count": 0,
   "metadata": {
    "colab": {
     "base_uri": "https://localhost:8080/",
     "height": 102
    },
    "colab_type": "code",
    "id": "KG1d9pO4Om-_",
    "outputId": "2650db0d-0b37-415b-91d0-005b72e1930c"
   },
   "outputs": [
    {
     "data": {
      "text/plain": [
       "3    18054\n",
       "1     2147\n",
       "2      980\n",
       "4       20\n",
       "Name: Platform_Type, dtype: int64"
      ]
     },
     "execution_count": 8,
     "metadata": {
      "tags": []
     },
     "output_type": "execute_result"
    }
   ],
   "source": [
    "data.Platform_Type.value_counts()"
   ]
  },
  {
   "cell_type": "markdown",
   "metadata": {
    "colab_type": "text",
    "id": "__nnGBgCi7gj"
   },
   "source": [
    "#### Conclusion on number of values in attributes Vehicle Type and Platform Type."
   ]
  },
  {
   "cell_type": "code",
   "execution_count": 0,
   "metadata": {
    "colab": {
     "base_uri": "https://localhost:8080/",
     "height": 51
    },
    "colab_type": "code",
    "id": "24P6G6lbCpY3",
    "outputId": "41a61917-09c2-4464-9ed9-5b14ccc8850e"
   },
   "outputs": [
    {
     "name": "stdout",
     "output_type": "stream",
     "text": [
      "{'Bike'}\n",
      "{1, 2, 3, 4}\n"
     ]
    }
   ],
   "source": [
    "print(set(data['Vehicle_Type']))\n",
    "print(set(data['Platform_Type']))"
   ]
  },
  {
   "cell_type": "markdown",
   "metadata": {
    "colab_type": "text",
    "id": "8rh57k26i7gv"
   },
   "source": [
    " Vehicle Type Attribute has only one value - Bike. "
   ]
  },
  {
   "cell_type": "markdown",
   "metadata": {
    "colab_type": "text",
    "id": "tqdHist_i7gx"
   },
   "source": [
    "There are only 4 platform types that are numbered and not disclosed."
   ]
  },
  {
   "cell_type": "markdown",
   "metadata": {
    "colab_type": "text",
    "id": "xCdWFq1Di7g0"
   },
   "source": [
    "#### Histogram visualising the number of bookings done by each platform."
   ]
  },
  {
   "cell_type": "code",
   "execution_count": 0,
   "metadata": {
    "colab": {
     "base_uri": "https://localhost:8080/",
     "height": 602
    },
    "colab_type": "code",
    "id": "6NLc1mymCpSi",
    "outputId": "ade9ff23-3398-41d4-c76b-ac5511d811bb"
   },
   "outputs": [
    {
     "name": "stdout",
     "output_type": "stream",
     "text": [
      "   Platform_Type  Count\n",
      "0              1   2147\n",
      "1              2    980\n",
      "2              3  18054\n",
      "3              4     20\n"
     ]
    },
    {
     "data": {
      "text/html": [
       "<html>\n",
       "<head><meta charset=\"utf-8\" /></head>\n",
       "<body>\n",
       "    <div>\n",
       "            <script src=\"https://cdnjs.cloudflare.com/ajax/libs/mathjax/2.7.5/MathJax.js?config=TeX-AMS-MML_SVG\"></script><script type=\"text/javascript\">if (window.MathJax) {MathJax.Hub.Config({SVG: {font: \"STIX-Web\"}});}</script>\n",
       "                <script type=\"text/javascript\">window.PlotlyConfig = {MathJaxConfig: 'local'};</script>\n",
       "        <script src=\"https://cdn.plot.ly/plotly-latest.min.js\"></script>    \n",
       "            <div id=\"4a7df58e-08b7-46c4-9950-5f73c9610a65\" class=\"plotly-graph-div\" style=\"height:500px; width:100%;\"></div>\n",
       "            <script type=\"text/javascript\">\n",
       "                \n",
       "                    window.PLOTLYENV=window.PLOTLYENV || {};\n",
       "                    \n",
       "                if (document.getElementById(\"4a7df58e-08b7-46c4-9950-5f73c9610a65\")) {\n",
       "                    Plotly.newPlot(\n",
       "                        '4a7df58e-08b7-46c4-9950-5f73c9610a65',\n",
       "                        [{\"alignmentgroup\": \"True\", \"hoverlabel\": {\"namelength\": 0}, \"hovertemplate\": \"Platform_Type=%{x}<br>Count=%{marker.color}\", \"legendgroup\": \"\", \"marker\": {\"color\": [2147, 980, 18054, 20], \"coloraxis\": \"coloraxis\"}, \"name\": \"\", \"offsetgroup\": \"\", \"orientation\": \"v\", \"showlegend\": false, \"textposition\": \"auto\", \"type\": \"bar\", \"x\": [1, 2, 3, 4], \"xaxis\": \"x\", \"y\": [2147, 980, 18054, 20], \"yaxis\": \"y\"}],\n",
       "                        {\"barmode\": \"relative\", \"coloraxis\": {\"colorbar\": {\"title\": {\"text\": \"Count\"}}, \"colorscale\": [[0.0, \"#0d0887\"], [0.1111111111111111, \"#46039f\"], [0.2222222222222222, \"#7201a8\"], [0.3333333333333333, \"#9c179e\"], [0.4444444444444444, \"#bd3786\"], [0.5555555555555556, \"#d8576b\"], [0.6666666666666666, \"#ed7953\"], [0.7777777777777778, \"#fb9f3a\"], [0.8888888888888888, \"#fdca26\"], [1.0, \"#f0f921\"]]}, \"height\": 500, \"legend\": {\"tracegroupgap\": 0}, \"margin\": {\"t\": 60}, \"template\": {\"data\": {\"bar\": [{\"error_x\": {\"color\": \"#2a3f5f\"}, \"error_y\": {\"color\": \"#2a3f5f\"}, \"marker\": {\"line\": {\"color\": \"#E5ECF6\", \"width\": 0.5}}, \"type\": \"bar\"}], \"barpolar\": [{\"marker\": {\"line\": {\"color\": \"#E5ECF6\", \"width\": 0.5}}, \"type\": \"barpolar\"}], \"carpet\": [{\"aaxis\": {\"endlinecolor\": \"#2a3f5f\", \"gridcolor\": \"white\", \"linecolor\": \"white\", \"minorgridcolor\": \"white\", \"startlinecolor\": \"#2a3f5f\"}, \"baxis\": {\"endlinecolor\": \"#2a3f5f\", \"gridcolor\": \"white\", \"linecolor\": \"white\", \"minorgridcolor\": \"white\", \"startlinecolor\": \"#2a3f5f\"}, \"type\": \"carpet\"}], \"choropleth\": [{\"colorbar\": {\"outlinewidth\": 0, \"ticks\": \"\"}, \"type\": \"choropleth\"}], \"contour\": [{\"colorbar\": {\"outlinewidth\": 0, \"ticks\": \"\"}, \"colorscale\": [[0.0, \"#0d0887\"], [0.1111111111111111, \"#46039f\"], [0.2222222222222222, \"#7201a8\"], [0.3333333333333333, \"#9c179e\"], [0.4444444444444444, \"#bd3786\"], [0.5555555555555556, \"#d8576b\"], [0.6666666666666666, \"#ed7953\"], [0.7777777777777778, \"#fb9f3a\"], [0.8888888888888888, \"#fdca26\"], [1.0, \"#f0f921\"]], \"type\": \"contour\"}], \"contourcarpet\": [{\"colorbar\": {\"outlinewidth\": 0, \"ticks\": \"\"}, \"type\": \"contourcarpet\"}], \"heatmap\": [{\"colorbar\": {\"outlinewidth\": 0, \"ticks\": \"\"}, \"colorscale\": [[0.0, \"#0d0887\"], [0.1111111111111111, \"#46039f\"], [0.2222222222222222, \"#7201a8\"], [0.3333333333333333, \"#9c179e\"], [0.4444444444444444, \"#bd3786\"], [0.5555555555555556, \"#d8576b\"], [0.6666666666666666, \"#ed7953\"], [0.7777777777777778, \"#fb9f3a\"], [0.8888888888888888, \"#fdca26\"], [1.0, \"#f0f921\"]], \"type\": \"heatmap\"}], \"heatmapgl\": [{\"colorbar\": {\"outlinewidth\": 0, \"ticks\": \"\"}, \"colorscale\": [[0.0, \"#0d0887\"], [0.1111111111111111, \"#46039f\"], [0.2222222222222222, \"#7201a8\"], [0.3333333333333333, \"#9c179e\"], [0.4444444444444444, \"#bd3786\"], [0.5555555555555556, \"#d8576b\"], [0.6666666666666666, \"#ed7953\"], [0.7777777777777778, \"#fb9f3a\"], [0.8888888888888888, \"#fdca26\"], [1.0, \"#f0f921\"]], \"type\": \"heatmapgl\"}], \"histogram\": [{\"marker\": {\"colorbar\": {\"outlinewidth\": 0, \"ticks\": \"\"}}, \"type\": \"histogram\"}], \"histogram2d\": [{\"colorbar\": {\"outlinewidth\": 0, \"ticks\": \"\"}, \"colorscale\": [[0.0, \"#0d0887\"], [0.1111111111111111, \"#46039f\"], [0.2222222222222222, \"#7201a8\"], [0.3333333333333333, \"#9c179e\"], [0.4444444444444444, \"#bd3786\"], [0.5555555555555556, \"#d8576b\"], [0.6666666666666666, \"#ed7953\"], [0.7777777777777778, \"#fb9f3a\"], [0.8888888888888888, \"#fdca26\"], [1.0, \"#f0f921\"]], \"type\": \"histogram2d\"}], \"histogram2dcontour\": [{\"colorbar\": {\"outlinewidth\": 0, \"ticks\": \"\"}, \"colorscale\": [[0.0, \"#0d0887\"], [0.1111111111111111, \"#46039f\"], [0.2222222222222222, \"#7201a8\"], [0.3333333333333333, \"#9c179e\"], [0.4444444444444444, \"#bd3786\"], [0.5555555555555556, \"#d8576b\"], [0.6666666666666666, \"#ed7953\"], [0.7777777777777778, \"#fb9f3a\"], [0.8888888888888888, \"#fdca26\"], [1.0, \"#f0f921\"]], \"type\": \"histogram2dcontour\"}], \"mesh3d\": [{\"colorbar\": {\"outlinewidth\": 0, \"ticks\": \"\"}, \"type\": \"mesh3d\"}], \"parcoords\": [{\"line\": {\"colorbar\": {\"outlinewidth\": 0, \"ticks\": \"\"}}, \"type\": \"parcoords\"}], \"scatter\": [{\"marker\": {\"colorbar\": {\"outlinewidth\": 0, \"ticks\": \"\"}}, \"type\": \"scatter\"}], \"scatter3d\": [{\"line\": {\"colorbar\": {\"outlinewidth\": 0, \"ticks\": \"\"}}, \"marker\": {\"colorbar\": {\"outlinewidth\": 0, \"ticks\": \"\"}}, \"type\": \"scatter3d\"}], \"scattercarpet\": [{\"marker\": {\"colorbar\": {\"outlinewidth\": 0, \"ticks\": \"\"}}, \"type\": \"scattercarpet\"}], \"scattergeo\": [{\"marker\": {\"colorbar\": {\"outlinewidth\": 0, \"ticks\": \"\"}}, \"type\": \"scattergeo\"}], \"scattergl\": [{\"marker\": {\"colorbar\": {\"outlinewidth\": 0, \"ticks\": \"\"}}, \"type\": \"scattergl\"}], \"scattermapbox\": [{\"marker\": {\"colorbar\": {\"outlinewidth\": 0, \"ticks\": \"\"}}, \"type\": \"scattermapbox\"}], \"scatterpolar\": [{\"marker\": {\"colorbar\": {\"outlinewidth\": 0, \"ticks\": \"\"}}, \"type\": \"scatterpolar\"}], \"scatterpolargl\": [{\"marker\": {\"colorbar\": {\"outlinewidth\": 0, \"ticks\": \"\"}}, \"type\": \"scatterpolargl\"}], \"scatterternary\": [{\"marker\": {\"colorbar\": {\"outlinewidth\": 0, \"ticks\": \"\"}}, \"type\": \"scatterternary\"}], \"surface\": [{\"colorbar\": {\"outlinewidth\": 0, \"ticks\": \"\"}, \"colorscale\": [[0.0, \"#0d0887\"], [0.1111111111111111, \"#46039f\"], [0.2222222222222222, \"#7201a8\"], [0.3333333333333333, \"#9c179e\"], [0.4444444444444444, \"#bd3786\"], [0.5555555555555556, \"#d8576b\"], [0.6666666666666666, \"#ed7953\"], [0.7777777777777778, \"#fb9f3a\"], [0.8888888888888888, \"#fdca26\"], [1.0, \"#f0f921\"]], \"type\": \"surface\"}], \"table\": [{\"cells\": {\"fill\": {\"color\": \"#EBF0F8\"}, \"line\": {\"color\": \"white\"}}, \"header\": {\"fill\": {\"color\": \"#C8D4E3\"}, \"line\": {\"color\": \"white\"}}, \"type\": \"table\"}]}, \"layout\": {\"annotationdefaults\": {\"arrowcolor\": \"#2a3f5f\", \"arrowhead\": 0, \"arrowwidth\": 1}, \"colorscale\": {\"diverging\": [[0, \"#8e0152\"], [0.1, \"#c51b7d\"], [0.2, \"#de77ae\"], [0.3, \"#f1b6da\"], [0.4, \"#fde0ef\"], [0.5, \"#f7f7f7\"], [0.6, \"#e6f5d0\"], [0.7, \"#b8e186\"], [0.8, \"#7fbc41\"], [0.9, \"#4d9221\"], [1, \"#276419\"]], \"sequential\": [[0.0, \"#0d0887\"], [0.1111111111111111, \"#46039f\"], [0.2222222222222222, \"#7201a8\"], [0.3333333333333333, \"#9c179e\"], [0.4444444444444444, \"#bd3786\"], [0.5555555555555556, \"#d8576b\"], [0.6666666666666666, \"#ed7953\"], [0.7777777777777778, \"#fb9f3a\"], [0.8888888888888888, \"#fdca26\"], [1.0, \"#f0f921\"]], \"sequentialminus\": [[0.0, \"#0d0887\"], [0.1111111111111111, \"#46039f\"], [0.2222222222222222, \"#7201a8\"], [0.3333333333333333, \"#9c179e\"], [0.4444444444444444, \"#bd3786\"], [0.5555555555555556, \"#d8576b\"], [0.6666666666666666, \"#ed7953\"], [0.7777777777777778, \"#fb9f3a\"], [0.8888888888888888, \"#fdca26\"], [1.0, \"#f0f921\"]]}, \"colorway\": [\"#636efa\", \"#EF553B\", \"#00cc96\", \"#ab63fa\", \"#FFA15A\", \"#19d3f3\", \"#FF6692\", \"#B6E880\", \"#FF97FF\", \"#FECB52\"], \"font\": {\"color\": \"#2a3f5f\"}, \"geo\": {\"bgcolor\": \"white\", \"lakecolor\": \"white\", \"landcolor\": \"#E5ECF6\", \"showlakes\": true, \"showland\": true, \"subunitcolor\": \"white\"}, \"hoverlabel\": {\"align\": \"left\"}, \"hovermode\": \"closest\", \"mapbox\": {\"style\": \"light\"}, \"paper_bgcolor\": \"white\", \"plot_bgcolor\": \"#E5ECF6\", \"polar\": {\"angularaxis\": {\"gridcolor\": \"white\", \"linecolor\": \"white\", \"ticks\": \"\"}, \"bgcolor\": \"#E5ECF6\", \"radialaxis\": {\"gridcolor\": \"white\", \"linecolor\": \"white\", \"ticks\": \"\"}}, \"scene\": {\"xaxis\": {\"backgroundcolor\": \"#E5ECF6\", \"gridcolor\": \"white\", \"gridwidth\": 2, \"linecolor\": \"white\", \"showbackground\": true, \"ticks\": \"\", \"zerolinecolor\": \"white\"}, \"yaxis\": {\"backgroundcolor\": \"#E5ECF6\", \"gridcolor\": \"white\", \"gridwidth\": 2, \"linecolor\": \"white\", \"showbackground\": true, \"ticks\": \"\", \"zerolinecolor\": \"white\"}, \"zaxis\": {\"backgroundcolor\": \"#E5ECF6\", \"gridcolor\": \"white\", \"gridwidth\": 2, \"linecolor\": \"white\", \"showbackground\": true, \"ticks\": \"\", \"zerolinecolor\": \"white\"}}, \"shapedefaults\": {\"line\": {\"color\": \"#2a3f5f\"}}, \"ternary\": {\"aaxis\": {\"gridcolor\": \"white\", \"linecolor\": \"white\", \"ticks\": \"\"}, \"baxis\": {\"gridcolor\": \"white\", \"linecolor\": \"white\", \"ticks\": \"\"}, \"bgcolor\": \"#E5ECF6\", \"caxis\": {\"gridcolor\": \"white\", \"linecolor\": \"white\", \"ticks\": \"\"}}, \"title\": {\"x\": 0.05}, \"xaxis\": {\"automargin\": true, \"gridcolor\": \"white\", \"linecolor\": \"white\", \"ticks\": \"\", \"zerolinecolor\": \"white\", \"zerolinewidth\": 2}, \"yaxis\": {\"automargin\": true, \"gridcolor\": \"white\", \"linecolor\": \"white\", \"ticks\": \"\", \"zerolinecolor\": \"white\", \"zerolinewidth\": 2}}}, \"xaxis\": {\"anchor\": \"y\", \"domain\": [0.0, 0.98], \"title\": {\"text\": \"Platform_Type\"}}, \"yaxis\": {\"anchor\": \"x\", \"domain\": [0.0, 1.0], \"title\": {\"text\": \"Count\"}}},\n",
       "                        {\"responsive\": true}\n",
       "                    ).then(function(){\n",
       "                            \n",
       "var gd = document.getElementById('4a7df58e-08b7-46c4-9950-5f73c9610a65');\n",
       "var x = new MutationObserver(function (mutations, observer) {{\n",
       "        var display = window.getComputedStyle(gd).display;\n",
       "        if (!display || display === 'none') {{\n",
       "            console.log([gd, 'removed!']);\n",
       "            Plotly.purge(gd);\n",
       "            observer.disconnect();\n",
       "        }}\n",
       "}});\n",
       "\n",
       "// Listen for the removal of the full notebook cells\n",
       "var notebookContainer = gd.closest('#notebook-container');\n",
       "if (notebookContainer) {{\n",
       "    x.observe(notebookContainer, {childList: true});\n",
       "}}\n",
       "\n",
       "// Listen for the clearing of the current output cell\n",
       "var outputEl = gd.closest('.output');\n",
       "if (outputEl) {{\n",
       "    x.observe(outputEl, {childList: true});\n",
       "}}\n",
       "\n",
       "                        })\n",
       "                };\n",
       "                \n",
       "            </script>\n",
       "        </div>\n",
       "</body>\n",
       "</html>"
      ]
     },
     "metadata": {
      "tags": []
     },
     "output_type": "display_data"
    }
   ],
   "source": [
    "P1 = [[1,2147],[2,980],[3,18054],[4,20]]\n",
    "hist=pd.DataFrame(P1,columns=['Platform_Type','Count'])\n",
    "print(hist)\n",
    "fig=px.bar(hist,x='Platform_Type',y='Count',color='Count',height=500)\n",
    "fig.show()"
   ]
  },
  {
   "cell_type": "markdown",
   "metadata": {
    "colab_type": "text",
    "id": "pC3ggMMXi7hD"
   },
   "source": [
    "Note that the number of bookings from the 4th platform type are barely any and hence the bar is not visible. maximum orders are done using platform 3."
   ]
  },
  {
   "cell_type": "markdown",
   "metadata": {
    "colab_type": "text",
    "id": "qIEXqMIOi7hK"
   },
   "source": [
    "#### Histogram showing number of bookings by order type."
   ]
  },
  {
   "cell_type": "code",
   "execution_count": 0,
   "metadata": {
    "colab": {
     "base_uri": "https://localhost:8080/",
     "height": 568
    },
    "colab_type": "code",
    "id": "yFAk5IIVCpOw",
    "outputId": "60f2bb2e-5f0e-4a92-aaa2-710d9649c413"
   },
   "outputs": [
    {
     "name": "stdout",
     "output_type": "stream",
     "text": [
      "  Order_type  Count\n",
      "0   Business  17384\n",
      "1   Personal   3817\n"
     ]
    },
    {
     "data": {
      "text/html": [
       "<html>\n",
       "<head><meta charset=\"utf-8\" /></head>\n",
       "<body>\n",
       "    <div>\n",
       "            <script src=\"https://cdnjs.cloudflare.com/ajax/libs/mathjax/2.7.5/MathJax.js?config=TeX-AMS-MML_SVG\"></script><script type=\"text/javascript\">if (window.MathJax) {MathJax.Hub.Config({SVG: {font: \"STIX-Web\"}});}</script>\n",
       "                <script type=\"text/javascript\">window.PlotlyConfig = {MathJaxConfig: 'local'};</script>\n",
       "        <script src=\"https://cdn.plot.ly/plotly-latest.min.js\"></script>    \n",
       "            <div id=\"7cbcb298-d3bb-428c-8279-9cc0f0192540\" class=\"plotly-graph-div\" style=\"height:500px; width:100%;\"></div>\n",
       "            <script type=\"text/javascript\">\n",
       "                \n",
       "                    window.PLOTLYENV=window.PLOTLYENV || {};\n",
       "                    \n",
       "                if (document.getElementById(\"7cbcb298-d3bb-428c-8279-9cc0f0192540\")) {\n",
       "                    Plotly.newPlot(\n",
       "                        '7cbcb298-d3bb-428c-8279-9cc0f0192540',\n",
       "                        [{\"alignmentgroup\": \"True\", \"hoverlabel\": {\"namelength\": 0}, \"hovertemplate\": \"Order_type=%{x}<br>Count=%{marker.color}\", \"legendgroup\": \"\", \"marker\": {\"color\": [17384, 3817], \"coloraxis\": \"coloraxis\"}, \"name\": \"\", \"offsetgroup\": \"\", \"orientation\": \"v\", \"showlegend\": false, \"textposition\": \"auto\", \"type\": \"bar\", \"x\": [\"Business\", \"Personal\"], \"xaxis\": \"x\", \"y\": [17384, 3817], \"yaxis\": \"y\"}],\n",
       "                        {\"barmode\": \"relative\", \"coloraxis\": {\"colorbar\": {\"title\": {\"text\": \"Count\"}}, \"colorscale\": [[0.0, \"#0d0887\"], [0.1111111111111111, \"#46039f\"], [0.2222222222222222, \"#7201a8\"], [0.3333333333333333, \"#9c179e\"], [0.4444444444444444, \"#bd3786\"], [0.5555555555555556, \"#d8576b\"], [0.6666666666666666, \"#ed7953\"], [0.7777777777777778, \"#fb9f3a\"], [0.8888888888888888, \"#fdca26\"], [1.0, \"#f0f921\"]]}, \"height\": 500, \"legend\": {\"tracegroupgap\": 0}, \"margin\": {\"t\": 60}, \"template\": {\"data\": {\"bar\": [{\"error_x\": {\"color\": \"#2a3f5f\"}, \"error_y\": {\"color\": \"#2a3f5f\"}, \"marker\": {\"line\": {\"color\": \"#E5ECF6\", \"width\": 0.5}}, \"type\": \"bar\"}], \"barpolar\": [{\"marker\": {\"line\": {\"color\": \"#E5ECF6\", \"width\": 0.5}}, \"type\": \"barpolar\"}], \"carpet\": [{\"aaxis\": {\"endlinecolor\": \"#2a3f5f\", \"gridcolor\": \"white\", \"linecolor\": \"white\", \"minorgridcolor\": \"white\", \"startlinecolor\": \"#2a3f5f\"}, \"baxis\": {\"endlinecolor\": \"#2a3f5f\", \"gridcolor\": \"white\", \"linecolor\": \"white\", \"minorgridcolor\": \"white\", \"startlinecolor\": \"#2a3f5f\"}, \"type\": \"carpet\"}], \"choropleth\": [{\"colorbar\": {\"outlinewidth\": 0, \"ticks\": \"\"}, \"type\": \"choropleth\"}], \"contour\": [{\"colorbar\": {\"outlinewidth\": 0, \"ticks\": \"\"}, \"colorscale\": [[0.0, \"#0d0887\"], [0.1111111111111111, \"#46039f\"], [0.2222222222222222, \"#7201a8\"], [0.3333333333333333, \"#9c179e\"], [0.4444444444444444, \"#bd3786\"], [0.5555555555555556, \"#d8576b\"], [0.6666666666666666, \"#ed7953\"], [0.7777777777777778, \"#fb9f3a\"], [0.8888888888888888, \"#fdca26\"], [1.0, \"#f0f921\"]], \"type\": \"contour\"}], \"contourcarpet\": [{\"colorbar\": {\"outlinewidth\": 0, \"ticks\": \"\"}, \"type\": \"contourcarpet\"}], \"heatmap\": [{\"colorbar\": {\"outlinewidth\": 0, \"ticks\": \"\"}, \"colorscale\": [[0.0, \"#0d0887\"], [0.1111111111111111, \"#46039f\"], [0.2222222222222222, \"#7201a8\"], [0.3333333333333333, \"#9c179e\"], [0.4444444444444444, \"#bd3786\"], [0.5555555555555556, \"#d8576b\"], [0.6666666666666666, \"#ed7953\"], [0.7777777777777778, \"#fb9f3a\"], [0.8888888888888888, \"#fdca26\"], [1.0, \"#f0f921\"]], \"type\": \"heatmap\"}], \"heatmapgl\": [{\"colorbar\": {\"outlinewidth\": 0, \"ticks\": \"\"}, \"colorscale\": [[0.0, \"#0d0887\"], [0.1111111111111111, \"#46039f\"], [0.2222222222222222, \"#7201a8\"], [0.3333333333333333, \"#9c179e\"], [0.4444444444444444, \"#bd3786\"], [0.5555555555555556, \"#d8576b\"], [0.6666666666666666, \"#ed7953\"], [0.7777777777777778, \"#fb9f3a\"], [0.8888888888888888, \"#fdca26\"], [1.0, \"#f0f921\"]], \"type\": \"heatmapgl\"}], \"histogram\": [{\"marker\": {\"colorbar\": {\"outlinewidth\": 0, \"ticks\": \"\"}}, \"type\": \"histogram\"}], \"histogram2d\": [{\"colorbar\": {\"outlinewidth\": 0, \"ticks\": \"\"}, \"colorscale\": [[0.0, \"#0d0887\"], [0.1111111111111111, \"#46039f\"], [0.2222222222222222, \"#7201a8\"], [0.3333333333333333, \"#9c179e\"], [0.4444444444444444, \"#bd3786\"], [0.5555555555555556, \"#d8576b\"], [0.6666666666666666, \"#ed7953\"], [0.7777777777777778, \"#fb9f3a\"], [0.8888888888888888, \"#fdca26\"], [1.0, \"#f0f921\"]], \"type\": \"histogram2d\"}], \"histogram2dcontour\": [{\"colorbar\": {\"outlinewidth\": 0, \"ticks\": \"\"}, \"colorscale\": [[0.0, \"#0d0887\"], [0.1111111111111111, \"#46039f\"], [0.2222222222222222, \"#7201a8\"], [0.3333333333333333, \"#9c179e\"], [0.4444444444444444, \"#bd3786\"], [0.5555555555555556, \"#d8576b\"], [0.6666666666666666, \"#ed7953\"], [0.7777777777777778, \"#fb9f3a\"], [0.8888888888888888, \"#fdca26\"], [1.0, \"#f0f921\"]], \"type\": \"histogram2dcontour\"}], \"mesh3d\": [{\"colorbar\": {\"outlinewidth\": 0, \"ticks\": \"\"}, \"type\": \"mesh3d\"}], \"parcoords\": [{\"line\": {\"colorbar\": {\"outlinewidth\": 0, \"ticks\": \"\"}}, \"type\": \"parcoords\"}], \"scatter\": [{\"marker\": {\"colorbar\": {\"outlinewidth\": 0, \"ticks\": \"\"}}, \"type\": \"scatter\"}], \"scatter3d\": [{\"line\": {\"colorbar\": {\"outlinewidth\": 0, \"ticks\": \"\"}}, \"marker\": {\"colorbar\": {\"outlinewidth\": 0, \"ticks\": \"\"}}, \"type\": \"scatter3d\"}], \"scattercarpet\": [{\"marker\": {\"colorbar\": {\"outlinewidth\": 0, \"ticks\": \"\"}}, \"type\": \"scattercarpet\"}], \"scattergeo\": [{\"marker\": {\"colorbar\": {\"outlinewidth\": 0, \"ticks\": \"\"}}, \"type\": \"scattergeo\"}], \"scattergl\": [{\"marker\": {\"colorbar\": {\"outlinewidth\": 0, \"ticks\": \"\"}}, \"type\": \"scattergl\"}], \"scattermapbox\": [{\"marker\": {\"colorbar\": {\"outlinewidth\": 0, \"ticks\": \"\"}}, \"type\": \"scattermapbox\"}], \"scatterpolar\": [{\"marker\": {\"colorbar\": {\"outlinewidth\": 0, \"ticks\": \"\"}}, \"type\": \"scatterpolar\"}], \"scatterpolargl\": [{\"marker\": {\"colorbar\": {\"outlinewidth\": 0, \"ticks\": \"\"}}, \"type\": \"scatterpolargl\"}], \"scatterternary\": [{\"marker\": {\"colorbar\": {\"outlinewidth\": 0, \"ticks\": \"\"}}, \"type\": \"scatterternary\"}], \"surface\": [{\"colorbar\": {\"outlinewidth\": 0, \"ticks\": \"\"}, \"colorscale\": [[0.0, \"#0d0887\"], [0.1111111111111111, \"#46039f\"], [0.2222222222222222, \"#7201a8\"], [0.3333333333333333, \"#9c179e\"], [0.4444444444444444, \"#bd3786\"], [0.5555555555555556, \"#d8576b\"], [0.6666666666666666, \"#ed7953\"], [0.7777777777777778, \"#fb9f3a\"], [0.8888888888888888, \"#fdca26\"], [1.0, \"#f0f921\"]], \"type\": \"surface\"}], \"table\": [{\"cells\": {\"fill\": {\"color\": \"#EBF0F8\"}, \"line\": {\"color\": \"white\"}}, \"header\": {\"fill\": {\"color\": \"#C8D4E3\"}, \"line\": {\"color\": \"white\"}}, \"type\": \"table\"}]}, \"layout\": {\"annotationdefaults\": {\"arrowcolor\": \"#2a3f5f\", \"arrowhead\": 0, \"arrowwidth\": 1}, \"colorscale\": {\"diverging\": [[0, \"#8e0152\"], [0.1, \"#c51b7d\"], [0.2, \"#de77ae\"], [0.3, \"#f1b6da\"], [0.4, \"#fde0ef\"], [0.5, \"#f7f7f7\"], [0.6, \"#e6f5d0\"], [0.7, \"#b8e186\"], [0.8, \"#7fbc41\"], [0.9, \"#4d9221\"], [1, \"#276419\"]], \"sequential\": [[0.0, \"#0d0887\"], [0.1111111111111111, \"#46039f\"], [0.2222222222222222, \"#7201a8\"], [0.3333333333333333, \"#9c179e\"], [0.4444444444444444, \"#bd3786\"], [0.5555555555555556, \"#d8576b\"], [0.6666666666666666, \"#ed7953\"], [0.7777777777777778, \"#fb9f3a\"], [0.8888888888888888, \"#fdca26\"], [1.0, \"#f0f921\"]], \"sequentialminus\": [[0.0, \"#0d0887\"], [0.1111111111111111, \"#46039f\"], [0.2222222222222222, \"#7201a8\"], [0.3333333333333333, \"#9c179e\"], [0.4444444444444444, \"#bd3786\"], [0.5555555555555556, \"#d8576b\"], [0.6666666666666666, \"#ed7953\"], [0.7777777777777778, \"#fb9f3a\"], [0.8888888888888888, \"#fdca26\"], [1.0, \"#f0f921\"]]}, \"colorway\": [\"#636efa\", \"#EF553B\", \"#00cc96\", \"#ab63fa\", \"#FFA15A\", \"#19d3f3\", \"#FF6692\", \"#B6E880\", \"#FF97FF\", \"#FECB52\"], \"font\": {\"color\": \"#2a3f5f\"}, \"geo\": {\"bgcolor\": \"white\", \"lakecolor\": \"white\", \"landcolor\": \"#E5ECF6\", \"showlakes\": true, \"showland\": true, \"subunitcolor\": \"white\"}, \"hoverlabel\": {\"align\": \"left\"}, \"hovermode\": \"closest\", \"mapbox\": {\"style\": \"light\"}, \"paper_bgcolor\": \"white\", \"plot_bgcolor\": \"#E5ECF6\", \"polar\": {\"angularaxis\": {\"gridcolor\": \"white\", \"linecolor\": \"white\", \"ticks\": \"\"}, \"bgcolor\": \"#E5ECF6\", \"radialaxis\": {\"gridcolor\": \"white\", \"linecolor\": \"white\", \"ticks\": \"\"}}, \"scene\": {\"xaxis\": {\"backgroundcolor\": \"#E5ECF6\", \"gridcolor\": \"white\", \"gridwidth\": 2, \"linecolor\": \"white\", \"showbackground\": true, \"ticks\": \"\", \"zerolinecolor\": \"white\"}, \"yaxis\": {\"backgroundcolor\": \"#E5ECF6\", \"gridcolor\": \"white\", \"gridwidth\": 2, \"linecolor\": \"white\", \"showbackground\": true, \"ticks\": \"\", \"zerolinecolor\": \"white\"}, \"zaxis\": {\"backgroundcolor\": \"#E5ECF6\", \"gridcolor\": \"white\", \"gridwidth\": 2, \"linecolor\": \"white\", \"showbackground\": true, \"ticks\": \"\", \"zerolinecolor\": \"white\"}}, \"shapedefaults\": {\"line\": {\"color\": \"#2a3f5f\"}}, \"ternary\": {\"aaxis\": {\"gridcolor\": \"white\", \"linecolor\": \"white\", \"ticks\": \"\"}, \"baxis\": {\"gridcolor\": \"white\", \"linecolor\": \"white\", \"ticks\": \"\"}, \"bgcolor\": \"#E5ECF6\", \"caxis\": {\"gridcolor\": \"white\", \"linecolor\": \"white\", \"ticks\": \"\"}}, \"title\": {\"x\": 0.05}, \"xaxis\": {\"automargin\": true, \"gridcolor\": \"white\", \"linecolor\": \"white\", \"ticks\": \"\", \"zerolinecolor\": \"white\", \"zerolinewidth\": 2}, \"yaxis\": {\"automargin\": true, \"gridcolor\": \"white\", \"linecolor\": \"white\", \"ticks\": \"\", \"zerolinecolor\": \"white\", \"zerolinewidth\": 2}}}, \"xaxis\": {\"anchor\": \"y\", \"domain\": [0.0, 0.98], \"title\": {\"text\": \"Order_type\"}}, \"yaxis\": {\"anchor\": \"x\", \"domain\": [0.0, 1.0], \"title\": {\"text\": \"Count\"}}},\n",
       "                        {\"responsive\": true}\n",
       "                    ).then(function(){\n",
       "                            \n",
       "var gd = document.getElementById('7cbcb298-d3bb-428c-8279-9cc0f0192540');\n",
       "var x = new MutationObserver(function (mutations, observer) {{\n",
       "        var display = window.getComputedStyle(gd).display;\n",
       "        if (!display || display === 'none') {{\n",
       "            console.log([gd, 'removed!']);\n",
       "            Plotly.purge(gd);\n",
       "            observer.disconnect();\n",
       "        }}\n",
       "}});\n",
       "\n",
       "// Listen for the removal of the full notebook cells\n",
       "var notebookContainer = gd.closest('#notebook-container');\n",
       "if (notebookContainer) {{\n",
       "    x.observe(notebookContainer, {childList: true});\n",
       "}}\n",
       "\n",
       "// Listen for the clearing of the current output cell\n",
       "var outputEl = gd.closest('.output');\n",
       "if (outputEl) {{\n",
       "    x.observe(outputEl, {childList: true});\n",
       "}}\n",
       "\n",
       "                        })\n",
       "                };\n",
       "                \n",
       "            </script>\n",
       "        </div>\n",
       "</body>\n",
       "</html>"
      ]
     },
     "metadata": {
      "tags": []
     },
     "output_type": "display_data"
    }
   ],
   "source": [
    "P1 = [['Business',17384],['Personal',3817]]\n",
    "hist=pd.DataFrame(P1,columns=['Order_type','Count'])\n",
    "print(hist)\n",
    "fig=px.bar(hist,x='Order_type',y='Count',color='Count',height=500)\n",
    "fig.show()"
   ]
  },
  {
   "cell_type": "markdown",
   "metadata": {
    "colab_type": "text",
    "id": "NOWO5acxVcbC"
   },
   "source": [
    "Most of the orders are business type. There is a chance of having bulky orders."
   ]
  },
  {
   "cell_type": "markdown",
   "metadata": {
    "colab_type": "text",
    "id": "bU_-BiCki7hW"
   },
   "source": [
    "#### Analysis of Temperature attribute"
   ]
  },
  {
   "cell_type": "code",
   "execution_count": 0,
   "metadata": {
    "colab": {
     "base_uri": "https://localhost:8080/",
     "height": 542
    },
    "colab_type": "code",
    "id": "9f0Rbp-xuWh5",
    "outputId": "4849a740-c958-4606-8cdb-c602d54ac8c7"
   },
   "outputs": [
    {
     "data": {
      "text/html": [
       "<html>\n",
       "<head><meta charset=\"utf-8\" /></head>\n",
       "<body>\n",
       "    <div>\n",
       "            <script src=\"https://cdnjs.cloudflare.com/ajax/libs/mathjax/2.7.5/MathJax.js?config=TeX-AMS-MML_SVG\"></script><script type=\"text/javascript\">if (window.MathJax) {MathJax.Hub.Config({SVG: {font: \"STIX-Web\"}});}</script>\n",
       "                <script type=\"text/javascript\">window.PlotlyConfig = {MathJaxConfig: 'local'};</script>\n",
       "        <script src=\"https://cdn.plot.ly/plotly-latest.min.js\"></script>    \n",
       "            <div id=\"e35d8555-6b4c-4868-ae86-2d3b7cb9f5a3\" class=\"plotly-graph-div\" style=\"height:525px; width:100%;\"></div>\n",
       "            <script type=\"text/javascript\">\n",
       "                \n",
       "                    window.PLOTLYENV=window.PLOTLYENV || {};\n",
       "                    \n",
       "                if (document.getElementById(\"e35d8555-6b4c-4868-ae86-2d3b7cb9f5a3\")) {\n",
       "                    Plotly.newPlot(\n",
       "                        'e35d8555-6b4c-4868-ae86-2d3b7cb9f5a3',\n",
       "                        [{\"boxpoints\": \"all\", \"jitter\": 0.3, \"name\": \"Temperature Distribution\", \"pointpos\": -1.8, \"type\": \"box\", \"y\": [20.4, 26.4, null, 19.2, 15.4, 27.2, 20.3, 28.7, null, 24.6, 16.4, 26.1, 24.6, 20.9, null, null, null, 24.4, 24.4, 19.4, 20.8, 23.3, 18.1, 20.8, 22.5, 27.2, 26.5, 27.3, 25.6, 20.5, 18.8, 16.1, null, 25.3, 22.3, 25.3, 26.3, 29.2, 20.0, 18.0, 21.6, 24.8, null, 23.0, 28.1, 14.7, null, 25.0, 26.7, null, 23.0, 17.6, 22.7, null, 19.2, 23.9, 24.7, null, 28.2, 19.1, 24.6, 20.1, 26.3, 17.7, 17.3, null, 21.9, 24.5, 26.9, 18.4, null, 22.0, 25.7, null, 23.7, 25.8, 25.6, 16.2, 31.0, 28.2, 26.2, 25.7, 28.6, 19.3, null, 25.2, null, 24.0, 25.5, null, 23.6, 30.1, 23.9, 26.7, 22.8, 25.8, 25.2, null, null, 19.3, null, 27.7, 21.3, 28.6, 19.7, null, null, 23.7, 14.5, null, 25.2, 30.8, null, 23.8, 21.7, 24.6, 27.7, 19.1, 24.2, 25.9, 21.2, 18.9, 17.9, 18.7, 20.0, 25.4, 22.9, null, 25.2, 27.8, 25.0, 22.6, null, 26.7, null, 17.6, 22.7, 18.6, null, 26.0, 22.9, 21.1, 24.9, 25.6, 23.9, 24.4, 25.4, 22.6, 26.7, 26.0, 23.7, null, 24.5, 23.8, 26.0, null, 22.7, 20.3, 22.6, 24.4, 23.9, 18.5, 25.8, 26.2, 23.9, null, 20.4, null, 18.7, null, 20.3, 15.3, 23.8, 27.5, 22.4, 21.3, 28.2, 29.6, 24.2, 19.9, null, null, null, 27.6, 23.7, 24.6, 25.9, null, 18.9, null, null, null, 23.8, null, 22.4, 17.3, 19.8, 27.5, 24.9, 23.6, 22.7, null, 25.7, 20.6, 16.8, null, 18.4, 23.6, null, 20.0, 27.4, 19.1, 27.5, 24.1, 18.5, 24.2, 21.9, null, 21.1, 27.2, 19.7, 22.5, 22.1, 23.1, 25.3, 25.4, 27.0, 27.0, 24.1, 29.2, 19.4, 29.8, null, null, 22.6, 18.8, null, null, null, null, 20.3, 25.0, 22.5, 19.6, 20.9, 26.3, null, 27.5, null, null, 20.5, 28.6, 21.8, 22.8, 21.6, null, 21.7, 21.1, null, 18.6, 19.6, 22.9, null, 24.7, 21.2, 19.8, 27.7, 18.1, 25.1, 26.7, 25.4, null, 24.7, 23.8, null, 17.6, null, 16.9, 19.8, null, 26.4, 30.0, 22.6, 25.4, 19.1, 22.1, 22.0, 15.4, 25.7, 16.8, 20.4, null, 24.6, 23.5, 20.8, 24.7, 25.1, 28.2, 23.2, 22.6, 22.1, 22.3, null, 24.9, 26.6, 28.5, null, 27.6, 26.5, 17.8, 30.5, 24.7, 26.7, 24.7, 28.2, null, null, null, 24.5, 20.0, null, 25.7, 22.3, 20.9, 26.0, 15.1, 24.1, 22.5, 21.0, 26.6, 24.7, 24.4, null, null, 20.8, 18.4, 18.4, null, 21.6, 29.6, 18.4, 26.3, 20.3, 16.0, 22.1, 26.8, 25.4, 25.8, 23.0, 18.5, null, 24.5, 26.8, 23.7, 30.8, 23.5, 26.3, 27.2, 26.5, 24.3, 23.0, 21.0, 19.6, null, 18.3, 27.1, 24.7, null, null, null, 26.4, 27.5, 22.5, 25.0, null, 20.4, 19.3, 22.7, 23.2, 24.3, 21.8, 27.8, 27.8, 19.7, 27.1, 21.1, null, 27.8, 19.1, 25.7, 20.7, null, 26.5, 24.0, 18.2, 26.4, 20.3, 23.4, 23.4, 14.8, 26.5, 17.9, null, 19.6, 28.1, 24.0, 16.2, 26.2, 23.3, null, 24.8, 17.9, 27.2, 20.5, 19.6, 28.7, 17.6, 28.2, 26.4, 22.3, null, 27.3, 19.1, 26.2, 20.6, null, 24.8, null, 18.9, 25.2, 25.3, null, 25.2, 24.0, 22.5, 19.4, 21.3, null, null, 26.0, 22.1, 15.8, null, 25.8, 14.5, null, 23.8, 18.2, 28.5, 28.4, 25.7, 23.8, 22.8, 22.3, 23.7, 27.1, 28.2, 23.3, 25.3, 21.1, 21.1, 18.0, null, 21.4, 24.2, 26.6, 20.1, 24.0, 17.5, 23.7, 19.1, 23.7, 18.6, 25.3, null, null, 24.8, 26.6, 19.3, 25.1, null, null, 24.5, 25.8, 22.3, 21.3, 19.2, 29.2, null, 26.5, 21.3, 18.1, null, 18.7, 28.5, 26.2, 22.7, null, 24.3, 24.3, 22.0, 29.0, 22.8, 28.4, 23.0, 24.3, 19.5, 23.5, 22.6, 27.0, 24.6, 18.4, null, 22.6, null, 27.9, 23.1, 23.1, 30.8, 22.2, 18.2, 21.2, 22.4, null, 25.0, 25.4, 28.7, null, 24.2, 23.5, 17.5, 28.0, null, null, 21.6, 20.2, 20.1, 23.7, 21.6, 29.1, 20.5, 25.4, 21.0, 27.3, 22.2, 28.4, 18.4, null, null, 24.7, null, 24.5, 24.3, 19.8, 26.3, 17.3, 22.0, 27.7, null, 23.6, 24.0, 17.1, 24.6, null, 25.1, 24.2, 24.4, 22.6, 18.5, 24.9, 23.8, null, 27.8, 29.9, null, null, null, 23.6, 19.6, 25.0, 22.9, 18.8, 26.3, 19.1, 27.9, 18.7, 21.6, 26.7, 24.5, null, 19.5, null, 19.3, 24.5, 21.6, null, null, 23.9, 20.9, null, 25.1, 20.9, 22.3, null, 25.2, 19.3, null, 26.5, 28.1, 23.0, 23.0, 22.8, 28.2, 18.2, null, 25.4, 24.6, 20.1, 28.5, 24.1, 19.3, 25.5, 27.2, null, 16.0, 21.8, 29.0, 22.0, 18.1, 24.3, 28.5, 25.7, 15.6, 16.8, 25.1, 27.7, 19.2, 23.4, 20.5, 18.6, 20.2, 25.8, 19.6, null, 26.9, 21.2, 23.0, 24.0, 22.3, 19.9, 22.5, 18.7, 27.9, null, null, null, 19.3, 26.0, null, 23.0, 23.6, 23.7, 22.0, 18.0, null, null, 23.1, 23.8, 30.8, 31.8, 17.8, 28.3, null, 20.7, 25.0, 21.9, 30.7, 20.4, null, 21.2, null, null, null, null, 27.4, 27.6, 19.9, 22.0, null, 17.2, null, 24.3, null, 23.5, null, 18.3, 25.5, 22.8, 22.2, 29.1, 24.8, 21.2, null, 22.9, 16.9, 19.8, 18.5, 29.7, 27.7, 16.8, 24.5, 24.1, 25.5, 24.9, 24.4, 25.5, 25.7, 21.0, 20.8, 24.1, null, 28.2, 26.4, 27.6, null, null, 26.9, 25.1, 25.2, 16.7, 22.2, 25.7, 27.2, 19.2, 21.8, 24.1, 25.8, null, 17.8, 23.0, 19.0, 26.9, 26.0, 29.3, 27.7, 24.5, 18.6, null, 18.6, 19.6, 27.4, 20.5, 20.1, 17.6, 28.4, null, 18.8, 21.6, null, 27.1, 30.6, 23.4, 28.6, 20.0, 19.9, null, 23.8, 23.2, 18.2, 29.4, 19.5, 22.1, null, 21.5, 25.4, 25.7, null, 23.3, 23.0, 23.1, null, 16.9, null, 17.8, 21.2, 20.3, 23.2, 26.6, 23.4, 20.1, 21.9, 20.0, 21.3, 30.6, 26.4, null, 18.7, 20.9, null, 25.9, 20.3, null, 29.1, null, null, 18.1, null, 26.5, 21.0, null, null, 28.0, 25.7, null, null, 21.7, null, 28.0, 25.6, 24.7, null, null, 26.1, 24.6, 16.9, 25.1, null, 23.0, 24.7, 22.4, 31.0, 21.7, null, null, 22.5, 28.4, 23.1, 21.6, 24.1, 27.4, null, null, 24.1, null, 27.1, 29.9, 19.3, 24.2, 25.3, 24.6, null, 26.4, 28.2, 16.6, 27.5, 25.8, null, 20.2, null, 26.7, 25.2, 27.5, 20.9, 18.9, 23.4, 19.2, null, 28.3, 23.7, 23.8, 23.9, 25.6, 22.6, null, 20.8, null, 30.5, 17.5, 24.6, 27.0, null, 22.5, 22.6, null, 31.0, 23.7, 21.2, 22.1, 23.1, 26.4, 28.9, 24.5, 27.0, null, null, 25.8, null, 26.7, 22.2, 19.6, 28.3, 29.2, null, 28.6, 27.2, 21.5, 27.8, 17.2, 16.6, 18.0, null, 21.6, 20.3, 25.6, 23.9, 22.6, 26.4, 19.5, 19.9, 30.0, 14.7, 18.9, 22.4, 23.1, null, null, 18.8, null, 28.9, 16.1, 25.2, 21.7, null, 19.3, 28.5, 19.5, null, 24.0, 25.2, 23.8, 27.8, 29.3, 18.4, null, null, 25.3, 27.7, null, 22.4, 24.6, 23.8, 23.7, null, null, 23.0, 19.0, null, 22.1, 26.3, 15.0, null, 29.3, 28.5, null, 18.6, 21.6, null, null, null, null, 26.9, 24.8, 28.3, 21.9, null, null, 22.4, 20.1, 26.3, 19.2, 23.9, null, 27.0, 25.7, 27.2, 23.0, 17.9, 20.1, 15.1, 24.6, 24.6, null, 21.9, 13.9, 27.1, 20.1, 24.4, 22.4, 20.4, 23.0, 26.1, 23.3, 23.6, 26.9, 17.4, 26.1, null, 21.5, 24.5, 25.6, null, 20.0, 23.0, null, 23.8, 22.0, 19.6, 23.5, 22.4, null, 19.9, null, 24.0, 23.1, 16.6, null, 26.0, 22.5, 22.5, null, 19.2, null, 19.8, null, 15.2, 28.6, 15.2, 19.8, 25.7, 26.5, 19.1, 22.9, 20.0, null, null, 18.7, 26.8, 27.5, 25.2, 24.8, 23.9, 22.1, 26.4, 14.7, 25.0, 25.3, 23.7, 26.3, 26.2, null, 26.7, null, 18.0, 23.8, 24.1, 27.4, 22.7, 22.1, 26.2, 23.2, null, 23.7, null, 20.6, 26.9, 27.8, 18.0, 27.3, 26.4, 30.3, 25.4, 27.5, 26.6, 29.2, 22.4, 23.3, 27.5, 27.1, 23.7, 22.7, 17.9, null, 19.2, null, 20.9, 22.4, 20.1, 26.3, 25.6, 22.7, 18.8, null, null, 27.2, 26.1, 23.4, 21.8, 19.1, null, 21.5, 22.0, 25.3, 26.3, 23.0, null, 18.8, 24.9, 22.8, 17.9, 25.2, null, 18.9, 27.8, null, 26.5, null, 21.3, 26.5, null, 28.2, 29.4, 27.3, 20.3, 23.2, 26.3, 20.4, 22.1, 24.5, null, 17.6, 24.7, 24.8, null, 28.1, 21.9, 25.5, null, null, 26.3, 18.9, 24.0, null, 26.6, 23.9, 23.3, 25.0, 15.6, 18.5, 22.3, 18.5, null, 22.8, 19.1, 20.2, 23.7, 26.1, 27.6, null, 18.4, 24.4, 27.3, null, 25.4, 25.3, 16.2, null, null, 29.5, 19.2, 23.8, 25.3, null, 20.3, 27.3, 19.0, 26.0, 25.9, 21.9, 27.3, 28.4, null, 23.4, 20.2, 28.4, 29.0, 24.8, null, null, 19.1, null, 25.0, 25.2, null, null, 21.0, 20.0, null, null, 24.9, 19.0, 20.8, null, null, 23.8, 18.8, 20.2, 24.0, 20.9, 22.7, 25.8, 21.3, 21.5, 23.8, 25.2, null, 22.9, 25.1, 22.4, 29.0, null, 22.9, 25.6, 26.3, 24.4, 24.5, 23.2, 27.5, 27.3, null, 19.9, 18.3, 24.0, 24.9, 26.8, 24.5, 14.4, null, 24.0, 17.9, 27.8, 24.9, 20.4, null, 25.0, 23.0, 18.3, 18.0, 21.1, 23.6, 23.7, null, 13.8, 18.4, null, 27.7, 21.8, null, null, 17.4, 18.3, 29.6, 21.1, 26.5, 25.5, 18.7, 19.2, null, 18.2, 27.4, null, 25.5, 26.9, null, 25.0, 20.0, 26.2, null, null, 25.4, 18.5, 19.7, 31.0, null, 20.0, null, 23.6, null, 24.9, 26.9, 20.5, 24.1, 26.4, 21.2, 21.8, 22.0, 30.9, 25.5, 28.6, 18.1, 26.8, null, 22.2, 13.4, null, 20.5, 19.6, 18.8, 26.5, 24.2, null, 20.7, 25.6, 27.3, 25.8, 27.7, null, 19.0, 26.2, 27.8, 25.0, 20.9, null, 22.5, 28.8, 26.9, null, 26.7, 21.3, 19.3, 18.1, 21.9, 20.0, 21.0, 19.6, 17.7, null, 22.7, 23.1, 28.1, 29.4, 28.1, 23.2, null, 18.8, null, 19.0, null, 26.0, null, 27.1, null, 23.5, 26.1, null, 18.6, 22.1, 24.1, 28.2, 24.9, 22.3, 19.9, 19.2, 21.5, 21.0, null, 19.8, 18.6, 27.1, 18.4, 20.7, 16.8, 18.8, 26.4, 22.7, 24.8, 28.0, 18.8, null, 22.4, 26.2, null, 16.2, null, 19.6, null, 22.3, null, null, null, 23.9, null, 21.2, 21.8, 21.3, null, null, 23.2, null, 21.9, 21.8, 25.2, 17.1, 20.8, 19.1, 23.6, 17.4, 25.3, 23.7, 26.1, 25.4, 20.6, 27.0, null, 26.4, 26.1, null, null, 24.4, null, 27.0, 19.6, null, 21.0, 27.9, 28.0, null, 23.3, 21.7, 22.2, 26.4, null, null, 23.8, 21.3, 24.0, null, null, 23.3, 22.0, null, null, null, 18.2, 19.4, 17.8, 23.7, 26.9, 28.0, null, 28.0, null, null, 27.4, null, null, null, 22.3, 25.4, null, null, 16.7, 27.3, null, 26.1, 22.7, 16.6, 25.7, 21.9, 22.1, null, 19.0, null, 24.0, 26.0, null, 27.0, 25.2, 23.7, 19.0, null, null, 21.4, 27.2, 27.8, 18.2, 24.9, 25.2, 21.3, 22.6, 21.1, null, 20.1, 28.5, 23.9, 19.0, 24.2, 27.6, 25.5, 21.5, null, 18.6, 27.5, 25.5, 21.3, 28.1, 27.0, 18.2, 24.3, 29.1, 19.2, null, 24.8, 21.3, 19.6, 22.7, 24.1, null, 26.4, 25.3, 16.4, 23.5, 26.0, null, 26.1, 20.0, 21.2, 24.5, null, 24.8, null, 25.9, 23.7, 30.5, 28.2, 25.8, 20.2, 28.6, 28.3, 25.3, 19.7, 20.3, 21.3, 30.5, null, 22.8, 20.9, 22.4, 14.5, null, 16.9, 23.5, 26.1, 25.9, 24.6, 29.7, 21.7, 27.7, 15.8, 24.5, null, 22.1, 24.3, 23.7, 16.9, 23.9, 22.8, 26.8, 30.0, 27.8, 26.0, 24.3, 20.5, 24.2, 27.7, 16.5, 21.9, null, 26.0, 22.2, 26.4, 20.9, 22.1, 24.2, 28.3, null, 26.1, 27.9, 21.8, 24.7, null, null, 27.1, 25.6, 19.1, 17.1, 27.9, null, 18.3, 17.9, 23.3, null, null, 24.7, 25.7, 23.7, 28.6, null, null, 18.8, 23.1, 21.7, 25.5, 24.7, 24.7, 27.1, 22.5, 24.8, 19.1, 26.2, null, 18.9, null, 18.8, null, 24.8, 21.6, 22.3, null, 27.8, 26.1, null, null, 30.9, 21.4, 25.4, 28.0, null, 17.7, 19.2, 16.9, 26.9, 30.9, 18.2, null, 21.2, null, 26.7, 23.2, 25.0, 23.4, 19.5, 25.1, 25.5, 27.0, 19.0, null, 21.8, 26.0, 23.8, 24.0, 20.3, null, 21.6, null, 21.6, 16.8, 21.0, 24.7, 23.8, 23.6, null, 25.1, 23.8, 23.3, 18.6, 19.2, 23.4, 23.4, null, null, 20.8, 27.7, 21.2, 26.0, 30.8, 27.9, 18.4, 20.1, 22.6, null, 20.9, 24.3, null, 25.2, 22.4, 28.5, 26.3, 19.9, 22.3, 25.5, 15.4, 22.7, null, 22.6, 20.6, 21.2, 20.6, null, 27.3, 23.2, null, 22.0, 20.4, 24.0, 23.0, 27.5, 22.4, 22.3, 13.3, 16.4, 24.6, 21.4, 26.3, null, 25.2, 24.4, null, null, 20.1, 21.3, 25.7, 26.3, 21.2, 26.0, 20.0, 17.8, 29.1, 15.2, 22.0, null, 17.2, 26.3, 27.5, 22.1, 26.0, 19.8, 25.3, 24.0, 24.3, 27.5, 23.8, 25.2, 22.7, 24.6, null, 16.1, 24.1, null, 22.1, 21.2, 22.4, 25.0, 21.0, null, 20.7, 24.9, 19.1, 17.9, 28.0, null, null, null, 27.4, 19.1, 23.1, 30.8, 23.5, 24.6, 28.0, 27.8, 18.9, 26.6, 26.7, 25.6, null, null, 20.1, null, 20.5, null, 27.5, 20.4, 18.5, 29.6, 18.4, 19.0, 22.7, 28.0, 19.5, 17.8, 24.5, 29.8, 19.9, 18.8, null, 17.9, null, 21.2, 22.6, 23.0, null, 25.0, 22.9, 20.6, 20.8, 21.2, 21.3, 24.6, 22.3, 27.0, 22.0, 19.3, 19.4, 22.9, 20.2, 25.8, 23.4, 27.3, 18.3, null, 17.8, 17.7, 17.7, 23.6, 23.7, null, 18.7, 28.5, 18.9, 21.4, 17.1, 25.5, 21.3, 16.6, 25.5, 25.3, 28.3, 24.7, 17.9, null, 26.3, 18.1, 18.3, null, 19.3, 17.8, 29.6, 23.2, null, 27.5, 23.7, null, null, 21.8, null, null, 25.7, 26.4, 18.6, 27.8, 24.1, null, 23.5, null, 16.6, 22.4, 19.9, 23.2, 21.1, 24.6, 23.0, 25.6, 26.8, null, 20.1, 20.6, 26.7, null, 18.5, 22.4, 22.4, 28.4, null, 14.5, null, 22.2, 18.4, 21.1, 21.3, 26.9, null, 22.3, null, null, 15.5, null, 22.0, 22.9, 24.4, 26.8, 19.9, 21.1, null, 24.1, null, 25.0, 20.6, 24.8, 22.0, 18.1, null, 22.3, 19.8, 18.9, 30.9, 19.1, 27.5, 18.7, 22.3, 20.4, 19.3, 30.8, 18.0, 20.2, 27.7, 26.6, 18.4, 27.4, 22.3, 16.6, 26.9, 24.8, 24.2, 21.3, 24.6, 19.8, null, 28.5, 18.6, 24.3, null, 24.4, null, 20.9, null, 19.4, null, 21.2, 26.1, 22.5, 31.2, 25.0, 28.7, 21.7, null, 20.2, 28.5, 24.9, 18.6, null, 23.6, 26.9, 15.1, 20.3, 21.0, 22.3, 24.4, 26.3, 18.6, 18.3, 24.9, null, null, 19.4, 19.1, 19.3, 21.0, 16.9, null, 23.0, 17.6, null, 27.1, 26.0, 23.7, 20.0, null, null, 23.9, 18.0, 27.6, 26.8, 28.6, 18.3, 21.8, 26.0, 29.1, 17.8, 27.8, 25.1, null, 25.8, 25.2, 20.3, 16.9, 23.6, 19.2, 27.2, 25.2, null, 24.1, 25.3, null, null, null, 22.2, 19.8, 23.9, null, 24.4, 27.1, 17.8, 18.5, null, 19.2, null, 23.9, 21.2, null, 19.8, 19.1, 24.2, null, 24.7, 23.6, 25.9, 22.8, 25.0, null, 25.7, null, 23.0, 18.4, 18.5, 23.4, 24.1, 21.2, 27.3, 23.2, 22.4, 25.1, 24.9, null, 20.9, null, null, null, 25.4, 23.6, 22.7, 18.0, 27.3, 21.7, null, 24.5, null, null, null, 22.7, 18.6, 19.2, 27.9, 16.7, 24.0, 21.0, null, 29.1, 17.0, null, 29.1, 27.6, 21.3, null, 20.3, 24.8, 20.8, 24.6, 21.0, null, 21.4, 21.1, 29.4, null, 17.4, 15.8, null, 24.2, 16.2, 17.2, 26.6, null, null, 23.6, null, 17.8, 28.7, 24.7, 22.1, null, 21.6, 24.5, 21.0, 20.2, 18.7, null, 29.3, 29.2, null, 23.8, 22.3, 24.6, null, 26.8, 17.9, 18.6, 18.4, 26.4, 23.0, 18.7, 25.2, 16.8, 26.6, 22.8, 27.6, 25.5, 27.5, null, 23.2, 19.9, null, null, 18.1, 29.1, 26.7, 26.5, null, 25.3, 20.4, 24.2, 23.1, null, null, 25.3, 22.3, 24.5, 17.2, 26.4, 20.0, 22.7, null, 26.3, 26.6, null, 24.7, 25.8, 27.3, 26.4, 23.6, 18.4, 27.2, 23.6, 19.0, 18.9, 25.1, 17.4, 24.6, null, 27.3, null, 26.7, 26.4, null, 30.8, 22.4, null, null, 20.0, 18.8, 26.0, 21.5, 20.3, 31.2, 21.9, 20.8, null, 17.5, 29.3, 30.7, 24.5, 22.8, null, 14.5, 19.0, 22.1, 23.9, 27.2, 25.2, 19.9, 16.5, 23.5, 25.0, 21.7, 15.2, 20.2, null, 24.0, 18.3, 22.7, 24.8, 23.5, 28.1, 25.2, 22.0, 25.9, 23.0, 19.0, 18.9, null, 29.0, 16.8, 19.8, null, 25.9, null, 19.0, 26.4, 27.3, 17.0, 19.4, 27.5, 21.0, 20.7, 23.3, null, 23.0, 26.9, 27.2, 28.2, null, 25.5, 29.0, 23.6, 21.1, 18.5, 26.3, 31.0, 21.8, 26.6, 21.2, 16.3, 21.2, 26.5, 18.2, 24.5, 26.5, 25.6, 25.7, null, 22.4, 24.8, 26.7, 19.3, 20.2, 23.5, 25.2, 20.4, null, 20.9, 27.6, null, null, 18.8, 21.5, 25.5, 22.4, 18.5, null, 25.8, null, 23.2, 21.8, null, 18.9, 21.7, 18.2, 29.3, 24.4, 21.0, null, 24.7, 18.1, 24.4, 27.8, 17.7, 19.4, null, 24.0, null, 21.9, 24.5, 26.0, 19.5, 27.2, 24.7, 25.2, 18.0, 27.2, 27.1, 22.6, 22.8, 21.6, null, 23.1, 24.2, 29.0, 24.5, 17.2, 27.9, null, 21.3, 19.5, 24.0, 26.9, 21.6, 19.1, 26.2, 27.9, 21.6, 24.7, null, 20.0, 30.5, 21.4, null, 24.1, 25.5, 25.6, 21.0, 21.7, null, null, null, 20.4, 27.1, 26.5, 26.2, null, 14.7, null, null, 25.4, 20.8, 18.6, null, 24.0, 27.3, null, 22.1, 17.5, 17.9, 22.1, null, 18.0, 20.4, 25.5, null, 23.3, null, 20.3, 22.5, 25.5, 21.6, 20.7, 19.0, 23.9, null, 18.7, 19.0, 22.7, 18.3, 19.1, 24.7, 24.9, 27.6, 22.0, 18.5, 20.2, null, 26.6, 25.3, null, 28.6, 17.4, 24.9, 24.9, 20.6, null, null, null, null, 31.1, 17.5, 25.8, 29.3, 22.3, 25.2, 25.4, 28.2, 21.2, 27.1, 18.0, 21.5, 18.9, 26.7, 20.5, null, 25.8, 23.8, null, 21.3, null, 27.3, null, 26.3, 27.8, 24.4, 22.4, 21.8, 28.6, 25.4, 26.8, 26.7, 26.4, null, 21.4, 18.5, 23.5, 21.3, 22.4, 21.7, 16.6, 24.6, null, 27.4, 19.8, 27.0, 18.4, 18.2, 21.5, 23.9, 27.7, 30.1, 16.9, 21.5, 19.1, 24.0, 26.4, null, 18.5, 23.2, 21.3, 27.8, null, null, 22.5, 19.2, null, null, 17.5, 25.3, 23.1, null, 23.1, null, 28.2, 18.9, 21.4, 15.5, 18.4, 24.9, null, 24.5, 28.1, null, 21.0, 23.8, 23.2, 19.1, null, 26.4, 24.0, null, 25.6, 25.9, null, 19.2, 25.9, 18.4, 27.3, 20.3, 21.5, 20.6, 24.5, 22.6, null, 17.9, 21.4, null, 26.9, 20.0, 29.6, 24.0, 25.4, null, null, 29.2, null, 25.7, 22.8, 18.8, 25.4, 24.5, null, 26.7, 21.4, 21.1, 17.2, 25.8, 22.6, 21.2, null, 23.6, 23.2, 19.4, 24.2, 15.5, 25.5, 17.3, 21.9, 28.1, 20.3, 23.9, null, 30.9, 25.2, 22.2, 25.5, 17.8, 23.2, 19.6, 23.6, 20.3, 23.9, 24.4, null, 19.9, 24.7, null, null, 23.6, null, 19.4, null, 24.2, 19.4, 21.3, 24.3, 27.3, 20.3, null, null, 25.3, 15.4, 26.4, null, null, 18.3, 26.6, 25.7, null, null, 26.4, null, 18.1, 19.7, 26.8, 20.4, 25.0, 20.7, 18.0, 24.9, 26.5, null, null, 20.9, 28.5, 21.9, 26.6, 24.2, 25.6, 22.5, 25.0, null, 27.8, 23.0, null, 28.2, 26.0, null, null, 22.9, 20.4, 16.3, 23.9, null, null, 21.8, null, 21.5, null, null, 28.3, 22.5, null, 22.6, null, 21.8, 16.4, null, 26.4, 25.6, 21.0, 27.1, 24.1, 28.3, 29.4, null, 22.9, null, 24.6, 29.1, null, 30.4, 14.4, null, 24.9, 27.1, 26.6, null, 16.0, 23.5, null, 19.0, 19.8, 19.2, 22.9, 26.7, null, 18.8, 17.4, 28.0, 20.1, 28.0, 27.8, null, 30.2, 25.6, 25.3, 20.1, 13.9, 21.0, 27.2, 25.5, 19.6, 18.1, null, 19.0, 24.8, 21.3, 25.7, 23.1, null, 26.2, 27.5, 26.1, 25.2, 22.2, 24.9, 21.9, 21.4, 24.3, null, 26.1, 22.5, null, 22.6, 25.1, 14.0, 22.6, 24.5, null, null, 20.0, null, 20.5, 22.5, 28.1, 22.8, 23.8, 27.3, 23.8, 20.6, 22.8, 28.2, 24.0, null, 29.5, 17.6, 29.2, 22.5, 20.0, 23.6, 27.3, 30.9, null, 19.7, 29.1, null, 22.2, null, 22.1, 14.2, 25.1, 29.0, 21.7, null, 18.6, 20.7, 16.7, 20.3, 19.0, 21.5, 29.6, 22.5, 22.9, null, 18.7, 26.0, 28.5, 28.2, 20.9, 20.5, 14.4, 29.3, 26.2, 25.3, 22.5, null, 19.8, 29.0, 22.4, 26.8, 27.0, 24.9, 20.9, 15.7, null, 25.1, 23.2, null, 27.4, 22.3, 28.3, 20.2, 25.4, 22.9, null, 28.0, null, 25.3, null, 30.2, 21.5, 27.7, 15.1, 21.3, 22.1, 27.2, 26.9, 25.0, 23.7, 28.6, 18.2, 19.7, 23.1, null, 22.8, 26.3, 27.1, null, 26.1, null, 26.7, null, 25.6, 23.9, null, 15.6, null, 20.4, 22.3, 21.0, null, 19.1, 27.3, 18.9, 25.0, 19.2, 27.4, 22.7, 19.6, null, 23.7, 26.2, 28.6, null, 21.8, 16.6, null, 23.9, 24.2, null, 19.6, 27.9, null, 18.7, 21.1, 19.2, 28.2, 22.8, 17.7, 24.3, 23.5, 15.0, 25.8, null, 21.2, 25.9, 22.0, 22.8, 25.7, 25.9, 19.5, 16.6, null, 22.5, 30.1, null, 22.3, 25.7, null, null, 27.3, null, 28.7, 25.3, 14.4, 18.5, 17.2, 22.1, 19.0, null, 23.7, 23.8, 23.4, 15.4, 27.6, 25.1, 16.0, null, null, 25.1, 28.1, null, 27.0, 26.2, 24.8, null, 20.4, 26.7, null, 27.3, 26.3, 21.2, 22.6, null, 26.1, 13.5, null, 27.2, null, 24.8, 23.9, 27.0, null, 29.3, 29.4, 28.1, 23.2, 19.1, 20.4, null, 17.3, 25.8, 20.1, 23.4, 22.9, 20.6, 22.3, null, 19.7, 23.5, 20.0, 23.2, 21.2, null, 28.5, 24.1, 14.8, 27.6, 16.4, 20.0, 22.4, 24.4, 24.7, null, 28.1, null, null, 22.5, null, 21.3, null, 27.8, 21.7, null, 26.6, null, 19.1, 23.9, 24.2, 28.1, 21.5, 17.1, null, 17.2, 21.9, 19.8, null, 28.2, 18.4, null, 31.0, 20.3, 24.9, 26.2, 23.6, 19.2, null, 23.0, 16.8, 23.5, 23.0, 22.8, 30.2, 20.6, null, null, 24.3, null, 18.6, 20.4, 19.0, 19.8, 21.8, null, 14.5, 22.4, 16.5, 18.9, 27.7, 23.4, 24.1, 29.6, 26.3, 17.1, 26.8, 27.0, 27.4, 22.7, 18.8, 23.7, 24.3, 24.5, 17.8, 27.0, 23.5, 29.2, 23.2, 24.7, null, 20.1, 28.1, 25.4, 19.1, 22.9, 26.7, 23.8, 27.7, 25.2, 24.0, 20.7, 24.9, 24.0, 20.7, 20.7, 27.6, 15.1, 22.3, 26.2, 25.8, 23.2, 20.4, null, 28.0, 26.8, 17.4, 20.2, 18.4, 22.3, 21.8, null, 25.3, 22.2, 28.6, 27.1, 25.6, 21.0, 24.2, 23.6, 27.1, null, 29.1, 22.5, null, 18.9, 29.1, 26.4, 28.7, 18.6, 19.7, 30.3, 20.1, 18.9, 23.4, 22.4, 18.5, 21.3, 20.3, 29.4, 19.6, 19.8, 21.8, 22.8, 29.9, null, 19.2, 28.5, null, 25.7, 19.9, 29.0, 24.2, 22.8, 27.8, 24.0, null, 28.5, 29.4, 15.6, 30.8, 18.8, 27.5, 24.3, 25.0, null, 25.4, 18.1, 17.6, 21.2, 26.2, 25.3, 21.2, 22.1, 25.3, 21.6, 22.9, 22.8, 21.2, 25.4, null, 26.9, 22.1, 26.6, 19.8, 16.9, 20.8, 26.4, 22.1, null, 27.4, 23.1, 23.0, 25.0, 24.5, 21.2, null, 24.9, 22.3, 22.2, 29.4, null, null, null, null, null, null, 18.2, 18.1, 14.5, 22.8, 25.2, 30.6, 24.0, null, 24.4, 18.5, null, 26.7, 28.7, 21.1, 24.0, 16.3, 18.1, 21.6, 23.8, null, null, 25.7, 24.5, null, 21.2, null, 20.9, 25.2, 25.5, 25.7, 27.4, 25.7, 14.7, 20.0, null, null, 22.9, null, 23.5, 20.6, 16.7, 28.4, 25.3, 24.8, null, 23.8, null, null, 24.6, 27.1, 25.2, 24.3, 20.3, 24.6, null, 23.8, 26.5, 24.2, 23.2, 26.5, null, null, 26.0, 14.3, 21.4, 23.0, 18.3, 18.3, null, 23.8, 26.2, 21.6, 28.2, 19.3, 26.9, 29.5, 23.8, 23.1, 19.9, 20.8, null, 18.0, 18.8, null, null, 24.2, 20.9, 16.6, 28.0, 20.0, 28.1, 21.5, 21.2, null, 25.4, 21.1, 22.3, 31.2, 21.3, null, 26.3, 23.7, 25.4, 24.2, null, 27.4, 31.9, 27.7, 21.0, null, 21.0, 20.8, 31.0, null, 25.9, 25.6, 20.9, 23.8, 20.9, 27.0, 27.8, 25.4, 22.5, 29.1, 23.7, 25.5, 17.2, 18.8, null, 21.6, 25.4, null, 29.7, null, 24.8, 25.1, null, null, null, 18.7, null, null, 22.4, 24.7, 13.5, 25.6, null, 28.0, null, null, 23.6, 28.0, 22.2, 25.3, 27.8, null, 24.8, 23.4, 18.7, 25.3, 26.2, 27.3, 31.0, 19.7, 18.5, 18.9, null, 23.0, 29.2, 18.2, 25.4, 26.4, 17.4, null, null, 24.8, 25.7, 28.2, null, null, 24.7, 15.3, null, 20.0, 25.3, 22.3, 25.9, 27.2, null, 19.5, 22.6, null, null, 24.1, 25.0, 25.3, 16.3, 25.1, 25.4, 17.8, 28.0, 26.5, 14.5, 24.4, null, 17.8, 20.9, 17.9, null, null, 19.9, 26.8, 24.4, 19.7, 21.7, 22.0, 25.2, 19.8, null, 17.9, 24.4, 18.5, 19.9, null, 22.1, 19.6, 19.0, null, 19.2, 23.7, 17.7, 19.2, 18.2, 18.3, 23.0, 25.2, 21.2, 24.3, 19.0, 27.6, 21.8, 18.1, null, null, 22.9, 16.5, 28.0, 21.2, 25.3, 17.1, 19.6, null, 29.0, 25.9, 23.7, 24.3, null, 22.3, null, null, 24.5, null, 21.2, 21.2, 27.5, 20.0, 20.2, 23.2, null, 16.3, null, 18.3, null, 16.6, 22.3, null, 19.9, 27.7, null, 27.4, 18.4, null, 18.4, 24.6, null, 21.2, 23.4, null, null, 28.3, 29.5, 24.9, null, null, 18.1, 22.7, null, null, null, 26.2, 29.2, 20.6, 24.0, 23.2, null, 25.3, 30.5, 20.4, 20.5, 21.1, null, 29.5, null, 20.1, null, 26.0, null, 19.2, 28.7, null, null, 18.5, 25.5, 23.8, 27.6, 24.5, 25.7, 26.0, 21.7, null, 24.4, null, 30.6, 19.2, 30.0, 30.8, 23.8, 18.7, 24.4, 28.5, null, 29.4, null, 24.0, 27.4, null, null, 25.1, null, null, 25.3, null, 18.1, 26.3, null, 22.0, null, 20.6, 25.6, 19.0, 23.8, 19.1, 19.1, null, 26.3, null, 25.4, 25.2, null, 25.0, 27.7, 18.7, 25.9, 24.0, 19.3, 22.4, 16.6, 23.2, 23.9, null, 20.1, 20.3, 20.9, 24.5, 20.5, 15.0, 16.5, 22.2, 27.5, 26.9, 28.0, 22.1, 16.3, 30.5, null, 22.7, 24.0, 25.1, 24.7, null, 23.5, 18.9, 19.8, 24.5, 21.7, 25.1, 21.2, 27.0, 26.5, 27.6, 28.1, 26.0, 18.1, 25.5, 23.7, 21.0, 26.6, 26.4, 24.1, 22.9, null, 30.6, 27.7, 28.2, null, 22.6, 24.6, 30.6, null, 23.2, 24.5, 21.9, null, 22.4, 27.4, 24.4, null, 24.0, null, null, 23.7, 17.4, null, null, 22.0, null, 27.6, 22.0, 24.5, 19.3, null, 17.0, 21.9, 24.5, 27.2, 23.7, 22.2, 24.7, 27.9, 28.1, 19.5, 22.0, 25.1, null, null, 14.3, 25.2, 25.2, 30.6, 24.5, 24.0, 23.5, 20.1, 28.2, 26.9, 30.1, null, 27.1, null, 21.3, null, 25.0, 21.3, 18.0, 21.2, null, 19.5, 27.6, 19.4, 18.3, 22.6, 19.6, 21.5, 20.0, 19.5, null, 17.2, 24.5, 29.3, 25.0, 20.0, 23.1, 21.6, 19.5, 20.3, 21.8, 19.5, 17.2, 23.9, 24.7, 21.0, 22.6, 25.3, 24.6, null, null, 22.0, 19.6, 27.4, null, 30.2, 17.2, 28.0, null, 20.3, null, 25.6, 19.5, null, null, null, 17.5, 26.2, 19.9, 25.6, 26.7, 26.6, null, 29.4, 24.8, null, 22.0, 21.9, null, 26.9, 25.1, 20.1, null, 27.0, 24.0, 23.4, 27.0, 22.2, 25.3, 21.0, null, 22.8, 19.8, 25.9, 28.6, 22.5, 24.9, null, null, 22.4, 29.3, 22.9, 20.0, 16.1, 19.6, 13.5, null, 19.6, 25.2, 18.1, 28.2, 24.4, 21.1, 26.6, 26.5, 20.7, null, 20.6, 28.3, 31.1, 28.1, 28.5, 25.4, 26.5, null, 17.7, 22.7, 26.4, null, 21.7, 24.8, 26.5, 19.3, 26.9, 26.4, 25.6, 19.5, 25.8, 19.9, 18.0, null, 24.2, null, 26.0, 26.5, 25.7, null, 24.9, 24.2, 26.8, 23.1, 27.0, 27.3, 29.8, 24.3, 20.8, 22.1, null, 22.3, 23.9, 25.7, 26.6, 28.0, 21.4, null, 22.4, 21.1, null, 19.5, 25.2, 13.4, 20.4, 19.2, null, 27.6, 21.8, 21.8, 28.1, 25.6, 25.8, 24.8, 20.5, 18.5, null, 18.9, 23.3, null, null, 21.0, 20.8, 26.5, 18.5, 23.7, 23.0, 15.7, 28.2, null, 21.5, 17.6, 25.5, 19.9, 23.0, null, 20.9, 27.5, 24.1, 24.8, null, 15.5, 28.1, null, 19.9, 19.1, 27.3, 20.1, 23.7, 23.1, 20.1, null, 23.0, 21.1, 23.8, 27.3, 28.6, 21.4, 29.4, 22.4, 17.0, null, 24.9, 22.5, 27.5, 22.5, null, 18.6, null, null, 23.9, 20.3, 16.8, 27.9, 25.0, 22.3, 22.5, 26.5, 29.3, 22.9, 18.2, 20.5, 22.2, 24.2, 27.4, 25.7, 19.6, 24.2, 30.8, 22.2, null, null, 25.4, null, 16.5, 25.7, 28.6, 23.1, 18.0, 25.9, 17.9, 25.5, 27.4, 28.5, 21.8, null, 18.1, 20.6, 18.2, 25.9, 25.3, 24.7, null, null, 26.8, 28.1, 21.8, 22.6, 20.4, 22.2, 21.2, 20.0, null, null, null, 22.0, 27.1, 25.5, 22.2, 27.3, 18.4, 27.4, 27.0, 27.0, null, 29.9, null, null, 21.1, null, 18.8, 22.4, 25.3, 23.7, 23.0, 27.4, 20.0, 28.4, 21.8, 23.8, 22.4, null, 18.8, 22.3, null, 24.2, null, 17.8, 26.1, 18.8, 16.8, 25.3, 24.3, 29.7, 31.2, 17.6, null, 28.1, 24.3, null, 24.8, 25.8, 26.6, 18.5, 29.9, null, 20.0, 27.5, 23.7, null, 29.7, 25.5, null, 23.3, 30.9, 19.3, null, 17.3, 27.6, null, 27.9, 17.2, 26.3, 24.2, 21.6, 22.2, 27.7, 24.7, 25.2, null, null, 13.4, null, 27.1, 22.0, 27.7, 24.2, 25.6, 24.5, 27.2, 20.6, 23.2, null, 25.6, 22.7, 29.3, null, 17.2, null, 19.6, 18.4, null, 26.6, 26.9, 26.4, 25.6, 26.6, 18.9, null, 25.3, 15.3, 27.7, 24.7, 17.7, 27.0, 24.1, 27.9, 17.5, null, 24.1, 27.5, 25.7, 17.2, 23.0, 25.4, 24.3, 24.7, null, 21.3, 19.8, 22.2, 16.8, 21.5, 24.2, 30.3, 26.3, 21.4, 19.1, 18.9, 23.2, null, null, 21.2, 22.9, 25.0, 23.4, null, 24.7, 23.7, 19.5, null, 27.2, 23.6, null, 27.2, 22.8, 25.7, 24.8, 25.0, 21.5, 18.5, 20.2, 24.1, 22.4, null, 27.4, 23.8, null, null, 23.0, 23.6, null, 23.9, 19.2, 25.1, 23.8, 29.5, 25.3, 27.0, 20.9, 20.4, null, 23.8, 23.2, null, null, 23.7, null, null, 25.7, 22.6, 17.7, 25.7, 20.4, 23.3, 26.4, 20.8, 19.8, 21.7, 24.0, null, null, 24.4, 20.0, null, 23.2, 19.8, null, 25.7, 28.0, 15.2, 23.2, 16.5, 26.2, null, 19.2, 26.3, null, 25.4, null, 21.3, 23.2, 26.9, 26.9, 18.1, 21.7, 24.2, 22.0, null, 28.2, 28.4, 24.2, 28.3, 22.6, 24.8, null, 18.3, 25.2, 23.9, 28.3, 30.6, 22.5, 24.5, 27.2, 26.6, 27.0, 17.2, 21.3, 23.4, 20.4, null, 24.3, null, 21.6, 22.2, 20.8, 24.7, null, null, 22.6, null, 24.1, null, 26.7, 24.2, null, 20.6, null, 16.8, 18.9, 21.6, null, 28.1, 20.2, 23.7, 18.2, 20.3, 23.3, 28.8, 27.4, 27.7, 18.7, 25.3, 25.2, 27.9, 27.1, 22.5, 20.0, 22.1, 20.0, 23.3, 18.3, 24.7, 21.4, 20.0, 25.0, 25.8, null, 25.1, 18.5, 25.4, 27.9, 23.3, 30.6, 29.8, 27.0, 20.5, null, 26.4, 19.2, 22.1, 26.7, 21.3, 19.7, 27.7, null, 27.6, 28.7, null, 25.0, 23.1, null, 20.3, 22.7, 28.0, 25.3, 23.6, 26.3, 20.5, 27.6, null, 26.7, 23.8, 25.5, 19.5, 26.0, null, 20.9, 29.0, null, null, 26.3, 21.3, null, 20.9, 25.4, null, null, 21.0, 19.5, null, null, 22.0, 17.8, null, null, null, 21.4, 17.2, 24.9, 24.9, 27.8, 25.3, 21.0, 18.8, 26.5, 21.3, 24.7, 18.0, 28.6, null, 25.3, 18.3, 19.0, 18.3, 18.0, null, 27.3, 24.7, 23.8, 20.5, null, null, 24.8, 26.3, 25.0, 23.3, 27.3, null, 24.4, 23.3, null, null, 20.0, 20.3, null, 29.5, 22.8, 25.2, 22.5, 21.1, 22.3, null, 24.4, 20.7, 23.9, 21.9, 22.9, null, 20.5, 25.9, 20.0, 28.0, 20.9, 21.4, 21.1, 28.5, 19.0, 25.5, 18.1, null, 26.0, 24.9, 21.0, null, null, 20.8, null, 27.8, 27.8, 29.6, 25.1, 27.9, 17.9, 26.5, 24.8, null, 26.4, 16.3, 28.4, 28.2, 25.3, 21.3, null, null, null, 23.1, 25.4, 27.5, 25.8, null, null, null, 22.3, null, 27.8, null, 23.8, 27.0, 25.3, null, null, 24.0, 24.2, 14.3, 25.5, 21.6, 19.7, 19.8, 23.2, 23.6, 28.7, 23.7, 21.1, 28.4, 19.5, null, 22.3, 27.3, null, 23.7, null, 23.3, null, 28.2, 22.7, null, 23.8, 18.6, null, null, 26.8, null, 27.5, null, null, 25.2, 25.3, 23.0, 28.0, 14.5, null, 18.5, 30.8, 21.4, 24.7, 21.6, 27.6, 24.8, 26.9, 26.1, 16.4, 20.3, 24.3, 26.6, null, 21.8, 23.5, 23.0, 19.1, 28.6, 21.1, 24.7, null, null, null, 22.6, 18.1, 23.3, 18.5, 25.6, null, 17.9, 29.5, 23.0, 21.4, 20.1, 19.8, 25.5, 27.1, 15.4, null, 27.0, 24.4, null, null, 28.2, 23.9, 26.3, 28.5, 23.7, 22.5, null, 25.7, 31.3, 25.6, 26.3, 19.5, 17.3, 24.2, 17.2, null, 30.6, 21.6, 27.3, 20.0, 26.5, null, 23.8, 18.0, 25.6, 21.1, 28.5, null, 23.6, 20.6, null, null, 18.6, 19.5, 18.6, 23.6, 23.9, null, 21.0, 22.5, null, 22.5, 25.5, 21.1, 24.4, 24.9, null, 25.2, 24.5, 27.1, 25.7, 28.8, 28.7, null, 20.4, 21.8, 24.8, 29.4, 22.9, 25.8, 28.5, 20.3, 30.9, 20.8, 17.8, 23.3, 21.3, 24.0, 24.6, 27.3, null, 28.0, null, 21.3, 23.0, 22.9, null, null, 15.1, 15.8, 27.2, 19.0, 29.8, 19.8, 24.0, 18.3, 22.9, 27.5, null, 28.2, 27.3, 30.0, null, 28.1, 28.1, 23.0, 19.7, 24.9, 19.4, 28.3, 21.7, 21.2, 22.9, 23.8, 23.3, 24.0, 20.7, 14.7, null, null, 23.9, 14.4, 22.3, 27.9, 17.4, 25.8, 25.9, 27.9, 19.1, 24.3, 26.4, 27.9, 23.4, 25.0, 21.4, 27.1, 18.5, 26.9, 18.4, 19.7, 20.5, 24.6, 20.5, 22.4, 24.8, 23.5, 17.9, 22.2, 24.2, 23.2, null, 19.2, null, 23.0, 20.6, 23.8, 20.3, null, 22.5, 21.6, 23.6, 24.5, 21.1, 27.9, null, 19.9, 20.5, 24.4, 23.0, 19.3, null, 24.6, 22.9, 27.1, 20.5, null, 17.7, 27.3, null, 25.7, 17.4, 25.7, 22.5, null, 26.0, null, 20.4, 20.7, 21.6, null, 25.5, null, 23.2, 16.0, 18.0, 23.9, 19.7, 15.9, 22.1, 24.7, 25.9, 28.2, null, 27.9, null, 21.5, 27.0, 18.8, 27.0, 25.8, null, null, 20.8, null, 19.0, null, 22.5, 25.7, null, 23.9, 20.9, 15.2, 27.0, 25.3, 21.7, null, 19.6, null, 22.4, 26.4, 23.8, null, null, 19.6, 29.4, 26.3, 27.2, 19.2, 25.2, 30.3, 29.7, null, null, 25.0, 23.5, 27.9, 24.7, 28.0, 22.4, 18.2, 22.6, 29.5, 21.8, 21.7, 21.2, null, 19.9, 25.1, 25.1, 18.5, 22.1, null, 31.0, 24.8, 24.2, 22.1, 25.6, 18.0, 28.9, 22.9, 25.6, 18.4, 23.7, 25.2, null, null, 27.1, 25.0, null, 27.6, 22.5, 24.5, 24.7, null, 25.7, 18.2, 24.3, 20.7, 21.4, null, null, 28.7, 20.1, 27.8, 20.0, 29.1, 17.4, 25.0, 22.7, null, 29.0, 19.5, 17.6, 27.9, 26.2, 24.5, 22.4, null, null, 21.3, 20.7, 25.4, 29.5, 26.4, 25.1, 20.5, 17.1, null, 23.2, 24.3, 26.9, null, 24.7, 26.3, 30.1, 22.6, 28.1, 19.2, 22.2, 21.2, 25.4, 27.0, 21.4, 24.2, 25.2, 26.8, null, null, 26.7, 20.5, null, 23.2, 24.6, 22.8, 18.5, null, 26.7, 27.8, 27.5, 22.9, 22.5, 27.1, 25.3, 24.2, 28.3, 26.5, 27.0, null, 25.2, 28.9, null, 19.2, null, null, 18.5, null, 18.2, 24.0, 21.8, null, 19.8, 19.2, 25.2, 21.6, 26.9, 23.5, 24.6, null, 27.9, 21.5, 26.2, 22.1, 26.8, null, 27.0, 15.3, 16.0, 23.7, 26.0, 26.1, null, 14.4, null, 19.5, 22.3, null, 27.3, 27.2, null, 20.5, 20.4, null, 16.4, 25.7, null, 27.1, 17.1, 22.2, 21.6, 24.8, 21.7, 19.2, 24.0, 21.3, null, 19.6, 25.9, 21.4, null, 28.3, null, 25.2, null, 25.7, 18.3, 22.4, 24.0, 25.4, 23.3, 25.4, 19.4, null, 28.9, 24.3, 26.3, null, 29.0, 23.3, 28.0, 27.3, 26.7, 25.5, null, 25.6, 24.2, 29.3, 28.3, 20.9, 21.3, null, 25.6, null, 24.3, 27.2, 18.9, 22.7, 25.4, 25.5, 19.7, 21.4, 23.4, 15.3, 27.1, 25.8, 26.6, 27.3, 22.2, 30.6, null, 23.4, null, null, 19.8, null, 19.2, 18.2, null, 16.9, null, 21.8, 26.5, 28.6, 17.9, 22.5, null, null, 23.4, null, 20.5, 27.9, null, 24.7, 23.9, 25.4, 22.8, 26.4, 28.0, 22.7, 18.8, 24.6, 26.5, null, null, null, null, 19.8, 21.2, 24.7, 26.9, null, 27.4, 26.8, 19.6, 23.0, 21.3, null, 18.9, 23.1, 25.1, 24.6, null, 23.8, 20.4, 21.0, 22.9, 22.7, 25.6, 18.5, 18.8, 22.2, 21.2, null, 17.8, null, 22.0, 27.2, null, 17.8, null, 25.9, 26.7, null, 20.9, 24.5, 26.5, null, 20.7, 26.2, 19.4, 19.4, 29.6, 15.7, 29.4, 24.3, 29.4, 28.4, 25.7, null, null, 25.5, null, null, 20.2, 22.4, null, null, 20.6, 25.6, 21.2, null, 19.1, null, 24.3, 18.0, 28.4, 20.4, null, 23.0, 23.0, 26.3, 23.5, 29.1, 27.2, null, 21.5, null, 28.7, 20.2, 23.6, 21.5, 20.6, null, null, 17.7, 20.2, 20.9, 22.0, 24.0, null, null, 23.6, 28.4, null, 19.6, 25.4, 25.2, 20.8, 18.2, 23.7, 23.4, 30.2, null, 24.3, 17.7, 29.6, 23.7, 23.1, 27.2, 20.3, null, 19.4, 26.0, 18.6, 20.4, 21.5, 27.6, 17.8, null, null, null, 25.2, null, 27.4, 24.2, 24.5, 15.1, 22.5, 19.6, 19.6, 19.3, 18.5, 27.7, null, 23.9, 27.9, 28.3, null, 26.8, null, 19.8, 19.6, 21.2, 25.3, 21.0, 21.4, null, 27.8, 26.4, 16.2, null, 23.8, 23.7, null, null, 18.1, 25.2, 22.0, 22.5, 20.4, null, 20.2, 27.4, 22.5, 20.0, 24.8, null, 25.3, 20.7, null, 20.5, 27.1, 18.7, 27.6, 26.7, 27.4, null, 27.9, 17.6, 24.5, 24.4, 30.9, 28.4, null, null, 27.0, 22.4, 24.4, 27.4, 18.8, 26.8, 23.8, null, null, 28.1, 17.6, null, 27.8, null, 27.7, 19.2, 15.2, 29.3, 26.1, 24.7, 25.0, 28.1, 19.5, null, 22.2, 21.8, null, 28.1, 20.4, 16.6, null, 23.6, 24.4, null, null, 24.7, 23.5, 28.1, 24.7, 20.1, 14.2, 22.5, 21.8, 20.0, null, 19.9, 20.1, 20.8, 22.8, 17.3, 26.1, 21.1, 27.5, 28.2, 22.6, 26.3, null, null, 29.6, 18.8, 15.0, 28.8, 21.0, 18.4, 17.9, 24.7, 24.0, 23.1, 14.7, 23.1, 26.4, 21.2, 28.1, 21.1, 27.9, 22.8, 22.7, 22.7, null, 21.5, 16.7, 27.3, 20.3, 19.8, 24.2, 24.8, 20.7, 25.6, 30.2, 19.8, 27.6, 23.8, 24.5, null, 25.0, 19.8, 23.7, 23.9, null, null, 26.3, 22.7, 22.0, null, null, 25.8, 22.5, 27.3, 21.0, 22.4, 16.6, null, 21.2, 27.6, 24.4, 18.4, 22.1, null, 18.4, null, 30.8, null, 16.6, null, 28.1, 24.2, 16.8, 13.6, null, 23.3, 19.4, null, null, 27.1, 24.4, 27.7, 24.1, 22.2, 23.5, 20.0, 23.9, null, 30.8, 21.6, 22.7, 22.8, null, 25.3, 20.7, null, null, 24.2, 21.0, 22.6, 14.9, 25.6, 23.7, 19.6, 21.0, null, 21.9, null, 24.3, null, 24.3, 18.3, 25.5, 20.4, 24.6, 20.3, 22.9, 20.4, 19.3, 27.6, 24.8, null, 16.9, null, null, 25.6, 22.3, null, 23.7, 27.6, 28.6, 24.7, null, null, 26.8, 20.9, 30.7, 23.7, 18.3, 18.3, 22.9, 24.2, 21.0, 24.3, 21.9, 23.2, 20.8, 23.9, 17.4, 19.1, 27.8, 18.0, 24.7, 17.7, 26.5, 22.9, 22.3, null, null, 28.2, 30.0, 26.0, 26.2, 27.2, null, 19.2, 24.8, 25.4, 26.3, null, 27.5, 24.5, 29.3, 24.9, 15.3, 19.9, 25.8, 18.4, 23.1, 24.1, 20.9, 24.6, 20.3, 18.4, 25.1, 19.0, 18.0, 25.0, 24.2, 21.3, 23.8, null, 27.0, 22.0, 15.6, null, 23.5, 23.2, 29.4, 28.1, 23.8, 20.0, 19.6, 21.5, null, 26.8, 21.4, null, 19.8, 22.5, 17.5, 26.3, 17.1, 22.8, 19.4, null, 20.8, 18.6, 23.6, 19.8, null, 16.1, 30.4, 20.8, null, null, null, 24.7, 23.3, 28.1, 32.1, null, 18.6, null, 16.2, 22.8, 26.0, 24.5, 24.3, 15.4, 18.2, 27.3, 28.5, null, 27.1, 27.8, 26.6, 29.1, 24.1, null, null, 23.5, 23.1, 18.1, 24.3, null, 23.0, 21.0, null, 16.3, null, 17.8, null, 20.5, null, 26.4, 27.9, 24.1, 26.0, 27.4, 20.5, 20.0, 26.4, 29.0, null, 23.4, 21.5, 23.3, 23.9, 21.3, 26.3, 23.2, null, 24.8, null, 30.1, 22.7, null, null, 26.5, null, 26.3, 25.2, 25.0, 19.3, null, 23.2, 29.8, 29.3, 22.7, 25.6, 24.8, 20.6, null, 16.5, 27.3, null, 27.7, 24.7, null, 23.3, null, 30.0, 25.3, null, 25.5, 20.0, 19.9, null, null, null, 19.0, null, 20.0, null, 17.1, null, 26.2, 27.9, 23.3, 25.1, 26.3, 22.5, 26.2, 20.7, 28.1, 31.2, 15.6, 18.4, 28.1, null, 26.4, 30.4, 23.7, null, 21.3, 27.4, 21.1, 18.3, 23.6, null, 27.3, 26.4, 20.4, 28.9, null, 19.2, null, 15.2, 24.0, null, 18.0, 23.7, 26.2, 24.6, 27.6, 22.9, 24.9, null, null, 26.8, 23.0, null, 26.8, null, null, 22.8, 27.1, 26.5, 27.6, 31.2, 23.0, 24.6, 25.1, 23.6, 19.1, 22.2, 25.1, 23.7, null, 22.5, 25.7, null, null, 23.8, 23.0, 23.0, null, null, 22.4, 18.0, 24.0, null, 27.2, 21.7, 26.4, 20.6, 27.6, 28.1, 24.4, 25.5, null, 24.3, 21.5, null, 20.9, 21.1, 23.8, null, 23.3, null, 19.9, 23.7, null, 29.8, 29.5, 24.6, 21.2, null, null, 20.5, 28.4, 26.2, 29.9, 21.3, 26.1, null, 29.6, 27.7, 26.2, 28.4, null, 16.1, null, 23.5, 25.8, 15.3, 27.4, 28.6, 27.5, 19.1, null, 17.2, 27.9, 24.8, null, 25.0, 27.7, 25.9, 18.8, 18.7, null, 20.5, 23.7, 23.5, 18.3, 25.8, 29.5, 20.5, 16.4, null, 28.1, null, 26.0, 23.9, 18.6, null, null, null, 24.9, null, 18.6, 31.0, 25.5, 20.9, 26.3, 21.3, 23.4, 20.3, 19.9, 23.9, 25.3, 18.5, 24.4, 18.8, 22.2, null, null, 18.2, 29.7, null, 19.6, 18.9, null, 28.4, null, 25.3, 25.1, null, 21.4, 22.3, null, 23.5, 26.7, 25.3, 27.0, null, null, 29.3, null, 17.8, 19.8, 27.6, 17.7, 23.3, 22.6, 23.8, 25.2, null, 24.0, null, 30.5, 26.0, 17.0, 19.0, 24.6, 26.1, 20.5, 27.8, 27.4, null, 18.8, 28.5, 27.3, 19.8, 28.4, null, null, 23.3, null, 28.6, 26.3, 15.9, 17.0, null, 28.3, 27.5, 23.4, 23.8, null, 27.6, null, 22.2, 22.3, 23.9, null, null, 25.7, 24.9, 23.3, null, 18.0, 16.9, null, 19.2, 21.2, 18.2, 27.4, 26.7, 20.2, 19.6, 22.5, null, null, 22.9, 17.6, 22.0, 25.7, null, 30.6, 26.6, 26.1, 26.4, null, 26.1, null, 22.4, 21.9, 26.8, 21.6, null, null, 21.3, null, 21.0, null, 24.4, 20.0, 19.5, 25.6, null, 28.3, 21.2, 19.4, 20.1, 22.3, 17.6, 19.5, 28.0, 20.2, null, 31.1, null, 23.7, 27.6, 29.0, null, null, 26.2, 24.1, 17.7, null, 20.1, 21.7, 17.8, 26.6, 25.3, 24.8, 21.5, null, 24.8, null, 27.3, 30.5, 25.5, 28.0, 26.2, null, 26.8, 20.1, 24.3, null, null, 24.5, null, 20.0, null, 27.6, 24.2, 24.1, 30.7, 18.1, 18.5, 27.2, null, null, null, 13.3, 28.5, 23.9, null, 23.6, 23.6, 21.1, 28.1, 22.1, null, 26.3, 19.8, 28.2, 16.4, null, 17.7, 27.5, null, 18.6, 25.8, 24.5, 22.2, null, 28.5, 21.7, 29.2, 20.2, 18.3, 20.7, 18.5, 19.6, 19.1, null, 23.8, 26.2, 23.4, 18.7, 23.6, 23.6, 27.3, 24.9, 28.5, 24.2, 27.5, 19.1, 21.4, 20.8, 25.2, null, 25.3, null, 24.9, 22.6, 20.5, 30.5, 22.8, 25.2, 19.9, null, 17.9, 26.2, null, 27.8, null, null, 22.5, 20.8, 24.1, 18.4, 26.1, 25.1, 27.4, null, 25.0, 15.2, 24.9, 22.9, 20.6, 27.5, 24.5, 18.0, 15.2, 28.2, 22.1, 26.3, 23.2, 23.0, 17.9, null, null, 30.5, 20.3, 29.3, null, 18.0, 29.8, 16.8, 27.3, 23.9, 24.3, 19.9, 27.8, 19.8, 21.5, 20.7, 24.3, 25.0, null, 22.6, null, null, 25.7, null, 25.3, 14.8, 24.6, null, 27.0, 21.3, 24.5, 23.0, 25.8, 23.9, 23.7, 21.1, 21.4, null, 20.7, 26.2, 21.0, 26.3, null, 30.9, null, null, 14.8, 17.8, 26.3, 23.6, 24.7, null, 25.6, 25.4, 18.4, 23.8, 26.8, null, 24.1, 25.5, 18.5, 25.0, 25.0, 20.8, 18.3, 22.7, 22.3, 25.2, 19.6, 22.4, 29.4, 25.2, null, 24.5, 16.8, 27.2, 24.7, 20.7, null, null, 25.5, 25.2, 31.2, 24.8, 19.2, 24.6, 17.7, 22.8, 23.3, 24.1, 18.8, 27.9, 16.2, null, null, null, null, null, 27.4, 20.3, 22.2, 18.8, 28.6, 21.1, 21.8, 25.4, 28.0, 24.8, 27.6, 26.7, null, 17.7, 23.6, 21.1, 20.3, 19.8, 26.7, null, null, null, 21.4, null, 23.9, null, 24.1, null, 22.4, 26.1, 23.5, 28.4, 20.4, null, 19.0, 26.3, null, null, 15.5, 23.3, 16.6, 28.3, 19.3, 20.0, null, null, 24.5, null, 23.7, 17.3, 16.4, 30.2, null, 27.9, 26.9, 18.2, 19.8, null, null, 18.3, null, 28.4, 27.4, 22.9, 25.7, 18.8, null, 24.6, 22.9, null, 18.3, null, 22.8, 28.2, null, 21.5, null, 23.7, 19.3, null, 24.9, 20.1, 29.9, 21.1, 26.4, 20.4, 25.8, null, null, 19.3, 27.8, 28.7, 28.5, 21.8, null, 18.9, 21.0, 25.4, 18.5, null, 19.6, null, 21.1, 24.4, 28.1, 29.8, 24.8, 31.0, 22.5, null, null, 22.2, 25.1, 20.2, null, 21.5, null, 27.8, 20.0, 23.5, null, 25.1, null, 27.5, 21.9, null, 25.4, 20.2, null, 21.3, 23.6, 22.4, 18.0, null, null, 24.2, 27.5, 17.1, 20.1, 24.8, 26.0, 22.2, 21.4, 24.6, 21.9, 27.5, 22.0, 15.6, 20.1, 27.1, 25.3, 26.9, 22.1, null, null, 26.2, 23.5, 21.9, 20.3, 27.7, 25.8, 29.9, 24.5, 19.2, 25.4, 21.7, null, null, null, 22.6, 26.8, null, 18.9, 25.1, 24.4, 21.6, 23.7, 19.9, null, null, null, 16.1, 26.7, 23.8, 22.5, null, 27.4, 21.7, 17.3, 20.2, 26.2, 25.6, null, 25.6, null, 21.5, 22.7, null, 24.2, 22.8, 27.7, 28.8, 20.4, 23.4, null, 25.0, 17.9, 29.4, 23.7, null, 20.3, 22.2, 22.3, 19.0, null, 28.1, 27.8, 20.6, 24.3, 20.1, 19.8, null, 17.4, 27.7, 19.8, 20.2, 26.0, 20.7, 23.0, 21.0, null, 26.6, 25.6, 24.9, 25.2, null, 27.8, 21.4, null, 17.4, 21.9, 19.8, 19.2, 22.8, 21.8, null, null, 26.2, null, 27.3, 21.1, null, 25.1, 15.4, 25.4, 19.9, null, 23.6, 26.8, 20.5, 14.2, 24.1, null, 16.5, 23.2, 18.6, 25.5, 20.6, 29.4, null, null, 25.0, 27.6, null, null, null, 21.5, 22.8, 25.8, null, 28.1, 28.2, null, null, 24.6, 27.0, 22.6, 22.2, 27.9, null, 22.2, null, 24.6, null, 25.2, 23.4, null, 18.7, 18.9, 24.5, 17.0, 17.4, 23.5, 23.6, null, 25.2, null, null, 25.2, 20.0, 21.6, 23.0, 24.9, null, 25.6, 28.7, 17.9, 28.1, 18.2, 24.4, 16.3, 20.2, 26.8, 26.1, 26.1, null, 20.2, 21.9, 29.4, 20.0, 21.3, null, null, null, 20.1, 28.3, 27.2, 21.6, 21.0, 20.0, 22.1, 20.0, 25.7, 23.9, 27.0, null, 19.6, 29.5, 15.3, 27.9, 22.1, 21.5, 25.8, 22.9, 18.3, null, null, 22.0, null, 23.6, null, 27.5, 26.4, null, null, 23.4, 22.4, 20.9, 18.4, 17.6, null, 21.8, 27.3, null, 18.3, 29.9, 21.2, 18.8, 25.6, 25.4, 25.2, 19.2, 21.5, 25.3, 27.9, 28.0, 18.5, null, 28.6, 26.0, null, 19.9, 25.1, 23.5, 27.9, 20.8, 18.0, 21.9, 22.6, 25.5, 22.6, 19.4, 26.2, 21.7, 27.3, 20.9, 19.1, null, 22.4, 22.1, 22.4, 19.1, 25.0, 20.8, 28.0, 27.3, 20.8, 20.5, 26.0, 24.7, 24.5, 22.1, 21.3, 24.6, 25.2, 23.1, 24.5, 22.6, 25.3, 27.9, 27.1, null, null, null, 19.3, 26.2, 23.7, 26.3, 27.3, 25.5, 28.0, 18.0, 25.1, null, null, 17.6, 19.0, 19.9, 25.9, 27.6, 21.6, 24.1, null, 28.3, 26.2, 23.6, null, 17.8, 23.3, 21.3, 24.2, null, 27.3, 20.0, 24.1, null, null, 23.0, 21.1, null, 26.5, 20.8, 20.2, null, 19.4, 26.1, 25.5, null, 20.4, null, 27.6, 21.1, 19.0, 19.2, 18.0, 28.2, 27.4, 26.5, null, 31.2, null, null, 19.2, 28.8, 27.5, 15.5, 22.9, 16.8, 23.1, 24.9, 20.1, 23.1, 19.7, 25.7, 16.7, 25.7, 23.1, 27.4, null, 23.6, 19.0, 19.2, 24.3, 22.1, null, 22.2, 15.6, 18.3, 14.5, 23.8, null, 18.4, null, 28.6, 28.5, 17.7, 23.1, 28.1, null, null, 23.6, null, 21.8, null, 23.5, 18.3, 22.6, null, 23.9, 24.6, 26.5, 18.8, 19.0, 18.8, 26.1, 21.1, 26.0, 24.6, 23.1, null, 26.0, 23.9, 26.3, 18.3, 26.8, 21.1, 21.1, null, 23.9, null, 20.4, 15.1, 25.1, 24.8, 29.3, 16.6, 23.8, 27.0, 25.6, 18.8, 23.0, 25.1, 21.6, 28.0, 21.1, 24.9, 20.2, 26.8, null, null, null, 20.3, null, 28.3, 19.1, 18.5, 18.5, 26.9, 18.5, 24.8, 21.3, 22.9, null, 23.8, 24.5, 21.2, null, 19.0, 17.6, 29.3, 26.7, null, 26.1, 19.8, 20.1, 21.7, null, null, null, null, null, 22.5, 19.1, 24.0, 19.8, 21.4, 26.6, 20.4, null, 30.5, 27.7, null, 26.3, 20.9, 18.3, 25.3, 22.2, 27.4, 24.7, 20.7, 26.2, 21.2, 23.6, 22.9, 24.6, 22.1, 31.2, 25.1, 28.7, null, 21.6, 27.9, null, null, null, 26.0, 27.0, 18.4, 23.6, null, null, 23.8, 17.8, 28.9, 24.2, 20.9, 27.8, 20.2, 22.7, null, 25.6, null, 22.4, 18.1, 19.2, 27.4, null, null, null, 25.0, 22.5, 22.0, null, null, 25.2, 29.2, 27.8, 27.6, 26.5, 25.5, 24.1, 20.5, 25.4, 23.8, 27.9, 18.4, 23.5, null, 19.6, 27.3, null, 24.6, 19.3, 26.5, 28.1, 15.6, 19.0, 17.3, 25.6, 20.6, 21.1, 18.0, 23.9, 18.1, 20.8, 19.2, null, 22.9, 21.7, null, 25.3, 27.3, null, 27.4, 28.3, 28.0, 21.4, 22.3, 25.1, 25.3, 24.2, 26.5, null, 25.7, 27.8, 27.9, null, 24.0, 25.0, 20.4, 19.6, 26.5, 25.8, 24.8, 25.2, 24.3, 18.5, 27.2, 28.2, 22.4, 30.1, 24.6, 23.0, 24.9, 26.8, 24.5, 23.2, 25.4, 20.6, null, 28.2, null, 28.4, 24.5, 19.3, 20.9, 21.9, 23.3, 24.4, 18.7, 23.7, null, 27.7, 23.6, 24.8, 25.3, 25.2, null, 29.1, null, 24.9, 24.9, 22.1, 19.8, 21.8, 20.8, 23.1, 23.9, 22.3, 25.0, 24.7, 23.1, null, null, 21.0, null, null, 19.3, 19.9, null, 31.2, 19.4, null, 18.8, 15.1, 18.9, 22.7, 24.0, 20.0, 21.2, 17.7, null, null, null, 27.3, 26.4, 26.7, null, 21.5, null, null, 25.3, null, null, 18.8, 20.9, 23.2, 28.2, null, 22.2, 24.1, null, 22.4, 24.7, 28.7, 19.8, null, 20.2, null, null, 21.0, 29.9, 22.8, 23.2, null, 24.4, 17.4, null, 17.8, 31.0, 28.5, 20.5, 28.6, 18.5, 23.7, null, 22.8, 26.2, 20.5, 27.3, 22.5, 23.6, 28.7, null, null, 29.1, 16.2, 20.6, 25.8, 26.7, null, null, null, 30.6, 14.6, null, 23.0, 26.7, 27.6, 20.9, 21.7, 15.4, 23.3, null, 25.3, 25.1, null, null, 20.7, null, 22.9, 18.4, null, 18.7, 17.8, 26.4, null, 31.1, 24.1, null, 24.2, 27.6, 22.6, null, 26.8, 28.5, 22.4, 24.6, 27.2, null, 23.6, 24.7, 21.3, 24.2, 22.9, null, null, 18.6, 19.5, 17.0, 23.8, 20.7, 28.1, null, null, 19.1, 29.1, 28.1, 26.0, 22.7, null, 22.5, 27.8, null, 23.6, 18.9, null, 26.0, null, 22.1, 18.5, 28.0, 14.3, 27.0, 26.8, 17.7, 21.7, 24.5, 26.3, 23.1, 27.1, null, 16.2, null, 21.4, 23.7, 23.4, 19.1, 18.5, 25.6, 30.1, 16.6, 23.9, 22.0, null, 26.3, 26.3, 25.9, 17.3, null, 26.8, 24.4, 21.6, 18.5, 24.8, 28.2, 19.0, 24.0, 29.0, 21.2, null, 25.0, null, null, 26.1, 16.3, 24.3, 23.5, 17.4, 24.6, 22.7, 21.8, 18.5, 18.9, 23.9, 27.1, 25.7, 28.4, 21.0, 25.0, null, 25.0, null, 18.6, 25.1, 26.8, 25.2, 24.0, null, 18.2, 24.5, null, 23.2, null, 21.6, 23.0, 26.3, 24.7, 17.6, 30.7, null, 23.5, null, 25.8, 27.4, 19.1, null, 24.5, 27.3, 20.0, null, 24.5, null, 26.0, null, 23.2, 25.5, 21.0, 26.3, 17.9, 21.4, 23.8, 25.8, null, null, 18.1, 19.9, 16.6, 27.9, 20.2, 29.2, 23.7, 27.2, 28.0, null, 21.3, null, 26.4, 29.1, 25.4, 29.1, 15.1, 24.7, 26.8, 23.8, null, 20.2, 27.6, 17.0, null, 28.0, 23.8, 16.7, 27.5, 18.4, 20.9, null, 22.7, 27.1, 24.3, 26.8, 24.6, 23.3, 18.9, 27.4, 20.6, 22.2, 19.2, 22.2, 23.0, null, null, 24.4, 27.3, null, 23.6, 19.9, 19.0, 25.1, 17.7, 22.1, null, 20.4, 20.5, 21.8, 19.0, 27.0, 18.8, 23.8, 24.7, 31.0, null, null, 18.3, null, 26.5, 24.3, 24.3, 20.3, 16.9, 17.5, 23.1, 22.9, 20.0, 20.6, 24.4, 23.4, 16.8, 25.5, 25.5, 25.4, null, null, null, 27.4, 19.8, 18.5, 28.3, 24.2, 25.1, 27.4, 23.9, 23.8, null, null, 27.7, 26.7, 23.9, null, 24.4, 31.1, null, null, 30.2, 19.1, 24.7, 25.2, null, 28.7, 23.8, 19.2, 21.6, 21.8, 27.2, 22.1, 25.2, null, 28.2, null, 16.5, 25.7, 20.5, 21.1, 23.0, 23.8, 23.6, 24.1, null, 24.2, null, 27.1, 18.3, 25.4, 21.1, 16.9, 21.6, 18.4, 22.9, 22.2, 24.7, 22.5, 27.9, 24.8, null, 24.1, 31.8, 24.8, null, 28.3, 24.6, null, null, 28.6, 18.4, 18.3, 23.5, 28.1, 22.8, null, 18.5, 28.3, null, 25.7, 21.3, null, 27.1, 22.8, null, 23.3, 20.7, 20.3, null, 26.9, 19.0, 28.0, 21.7, 21.3, 23.8, 23.1, 27.1, 17.9, null, null, null, 20.9, 23.9, 19.9, 23.7, 27.5, 22.0, null, 27.3, 20.4, null, 19.3, 20.3, 26.4, 27.3, 25.5, 26.9, 20.2, 17.8, 21.3, 18.6, 20.2, 24.9, 19.5, 27.4, 24.6, 19.7, 29.0, 24.0, null, null, 24.3, null, 18.2, 24.0, 14.8, 22.7, null, 27.9, 18.5, 18.7, null, 23.8, 28.2, null, 28.0, 24.6, 23.5, 19.9, 21.4, null, 25.3, 23.9, 25.2, 21.6, 27.5, null, null, 22.4, 25.5, 24.8, 24.1, 17.6, null, null, null, 16.6, 20.8, 23.2, 25.4, 29.2, 25.0, 24.4, 28.8, 26.8, 25.1, 25.8, 19.2, 21.9, 20.7, 23.0, null, 27.6, 18.8, 25.4, 27.0, 27.1, null, 22.7, 18.2, 19.6, 22.1, 15.4, 27.4, 21.3, null, 22.9, 19.0, 29.0, 13.6, 25.6, 24.1, null, 19.3, null, null, 23.7, 25.3, 24.2, 24.8, null, 21.1, 21.0, 23.1, 28.2, 21.3, 22.7, 27.2, null, 20.4, 26.9, 23.1, 21.3, null, 19.5, 26.8, 27.5, 29.6, null, 25.1, 27.1, 21.2, null, null, 25.6, 25.1, 29.6, 23.9, null, 25.0, 27.5, 24.3, 27.2, 19.6, 19.9, null, 21.1, 26.8, 23.9, null, 28.3, 22.7, 23.5, 29.9, 25.2, 25.0, 26.9, 28.4, 22.0, 14.5, 21.7, null, 28.9, 23.7, 26.6, 25.2, 27.4, 19.8, 19.3, 27.5, null, 15.2, 27.5, null, 20.4, 19.1, 16.3, 26.2, 28.4, 25.1, 28.5, 26.1, 24.8, 18.6, 18.7, 23.4, null, null, 22.2, null, 27.9, 25.4, 29.2, 20.3, 24.6, 20.0, 23.6, null, 22.4, 22.1, 21.6, 27.3, null, 16.7, 23.5, 24.0, null, 23.9, null, 21.4, 17.3, 21.5, 25.8, null, 27.5, 26.6, 27.8, 20.2, 19.2, 25.3, 23.9, 26.3, 20.1, 28.4, null, 27.4, 29.5, null, 22.7, 18.7, 25.8, null, null, null, 26.4, 20.3, 23.7, null, 23.2, 23.4, 18.3, 24.5, 24.0, 24.0, 22.6, 18.3, 27.2, 24.9, null, 24.0, 27.9, 26.2, 26.7, 20.3, 27.9, 23.9, 21.8, null, 20.7, 20.3, 26.7, 15.0, 27.4, 21.4, 23.2, 24.1, null, 20.1, null, 27.5, 23.8, 24.3, 27.8, 28.2, 25.0, null, 25.2, 14.2, 18.9, 26.8, null, null, 29.5, 15.6, 18.2, 21.4, 27.5, 26.4, 19.9, 25.9, 20.4, 24.7, 24.4, 21.3, 20.5, 30.2, null, 27.5, 27.3, 23.1, 23.4, 27.9, null, null, 22.6, null, 16.5, 25.4, 15.8, 27.3, 24.2, 27.1, null, null, 19.1, 17.9, 25.7, 15.3, 23.5, 18.4, 22.4, 24.6, 18.9, 20.7, null, 21.9, 22.1, 25.6, 21.8, null, 19.8, 19.1, 17.6, 23.6, 28.3, 24.1, null, 19.9, 24.4, 17.2, 24.1, 26.5, 22.6, 20.4, 24.7, 26.7, null, null, 29.0, 17.6, 22.5, null, 25.5, 24.4, 27.0, null, 20.8, 26.1, 27.8, 24.4, null, 21.3, 23.2, 21.7, 26.6, null, null, 21.0, 18.6, 25.2, 21.5, 23.3, null, 23.8, 29.6, 20.4, 27.5, 25.7, 24.2, 23.7, null, 24.4, 28.8, 24.1, 20.3, 22.5, 28.2, 25.5, 23.4, 24.5, 19.8, 22.3, 28.5, 25.5, 21.5, 21.5, 25.3, 23.6, 18.9, 29.2, null, 25.9, 15.1, 22.8, null, null, 24.8, 22.6, 22.0, null, 18.8, null, 26.9, 21.0, 20.7, 21.5, 22.4, null, null, 21.8, 21.8, 27.8, 24.1, 29.5, 28.7, null, 17.8, 16.2, null, null, 18.6, 20.9, null, 27.5, 13.6, null, null, null, 21.6, 22.8, 24.5, null, null, 23.8, 22.1, 18.2, null, 25.5, null, 24.4, 18.4, 16.6, null, 26.4, 25.5, 23.0, 22.1, 28.0, 22.4, 18.4, 20.5, 18.6, 23.2, 21.5, 28.4, null, null, 24.9, null, null, 28.3, 27.5, 19.2, null, null, 18.7, null, 18.8, 21.1, 25.7, 23.9, null, null, null, 26.9, 28.0, 26.9, 19.2, 26.0, null, 29.3, null, 18.3, 19.0, 23.0, 28.5, 27.1, null, null, 14.5, null, 24.9, 18.0, 25.2, 20.2, null, 29.2, 24.6, 24.8, 19.8, 18.6, null, 21.5, 22.3, 30.6, 20.4, null, 16.4, 20.4, 18.4, null, 20.3, null, 30.6, null, 22.7, 24.9, 21.5, 19.8, 24.7, 19.9, 23.1, 18.2, 19.8, 23.2, 22.3, 17.1, null, 24.3, null, 17.8, 22.2, 25.0, 19.3, 15.1, 21.9, 19.3, 18.3, 24.7, 23.0, 21.2, 23.9, 21.0, 18.4, 24.1, 21.7, 27.0, null, 27.1, 27.6, 22.0, 30.2, 18.6, null, 27.7, 22.6, 20.5, 21.8, 19.8, 27.7, null, 19.4, 27.7, 18.6, null, 20.9, null, 17.6, 24.0, 25.9, 22.5, 25.5, 16.2, 27.3, 24.6, 22.5, 23.4, 27.0, 19.4, 26.4, 24.6, null, 24.9, null, null, null, 22.3, 29.1, 27.1, null, 19.1, 27.9, 23.2, null, 29.0, null, null, null, 26.0, null, 25.7, 21.2, 21.2, 24.7, 22.3, null, 24.3, 31.0, null, null, 26.0, null, 25.2, 25.5, 25.1, null, 22.2, 24.8, null, 17.2, 23.4, null, 20.8, 20.7, null, null, null, 20.0, null, 24.2, 17.4, 22.9, 20.9, 25.5, null, 22.4, 22.7, 21.2, null, 24.8, null, null, 21.2, 24.6, 21.2, null, 28.2, 22.1, 22.9, 28.1, 21.0, 28.1, null, 21.5, 18.9, 25.2, 21.6, 27.1, 20.6, 22.1, 29.4, null, 21.6, null, 27.8, 26.0, 21.4, 21.6, null, 25.1, 27.4, 18.4, 24.6, null, null, 18.9, null, 26.4, 19.2, null, 24.4, 20.0, 16.6, 18.8, null, 24.6, 19.8, 20.7, 26.4, 22.1, null, 18.0, 20.7, 19.5, null, null, 21.1, 24.8, 23.7, 21.6, 27.4, 20.7, 23.7, null, 18.0, 21.5, 26.5, 25.2, 22.7, 20.8, 24.0, null, 24.7, null, 24.7, null, 21.9, 22.2, 17.3, null, 24.7, null, 22.2, 28.9, 23.6, 21.9, 27.3, 28.6, 24.0, 21.2, 21.6, 25.5, 23.8, 19.4, null, 25.7, 18.1, 22.5, 15.8, null, 21.2, null, null, 18.4, 27.5, 26.1, 23.3, 23.6, 22.5, 23.8, 23.3, 21.8, 27.4, 22.1, null, 26.2, 22.5, null, 20.4, 23.0, 25.4, null, 28.2, null, null, 19.4, 22.4, 27.1, 26.3, 27.2, 28.2, 22.2, null, 24.7, 17.6, 18.3, 21.0, 25.3, null, 23.8, null, 27.7, 27.5, 28.6, 24.0, 21.5, 20.8, null, 18.9, null, 18.5, 27.8, 17.4, 18.4, 21.7, 25.6, null, 29.1, 21.0, 19.1, 18.9, 30.8, null, 24.8, 22.1, 25.4, null, 15.2, 26.3, 22.0, 24.6, 25.0, null, 28.8, 25.9, 23.8, 17.8, null, 22.3, 24.2, 22.6, 18.2, null, null, 26.0, 28.3, 20.9, 26.1, 27.5, 19.7, 26.6, null, null, 22.3, null, 26.7, 26.8, 26.6, 22.5, 25.5, 28.8, null, 18.7, null, 20.8, 20.1, null, 26.6, 22.7, 25.7, null, 23.6, 22.7, 21.1, null, null, 29.3, 27.5, null, 23.5, 27.4, 23.7, 24.5, 27.2, null, 28.0, 25.1, null, 23.6, null, null, null, 22.4, 23.3, 17.3, 23.6, 20.7, 21.0, 28.4, 18.7, 15.7, 19.7, 20.5, 17.5, 15.4, null, 22.0, 29.2, 24.9, null, 15.8, 19.9, 20.9, 27.6, 20.7, 27.7, 24.1, null, 24.0, 16.3, 25.1, 24.6, 18.1, 21.8, 30.7, null, null, 26.2, 26.6, null, 22.0, 23.7, 21.9, 21.2, 28.1, 25.5, 22.5, null, 20.3, 15.5, 29.3, 21.3, 21.0, 25.1, 28.5, 23.8, 26.8, null, null, 18.6, null, null, 24.1, null, 18.4, 13.7, 22.9, 27.9, 20.6, 27.3, 25.5, 29.4, 30.7, 26.0, 16.3, 27.6, null, 26.2, null, 15.2, 19.2, 19.2, 17.0, 17.7, 22.1, 22.8, 19.9, 26.8, 19.9, 24.4, 29.6, 22.0, null, 22.1, null, 29.5, 19.7, null, null, 23.2, null, 27.9, null, 18.0, 21.3, 21.1, 25.0, 29.3, 24.9, 31.2, 21.3, 23.9, 30.9, 21.1, 27.1, 28.0, 25.6, 26.5, 17.3, 23.5, 30.8, 20.0, 26.1, 23.8, 22.3, 22.6, 20.3, 25.4, 25.2, null, 21.4, 27.2, null, 20.7, 24.8, 16.7, 23.8, 25.6, 16.5, null, null, 19.6, 24.7, 27.7, 25.9, 21.4, 21.4, 27.6, 24.7, null, 24.9, 27.5, 17.4, null, null, 24.7, 18.1, 26.5, 20.7, 20.9, 22.2, 27.5, 26.3, 27.6, 25.8, 16.9, 23.7, 19.0, 25.6, 24.4, null, 19.8, 27.1, null, 19.9, null, 25.6, 27.2, 24.0, 26.7, 18.5, null, 26.1, 15.8, 30.5, 25.2, null, 23.1, 20.5, 24.1, 24.7, null, 24.5, 26.7, 15.2, 21.4, 19.5, 19.5, 17.7, 26.3, 15.0, null, 18.6, 21.2, 26.9, 21.1, 18.4, null, 21.0, 27.4, 21.3, null, 17.8, 28.1, 24.2, null, 27.4, 22.6, 22.2, 18.0, 22.9, 22.0, 23.4, 26.1, 19.7, null, 20.6, 26.5, null, 25.0, 19.8, 18.5, null, null, 20.6, 19.0, 27.9, 19.2, 18.1, 20.2, null, 22.4, 23.0, 24.9, 20.4, 23.7, 21.3, 24.5, 26.3, 29.2, 26.3, null, null, null, 19.1, 24.8, 23.7, 16.9, 16.5, 19.3, null, null, 21.3, null, 25.2, 17.4, 18.3, 19.0, 21.0, 18.2, 23.3, 24.2, 21.5, null, null, null, 26.3, null, 25.0, 27.7, 26.7, 24.0, 18.6, 23.6, 28.6, 19.7, 27.2, 21.6, 27.1, null, 30.4, 27.1, 24.5, null, 19.6, 31.1, 25.4, 20.8, 16.7, null, 24.8, null, 19.6, null, 15.0, 22.6, 22.3, 15.2, null, null, 24.2, 20.6, 24.2, null, 23.6, 25.5, 25.1, 22.4, 19.7, 22.2, 21.5, 25.6, 23.0, 28.0, 26.7, 25.4, null, 22.4, 23.6, 27.4, null, 24.7, null, 18.1, 28.6, null, 17.0, 26.9, 20.9, 21.6, 23.4, 27.3, 21.4, 26.8, null, 18.9, 21.0, 24.1, 26.4, null, 23.1, 24.5, 25.4, 17.7, 17.5, null, 18.2, null, 18.6, 15.2, 28.3, 25.4, 27.7, 19.1, 19.5, 22.2, 24.4, 27.5, 16.6, 19.3, 21.0, 22.2, null, 25.2, null, null, 21.9, 25.1, 25.8, 28.8, 25.9, null, 21.6, 29.1, 24.4, null, 20.9, 22.1, 28.2, 23.9, 20.8, 25.9, 26.1, 17.2, 18.0, null, null, 27.2, null, 20.1, 24.3, null, 24.3, 24.5, 20.4, 20.0, 20.8, 27.4, 26.3, 29.1, 25.4, 23.4, 25.8, 24.0, 20.6, 21.7, 18.9, 26.0, 21.4, null, 23.8, 19.1, 24.9, 20.7, 24.7, 23.4, 20.9, 24.9, 28.2, 26.1, 21.0, 29.0, 21.0, 24.5, null, 17.8, 23.9, 27.3, 24.4, null, 27.7, 19.1, 19.5, null, 20.0, 25.1, 23.4, 23.5, 19.9, 21.2, 23.5, 23.8, 18.8, 30.9, 27.9, 26.8, 21.8, 18.9, 19.9, 24.3, 14.4, 19.7, 25.7, 20.4, null, null, null, 22.5, null, 25.1, 22.3, 25.1, null, null, null, 21.1, 26.3, 23.7, 17.2, 21.6, 24.7, 21.9, 22.0, 23.7, null, null, null, 24.9, null, 27.4, 20.9, 27.9, 18.0, 16.3, null, 24.4, null, null, null, 23.3, null, 19.8, null, 23.8, null, null, 20.2, 19.6, 19.3, 24.4, null, 19.3, 23.0, null, null, 23.4, 24.6, 18.7, null, 25.3, null, null, 17.7, 21.5, 21.6, 17.9, null, 23.6, 25.7, 26.3, 25.9, 24.6, 27.9, 22.7, null, null, 24.2, 25.2, 19.5, 19.0, 15.5, 20.9, 26.3, 27.5, 22.1, 25.9, 24.3, 27.9, 14.8, 22.5, 19.8, 22.8, 24.1, null, 22.5, 20.2, 19.0, 27.2, 22.0, 28.9, null, null, null, 20.9, null, null, 17.9, null, 19.6, 24.8, 27.3, null, null, 25.4, 27.7, null, null, 17.3, 25.5, 18.7, null, null, 29.2, null, 24.6, 25.5, 16.3, 27.3, 24.1, 29.3, 27.0, 28.2, 27.5, 19.9, 23.9, 26.5, 22.8, null, 21.6, 29.4, null, 23.1, null, 20.0, 29.3, null, 24.8, 24.3, 23.8, 22.0, null, 24.1, 19.6, 28.5, 25.5, null, 22.0, 28.2, null, 18.1, 26.8, null, 26.0, 23.8, 24.4, null, 27.4, 24.6, null, 22.1, 26.1, 20.3, 22.4, 21.4, 29.9, 27.8, null, null, 24.7, null, null, 26.5, null, 23.6, 26.0, null, 18.8, null, 21.3, 28.6, null, 25.3, null, 15.0, 28.2, 24.9, 25.6, 25.0, 22.5, null, 20.5, 18.2, null, null, null, null, 23.8, 22.9, 27.8, 27.6, 27.8, 24.7, 28.1, 26.1, null, null, 18.4, 23.2, 18.9, 21.7, null, 18.0, 24.9, 23.3, 28.1, null, 24.8, null, 24.8, 25.7, 22.9, 25.4, null, 23.8, 23.8, 27.6, 23.4, 26.3, 24.8, 21.2, null, 24.9, 22.2, 21.8, 24.0, 24.1, null, 24.1, 25.2, 24.7, 25.7, 18.2, 27.0, 23.5, 24.0, 30.6, 19.1, 23.2, 28.1, 27.8, 23.3, 14.9, null, 24.6, 23.0, 25.0, 22.4, 21.6, 26.2, null, 22.7, null, 22.9, 17.9, 23.2, 23.3, 20.4, 22.4, 25.9, 27.3, 24.1, null, 22.2, 22.6, 20.0, 29.6, 19.5, 16.1, 27.6, 23.9, 26.2, 25.6, 23.7, 20.7, 23.6, 26.5, 26.1, 20.8, 26.8, 15.9, 27.2, 20.0, 19.8, 22.3, 20.8, null, 27.4, 30.3, null, 26.7, 22.0, 19.4, null, 20.2, 20.0, 24.7, null, 27.8, 15.3, null, 21.8, 18.0, null, 27.2, 14.8, 27.5, 23.0, 28.2, 21.0, 24.9, null, 27.4, 21.7, 22.3, 23.7, 22.2, 23.8, null, null, 28.7, 18.5, 26.3, 18.6, 23.9, 26.5, 29.5, null, 26.2, 22.6, null, 24.9, 20.1, 24.7, null, null, 24.1, 21.9, 21.8, 25.0, 15.1, 25.2, 29.4, 19.0, null, 25.9, null, 19.5, 21.3, 16.4, null, 19.6, 23.8, 22.7, 24.7, 22.1, 22.4, 25.0, 29.8, 19.5, 22.2, 23.2, 17.4, null, null, 22.0, 22.6, 23.9, null, 28.1, 18.3, 25.1, 22.2, 25.2, 24.7, 20.0, null, 31.0, null, null, 21.8, 20.4, 23.5, 18.8, 19.3, null, 20.9, 25.2, 18.3, 23.7, 28.7, 24.6, 28.6, 22.4, 22.7, 26.7, 26.4, 22.0, 24.5, null, null, 28.8, null, 28.7, null, 26.1, null, 22.5, null, null, 26.2, 19.1, null, 25.5, 23.6, 27.4, null, 24.6, null, 25.7, 25.6, 25.5, 20.9, 19.7, 26.8, 23.6, 25.0, 25.1, 25.8, 27.4, 25.6, 19.8, 18.8, 20.0, 21.9, 26.2, 22.0, null, 23.1, 20.2, 27.8, 20.1, 20.6, null, 19.3, 20.2, null, 24.0, 22.0, null, 26.4, null, 29.3, 28.7, 23.5, 19.6, 28.1, 24.4, 21.7, 28.4, 28.1, 30.7, null, null, 23.2, 28.2, 21.8, 22.7, 22.7, null, 24.1, 18.5, 27.4, 21.5, 25.0, null, 26.0, 29.4, 18.3, 26.9, 25.5, 24.6, 30.8, null, 15.1, null, 27.5, 26.1, 28.3, 20.8, null, null, 20.2, 27.1, 24.3, null, 18.2, null, 23.4, 21.5, 27.8, 20.9, 21.7, 23.5, 30.3, 18.6, 25.2, 24.5, 21.3, 25.1, 17.9, 25.3, null, 21.8, null, null, 26.4, 22.0, null, 21.9, 27.8, 17.4, 23.8, 17.9, 20.2, null, 23.0, 21.1, 24.5, 28.1, 23.9, 17.7, 21.8, 22.5, 24.2, null, 19.1, 22.4, 21.0, 28.3, 18.3, 22.0, 22.6, 24.8, 18.5, null, 24.0, 27.6, 23.7, 23.4, 18.2, 26.3, 30.8, 27.0, 18.8, 17.8, 24.4, null, 27.2, 25.6, 25.9, 18.2, 22.6, 24.2, 26.3, 27.5, 24.6, null, 26.2, 28.7, 17.9, null, null, null, null, 24.6, 20.6, 19.9, 20.8, 17.8, 21.2, null, 20.3, 19.4, 28.4, 19.9, 26.3, 22.3, 20.4, 21.8, 23.6, 13.2, 22.4, null, null, null, 21.4, null, 24.5, 18.2, 19.3, 23.9, 23.3, 31.2, 18.4, 27.3, 18.1, 19.2, null, null, 26.7, 20.5, 25.1, 29.4, 22.0, 30.9, 16.8, 15.6, null, 19.4, null, 25.5, 19.5, 21.4, 18.1, 28.4, 24.9, null, 25.3, 22.6, 26.9, 28.8, 28.5, 26.2, 20.3, 27.7, 26.6, 23.8, 26.7, 24.6, null, 29.9, 21.5, 31.0, 30.4, 27.0, 24.3, 19.8, 25.9, 29.3, 23.2, 24.5, 27.9, 30.2, 21.3, 19.3, 23.6, 30.0, null, 22.1, 23.3, 27.2, 26.6, 26.0, 24.2, 26.5, 23.1, 28.4, 22.7, 25.5, 22.8, 19.0, 24.4, 22.7, null, null, 29.0, 26.1, 20.9, null, 23.6, null, 26.9, 23.4, 23.8, 24.2, null, 27.0, 22.7, 19.6, 25.4, null, 22.2, 22.5, null, null, null, 25.3, null, 22.7, 26.1, 17.4, null, 20.2, null, 26.6, 26.9, 15.4, 20.9, 19.6, 26.5, 23.8, 19.5, null, 27.6, null, 25.2, 22.2, 27.4, 27.1, 19.1, 31.0, 19.5, 23.1, 20.4, 27.1, 20.1, 22.6, 27.3, 25.2, 19.0, 19.1, 16.8, 23.9, 28.1, 27.5, 21.4, 24.6, 26.9, 24.7, null, 25.7, 24.7, null, 21.5, 31.2, 21.6, null, null, 16.4, null, 25.7, null, 19.6, 16.5, 24.9, 29.1, 18.9, 27.8, 25.4, null, 15.1, 22.4, null, 27.9, null, 19.2, 21.9, 20.2, 22.8, 17.4, 28.1, 25.6, 29.0, null, 23.8, null, 23.0, 27.3, 22.5, 23.3, 21.9, 17.8, 16.6, 23.6, null, 21.2, 16.6, 25.4, 22.6, 21.8, 22.5, 20.7, 18.5, 26.6, 25.5, 27.7, 21.7, 26.4, 17.7, 24.2, 20.0, null, 23.1, 27.8, 25.3, null, 27.4, 27.0, 23.2, 17.2, 26.7, 20.5, 22.0, 20.9, 20.3, 19.5, 27.3, 26.3, 23.0, null, 23.1, null, null, 24.2, null, 26.1, 22.7, 17.6, 19.1, 20.4, 24.2, null, 18.1, 20.2, 18.5, 30.2, 28.2, 26.7, 16.7, null, 19.9, 18.1, null, null, 25.7, 18.1, null, 31.8, null, null, 27.3, 24.7, null, 26.7, null, 21.0, null, null, 24.6, 30.1, null, 26.5, null, 26.3, 27.3, null, 24.8, 29.7, 25.5, null, 22.3, 23.6, 28.2, 24.6, 24.5, 19.9, 28.6, 23.7, 26.7, 25.4, 29.0, 20.8, 29.5, 27.0, 15.5, 22.2, null, 17.1, 19.8, 24.0, 21.2, 24.2, 23.5, 18.6, null, null, 21.6, 18.5, 22.7, 19.5, 23.7, 18.6, null, null, 22.0, null, 24.0, 18.8, 26.6, 23.6, 28.4, 24.5, null, 26.4, 28.0, 17.5, 25.1, 20.0, 27.6, 13.2, 19.2, 20.4, null, 21.2, null, 18.9, 22.7, 29.0, 24.2, 26.4, 21.7, 24.2, 26.9, null, 21.8, 23.9, null, null, null, null, 24.6, null, 21.8, 24.9, 24.5, 14.7, 24.7, 21.4, 29.4, 23.6, 21.1, 19.5, null, 27.4, 25.7, null, null, 27.3, 17.5, 20.7, 30.2, 25.8, 26.3, 19.8, 27.3, 19.3, 24.5, 18.3, 29.5, 20.7, 18.0, 24.8, null, null, 25.8, 21.2, null, 22.8, 21.3, 25.6, 22.6, 28.5, 25.2, 19.4, 19.3, 21.7, 13.7, 26.5, null, 25.7, 22.8, 25.5, 21.7, null, 23.8, null, 27.8, 26.5, 26.5, 28.2, 29.5, 25.6, null, null, 20.3, null, 23.6, null, null, 24.7, null, null, null, 15.0, 18.1, 18.6, 23.7, 20.8, 26.3, 26.3, 22.3, null, 20.3, 17.5, null, 25.3, 19.4, 26.5, 20.2, null, 28.1, null, 25.3, null, null, 22.9, null, 15.9, null, 14.5, 22.0, 19.4, null, null, 17.1, 22.5, 26.9, 25.2, 15.5, 22.7, 24.4, null, 16.4, null, 23.6, null, 27.4, 25.3, 30.7, 19.3, 25.6, 24.1, 22.9, null, 20.4, 19.9, 26.3, null, 24.5, 26.3, 29.0, 20.6, 23.1, null, 18.4, null, 25.8, 22.8, 24.5, 28.7, 25.2, 17.5, 25.4, 23.0, 26.9, 23.8, 23.6, 24.5, 25.3, 25.7, 21.2, 18.7, 15.6, null, 26.8, 18.2, 23.8, 25.8, 19.3, 26.4, 26.4, 22.6, 29.0, 23.2, 23.0, null, 26.2, 28.0, 29.0, 28.0, 18.7, 26.9, null, null, 24.5, null, 24.7, 30.0, 21.2, 19.0, 27.5, 20.6, 28.4, 24.4, null, 19.8, 20.5, 24.8, 17.8, 20.1, 18.1, null, 27.9, 22.5, 24.3, 22.7, 27.4, 18.3, 25.9, null, 24.1, 20.1, 23.6, 24.6, 24.6, 25.7, 21.0, null, null, 19.5, null, null, 21.3, 23.4, 24.9, 27.9, null, 27.9, 19.8, 24.4, null, null, 27.3, 26.8, 22.5, 26.1, 19.9, 17.5, null, 26.6, 20.5, 26.5, 31.0, 21.7, 18.5, 20.0, 18.4, 17.2, 18.1, 26.3, null, 27.8, 22.8, 20.9, null, 26.1, 23.9, 27.2, 19.7, null, 27.7, null, 22.5, 23.0, null, 25.3, 26.8, 26.7, null, null, 25.7, 24.2, 25.0, 20.7, null, 22.7, null, 20.2, null, 29.7, 26.6, 23.9, 24.4, null, 19.3, 30.3, 21.0, null, 21.6, 27.1, 25.8, 16.1, null, 24.2, 24.9, null, 19.0, 21.0, null, 25.7, null, null, null, 25.7, 25.6, 21.6, 24.0, 20.2, 24.5, 24.5, 25.7, 24.7, null, 27.4, 22.4, 22.6, 21.5, 27.2, 21.1, 27.5, null, 20.5, 25.2, null, 17.2, 29.9, 24.9, 24.2, 25.1, 19.6, 19.0, 24.3, 24.9, 18.2, 21.8, 16.3, 22.9, 25.5, 25.2, 23.7, 25.4, null, 23.5, 24.8, 21.9, 18.5, 19.3, 24.0, 25.3, 25.6, null, 27.3, 20.1, null, 30.7, 21.2, 25.9, 26.2, 26.3, 19.1, 27.4, 26.8, 25.1, 21.9, 25.8, 18.9, 23.2, 26.6, 29.8, 17.8, 30.8, 21.3, 21.4, null, 18.6, 27.8, 19.2, 27.9, 28.8, 23.2, 27.4, 17.2, null, 29.3, 28.1, 20.9, 23.6, 24.8, 29.5, 25.7, 15.0, 21.0, 14.9, 23.0, 19.6, 20.6, 25.1, null, 24.8, 23.4, 18.5, 25.6, null, 24.0, 21.5, 24.9, null, 20.3, 22.0, null, null, 26.5, 23.3, 22.6, 26.4, null, 17.6, 19.9, 19.8, 27.8, 24.1, null, 25.4, 23.6, 25.4, 21.6, 29.3, 25.1, 28.1, 24.1, null, 27.2, 17.0, null, 21.4, null, 21.1, 28.8, 21.8, 27.5, 28.2, null, null, null, null, 16.3, 21.5, 27.0, 24.5, 26.3, 24.9, 26.6, null, 20.4, 20.0, 20.3, 20.5, 25.6, 14.6, 24.7, null, null, 20.8, null, 22.3, null, 21.3, 22.2, 21.3, 19.9, 18.5, null, 19.1, null, 25.7, 23.0, 18.2, null, 24.9, 27.8, 23.4, 22.2, 17.5, 21.6, null, null, 18.6, null, null, 15.2, 28.0, 27.9, 24.7, 19.2, null, 21.0, 26.7, 27.7, 17.1, 14.4, 20.0, 24.6, 19.8, null, 21.5, 22.3, 28.4, 23.9, 27.3, 25.6, 22.0, 16.1, null, 23.4, 19.2, 22.3, 27.8, 24.9, 19.1, 28.3, 25.0, 29.5, 20.7, 29.6, 24.2, 22.7, null, 24.5, 23.3, 22.0, 28.7, null, 25.0, 27.6, 26.4, null, null, null, null, 18.7, 23.8, null, 18.7, null, null, 20.9, 18.7, 17.3, null, 29.9, null, 20.9, 24.7, 23.9, null, 27.5, null, null, 28.5, 27.9, 28.4, 21.0, null, 24.6, 19.4, 20.0, 25.2, 29.4, 21.6, 27.4, 23.5, 25.5, 17.2, 27.2, 25.3, 25.6, 18.5, 17.2, null, 23.5, null, 28.2, 20.4, 23.2, 21.6, 21.9, 26.4, 22.6, null, 22.9, 28.6, 20.6, 22.4, 18.1, 23.8, null, 20.7, 24.6, 24.5, 19.3, null, 20.4, 28.3, 27.9, 26.7, 29.2, 25.5, 25.5, 26.3, 25.5, 27.3, 22.1, 19.4, null, null, 22.7, null, 19.6, null, null, 20.3, 30.2, 14.9, 21.4, 17.8, 19.3, 22.4, 24.9, 20.8, 22.1, 24.1, null, null, 22.9, 22.5, 20.1, 19.6, null, 24.5, 26.9, 21.1, 22.5, 26.0, 17.3, null, 20.1, 27.9, 25.5, 23.2, 29.7, null, 30.2, 20.5, null, 15.5, 21.3, 18.5, null, null, 25.3, 27.3, 24.2, 27.7, 31.7, 22.1, null, 26.0, 21.3, 23.2, 19.1, 25.4, 22.2, 19.3, 29.0, null, null, null, null, 28.4, 18.4, 22.4, 23.6, 24.9, 22.5, 20.8, 27.5, null, null, null, 20.5, 24.0, 27.0, 21.2, 23.4, null, 21.6, 17.9, 22.2, 28.3, 23.3, 24.0, 16.8, 23.6, null, 18.2, 23.3, 22.5, 24.6, 22.4, 24.3, null, 22.0, 16.1, 22.6, null, null, 22.6, 27.0, 27.4, null, 24.7, 20.1, 16.6, 27.5, 20.4, 24.0, null, 23.9, 22.7, 25.1, 27.0, null, 27.2, 25.2, null, 19.2, 22.1, 21.1, null, 27.8, null, 21.9, 27.5, 22.0, 25.5, null, null, 30.4, 18.4, 15.1, 26.3, 19.0, 26.6, 22.0, 17.9, null, null, 20.3, 26.4, 25.5, 25.0, null, 22.1, 22.0, 22.3, 30.9, 21.1, null, 18.9, 22.1, null, 22.0, 22.0, 25.2, null, 20.6, 20.7, 20.3, null, null, 23.4, 28.2, 25.1, 23.6, 28.2, 20.1, 25.8, 23.5, 28.1, null, 20.4, 17.0, 30.2, null, 19.3, 28.0, null, 25.4, null, 27.8, 19.5, 21.8, 25.2, 23.6, 25.3, 17.9, null, 21.4, 24.2, 31.3, 24.1, null, null, 18.5, 21.8, 21.4, 26.0, 19.9, 21.4, 19.8, 24.3, 22.5, 20.6, 18.1, null, null, null, 29.8, null, 26.4, null, 25.0, 18.4, 18.6, 14.3, 21.4, 24.8, 24.4, 20.6, 23.7, null, 28.3, 27.1, 26.6, 18.8, 23.1, 20.5, null, 26.0, 21.7, 28.2, 26.4, null, 27.7, 21.8, 18.5, null, 26.7, 21.4, 24.5, null, 20.4, 28.6, null, 29.5, 27.5, 27.5, 21.9, 25.8, 18.6, 27.2, null, null, 18.2, 19.8, 21.1, 23.6, 16.6, null, 29.3, null, 26.0, 20.2, 17.7, 28.7, 23.7, 24.4, 24.6, null, 24.0, null, 19.4, 19.7, 19.3, null, null, 26.4, 16.9, 23.4, 23.4, null, 26.3, null, 31.2, null, 22.8, 22.8, 22.1, 28.9, 24.6, 17.1, 26.4, 21.0, 26.0, 21.1, 26.5, null, null, 16.3, 25.3, 17.4, 24.9, 24.6, 17.7, 26.5, 24.8, null, null, null, 14.6, 24.5, 26.8, 30.8, 25.7, 19.8, 18.5, 25.2, null, 24.3, 22.0, 20.4, 24.9, 18.8, 13.3, 21.0, 20.6, null, 21.2, null, 24.3, 20.4, 24.4, null, null, 27.6, 25.9, null, 22.3, 15.5, 16.4, 22.2, 23.6, null, 23.2, 26.3, 28.3, 18.5, 27.9, 22.2, 27.1, 21.5, 17.4, null, 27.1, null, 24.5, null, 22.5, 20.5, 18.2, 15.0, 31.1, 23.7, 28.9, 23.9, 20.0, 26.5, 23.9, null, 18.3, 24.4, 27.8, 24.5, 27.1, 21.2, 24.6, 20.0, 28.3, 19.5, 21.8, 23.3, 24.8, 28.2, 24.4, 28.5, 25.4, 20.7, 17.5, 23.1, 29.2, 14.8, 20.1, 19.4, null, 28.4, 25.6, null, null, 24.6, 27.3, 19.2, 27.1, null, 24.4, 23.8, 25.0, 25.7, 23.6, 27.3, null, 19.0, 18.6, 28.4, 18.7, 20.7, 18.9, 17.7, null, 24.0, 20.9, null, 22.9, 22.4, 17.9, null, 18.5, 28.6, 18.8, 28.1, 28.6, null, 22.2, 29.0, 28.3, 27.4, 21.3, 24.1, 28.1, 21.7, 20.5, 30.8, null, 27.6, 27.3, 25.6, 26.2, 22.5, null, 24.7, 23.4, 29.8, 22.6, 26.1, 24.3, 24.8, 18.7, 28.1, 29.1, 22.9, 26.9, 22.9, 25.6, 28.0, 18.9, 26.4, 27.3, 26.2, 18.4, 21.3, null, 27.6, null, 23.1, 23.0, 20.8, 27.8, 20.4, null, 29.1, 26.6, 23.9, 30.7, 23.1, 25.9, 26.8, 16.7, 30.0, 27.9, 23.6, 21.2, 23.0, null, 16.7, 24.8, null, 23.3, 21.6, 24.4, 18.7, 19.6, 25.6, 20.0, 26.6, 20.7, 21.6, 27.6, 19.7, 28.9, null, null, 25.4, 27.5, 25.0, 13.2, 21.8, null, null, 22.0, null, null, null, 27.2, null, 21.6, 26.0, 24.1, 19.9, 25.5, 23.2, null, 21.5, 22.8, 27.0, null, 23.2, null, 25.3, null, 24.4, null, null, 26.5, 24.0, null, 21.1, 28.6, 22.9, 24.7, 23.7, 24.6, 23.5, 22.6, 29.2, 28.0, 22.4, 24.2, 26.6, 20.2, null, 24.8, 21.9, 22.3, 20.1, 18.3, 16.7, 18.6, 21.1, 23.3, 22.8, null, 24.9, null, null, 21.9, null, 28.9, 25.3, 26.4, 26.5, 25.8, 20.7, 20.5, 29.3, 21.6, 24.7, 27.9, 24.5, 25.6, 14.5, 24.1, 20.5, 26.1, 25.7, 18.7, null, 30.0, 23.7, 22.2, 23.6, 23.3, 22.3, 25.0, 24.7, 26.3, null, 20.1, 25.6, 27.2, 23.3, 22.3, 28.6, null, 23.8, null, 19.0, 21.2, 25.7, 21.1, 22.6, 19.5, 29.3, 27.2, 17.6, 21.6, 25.4, 18.4, null, 20.0, 23.1, 25.4, 24.2, 20.4, 22.1, 23.8, 25.0, 14.8, null, 18.2, 29.0, 24.5, 23.8, 21.0, 19.7, 21.3, null, 17.3, 26.8, null, 21.8, 21.3, 23.6, 22.5, 15.4, null, 22.5, null, 22.2, 23.9, 23.5, 20.9, 24.1, 19.1, null, 23.3, null, 27.2, 23.3, 22.0, 28.3, 26.8, 19.1, 27.5, 18.8, 20.0, 28.1, 20.6, 21.9, 24.1, 27.3, 25.8, 20.1, null, 23.6, 25.0, 20.3, 17.1, 23.3, 20.6, 19.3, null, 14.5, null, 28.3, 30.4, 24.4, 17.2, null, 26.5, null, null, 27.5, 21.9, 26.9, 19.0, null, null, 27.6, null, 19.0, 27.8, null, 30.8, 22.5, null, 28.1, 27.1, 18.8, null, 27.5, null, 21.9, 16.2, 19.4, null, null, 23.6, 28.5, 21.5, 23.1, 24.3, 18.8, 21.8, 22.5, null, 19.8, null, null, 22.2, 17.7, null, 29.2, 24.5, 17.8, null, 26.2, 27.7, null, 22.1, null, 22.1, 19.5, 27.6, 23.4, 27.4, 23.1, 24.7, 21.9, 17.8, 23.6, 17.9, 23.7, null, 20.8, 23.5, 23.8, null, null, 23.9, null, 22.3, null, 26.6, null, 27.9, 25.7, null, 24.2, 23.1, 16.3, null, 30.8, 24.3, null, 24.9, 22.4, 19.6, 25.7, null, null, null, 14.8, 21.5, 29.9, 29.4, 26.2, null, 26.3, 25.6, 18.1, 29.3, 27.6, null, 26.6, 25.3, 18.8, 22.4, 23.5, null, 28.1, 23.8, 15.2, 23.3, 24.5, null, 22.0, 27.1, null, null, 21.3, 24.6, 27.6, 22.6, 20.8, 22.5, 20.1, 28.3, null, 25.4, 27.4, 24.0, null, 25.8, 27.1, 25.1, 27.1, 22.9, 22.8, 21.3, 20.5, null, null, 18.2, 20.7, 23.6, 29.3, null, 22.6, 21.4, 24.4, 19.3, null, 22.1, 25.0, 25.0, 23.6, 24.3, 29.3, 21.5, 23.3, 26.3, 24.9, 24.0, 20.7, 24.2, 22.4, 26.4, null, 24.0, 24.7, 22.7, null, null, 23.9, 18.9, null, 22.4, 21.8, 17.9, 22.0, null, null, 15.8, 24.7, 23.7, 18.2, 29.3, 28.0, 19.3, 28.4, 20.3, 24.6, 24.7, 22.8, 16.2, 27.7, 18.3, null, 26.0, 21.0, null, 25.8, 25.6, null, 23.3, 25.7, 27.5, 24.3, 23.1, 14.5, 18.1, 27.8, 26.0, 18.6, 23.3, 24.2, 21.7, 24.7, 21.7, null, 27.5, 26.3, 21.6, 16.8, null, 26.1, null, 19.5, 21.9, 23.9, 25.3, 21.5, 20.3, null, 22.7, 19.5, 25.9, 24.6, 24.1, 22.5, null, 28.0, 22.2, null, 25.1, 17.2, 23.7, 24.5, 27.2, 23.8, 24.4, null, 20.2, null, 23.3, 18.5, 19.2, null, null, 18.4, 21.4, 22.3, 21.3, 24.0, 21.6, 26.5, 15.8, 28.2, 16.8, 19.3, 20.8, null, 18.1, 18.4, 22.6, 27.1, null, 16.7, 28.4, 28.1, null, null, null, 24.9, 27.1, 22.0, null, 22.9, 27.3, 27.4, 20.4, 24.3, 23.4, 23.6, null, 21.8, 19.9, 23.1, 23.6, 23.0, 23.6, null, 27.7, 26.6, 26.7, null, 22.1, 30.5, 24.3, 30.0, null, 19.2, 26.4, 21.0, 22.8, 22.0, 21.7, 17.2, 27.6, 26.7, 19.0, 25.4, 28.2, 19.2, 17.0, null, 26.0, 28.0, 19.3, null, 20.4, 23.6, 27.1, 21.1, 26.8, 23.4, 24.5, null, 21.6, 19.8, 27.5, 25.8, 25.8, 24.1, 30.6, 23.1, 14.6, 27.5, 24.4, 21.3, null, 29.9, null, 26.3, null, 15.9, null, 22.2, 30.8, null, 22.7, 19.6, 21.3, 21.9, 21.1, null, 25.9, 18.8, 24.3, null, 23.6, null, 23.7, 22.5, 24.5, 22.8, 24.6, 22.1, 22.3, 21.3, 16.5, null, 27.3, 24.8, null, null, null, null, 16.3, 27.3, 23.7, 23.0, 27.6, 24.1, null, null, 25.2, 25.6, null, null, 15.7, 23.1, null, 23.7, 25.0, 28.5, 24.7, 27.6, null, 23.9, 19.0, 22.4, 26.2, 22.8, 20.5, null, 25.3, 30.8, null, 21.0, 24.2, null, null, 26.6, null, 20.8, 18.0, 18.3, 20.8, 17.8, null, 23.9, 20.9, null, null, 28.1, 19.2, null, 22.4, 28.5, 23.8, 24.6, null, 19.9, 21.5, 26.1, 20.5, 25.8, 19.9, 26.6, 29.9, null, 22.7, null, 25.4, 22.0, 26.6, 24.6, 19.2, 16.5, 20.7, null, 20.3, 20.6, 20.0, 25.7, null, null, 22.8, 23.6, 20.1, 22.9, null, 27.9, 25.9, 19.5, 23.1, null, 21.9, 15.2, 22.4, 19.7, null, null, 30.6, null, 29.5, 24.9, 23.5, 29.2, null, 24.4, 24.9, null, null, 19.2, 18.1, 24.8, 28.1, 22.9, 15.4, 25.0, 21.6, null, null, 21.5, 15.2, null, 25.1, 22.2, 20.9, 23.2, 29.4, 27.2, null, null, 21.5, 18.6, 24.1, 13.7, 26.3, null, null, 15.2, 26.3, 26.4, 24.6, 25.7, null, null, 22.6, 21.2, 20.9, 25.8, 23.5, 22.0, 30.1, 25.6, 21.7, 19.8, null, 22.5, 25.3, null, 28.0, null, 14.8, null, null, 15.5, 26.7, 17.6, 17.6, 19.1, 21.9, 27.3, 24.9, 20.5, 21.5, 19.3, 17.9, null, null, 19.8, null, 19.1, null, 25.9, 18.5, 24.1, 23.8, null, 19.0, 21.2, 18.3, 20.3, 16.6, 27.3, 21.1, 27.1, null, null, null, 25.7, null, 17.8, 22.6, 23.7, 20.5, 20.2, 27.3, 19.0, 22.6, 22.3, 28.5, 23.1, 20.9, 27.3, 21.5, 20.9, null, null, 22.8, 15.9, 19.9, null, null, 22.1, 28.1, 28.6, null, 22.6, 21.4, null, null, 24.4, 22.9, 23.5, 29.1, 25.6, 20.2, 24.2, 20.0, 29.7, 23.7, 18.3, 15.0, 16.4, 26.2, 28.7, 22.4, 25.1, 22.5, 15.5, 20.9, 27.4, 22.5, 30.7, null, null, 29.4, 18.6, 24.4, 25.6, null, 18.7, null, 24.8, 22.3, 25.3, 18.6, 19.4, 27.2, 18.2, 20.8, 25.6, 19.5, 25.7, null, 28.2, 17.6, 18.7, 23.5, 24.7, 22.1, 22.9, 19.0, 26.7, 25.0, 18.8, 25.6, 21.5, null, 19.5, 25.3, 20.8, 26.6, 26.3, 28.7, 28.7, 21.5, 30.0, 27.7, 29.0, 21.5, 20.6, 25.7, 25.4, 20.5, 25.5, 22.3, 26.7, 20.7, 25.3, 14.4, null, 24.9, 22.7, 22.2, 21.8, 19.1, 27.9, 27.9, 20.6, 19.2, 19.1, 24.1, 16.8, 22.3, null, 24.9, 24.7, 20.1, null, 16.9, null, 23.8, 26.3, 25.0, null, null, 18.4, 19.2, null, 22.4, 15.9, 25.0, 22.1, 20.4, null, null, 18.9, null, 24.9, 24.1, 17.9, 22.5, 25.5, 24.7, null, null, 23.4, 22.3, 23.9, null, 27.0, 18.8, 28.3, 26.6, null, null, null, 20.4, 20.4, 26.5, 25.0, 19.2, null, 22.1, null, 21.4, 23.5, 20.8, null, 21.6, 18.4, 24.8, 27.2, 22.3, 27.4, 15.4, 27.2, 13.2, 27.0, 20.4, 28.8, null, 21.3, 31.0, 26.6, 18.5, 24.6, 22.8, 23.2, null, 26.8, 27.8, 22.6, 19.3, 26.3, 23.8, 30.4, 25.6, 22.2, 28.6, null, 27.5, 21.5, null, 21.6, 23.7, 18.2, null, 24.5, 22.6, 23.3, null, 28.3, 26.0, 27.6, 23.2, 17.8, 19.2, 27.4, null, 26.7, 20.9, 24.3, 27.5, 27.5, 29.4, 27.3, 17.8, 23.7, 19.8, 21.9, 16.2, 28.0, 14.8, 16.4, 22.4, 27.6, null, 25.3, null, 19.7, 25.3, null, 18.6, 17.0, 22.2, null, 25.2, null, 21.5, null, 28.0, 21.8, 27.1, null, 22.4, 27.1, 24.8, 26.4, 23.3, 24.7, null, null, 26.0, 23.2, 29.9, 20.4, 27.2, 23.7, 21.2, null, null, null, 23.1, 27.2, 24.8, 28.2, null, null, 32.1, 27.4, 24.8, 22.2, 24.3, 22.1, 25.1, 22.2, 26.3, 19.0, 28.2, null, 21.6, 25.7, 23.6, 23.7, 27.2, null, 27.6, null, null, 22.4, 22.3, 26.9, null, 27.5, null, 16.4, 21.7, 21.8, 24.1, 14.8, null, 25.1, 28.9, 24.0, null, null, 20.3, 25.2, 17.8, 21.6, 23.8, null, 29.3, 20.7, 18.7, 19.2, null, 28.4, null, 24.8, 29.0, 22.7, 24.4, 27.1, 18.5, 18.5, 24.4, 27.3, 17.3, 22.2, null, null, 18.7, 24.7, null, null, 21.2, 28.8, 19.0, null, 29.3, 20.5, null, 25.3, 23.8, null, 19.2, 27.6, 27.7, 22.3, null, 26.9, 24.5, 21.0, 25.3, 19.4, 29.8, 22.8, null, null, null, 18.1, 27.3, 23.0, 18.6, 16.6, null, 26.6, 21.6, null, 21.3, 28.5, 27.4, 23.9, 25.8, null, null, 18.6, 21.8, 19.2, 25.2, 27.6, 21.8, 19.2, 23.1, 21.4, 24.7, null, 23.6, 26.5, 18.2, 19.7, null, null, null, 26.8, 15.6, null, null, 18.0, 19.8, null, 23.6, 20.9, null, 28.2, 27.9, null, 24.0, 24.9, null, 24.6, null, 19.0, 23.9, 17.8, 23.2, null, 25.7, null, 20.0, 15.2, 24.0, 27.3, 27.4, 25.3, 24.2, 21.6, 22.5, 24.2, 25.3, 21.5, 19.1, 24.7, 21.1, 26.7, 23.2, 25.6, 27.7, 25.2, null, null, 22.6, 22.2, null, 17.2, null, 17.8, 19.1, null, 25.5, 19.7, null, 31.8, 23.0, null, 20.7, 20.5, 23.8, null, null, null, 21.1, 27.5, 21.8, 24.3, 26.2, 16.0, 22.2, 27.3, 27.1, 23.3, 27.1, 22.2, 21.9, 28.4, 22.8, 22.4, 18.9, 27.7, 20.6, 20.8, 25.2, null, 17.6, 27.9, null, 19.4, 21.1, 19.4, 21.6, null, 24.8, 24.4, null, null, null, 24.6, 26.1, 18.2, 22.3, 21.0, 21.4, 23.6, 22.8, 20.3, 29.4, 26.0, 26.4, 27.6, 18.6, 28.6, 16.3, 17.6, 20.5, 23.2, 26.5, 28.3, 14.3, 26.0, 28.2, null, 24.8, 22.1, 27.2, 22.5, 19.9, 15.3, 27.1, null, 24.9, 27.5, null, null, 25.0, 16.4, 25.8, 24.5, 23.1, 15.5, null, 21.6, null, 23.4, 22.8, 27.6, 26.6, 22.7, null, null, 23.5, 20.3, null, null, 16.0, 21.1, 23.4, null, 18.9, 25.6, 27.5, 25.6, null, 27.3, 23.3, 26.2, 15.5, 24.8, 25.6, 25.0, 19.3, null, 26.9, 23.0, null, 16.7, 25.2, 20.8, 30.9, 20.4, 25.7, 26.0, 22.9, 25.6, 18.8, null, null, 26.4, 23.5, null, null, 23.5, null, 20.9, null, null, 18.5, 20.7, null, 23.0, 18.6, 25.3, 22.4, 22.3, null, 22.0, 26.2, 24.8, 19.2, 24.1, 20.7, 23.6, 20.4, 22.1, 22.8, 24.6, null, 23.7, null, null, null, 17.8, 20.0, 17.9, 27.4, null, 22.1, 25.0, 26.1, 24.8, 25.1, 20.3, 26.0, null, 31.2, null, 25.6, 22.0, 25.1, 20.2, null, null, 24.9, 16.3, 17.8, 26.2, 18.3, 20.9, null, 18.5, 27.4, 30.1, null, null, 20.8, 15.0, 25.4, 24.3, 28.0, 22.3, 25.5, 24.5, 26.4, 23.1, 25.5, 31.2, 19.7, 21.2, 24.0, 30.2, 18.6, 22.4, 28.3, 22.4, 22.3, 21.4, 14.7, 21.9, 24.1, 17.0, 23.8, null, 25.1, 18.9, null, 22.0, 25.6, 21.1, 18.2, 26.1, 19.0, 24.8, 21.5, 24.8, 27.5, 23.8, 21.4, 25.4, 18.7, 22.4, 24.5, null, 21.5, 23.8, 22.5, 21.1, 28.7, 22.6, null, 13.2, null, 17.2, 20.2, null, null, 19.2, 20.3, 22.6, null, 21.8, 21.0, 26.1, 20.8, 24.0, 14.8, 22.7, null, 25.9, 26.4, null, null, 18.3, 23.5, null, 24.1, null, 21.1, 24.0, 26.5, 27.8, 28.5, 26.1, 21.5, null, 14.7, 26.1, null, 24.5, 25.9, 29.5, 21.8, 25.4, 20.2, 22.4, null, 24.3, 18.3, 23.7, 24.4, 21.1, 14.8, 24.2, null, 21.6, 22.3, null, 28.0, 27.7, 23.6, 24.0, 18.1, 25.8, 20.8, null, 20.9, null, 27.1, 24.4, 23.7, 13.7, null, null, null, 27.7, 22.7, 20.0, 24.9, 19.7, 24.9, 26.9, 20.9, 22.5, 26.4, 25.1, 28.6, 21.5, 23.4, 14.5, 27.7, 29.6, 22.4, 25.8, 19.8, 16.2, 18.2, 27.2, 19.7, 19.7, 21.5, 23.6, 17.1, null, 24.7, 25.0, 27.5, 24.5, 22.3, null, 15.3, null, 20.0, null, 27.0, 28.3, 25.8, 27.4, 28.7, 19.8, null, 23.2, 27.5, 23.1, null, null, null, 27.3, 20.0, null, 19.4, 20.3, 25.2, 18.8, 21.3, 16.3, null, 21.2, 17.0, 31.2, 22.9, 28.5, null, 14.4, 21.9, 24.3, null, 24.9, 22.8, 19.8, null, 20.9, 29.6, 23.2, 23.2, null, 17.9, 20.1, 24.7, 25.3, 22.8, 26.7, 31.2, 19.7, 28.3, 20.3, 24.0, 26.9, 21.3, 19.5, 20.5, 31.0, 21.8, 27.7, 19.3, 15.3, null, 21.7, 23.4, 25.4, 22.3, 23.8, 24.6, 23.6, 27.2, null, 26.1, 22.6, 21.8, 20.0, 19.2, 22.0, 26.5, 27.7, null, null, 24.8, 22.1, 24.4, 28.8, 22.1, 23.8, null, 18.1, 26.0, null, 20.7, 27.1, 23.6, 29.6, 21.4, 23.3, 20.1, 24.7, 19.9, null, 21.7, 23.6, 30.3, null, null, 28.5, 19.1, 20.1, 22.4, 19.6, 22.0, 18.8, 21.3, 22.0, 24.8, 29.2, 26.4, 23.7, 27.3, 27.8, null, 15.3, 23.9, 21.0, 17.7, null, 24.7, 27.4, 22.4, null, 18.5, 16.1, 27.3, 23.2, 23.0, 20.8, 27.0, 24.9, null, 28.0, 24.3, 23.2, 22.6, 23.0, 19.2, 22.4, null, 23.5, 18.4, 20.3, 23.7, 23.4, 26.8, 22.9, null, 23.2, 24.6, 22.8, 19.2, 23.6, 24.6, 25.5, null, 23.7, 27.3, null, 21.2, null, null, 19.7, 19.7, 23.2, 28.2, null, null, 28.3, 18.5, 25.1, null, 25.2, 24.3, 28.2, 23.7, 19.2, null, null, 26.2, 24.0, 19.5, 22.1, 24.4, null, null, 25.8, 22.4, 18.1, 25.0, null, 24.1, 24.6, null, null, 20.2, 25.0, 18.5, 18.4, 23.2, 24.3, null, 26.3, 26.1, 27.9, 24.0, 22.3, 21.4, null, 27.9, 19.8, 22.4, 18.8, 29.9, 25.2, 27.8, 24.3, null, 27.9, 20.8, 17.3, 28.2, 24.8, 27.6, null, 22.9, null, 18.4, 18.7, 24.1, 24.6, null, 21.2, 22.1, 25.6, null, 24.9, 27.0, 19.2, 20.9, null, 19.7, 26.0, 27.3, null, 24.4, 23.5, 23.8, 26.7, 24.9, 30.1, null, 25.2, 20.0, 14.9, 25.6, 29.5, 20.6, null, null, 21.5, 16.5, 25.9, 26.3, 23.9, null, 25.7, null, 27.8, 28.6, null, null, 29.6, 25.1, 25.4, 19.9, 26.8, 28.6, 22.5, 28.0, 27.5, 23.3, 21.8, 27.4, 29.4, 17.5, 23.1, null, 27.4, 16.8, 26.4, null, 22.7, 19.3, 23.5, 23.1, 16.3, 16.5, 27.2, 25.1, 17.5, 21.0, null, 24.5, null, 16.8, 24.0, 21.7, 28.0, 25.6, 22.7, 25.1, 24.9, 21.8, 17.8, null, 24.5, null, 26.6, 19.3, 25.7, 20.7, null, 18.3, 24.8, 27.0, 27.8, 21.6, 24.9, 20.3, null, 23.7, null, 22.9, 26.8, 18.2, 21.2, null, null, 19.8, 25.4, 19.2, 21.2, 21.0, 18.9, 27.7, 24.2, 21.7, 23.8, 24.4, 25.4, 31.0, 24.2, 20.6, 23.3, null, 24.8, 18.9, 19.3, 21.2, 28.1, 23.6, 24.3, 25.1, 30.5, null, 25.1, 26.0, null, 24.6, 28.2, 15.4, null, 19.2, 19.0, 22.2, 22.6, null, 29.5, 25.1, 26.8, 24.9, 26.9, null, 26.8, 18.9, 22.1, 24.8, 27.4, 23.8, 26.7, 21.0, 20.9, 25.7, null, 16.9, 22.6, 27.4, 19.9, 27.5, 25.1, 26.2, 24.9, 22.8, 27.2, null, 21.5, 21.7, 28.5, 28.9, null, 29.9, null, 16.7, 24.9, 25.1, 27.2, null, 22.1, 27.1, 23.6, 28.0, 18.7, null, null, 21.4, 21.4, null, null, 20.4, 17.3, 28.1, 27.5, null, 23.2, 16.4, 26.5, 25.6, 28.4, 21.6, 27.2, 27.3, 16.2, 23.4, 22.2, 19.8, 18.3, 20.2, 18.6, 24.0, 19.8, null, 18.0, 18.8, null, 17.5, 21.8, null, 18.7, 22.0, 28.4, 23.3, 21.3, 23.3, 23.7, 28.1, 26.1, 25.5, 25.0, 29.1, 29.3, 21.2, 20.4, null, 18.1, null, 31.9, 19.0, 23.1, 22.6, 27.3, 28.6, 26.9, 23.3, null, 17.6, 19.4, 24.5, 24.2, 20.2, 24.7, 23.2, null, 18.6, 23.9, 22.9, 19.9, 26.4, 22.3, 16.6, 27.2, 25.2, 20.1, 28.1, 25.8, 24.6, null, 26.1, 22.5, 22.0, 27.7, null, 26.6, 22.4, null, 22.7, 19.5, 22.5, 21.6, 17.8, 14.8, null, 26.1, 22.8, 24.1, null, null, 21.1, null, 22.0, 27.7, 26.0, 18.2, 14.9, 26.6, 28.9, 24.5, 25.9, 24.2, 23.1, null, 25.0, null, 21.5, null, 23.7, 20.1, 23.8, null, 20.0, 20.5, 25.2, 27.5, 27.0, 26.1, null, 27.4, 25.3, 17.9, null, 27.0, 26.2, 19.2, 27.1, 18.5, 27.6, 28.2, 28.0, null, 31.2, 27.9, 20.2, null, 19.4, 24.2, 15.1, null, 20.7, null, null, 23.0, null, 27.7, 17.7, 27.1, 28.1, 24.7, 25.9, 19.6, 29.8, 30.6, 25.3, null, 24.3, 23.3, 26.5, 22.5, null, 29.4, 26.5, 24.4, 17.8, null, 20.8, 24.0, 20.8, 29.2, 22.0, 20.0, null, 19.8, 25.2, 21.0, null, 14.1, 22.6, 22.8, 19.5, null, 31.0, null, 15.7, 22.6, 21.1, 19.5, 23.2, 23.4, 22.6, 21.9, 20.0, 18.0, 31.0, 21.7, 18.6, 28.2, 16.3, null, 24.4, 27.4, 27.6, 23.0, 26.3, 19.2, 14.4, 15.3, 16.7, 17.4, 26.5, 18.4, null, 27.9, 22.3, null, 20.1, 20.9, null, 28.0, 28.7, 18.7, 20.6, 29.2, null, 14.9, 17.2, null, null, 22.6, null, 24.4, 18.1, 26.5, null, 27.6, null, 26.0, null, 22.9, 21.8, 21.0, 24.6, null, 28.4, 19.5, 30.5, 24.9, 19.7, 19.1, null, 24.4, null, 22.2, 20.3, 25.4, 14.8, 19.2, 21.9, 24.6, 22.6, 26.6, null, 15.1, 27.7, null, 26.8, null, 22.6, 27.5, 26.5, null, null, null, 26.1, 27.5, 21.4, null, 26.3, 23.8, 25.5, 16.8, null, 28.2, null, 23.7, 28.5, 29.1, null, 25.3, null, 17.8, 27.0, 17.8, null, 25.8, 27.8, 23.9, 20.2, 25.0, 20.2, 19.5, 19.4, 18.8, 20.5, null, 15.0, 18.2, null, 22.5, 27.0, 22.5, 23.4, null, 21.6, null, 18.4, 27.7, 18.5, 25.8, 19.6, 21.0, 23.1, 25.9, 26.5, 25.1, 21.1, 24.0, 24.0, null, null, 21.2, null, null, 26.3, 28.5, null, 20.5, 25.2, 20.8, null, 20.7, null, 22.0, 24.7, 25.4, 21.6, null, 21.7, null, null, 16.8, 26.4, null, 28.4, null, 29.8, 27.4, 25.2, 23.3, 22.4, 23.0, 26.3, 23.2, 17.7, 18.3, null, 24.4, 21.3, 28.5, 24.8, 22.2, 23.9, 18.3, 21.1, 19.3, null, 26.9, 15.4, 27.8, 22.3, null, 23.4, 19.5, 29.6, 21.1, null, 24.7, 18.5, null, 25.2, 15.3, 28.0, 17.5, null, 19.0, 21.3, 24.6, 18.7, 18.8, null, 18.6, null, 29.9, null, 22.4, 21.3, null, 26.4, 22.9, 18.7, 20.2, 19.5, 23.2, null, 29.0, 20.0, 19.6, 14.9, null, 25.2, null, 19.1, null, 19.9, 27.2, 24.6, null, 20.7, 23.4, 19.5, 27.3, 23.9, 24.7, 24.7, 22.4, null, null, null, null, 25.9, 23.2, null, 28.2, null, 25.8, 20.3, 24.3, null, null, null, 27.3, 25.2, 24.6, 25.7, 20.2, null, 27.4, 22.6, null, 20.0, 28.2, 22.8, 29.1, 21.6, 15.1, 18.0, 23.7, 29.4, 21.6, 23.0, 19.4, 26.5, 27.8, null, null, 28.3, 20.9, 27.3, 20.3, 23.2, 22.5, 24.6, 22.4, 15.9, 27.8, 26.5, 25.5, 19.8, 22.7, 22.7, 21.9, null, 22.1, 27.5, 18.4, 21.1, 27.6, 20.2, 22.7, 25.8, 17.0, null, 24.8, 24.8, 23.4, 15.5, 22.3, 23.5, 21.9, 26.1, null, null, 24.5, 24.3, null, null, 22.1, 29.5, 25.8, 22.8, 17.1, 14.8, 25.1, 18.7, null, 19.3, 25.0, 25.4, null, null, 26.3, 23.6, 19.6, 22.0, 17.3, 21.3, 26.7, 18.3, 23.5, 21.1, 25.5, 25.6, null, 20.7, 21.8, null, 20.5, 21.7, 24.2, 22.0, 28.3, 23.9, null, 24.1, 26.1, null, 16.2, 25.0, 26.7, 24.4, 22.8, 24.9, 22.9, null, null, 15.8, 21.9, 17.0, 25.3, 20.4, 22.8, 27.6, 22.5, null, null, 26.7, 15.8, 22.8, 23.4, 24.7, null, 24.6, 24.2, 19.7, 25.6, 26.6, 17.7, 21.2, null, 19.8, null, 24.4, 26.9, null, 29.1, 17.0, 24.7, null, 26.0, 22.5, 23.7, 19.2, 28.0, 24.7, 25.3, 20.9, 21.5, null, 23.7, 22.7, 25.7, 28.1, 22.4, 23.3, 21.5, 27.3, 24.0, 24.3, 22.0, 26.1, 20.3, 19.5, 22.5, 26.7, null, 23.6, 19.1, null, 19.6, 20.0, 25.0, 22.2, null, 20.1, 27.8, 17.7, 23.3, 21.8, 26.3, 25.7, 22.6, null, 24.4, 20.0, 25.5, 22.7, 26.9, 22.4, 20.8, null, null, 20.4, 27.8, null, 27.1, 27.5, null, 20.8, null, null, 17.4, 23.5, 19.7, 21.4, null, 28.2, 20.1, 25.3, 21.7, 26.7, 27.9, 27.8, 23.0, 26.7, 22.9, null, 27.1, null, 28.5, 25.7, 24.6, null, 24.4, 26.5, 26.1, null, null, 31.1, 25.2, 19.3, 22.9, null, 21.9, 21.6, null, 18.7, 25.3, 26.6, 27.9, null, 20.2, 21.8, 22.6, 19.1, 20.7, 25.4, 17.9, null, 24.1, 24.7, 22.6, 27.7, 28.6, 30.5, 24.2, null, 22.3, 21.2, 18.2, 24.7, 18.2, 23.2, 24.0, 19.6, 25.7, 28.7, 21.2, 21.3, 16.2, null, null, 25.1, 21.9, 24.7, 22.4, 28.9, 22.0, 20.4, 18.5, 23.7, 23.0, 18.2, 31.0, 25.2, 30.2, 23.3, 17.8, 27.4, 26.8, 25.5, 26.0, null, 21.9, null, 26.7, null, 25.1, 20.8, 24.5, 28.2, 20.5, 23.5, 25.4, 24.8, 24.2, 23.0, null, null, 30.0, 24.7, 24.6, 26.6, 16.7, 20.7, 24.6, 20.4, 23.0, 28.6, 17.9, null, null, 23.2, 27.0, 18.9, 22.2, null, 27.0, 31.2, null, 20.1, 20.7, 27.9, null, 26.6, 23.8, 22.0, 26.3, 16.9, 23.5, 23.5, 25.7, 17.1, 19.0, 26.5, 18.8, 22.3, 20.8, 27.3, 19.1, 18.8, 18.7, 21.2, null, 22.3, null, null, 23.4, 28.1, 25.5, 17.8, null, 18.6, 27.8, null, 16.0, 24.6, null, 17.1, 19.7, 25.2, 25.1, 24.5, 24.2, 25.3, 22.0, 22.7, 23.5, 14.5, 27.1, null, 21.2, 18.5, null, null, 22.8, 28.3, 22.1, 25.3, 24.3, 29.7, 27.3, 17.5, 23.7, 25.5, 22.8, 21.8, 23.9, 23.0, 17.5, 19.9, 29.7, 20.3, 25.9, 27.4, 21.0, 25.6, 24.9, null, null, 21.9, 24.7, null, 26.0, 23.9, 25.6, null, null, null, 31.0, 29.6, 21.3, 24.6, null, 31.3, null, 23.1, 24.6, 21.5, 22.1, 24.1, 23.7, null, 22.5, 25.7, null, 26.2, 22.9, 24.4, 23.2, null, null, 21.0, 21.4, null, 27.3, 30.0, null, 20.5, 17.5, null, null, 28.7, 20.4, 17.6, null, 21.6, 21.0, 24.8, null, 25.9, 23.5, null, 21.2, 25.5, 20.4, 26.9, 17.5, null, 20.0, 20.9, 20.3, null, 25.2, 22.1, 22.2, 22.1, 26.7, 26.8, 13.7, 28.5, 25.5, 26.5, null, 21.9, null, null, null, 23.0, 22.1, 28.3, 28.1, 23.8, 18.4, 28.0, 27.5, null, 26.3, null, 24.5, 15.6, 25.7, 20.0, 20.2, 25.2, 20.5, null, null, null, 24.4, 23.3, 28.8, 16.6, 24.6, 26.8, 21.3, 18.0, 23.1, 21.2, 27.5, 20.3, null, null, 19.7, 26.4, 26.2, 29.9, 22.5, 23.9, 19.4, 28.3, 25.4, 23.8, 25.4, 19.2, 22.9, 27.8, 20.4, null, 16.4, null, 16.0, 24.5, 24.3, 22.2, 25.7, null, 18.9, 24.0, 22.1, null, 18.1, 20.3, 24.3, null, 24.0, 25.6, 23.0, 22.8, 26.4, null, 24.2, 19.2, 26.2, null, 25.0, 21.0, 27.5, 22.6, null, 20.5, 22.4, null, 18.5, 24.8, null, 18.6, null, 23.7, 16.5, 19.4, 18.1, 18.7, 23.8, null, null, 24.6, 20.3, 20.7, null, null, 24.0, 27.2, 21.7, 22.5, 24.6, 20.4, null, 21.1, 26.5, 22.2, 17.9, null, 25.1, 19.8, 16.5, 24.5, 28.5, 29.1, 18.9, 26.1, 28.4, 16.7, 26.4, null, 24.7, 18.4, 21.2, 26.3, 24.1, null, 25.3, 29.4, 23.4, 25.9, null, 23.2, 25.9, 21.2, 17.0, 19.2, null, 27.8, null, 18.6, 25.8, 21.0, 20.0, 21.2, 24.7, 23.6, 24.0, 18.9, 19.4, 23.5, null, null, 26.3, 18.1, null, 16.8, 24.6, 24.7, 27.3, 22.8, 16.4, 23.5, 23.3, 20.9, null, 22.7, 27.6, 29.9, 28.4, 19.4, 18.7, 25.1, 24.5, 26.9, 25.1, 25.0, 26.4, 28.1, null, 21.0, null, 24.5, 22.0, 24.4, 20.6, 22.7, 23.9, 20.9, null, 19.9, 22.4, null, 23.1, 26.1, 28.4, 21.3, null, null, 29.0, 27.6, 20.9, 23.6, 27.5, 29.5, 19.5, 27.7, 19.2, null, null, 21.9, 21.7, 16.6, 15.2, 27.4, 30.4, null, 29.1, 30.3, 24.6, 22.9, null, 25.8, null, 24.2, 21.3, 20.9, null, 27.3, 18.6, null, 19.0, 23.6, 25.7, null, 21.0, 26.2, 29.0, 25.0, 19.2, 30.2, 28.3, 18.6, 25.3, 26.3, 23.3, 26.3, null, 22.8, 23.3, null, 18.1, 24.0, 31.0, 27.6, 27.2, 25.7, 22.6, null, 30.5, 25.4, null, 14.9, 18.7, 21.9, 21.5, null, 27.6, 21.2, 24.3, null, 25.6, 23.6, 22.6, 26.1, null, 29.5, null, 18.0, 28.2, 18.5, 26.3, 27.3, null, 19.5, 21.0, 32.0, 24.0, 30.9, 17.9, 23.7, null, 25.6, 27.6, 28.6, 24.0, 21.7, 22.2, 21.0, null, 28.2, 20.8, 21.6, 18.3, 20.0, 28.8, 20.3, 22.2, 24.6, 23.9, 27.9, 17.9, 22.9, 21.6, 26.8, null, 26.8, null, 28.1, 24.9, 18.9, 17.2, 20.3, 22.2, null, 21.6, 20.6, 26.8, 28.4, 21.7, null, 15.4, null, 20.6, 25.8, null, 25.3, 23.3, 27.2, 30.8, 16.0, 22.2, 24.8, 18.3, 18.3, 16.2, 25.4, 23.6, 30.1, 22.8, 26.3, null, 25.6, 19.0, 17.9, 17.7, 23.6, null, 15.2, 20.5, 19.4, 20.5, null, 24.0, 22.4, 22.0, null, 24.1, null, 19.8, 23.1, 26.9, null, 27.5, 25.6, 20.7, 19.9, null, 21.9, 18.2, 29.2, null, 21.4, 27.2, 22.8, 20.6, 17.6, 22.1, 21.1, 18.7, 21.0, 19.1, null, 23.1, 27.4, null, 19.6, null, 22.0, null, 20.8, 17.0, 23.6, 17.0, null, 17.8, null, 13.4, 20.1, 25.0, 18.0, 27.6, 27.7, 20.4, 23.3, 18.8, 20.5, 15.8, 26.8, null, null, 26.8, 25.0, 25.6, 26.8, null, 30.6, null, 29.1, null, null, null, 23.2, 28.0, 28.2, 25.6, null, 26.1, 19.1, 27.8, 17.8, 31.0, null, 16.3, 24.8, 23.7, 27.2, 22.9, null, 24.8, 23.6, 22.1, null, 27.2, 23.7, 28.6, null, null, 29.5, 17.8, null, 26.2, 26.7, null, 25.9, 16.4, null, 27.0, 27.1, 23.4, 25.8, 25.4, 19.1, 30.4, 16.8, 27.3, 28.1, 17.1, 24.6, 21.4, null, 27.0, null, 22.0, 20.9, 24.9, 26.8, 23.6, 19.9, 18.9, 23.2, null, 21.7, null, 26.3, 18.3, null, 29.6, 22.0, 21.8, 28.4, 22.0, 23.5, 30.1, 24.7, 22.0, null, 20.3, 19.2, 19.4, 22.2, 21.2, 25.0, 26.6, 29.1, 17.5, 27.4, 18.0, 29.1, 27.5, 22.0, 21.5, 20.7, 23.7, null, 18.7, 23.0, 24.5, null, 22.1, 26.2, null, 26.5, null, 21.2, 21.5, null, 20.8, 27.0, 22.3, 27.3, 25.3, null, null, 24.5, null, 18.2, 27.0, 26.3, 18.6, null, 22.0, 21.8, 21.1, 22.7, null, 24.9, 24.9, null, 16.4, 23.6, 22.6, 26.3, 17.6, 29.9, 19.1, 29.7, null, null, 14.9, null, 20.5, 24.2, 23.6, 27.4, 22.6, 15.4, 31.0, null, 27.8, 22.6, 21.2, 29.5, 23.8, 24.9, 22.9, 25.4, 14.8, 19.8, 22.1, 19.1, 17.5, 22.4, null, 25.8, null, 25.0, 27.2, 25.3, 27.9, 22.3, 27.1, 25.3, 21.0, 25.1, 19.2, 21.4, 22.3, 18.4, 25.6, 24.3, 29.2, 19.6, 22.0, 27.3, 20.1, 27.3, 23.2, 19.2, 22.5, 28.1, 18.2, null, 25.1, 27.3, 20.4, 19.3, 23.6, 24.0, 26.1, 20.0, 17.9, 23.4, 28.2, 21.3, null, 22.1, 24.7, 24.8, 20.3, 26.5, 25.5, 31.7, 23.2, 21.8, 24.7, 17.5, 23.7, null, 21.0, 24.0, 29.0, 22.7, 22.9, 26.0, 28.0, 26.2, null, null, 19.0, null, 23.8, 28.6, 22.6, 26.6, 19.5, 25.3, 24.2, 23.1, 21.6, 21.8, 20.6, 24.2, 18.4, 25.0, 21.1, 22.3, 17.7, 19.7, 29.8, 18.3, 22.0, 21.5, 27.6, 28.0, 22.5, 22.4, 24.2, 26.5, 24.4, 21.2, 23.3, 26.2, 21.6, 26.5, 24.5, 20.8, 30.9, 24.7, 20.0, 19.2, 27.4, 27.6, 17.9, 16.5, 24.1, null, null, 26.1, 23.1, null, 20.3, 26.2, 25.1, 22.6, 27.0, 18.6, 22.4, 23.6, 30.7, null, 26.2, 18.5, 27.9, 21.3, 21.8, 21.8, null, 25.8, 20.4, 24.4, 30.4, 27.2, null, 21.9, 24.8, 22.4, null, null, 27.9, null, 25.6, null, null, 27.3, 22.4, 17.4, 28.6, 25.7, null, 22.0, 25.4, 26.5, 19.1, null, 28.8, null, 26.6, null, 24.7, 26.7, 25.0, 23.5, 26.3, null, 17.7, 15.5, 20.7, 24.2, 27.5, 19.4, 19.1, null, 26.4, 21.9, 22.5, 24.5, null, 20.4, 18.0, 25.5, 22.2, 19.6, null, null, 24.7, 27.2, 30.3, 22.9, 24.0, 25.1, 25.6, 23.3, 27.5, 28.7, 19.8, 20.1, null, 19.2, 23.1, 19.0, 19.3, 27.8, 19.8, 26.5, 24.4, 17.0, 19.6, 23.3, 24.2, 21.5, 30.8, 28.3, null, 23.7, 26.1, 21.9, 27.9, 25.6, 22.5, 19.3, 28.3, null, null, 27.6, 24.5, 26.7, 26.3, null, 24.6, 26.9, null, 22.5, 27.2, 22.4, 20.0, 28.2, 26.4, 17.6, 18.6, 23.7, null, 24.5, 24.4, null, 22.5, 20.1, 21.7, 27.6, null, 17.1, 23.9, 15.9, null, 31.0, 28.2, 19.9, 19.9, 20.5, 29.5, 20.8, 22.7, 26.3, 16.7, 24.8, 16.6, null, 27.8, 26.9, null, null, 25.0, 23.9, null, 23.3, 29.1, 18.1, 26.4, 20.2, 26.6, null, 25.5, 18.9, null, 23.0, 23.3, 20.8, null, 20.4, 18.0, 23.9, 27.2, 20.4, 29.1, 26.0, 22.6, 24.0, 22.1, 23.2, 22.4, 27.5, null, 17.8, null, 20.9, 21.2, 22.9, 16.8, null, 25.4, 28.6, 21.6, 22.0, 29.2, 19.9, 30.6, 21.6, 22.4, 28.3, 26.0, 17.1, 30.7, null, null, null, 23.1, null, 25.2, 22.5, 20.2, null, 23.9, null, 21.3, 23.2, 29.4, 26.1, 23.5, 24.2, 18.6, 21.8, 23.8, null, 28.0, 24.3, 25.4, 23.6, 25.9, 26.3, null, null, 26.2, null, 20.9, null, null, 20.7, null, 28.7, 28.2, 23.6, 23.0, 21.9, 29.2, 24.9, 18.8, null, 19.1, 22.4, 19.2, null, null, 28.5, 25.7, 19.7, null, 25.3, 23.3, 20.4, 21.6, 27.3, 22.5, 28.4, 18.9, 22.6, null, 22.1, 18.2, null, 26.4, null, 20.8, null, 26.3, 18.0, 24.2, 18.2, 17.1, 24.4, 16.2, 27.9, null, 27.1, 21.7, null, null, 23.9, 23.8, 22.3, 15.9, 27.8, 25.1, 20.8, 20.2, 20.0, null, 19.4, 27.5, 20.5, 25.5, 27.9, 20.3, 23.5, 21.8, 25.2, 21.7, 28.3, 27.3, 25.7, 19.7, null, null, null, 21.6, 25.6, 25.9, 27.9, 24.5, 18.1, null, 20.4, 16.4, 25.5, 21.8, 22.2, 22.4, 21.3, 23.0, 23.2, null, 20.8, 22.7, 30.6, 23.3, 25.4, 25.5, 21.4, 24.6, 20.9, null, 19.7, 24.5, 17.5, 28.0, 22.8, null, 26.0, null, null, 20.9, 26.4, 25.4, 27.5, 21.7, 29.5, 16.8, null, 20.2, 24.0, null, 27.1, 19.5, 19.6, 18.4, 25.8, 28.5, 22.6, 23.5, 26.9, 25.0, 27.8, 17.5, 29.4, 21.1, 15.4, null, null, 23.5, null, 21.3, 21.7, 27.6, 20.0, null, 21.0, 22.5, 21.8, 26.1, null, 27.3, 24.0, 27.2, 23.3, 24.4, 18.4, 20.7, 28.5, 27.8, 23.4, 20.6, 20.8, 25.5, 19.2, null, 22.4, 23.0, 21.2, 21.0, 25.8, 27.6, 28.6, 19.9, 22.3, 23.2, 26.1, 14.1, null, 25.7, 23.0, null, 23.8, null, 21.8, 24.2, 27.2, 24.6, 17.1, 21.1, 17.6, null, 24.4, 22.0, 24.5, 25.4, null, 22.3, null, 25.4, 22.5, 24.0, 24.6, 31.3, 22.3, 25.5, 21.9, 27.4, 27.7, 28.7, 28.2, 16.5, 25.4, 20.4, 17.2, null, 24.4, 16.0, 20.9, 17.6, 24.6, null, null, null, 24.1, 26.6, 16.0, 25.2, 26.1, 25.0, 23.9, 18.5, 17.4, 25.4, null, 18.3, null, 20.6, null, null, 19.4, 24.1, 23.5, 24.0, 21.9, 27.6, 20.8, null, 23.2, null, 26.8, 31.0, 20.4, 18.7, null, null, null, 18.8, null, 22.6, 24.9, 21.0, 17.3, 21.4, 20.8, null, 26.4, 27.6, 25.8, null, 23.0, 24.5, 20.8, 24.8, 25.0, 28.5, 23.8, 26.1, 20.0, null, 21.2, 25.4, null, 23.6, 24.6, 19.7, 23.1, 27.5, 23.8, null, 18.9, null, 26.5, 26.6, null, 19.5, 18.8, 22.9, 29.3, 28.1, 18.7, 18.6, 17.7, 25.3, 28.2, 18.2, null, 23.2, null, 24.8, 25.8, null, 26.2, 20.1, 16.4, null, 27.2, 27.1, 25.7, 16.3, 22.1, 25.4, 20.0, 26.6, 19.3, 30.5, 18.9, 20.7, 30.9, 26.5, 26.7, 22.8, 18.5, 27.0, 23.5, 21.0, 18.0, null, 26.8, 17.3, 17.8, null, 27.6, null, 24.0, null, null, 24.2, 25.4, 22.2, 21.6, null, 24.6, 31.1, 28.2, null, 24.9, 27.4, null, 25.2, 26.5, 27.9, 18.4, 19.4, 26.1, 27.0, 20.5, 25.1, 27.5, 17.8, 24.7, 25.5, 17.1, 27.5, 22.5, 23.0, null, 25.6, 20.7, 21.2, 20.2, null, 21.8, 24.4, 27.2, 17.4, 19.0, 24.3, 28.4, 21.2, null, 20.9, null, 18.3, 28.6, 29.2, 22.1, null, null, 26.2, null, null, 24.3, 23.1, 31.0, 22.3, null, 21.6, null, 24.0, 23.9, 30.8, null, 21.6, 22.4, 21.1, 23.7, null, 21.9, null, 20.3, 24.1, 21.4, 21.5, 27.8, null, null, null, 23.7, 24.8, 28.4, 27.1, 27.4, 23.3, 19.7, 27.1, 18.4, null, null, 22.8, 24.6, 17.2, 24.1, 25.7, 14.4, null, 22.9, null, 18.4, 19.3, null, 23.4, 27.7, 26.2, 22.3, 17.7, 28.4, 20.8, 21.2, 22.2, 26.7, 24.3, null, null, 18.5, 17.9, 25.8, 25.5, 22.5, 19.0, 25.5, 19.0, 24.7, 18.4, 26.0, 20.9, 20.9, 27.7, null, 24.7, 26.3, 23.7, 27.2, 31.2, 23.9, 23.4, 25.0, 18.0, 23.7, 26.1, 27.9, null, 25.1, 29.8, 26.5, null, 20.3, null, 22.4, null, 27.9, 24.8, 21.6, 20.4, 24.7, 20.6, 28.2, 27.2, 22.7, 19.4, 18.5, 22.1, 27.7, 25.2, 24.8, 20.1, 25.0, 27.5, 21.8, 20.0, 19.8, 18.4, 23.0, 20.2, 27.1, null, 21.9, 22.7, 23.2, 19.4, null, 23.3, null, 30.7, null, 21.2, 25.1, 19.5, 27.2, 16.4, 27.9, 24.1, 31.0, 24.1, null, null, 14.5, 24.9, 22.3, null, null, 26.5, 23.6, 19.8, 23.7, null, 27.9, 16.2, 24.9, 23.4, 27.3, 15.1, 18.1, 26.4, 30.7, 24.2, null, 25.2, 27.2, 23.0, 24.2, 20.5, 27.6, 19.3, 25.5, 26.6, 24.4, null, 26.4, 21.0, 20.2, 24.9, 21.1, 27.0, null, 23.8, 20.0, 24.0, 17.0, null, 25.3, 24.9, null, 28.3, 19.2, 16.3, 23.9, 22.1, 15.6, 16.3, 30.3, 29.5, 22.8, 18.2, 21.2, null, 22.5, 17.6, 22.5, 21.8, 19.5, null, 21.2, 16.1, 26.8, null, null, 21.5, 22.1, 21.8, 18.9, null, 19.4, 24.7, 20.5, 27.1, 14.9, 27.5, 25.4, 21.7, 25.4, 17.4, 16.8, 24.2, 26.5, 24.3, 24.7, 23.7, 25.1, 23.4, null, 21.0, null, null, 24.7, 26.6, 21.2, 18.8, 15.2, null, 19.2, 23.2, 23.6, 22.5, 28.5, 21.3, 22.4, 24.4, 28.3, 25.5, 25.6, 30.2, 17.8, 20.1, 24.9, 26.2, 25.2, 19.0, null, 22.4, 31.2, 26.4, 28.1, 18.4, 20.7, 19.7, 27.2, 29.0, 22.1, 25.3, 26.2, 18.3, 26.2, 19.4, 27.7, null, 22.0, null, 27.4, 20.6, 25.8, 26.9, 26.1, 28.5, null, 27.2, null, 21.4, 23.5, 21.6, 21.0, null, 22.7, 25.6, 27.2, 29.9, 21.6, 19.0, null, 25.2, 23.0, null, null, 23.4, 18.8, 18.4, 29.7, 21.9, 25.2, null, null, 20.6, 20.1, 18.7, 28.5, 19.1, 24.9, 19.8, 18.3, 25.3, 23.5, 22.4, null, 25.1, 21.5, 19.2, 19.4, 17.9, null, 23.8, 28.0, 28.2, 18.7, null, 26.8, 22.8, null, 13.6, 27.7, 21.9, null, null, 24.2, 20.0, 29.9, 21.2, null, 28.2, null, 21.6, 17.9, 21.0, 19.1, 21.4, 26.9, 24.5, 18.5, null, null, null, 27.5, 29.1, 26.6, 23.8, null, 22.6, 18.6, null, 23.5, 22.0, 26.9, null, 19.2, 18.6, 22.4, 22.5, 24.9, 17.8, null, 28.3, 20.3, 18.1, null, 26.2, null, 23.9, null, 24.9, 18.5, 27.8, null, 24.0, 22.6, 20.1, null, 20.0, 25.1, 26.3, 24.0, 18.7, 24.2, 24.8, 20.7, 24.7, 25.5, 21.9, 22.3, 27.1, 18.0, 28.1, 26.0, 20.6, 25.9, null, null, null, 22.1, 30.4, 22.2, 25.3, 20.7, 25.0, 27.9, 27.0, 25.1, 22.6, null, null, 24.5, 25.4, 25.4, 21.6, null, 18.1, 21.3, 18.2, 18.5, 25.5, 25.3, 29.3, null, 23.8, 27.7, 21.5, 22.2, 30.1, 15.1, 19.8, null, 26.6, 26.9, 27.8, null, 25.9, 18.8, 18.3, null, 25.0, 25.2, 21.9, 18.8, null, null, 22.2, 19.5, 25.6, 24.3, null, 27.7, 20.4, 23.7, 18.9, null, null, 22.8, 20.4, 24.9, 26.8, 14.6, 26.2, null, 19.9, null, 18.2, null, 21.9, 18.6, 15.0, 30.0, null, 22.1, 20.2, null, 19.2, 22.7, 21.3, 21.0, 21.6, null, 26.6, 23.9, 27.5, 28.1, 27.3, 25.0, 18.6, 18.9, 18.1, null, 20.4, 24.3, 31.3, 23.7, 25.8, 23.0, null, 24.3, null, 25.2, 25.8, 23.3, 22.4, 22.8, 20.6, 25.9, 25.7, null, 18.5, null, 22.9, 16.8, 21.8, 23.5, 21.2, 27.9, 17.2, null, 23.8, 23.3, 18.3, 23.2, null, 17.9, 23.2, null, 27.7, 18.3, 27.6, 26.5, 18.4, null, 21.0, 27.3, null, 16.9, 25.2, 21.6, 19.4, 18.7, 25.3, null, 25.8, 20.2, null, 24.1, 16.2, 22.5, 25.4, 23.2, 19.3, 30.6, 25.0, 26.8, 18.4, 25.9, 28.9, null, 21.7, 20.4, null, null, 25.1, 24.2, 20.7, 25.0, null, 17.9, 22.0, 25.4, 21.9, 22.8, 27.5, null, 26.8, 24.9, 25.0, 21.9, 19.4, null, 20.7, 23.1, 28.1, 26.2, 26.9, 18.6, 26.8, 22.0, 19.6, 23.2, 26.9, 20.8, 20.2, 25.6, 26.0, 27.5, 27.2, 22.9, 22.8, 21.4, 19.9, null, 14.6, 25.3, 18.2, 29.6, 27.1, null, 25.1, 25.3, 20.2, 27.2, null, 19.8, null, null, null, null, 27.7, 23.5, 22.9, 19.8, 25.7, 22.9, 26.8, 22.7, 24.6, 23.3, 21.0, 26.2, null, 19.9, null, null, 22.0, 25.5, null, 26.4, 27.3, 16.3, 26.4, 25.3, 27.9, null, 23.6, 27.7, 20.6, 27.0, 28.4, 16.5, 25.3, 27.2, 22.6, 24.6, 18.2, 21.3, null, 27.0, 22.9, 27.5, 22.7, null, 19.0, null, 19.6, 21.9, 22.3, 20.4, 20.3, 19.1, null, 22.4, 24.7, 22.3, 24.1, 23.5, 21.6, 21.4, null, null, 22.9, null, 25.7, null, 20.1, 19.1, 29.8, 13.6, 19.2, 20.4, 20.9, null, 23.7, 20.5, 19.4, 21.8, 21.6, 20.0, 22.1, 24.7, null, 22.4, null, 19.9, 21.3, 25.9, 22.9, 21.5, 30.2, 23.9, null, 21.0, 14.9, 18.4, 22.3, 18.6, null, 20.7, null, 19.8, null, 22.1, 25.2, 27.4, 28.1, 23.2, 17.4, 22.6, 31.8, 23.4, 18.9, 26.4, null, 23.8, 24.6, null, null, null, 24.9, 25.2, null, 26.2, 15.8, 25.2, null, 21.1, 22.2, null, 26.0, 27.2, 27.8, 23.4, 30.8, null, 25.3, 25.9, 24.3, 17.6, null, null, 27.4, 28.1, 22.5, 15.4, 20.1, 16.5, null, 24.1, 28.6, 26.2, null, 21.7, 25.8, null, 26.0, 23.7, null, 28.8, 24.8, null, 21.9, null, 22.8, 28.0, 27.3, 24.0, null, 24.8, 23.9, null, null, 17.7, 25.3, 24.6, null, 21.4, 22.0, null, 27.4, 20.7, 22.4, null, 28.0, 27.8, null, 26.1, 24.1, null, 26.9, 26.5, 26.3, 26.3, 18.2, 21.5, 23.5, 25.5, 26.3, 27.7, 25.2, 22.5, 27.6, 28.8, 20.1, 18.4, 18.8, 25.5, null, 18.9, 29.3, 20.6, 27.4, 20.8, 23.7, 26.2, null, 28.1, 23.8, null, 24.5, null, 20.5, 24.9, null, 25.0, 29.8, 23.8, null, 28.3, 20.1, 25.8, null, null, 23.3, null, 16.5, 25.8, 28.5, 26.1, 20.2, null, null, 24.8, 19.0, 25.5, 17.0, null, 25.3, null, 23.9, 21.9, 23.7, 24.2, 28.3, 28.7, 22.9, 22.1, 30.3, 19.2, 21.4, 19.3, null, 27.6, 28.2, 18.7, 19.1, 25.2, 19.0, 26.6, 24.4, 16.8, null, 22.2, 25.6, 26.4, 24.1, 19.4, 26.4, null, 25.1, 19.6, null, 24.0, 29.9, 17.9, 24.0, 21.5, 25.5, 21.4, 22.9, 22.2, 20.1, 17.4, null, 22.9, null, 29.3, 17.1, 22.2, null, 19.8, 20.9, null, 24.2, 26.3, 26.5, 22.2, 24.4, 25.4, 16.1, 24.7, 27.2, 27.4, 21.2, 23.5, 25.5, 20.6, 20.7, 27.6, 29.0, 17.3, null, 30.4, null, 21.0, 24.7, null, 27.7, 24.7, 16.3, 21.6, 19.1, 25.0, 16.8, 19.4, 21.9, 26.7, 21.1, null, null, 21.7, 21.4, 23.7, null, null, null, 23.5, 22.0, null, 24.5, 24.8, null, null, 24.2, 20.2, 23.8, 20.3, 22.9, null, 21.2, 23.3, null, 19.4, 27.8, null, null, 24.3, null, 17.8, null, 28.2, 14.7, null, null, 17.2, 21.1, 27.4, null, 27.1, 23.7, 27.5, 20.0, 27.0, 23.1, 22.1, 18.8, null, 25.8, 15.8, 25.2, 27.8, 27.1, 28.2, 25.2, 22.0, 22.4, 24.9, 18.4, null, 18.2, 21.5, null, 20.3, 19.0, 28.8, 23.0, null, null, 16.3, 23.8, 20.5, 23.2, 22.4, null, 27.0, 24.5, 20.3, 17.5, 17.5, 23.8, null, 21.9, 27.5, 15.7, 28.6, 23.5, 21.0, 29.3, 22.8, 23.8, 23.4, 23.9, 24.2, 20.5, 27.0, 24.6, 23.9, 28.2, 30.9, 22.8, 29.9, 27.3, null, 29.5, null, 18.4, 24.2, 24.4, null, null, null, 25.8, 19.4, 26.0, null, 25.9, 17.3, null, null, 24.6, 29.8, 22.9, 19.2, 26.9, 21.3, 28.5, null, null, 26.2, 21.0, null, null, 26.2, 22.2, null, 22.3, 15.3, 24.0, 21.7, null, 17.3, 25.2, 19.1, null, 18.3, 25.9, null, 26.1, 24.3, 22.7, 18.6, 25.6, 26.2, 20.3, 13.3, null, 30.4, 26.4, null, 20.4, 31.0, null, 26.2, 23.1, null, null, null, 22.2, 20.8, null, 22.6, 20.1, 19.0, 25.5, 23.8, 23.3, 25.8, 17.1, null, 27.2, 24.8, 20.0, 23.6, 19.7, null, 23.8, 26.2, 21.6, 26.2, 24.4, null, 21.9, 20.9, 25.0, 18.5, 28.0, 26.5, 28.2, 20.4, 24.8, 19.6, null, null, 30.7, 29.2, 24.7, 25.3, 27.1, null, 21.8, 20.2, 19.6, 21.9, 18.6, null, null, 29.3, 23.2, null, 27.9, 23.6, 21.8, 30.0, 20.8, 19.4, 26.8, 26.5, null, 20.4, null, 23.8, 20.9, null, 24.7, null, 24.3, 20.2, null, 27.4, 26.7, null, 25.8, 24.7, 17.6, 18.7, 19.3, null, 17.9, null, 21.3, 21.8, 20.1, 22.3, 20.2, 20.9, null, null, null, 20.8, 23.7, 21.2, 25.7, 30.9, 25.8, 27.6, 27.3, 28.4, null, 28.0, 26.0, 24.7, 26.4, 22.6, 21.4, null, 26.1, 26.4, null, 21.9, 21.3, 21.8, null, null, 24.6, 23.3, 25.5, 21.7, null, 18.1, 26.2, 24.8, 21.9, null, 20.0, 29.3, 19.2, 20.3, 29.0, 16.6, 24.5, 21.4, null, 25.3, 21.2, 15.4, 30.6, null, 20.5, 24.8, 16.6, null, null, 15.2, null, null, 28.4, 19.5, 20.9, 18.1, 22.9, 22.3, 25.3, 22.7, 28.0, 19.3, 23.9, 19.9, 28.2, 22.9, 21.2, 29.4, 25.1, 24.0, 23.3, 21.4, 26.6, null, 29.0, 22.3, null, 27.4, 19.0, 21.4, 24.9, 28.0, 21.3, null, 29.8, 20.9, 26.2, 28.6, 26.4, 21.4, 17.8, 19.3, 22.8, null, 25.2, null, 24.1, 18.4, 19.5, 21.1, 18.1, 26.8, null, null, 23.0, 19.2, 25.2, 19.2, 22.4, 15.4, 29.8, 17.2, null, null, 23.4, null, 23.0, 20.9, 29.4, 24.6, 26.4, 23.3, 26.7, 24.0, 20.4, 26.7, null, 26.4, 24.7, 20.1, 26.1, 17.7, 26.8, 21.1, 20.0, 23.6, 23.4, 20.3, 19.6, null, 16.7, 22.3, 27.9, null, 21.5, 20.2, null, null, null, 22.7, 26.2, null, 21.4, 22.9, 19.5, 27.6, 22.4, 29.6, null, 18.7, 23.7, 28.0, null, 22.4, 27.2, 23.3, 21.8, 18.9, 22.1, 25.6, 24.9, null, 17.9, 18.0, 25.6, null, 21.5, null, 24.1, 22.3, 26.6, 15.1, 18.9, null, 21.0, 28.2, 22.4, 25.8, 28.1, null, null, 23.8, 27.2, 17.4, 22.1, 24.5, 22.8, 23.9, 24.4, null, 18.1, 21.4, 21.8, 24.5, null, 22.3, 19.0, 25.7, 22.2, 21.7, null, 27.2, null, null, 18.6, 24.7, 21.5, null, 21.4, null, 20.9, 23.5, 19.1, 21.4, 25.5, 20.9, 18.5, 22.0, 22.1, 18.4, null, null, null, 24.1, 20.2, 24.8, 27.4, 26.9, 18.6, 22.1, 20.6, 26.9, 23.2, 25.0, 22.3, null, 25.5, 21.1, 17.9, 25.9, 19.4, 26.7, null, 21.3, 17.8, 25.7, 23.2, 20.7, 23.9, 21.9, 26.1, null, 19.6, 21.1, 27.8, null, 17.9, null, 17.6, 20.1, 26.1, 20.9, 24.2, 19.6, null, 24.9, 28.2, null, null, 21.3, 18.8, 15.3, 20.6, 27.6, 21.7, null, 24.0, 23.7, 25.6, 27.4, 24.9, 26.6, 26.1, 20.7, 20.7, 18.9, null, 24.5, 20.8, 22.0, 23.9, 17.5, null, 21.5, 18.3, 23.3, 18.4, null, 21.8, 27.2, 26.7, 13.3, 19.4, 30.9, 21.0, 27.9, null, 23.6, 14.8, 25.4, 24.1, 23.6, 21.6, 22.9, 23.5, 25.4, 29.2, 23.9, 24.0, 21.2, 21.5, null, 22.6, 17.3, 18.5, 30.9, null, 16.8, null, 21.1, 24.0, 18.2, 25.2, 22.4, 27.0, null, 21.6, 22.4, 20.1, 21.1, null, 24.4, 22.1, 17.1, 27.7, 25.0, 19.3, null, 24.5, 28.9, 29.0, 22.0, null, 25.6, 26.3, 21.0, 23.2, 26.4, 18.0, 24.9, null, null, 23.0, 22.8, 23.5, 15.9, 30.8, 22.3, 29.4, 21.5, null, 22.4, 21.4, null, 20.9, 24.1, 25.1, 20.0, 25.2, 24.0, 23.1, 19.1, 26.2, 23.3, 21.3, null, 27.3, 26.5, 24.9, 24.4, 25.5, 22.9, 23.2, 29.9, 20.4, null, 22.0, 28.3, 20.8, 22.5, 28.4, 21.2, null, 24.0, null, 21.7, 28.2, 27.6, 20.3, null, 22.7, 18.5, 25.9, null, 20.0, 26.4, 23.5, 25.8, null, null, 20.4, null, 18.4, 24.8, null, null, null, 27.2, 25.9, null, 23.3, null, 20.3, 26.7, null, 19.2, 21.2, 27.9, null, 20.2, 22.6, 23.2, 18.6, 22.8, 23.9, 23.8, 17.3, null, 23.5, 24.6, null, 22.4, 20.4, null, 29.1, 21.9, 22.6, 22.6, 20.9, 24.7, null, 21.6, 22.1, 25.4, 23.9, 21.3, 28.0, 25.0, 18.2, 18.7, 18.8, 15.4, 24.1, 18.8, 23.4, 20.9, 23.1, 19.8, 29.5, 24.8, null, 22.7, 20.1, 23.6, 17.9, null, 25.2, 27.8, 27.6, 16.8, 24.8, 26.2, 18.3, 20.6, 25.6, 19.3, 26.6, 24.5, 20.5, 25.1, null, 24.8, 24.9, null, 26.7, 20.3, null, 26.4, 20.7, 20.0, 26.2, 23.7, null, 24.9, null, 25.6, null, 23.3, 24.8, 16.8, 23.5, 23.3, 23.1, 28.4, 24.5, 21.1, null, 29.7, 17.1, 18.4, 23.1, 21.3, null, 21.6, 25.1, 24.4, 24.8, 27.1, 19.8, 28.2, null, 25.0, 20.2, 21.5, 20.3, 28.5, 25.9, 17.3, null, 16.2, 14.7, 20.3, 24.2, 21.7, 21.3, 30.8, 28.3, 27.8, 23.0, 27.4, 24.5, 22.0, 24.1, 19.4, 19.4, 23.8, 19.0, 21.8, 22.1, 21.3, 18.4, 22.6, 24.7, 31.0, null, 25.5, 27.9, 16.2, 23.6, null, null, 19.8, 22.5, null, null, 26.2, 20.6, 27.3, 21.4, null, 25.5, 23.3, 25.6, 17.5, 26.1, 21.5, 25.3, 22.2, null, 19.1, 20.4, 23.0, 21.2, 24.7, 22.5, null, null, 24.6, 23.5, 16.8, 22.0, 25.0, null, 19.8, 26.7, null, null, 23.6, 27.7, 23.5, 27.7, 27.0, 17.2, 22.3, 27.6, 28.2, 26.7, 23.2, null, 28.2, 28.5, 20.9, null, 23.8, 27.6, 23.7, 20.2, null, null, 16.0, 21.1, 23.6, 23.9, 20.8, null, 29.4, 26.6, 27.2, 24.4, 24.0, null, null, 19.5, 19.2, 26.4, 23.8, 17.7, 24.6, 24.0, null, 19.8, 15.5, 21.6, 24.3, 23.1, 26.6, 19.2, 27.8, 15.7, 27.2, 20.9, 23.9, 16.7, 24.7, null, 24.2, 28.0, null, null, null, 26.0, 17.4, 23.9, 21.2, 18.7, null, null, 18.3, null, null, 24.8, 19.2, 20.3, 26.6, 20.6, 29.5, null, 18.6, 19.2, 22.1, null, 23.3, 25.7, 26.9, 18.5, 16.4, null, 29.5, 24.6, 19.1, 22.5, 26.8, 22.4, 29.2, 20.1, 28.3, 22.6, null, 28.0, 25.2, 25.7, null, 29.3, 19.9, 27.1, 25.4, 28.4, 16.9, 17.0, 26.1, 28.3, 22.5, 21.2, null, 14.7, 16.1, 24.2, 26.0, 19.7, 31.1, 22.4, null, 19.4, 29.4, 27.0, 22.1, 28.4, null, 25.5, 19.9, 17.3, 21.4, 21.6, 26.5, 24.7, 18.7, 16.7, null, 18.5, 22.1, 28.4, 19.9, 17.2, 26.6, 29.9, 24.6, 21.6, 25.0, null, 25.1, 18.5, 16.1, 31.2, null, null, 27.3, null, 20.6, 24.4, 21.5, 26.4, 19.8, 16.7, 20.4, 32.1, 27.8, 27.4, 25.2, null, 20.5, 17.9, null, 22.5, 28.1, null, 25.6, 20.8, null, 29.5, null, 20.1, 27.7, 22.4, 27.6, 26.6, 23.9, 23.4, 20.6, 16.0, 21.0, 21.5, null, 24.1, 24.1, 17.4, 25.2, 19.1, 19.5, 26.4, 22.1, null, 26.6, 17.3, 19.4, null, 24.5, 17.1, 21.2, 28.5, 21.1, 20.8, 26.2, 24.9, 21.9, 23.3, 20.3, null, null, 17.1, null, null, null, 25.4, 25.9, null, null, null, 26.2, 27.6, 21.0, 30.6, 16.5, null, 27.7, 27.2, 23.8, 21.8, 25.6, 28.2, null, 28.1, 23.0, 21.2, 17.9, 25.8, 22.4, 24.9, 18.9, 20.0, 25.8, 23.3, null, 23.4, null, 19.4, 31.2, 15.6, 25.3, 25.4, 28.8, 30.2, 28.3, 22.8, 23.9, null, null, 30.2, 17.7, 22.5, 20.4, 26.9, 24.8, 19.1, 19.9, 25.5, 27.1, 23.5, 23.2, 27.0, 19.1, 25.6, 21.2, 24.8, 17.1, 27.7, 15.8, null, 20.0, 25.0, 22.5, null, 23.3, null, 27.3, 23.6, 20.9, null, 27.1, 25.8, 23.8, 22.3, 20.2, 24.0, 24.8, null, null, 26.2, null, 24.5, 19.8, 27.3, null, 20.5, 27.4, 24.0, 21.8, null, 29.9, 25.4, null, 28.4, 24.8, 23.3, 23.9, null, 30.9, 27.4, 27.3, 23.0, 26.4, 21.8, 27.4, 23.2, 18.5, 21.1, null, 20.2, 22.2, null, 20.2, 27.1, 22.7, 22.5, 20.2, null, 28.0, 18.6, 23.0, 20.6, 27.3, 28.1, 19.0, null, null, 22.1, 26.0, 26.3, 25.8, 16.1, null, 20.4, 26.9, 18.7, 25.7, null, 14.1, 20.9, 25.4, 18.5, 25.6, 22.0, 20.4, 22.0, 21.2, 28.0, 25.4, 24.6, 27.6, 24.0, null, 30.2, 25.7, 24.2, 21.0, 23.0, 22.0, null, 23.6, 17.4, 17.0, 25.5, null, 28.0, 24.2, 19.2, 17.6, 27.1, 24.6, 30.7, 26.2, 21.8, 27.6, 23.5, 20.3, 20.9, 29.8, 20.0, 27.3, 21.5, 22.1, 15.4, 25.7, null, null, 21.2, null, 26.9, 24.5, 25.4, 28.7, 25.2, 29.4, 21.6, 19.6, 17.5, 16.9, 23.7, 18.5, 25.4, 23.5, null, 29.0, 28.6, 28.6, 29.3, null, 22.6, 24.3, 27.0, 27.5, 28.3, 22.4, 20.2, 27.7, null, 25.4, 19.3, null, null, 23.3, 25.4, null, null, null, 25.4, null, null, null, 24.4, 22.0, 17.3, 20.5, 31.2, 19.0, 19.1, 17.3, 21.8, 28.3, 21.0, 20.4, 18.4, null, 23.2, 25.8, 25.6, 26.0, null, 22.1, null, null, 22.1, 22.3, 27.3, null, 19.1, 25.8, null, null, null, 25.1, 23.5, null, 25.8, 24.9, 25.3, 18.7, 24.2, 25.3, 20.8, 23.2, null, 25.0, 27.8, 20.3, 23.4, 26.0, 27.9, null, 27.2, null, 25.0, 18.5, 15.7, 24.3, 21.3, null, 19.0, 27.3, 23.7, 20.8, 26.7, 29.2, 22.8, 27.9, 23.9, 28.5, 23.3, 25.3, null, null, 20.7, 18.1, 19.2, null, 18.1, 21.6, 22.0, 28.3, 26.4, 21.3, 18.0, 18.9, 25.0, null, null, 16.3, 20.3, 25.9, 18.2, 21.8, 24.0, 24.9, 29.4, null, 27.7, null, 19.4, 21.3, 20.4, 29.0, 21.0, 15.7, 27.0, 22.5, 22.7, null, 22.0, 24.0, null, 21.9, 19.8, null, 25.1, 26.2, 19.8, 21.3, 17.5, 19.9, 25.0, 24.1, 23.3, 28.0, 26.7, null, null, 13.6, 18.5, 24.9, 28.1, 23.7, 23.9, 30.9, 25.8, 28.7, 24.3, 24.5, null, 22.0, 21.8, 22.7, null, null, 25.1, null, 21.9, null, 21.6, null, null, 19.6, 28.0, 30.6, 25.1, null, null, 24.5, 22.4, 23.1, 24.5, null, 21.5, null, null, 20.2, 24.0, 23.9, 22.1, 17.0, 20.4, 25.0, 18.9, 23.5, 21.6, 23.5, 18.4, 28.6, null, 22.8, 21.4, 22.3, 24.2, null, 27.9, 17.3, 27.5, 28.0, null, 22.6, 19.4, 27.3, 26.9, 26.2, null, 21.7, 24.5, 17.1, 29.1, 21.5, null, 21.8, null, null, 28.8, 23.8, 20.1, 26.7, 22.7, 27.4, null, 22.4, 20.0, 21.4, 25.5, 24.0, 18.7, null, null, 25.4, 24.6, 23.7, null, 23.4, 18.7, 21.3, null, 17.8, 22.6, null, 27.1, null, 24.8, 18.5, null, 24.6, 17.1, 25.3, null, null, 19.2, 17.4, null, 24.4, 22.6, null, 27.0, 21.3, 24.4, 28.9, null, 28.5, 20.6, null, null, 23.8, null, 27.4, 20.3, 24.9, null, 18.9, 20.7, 23.6, 31.1, 28.0, 14.6, 30.2, 20.7, 24.1, 26.0, 22.8, 20.0, 16.0, 22.6, null, 18.7, 18.8, 23.3, 24.4, null, null, 24.4, null, 28.8, null, 28.4, 18.8, 18.6, 27.0, 26.6, 25.9, 19.3, 21.7, 23.8, 20.9, 20.0, 27.1, 26.9, 20.4, 30.7, 27.9, null, 19.4, 29.4, null, 24.0, null, null, null, null, null, 25.7, 30.4, 26.5, 24.8, 26.7, 25.5, null, 22.5, 25.9, 25.3, 25.1, 18.3, 28.1, 26.5, 21.7, 19.2, 29.4, 23.0, 19.7, 26.6, 25.1, 17.8, null, 19.1, 26.4, 30.6, 21.8, null, 19.9, null, null, 20.7, null, 26.3, 23.9, 25.0, null, 25.6, null, 22.9, 21.0, 23.4, 18.8, null, 18.5, 25.0, 28.4, 23.3, 25.0, 23.4, 25.1, null, 21.3, 23.0, 16.0, null, 15.7, 17.8, 25.3, null, 23.7, 26.0, null, 31.8, 26.6, 23.4, 22.6, 19.8, 19.3, 26.8, 21.3, 24.8, 25.7, 22.8, 21.1, 24.1, null, 25.8, 27.1, 21.6, 21.3, 18.6, 19.2, 20.4, null, 24.6, 25.5, 26.4, 19.3, null, null, null, 22.4, 21.6, 18.6, 21.1, 28.6, 29.9, 25.2, 27.1, 32.1, 27.2, 27.6, 26.4, 23.6, 28.4, null, 15.4, 30.8, null, 27.4, 17.8, 26.9, 27.2, 22.3, 23.2, 26.5, 27.6, 25.1, null, 27.0, 25.7, 27.8, null, null, 27.7, 28.1, 20.9, 26.9, 23.7, 25.6, null, 18.4, 25.5, 24.6, 20.6, 17.9, 19.6, 21.8, 18.3, 19.1, 24.6, 20.2, 27.1, 21.5, 25.9, null, 19.2, 28.0, 25.0, 19.0, 22.4, 20.5, 23.9, 17.2, 19.8, 21.7, 24.6, 24.2, 17.6, null, null, 15.3, 21.5, 20.2, 25.3, 22.8, 24.4, 24.9, 21.8, 30.2, 23.0, 29.0, 24.7, null, 25.5, null, 21.5, 25.6, null, null, 20.2, 16.7, 17.8, null, null, 27.5, 23.3, 18.6, 21.8, 24.5, 27.1, null, 27.2, 21.7, 23.5, 23.5, 27.8, 22.4, 18.4, null, 22.5, null, 20.4, 25.0, 31.2, 19.1, 18.9, 24.8, 27.5, null, 27.2, null, 24.6, null, 27.3, 22.3, null, 27.1, 23.3, 22.7, null, null, 29.9, 22.6, null, null, 27.3, 22.3, 23.0, 24.8, null, 24.9, 22.1, 21.3, 24.8, null, 26.5, 18.3, 23.8, 27.5, 17.2, null, 24.7, 25.5, 21.2, null, 25.7, null, 27.8, 29.2, 15.5, null, 23.6, 19.9, 16.3, null, 21.8, null, null, 21.7, 23.2, null, 24.9, null, 22.6, 27.9, 22.0, 29.6, 28.3, 26.2, 20.9, 27.4, 24.4, null, null, 19.2, 20.5, 21.2, 21.5, 15.6, null, 27.0, 28.0, 18.4, null, 22.9, 21.0, 20.9, null, 21.9, 23.9, 27.2, null, null, 26.6, 24.2, 23.6, null, null, 28.2, null, 25.7, 21.4, 22.7, 20.7, null, 28.1, 23.2, 24.7, null, null, 21.5, 26.2, 22.1, 22.2, null, 25.5, 22.4, null, 23.5, 19.8, 23.7, 20.8, 25.4, 18.8, 25.6, null, 31.1, 26.0, 24.8, 14.3, 28.3, 24.4, 23.5, null, null, 21.0, 28.0, 18.4, 25.0, 18.4, null, 26.5, 21.3, 20.1, 18.5, null, null, 24.4, 27.4, 28.3, 20.3, 22.5, null, 27.5, null, 24.8, 27.6, 25.8, 24.0, 18.0, 21.5, 26.0, 26.4, 29.8, 19.1, 18.3, null, 29.9, 22.4, 23.7, null, 19.8, 18.0, 27.0, null, null, 25.4, null, 17.0, 23.0, 29.0, 19.8, 19.6, 22.6, 23.4, 24.2, 19.5, 24.7, 25.0, null, 18.5, 20.9, 30.5, 17.7, 20.2, 19.9, null, 25.0, 25.0, 17.1, 20.4, 20.6, 22.3, 25.4, 23.0, 21.0, null, 27.6, null, 19.7, null, null, 24.9, null, 22.4, 24.1, 22.1, null, 20.7, 28.5, 21.4, 22.7, null, 14.7, null, null, null, 18.3, 27.2, 29.6, 27.3, 26.3, null, 25.2, 22.7, null, 21.8, 28.9, null, 28.4, 27.3, 20.3, 24.5, 25.2, 23.4, 21.3, 26.6, 24.1, 23.7, 25.6, 19.8, null, 24.3, 24.0, 22.5, 19.1, 22.7, 26.7, 20.1, 27.1, 14.1, 26.6, null, 25.5, null, null, null, null, 27.0, 22.4, 20.3, 16.2, 23.2, 24.8, 27.2, 21.0, 22.6, null, 29.4, 22.1, 27.8, 24.7, 18.0, 27.1, 25.5, 24.3, 29.7, 18.5, 27.1, null, null, 25.3, 20.9, 18.8, 24.4, 26.6, null, 23.4, null, 20.6, 23.1, null, 27.4, null, 27.9, 21.4, 22.5, null, 22.6, 26.5, null, 16.6, null, 22.4, 25.4, null, 25.4, 28.4, 26.0, null, null, 26.2, 22.5, 27.3, 24.5, 17.5, 24.0, null, null, null, 18.7, 21.3, 20.2, 17.3, 23.6, 23.5, 20.2, null, null, null, 28.3, 22.7, 20.5, 27.4, 27.1, 24.6, 25.9, null, 26.9, 21.3, 18.9, null, null, 27.9, 25.0, 21.2, 18.1, 21.5, 22.2, 23.0, 24.1, 19.6, 28.7, null, 24.6, 25.5, 18.4, null, 19.0, 21.4, 15.1, 28.5, null, 22.5, 19.6, 27.8, 19.5, 22.7, 28.5, 19.4, 21.4, 25.0, 26.2, null, 19.2, 27.2, 21.8, null, 28.5, 19.2, null, null, 22.5, 26.5, 26.7, null, 24.5, 18.5, 27.9, 27.6, null, null, 29.3, 27.4, 26.9, null, 27.8, 20.1, null, 22.7, null, 20.5, 23.3, 21.3, null, 18.3, null, 21.7, 24.5, null, null, 25.8, 22.8, 21.1, 29.4, 29.4, 27.2, null, 25.2, 27.5, 28.9, 18.5, 20.9, 22.2, 21.1, 18.6, 24.0, 20.5, 24.4, 26.1, 20.9, 18.6, 25.7, 23.1, 29.1, 22.2, 23.0, 25.3, 15.7, 23.2, 26.0, 22.5, 19.0, 26.6, 20.9, 15.6, 23.5, 23.3, 26.1, 28.9, 24.4, 25.7, 18.9, 21.9, 21.1, 23.5, 27.2, 22.5, 25.3, null, 19.6, 21.9, 27.2, 14.5, 16.6, null, 18.2, 23.6, 26.6, 14.7, 28.3, 24.3, 25.0, null, null, 24.8, 24.1, null, 22.9, 22.4, 21.1, 28.3, null, 19.4, 17.7, 17.7, null, null, 26.3, 16.1, 20.9, 20.9, null, 26.4, 26.9, 24.2, 22.7, null, 24.9, null, 22.0, 23.3, 14.5, 21.3, 23.5, 24.1, 21.5, 29.5, 20.8, 22.2, 23.2, 20.7, 26.4, 21.8, null, 30.5, null, 25.3, 20.8, 21.0, 21.5, null, 21.9, 22.0, 24.8, 19.7, 25.9, null, 25.7, 21.0, 22.0, 26.4, 21.3, 27.1, 27.4, null, 16.4, 24.8, 23.5, null, 23.2, null, 21.9, 22.5, null, null, null, null, 19.2, 19.5, 22.6, null, 20.2, null, 23.7, 26.5, 22.2, 28.4, 23.5, null, null, 22.6, 21.2, null, 23.5, 20.0, null, null, 25.7, 20.9, null, 17.6, 17.6, 23.2, 22.5, 20.0, 21.0, 29.7, 26.5, 27.5, 20.6, 18.7, 26.5, null, 24.3, null, 25.3, 25.7, 26.1, 24.8, 25.0, 14.7, 28.6, null, null, 21.0, null, 22.9, 25.4, 23.1, 18.7, 23.8, 25.1, null, 25.3, 28.0, 28.6, null, null, 21.0, 17.9, 20.2, 20.4, 22.4, 17.0, 26.9, 26.1, 28.4, 27.1, null, 28.1, 26.8, 22.4, 23.5, 31.1, 25.2, null, 26.8, 25.1, null, 23.9, 26.4, 23.2, null, 21.1, 28.0, 22.4, null, 21.9, 22.6, 25.8, 29.1, 26.6, 24.2, null, 17.0, null, 18.3, 21.6, 19.0, 18.9, 24.3, 19.9, null, 21.3, null, 27.3, 18.1, 19.2, 21.6, 26.3, null, 20.4, 19.0, 28.0, 23.2, 22.8, 21.0, null, 24.9, null, null, 26.2, 25.9, null, 17.5, null, 18.9, 29.5, 27.4, 22.4, null, 27.3, 15.6, 26.3, 26.3, 21.4, 26.9, 21.9, 22.2, 23.7, 23.0, 26.1, 17.9, 28.7, null, null, 23.4, 22.2, 26.5, 27.1, 20.0, 26.6, 21.9, 21.6, null, 28.6, 24.2, null, 26.2, 19.4, 25.2, 23.8, 23.1, 23.0, null, null, 24.4, 24.5, 20.2, 23.1, null, 25.6, 30.7, null, null, 27.1, null, 24.7, 24.9, 22.1, 18.8, 22.7, null, null, 22.3, 27.3, 27.2, 22.6, 21.7, 26.6, null, null, null, 21.5, 23.3, 21.9, 27.8, 17.5, 27.0, 19.0, null, 25.8, 19.6, 24.7, 27.0, 28.7, 14.2, 16.1, 25.0, null, null, 16.3, 27.9, null, null, 28.5, 19.3, null, 20.5, null, 23.3, 19.7, 27.2, 27.1, 28.4, 20.3, 18.2, 21.6, null, 22.9, null, 18.1, 23.9, 21.3, 19.6, 27.3, 27.3, 18.6, null, 18.8, 19.4, 23.6, null, 29.3, 16.3, 20.4, 25.4, 26.7, 24.1, 30.5, 21.5, 22.0, 15.6, null, 18.5, null, null, 21.8, 24.0, 23.7, 18.5, 27.8, 23.8, 21.3, 27.9, 20.9, null, 28.1, 26.0, 22.1, 17.1, 29.2, 26.7, 25.6, 22.1, 23.4, 18.9, 29.7, 22.5, 19.4, 21.5, null, null, 23.6, null, 21.0, 20.3, 25.2, 19.5, 19.1, null, null, 24.2, 25.0, 22.4, 24.7, 18.8, 27.6, 23.3, null, null, 28.0, 21.1, 15.1, 22.8, 20.7, 22.6, 14.7, 21.6, 22.6, 25.6, 30.6, 26.4, 18.2, 28.0, 23.9, 23.0, null, 28.3, null, null, 24.7, 25.7, 23.7, null, 27.2, null, null, 22.1, 20.0, 29.5, 24.7, 24.1, 21.3, null, null, 17.9, 28.2, 24.0, 29.1, 20.9, 25.1, 20.7, 23.4, null, 19.3, 26.7, 22.9, 25.8, 14.4, 25.2, null, 18.2, 23.2, null, 23.2, null, null, null, 18.6, 27.1, 22.6, 17.7, 24.5, 24.6, 25.3, 20.4, 23.3, null, 23.3, null, 24.1, 28.2, null, 20.2, 26.6, 24.3, 18.3, null, 17.7, 26.6, null, null, 23.4, 23.4, 23.8, 17.8, 20.1, null, 27.7, 22.3, 24.0, 20.8, 18.1, 20.0, null, 23.3, 18.8, 21.4, 29.8, 26.2, 27.7, null, 19.6, 26.0, 27.8, 26.0, 28.5, 27.5, null, 30.7, 23.0, null, 20.9, 23.8, 13.3, 17.4, 18.4, null, 24.2, 18.4, 21.6, null, 19.1, 27.9, 27.3, 21.5, 24.3, 21.3, null, null, 15.1, 28.1, null, null, null, null, 22.4, 18.2, 29.6, 24.4, null, 22.9, 20.7, 20.7, 24.2, 18.5, 25.5, null, 14.4, 23.7, 23.6, 19.0, 28.3, 27.0, null, 26.5, 16.6, 17.3, 20.8, null, 19.6, null, 22.8, 23.4, null, 17.3, null, 24.2, 18.5, 25.0, null, null, 27.6, 18.1, 27.9, 24.6, null, 24.1, 18.2, 22.6, null, 23.8, 30.6, null, 29.6, 19.4, 19.4, null, null, 26.3, null, 25.7, 27.0, null, null, 21.9, 17.2, 19.6, 21.7, 25.6, null, 24.4, 19.6, 26.8, 25.3, 26.2, 21.3, 20.3, null, null, 18.0, null, 30.8, 18.5, 29.5, 25.8, 22.6, 24.8, 27.2, 30.9, 21.5, 28.1, 23.2, null, 29.5, 20.6, 28.4, 29.5, 24.7, null, 18.7, 26.7, 28.0, 24.5, 20.7, 20.3, 20.7, 22.5, 18.9, 18.4, 18.4, 21.1, 18.3, null, 27.3, 23.2, 29.6, 18.9, 23.7, 20.7, 29.0, null, 23.7, 23.7, null, 18.4, 14.7, null, 28.3, 24.9, 25.2, 18.3, 17.3, 25.7, 19.2, null, 24.5, 27.0, 25.4, 24.2, 25.4, 19.9, 19.8, null, 27.3, 18.6, 16.8, 28.6, 18.3, 18.5, null, 27.8, 27.1, null, null, 25.5, 18.9, null, 18.0, 30.3, 27.1, 24.6, 27.6, 25.3, 21.8, null, null, null, 22.0, 19.5, null, 26.1, 22.5, 28.7, 21.6, 22.5, 21.3, null, 18.5, 24.7, 27.1, 24.0, 15.2, 22.2, null, 29.5, 24.2, 24.1, 17.8, 22.6, 21.6, 27.2, 17.9, null, null, null, 25.2, null, 25.6, 17.8, 20.2, 23.5, 17.1, 24.3, 25.4, 29.2, null, 21.6, null, 24.1, null, 16.5, 28.3, 27.0, 22.3, 22.0, 18.1, 18.4, 22.0, 19.0, 17.2, null, 18.5, 25.4, 21.2, 27.2, 19.1, 25.6, 18.7, 20.4, 18.3, 21.0, 22.2, null, 18.7, 23.9, 21.2, 18.1, 26.3, 24.3, null, 20.5, 27.4, 24.4, 25.1, 26.6, 26.4, null, 22.4, 18.3, 24.6, 22.5, 28.4, 22.2, 19.5, 21.9, 18.2, 17.3, 21.2, 28.3, null, 21.2, null, 22.3, 22.7, 22.2, 23.5, 14.8, 22.0, 27.3, null, 25.9, 27.9, null, 22.4, 27.4, 18.6, 27.9, 22.9, 24.8, 20.1, 24.3, 25.0, 20.3, 27.3, 26.0, null, 16.0, null, 19.7, null, 26.0, 29.7, null, 21.3, 21.4, 26.2, 25.7, 19.9, null, 18.9, 16.7, 22.9, 23.2, null, 22.0, 18.9, null, 21.8, 25.4, 23.4, 23.0, null, null, null, 24.8, 14.6, 23.1, 15.7, null, 30.9, 31.2, 26.8, 24.3, 17.5, 30.8, 24.7, null, 29.6, 27.9, 22.5, 24.7, 22.2, 27.4, null, 21.2, 24.8, 26.3, 14.2, null, 24.2, 26.0, 14.6, 20.1, 27.5, null, 18.8, 27.9, 21.3, 15.4, 19.1, 24.9, 23.4, 24.9, 23.6, 20.9, 21.9, null, null, 26.1, 19.0, 21.2, 22.4, 25.8, 23.9, 21.3, 16.2, 16.2, 28.0, null, 27.1, 20.2, 17.6, 23.3, 21.5, 25.2, 25.2, 23.9, 24.8, 26.3, 21.1, 19.6, 21.0, 27.6, 19.4, 27.2, 27.7, 17.4, 24.4, null, null, 21.0, 23.8, null, 24.9, 23.8, 24.4, 26.3, 23.8, 26.0, 22.6, 14.4, 27.2, 27.6, 19.7, null, 17.9, 26.1, 20.1, 24.6, null, null, null, 27.3, 25.4, 19.9, 27.5, 25.0, 23.9, 20.3, 28.4, 26.6, 24.9, 22.4, 22.7, 31.1, 18.9, 20.9, 22.6, 23.8, 27.0, 19.4, 28.7, 27.3, 27.0, 20.7, null, 26.8, 22.3, 27.1, 14.5, 24.6, 18.7, null, 23.4, null, 20.3, 17.8, 23.0, 24.5, null, 28.6, 26.3, 27.7, 26.1, null, 29.9, 21.2, 24.0, 25.5, 22.9, null, 28.0, 27.8, 18.1, null, 19.5, 24.1, 25.9, 23.4, null, 24.4, 17.0, 24.8, null, 31.2, null, 21.1, null, 27.1, 27.0, 26.2, 26.7, null, 26.2, 21.8, 22.7, 23.7, 18.6, 25.6, 23.7, null, 24.1, 21.4, 26.6, null, null, 24.0, 26.3, 24.1, 23.2, null, 18.2, 19.4, 32.0, 21.7, 21.8, 26.6, null, 27.6, 27.2, 26.7, 19.9, 27.9, 15.4, null, 24.0, null, 30.1, 24.8, 24.2, null, 22.9, 24.8, 11.2, 22.5, 23.9, 20.0, 20.9, 18.4, 26.8, 20.6, 21.2, 21.1, 22.9, 17.7, 25.7, 27.8, null, 26.5, 19.8, 20.6, 20.3, 21.5, 29.0, 27.5, 18.6, 27.5, 22.4, 27.5, 18.1, 22.6, 20.6, 22.2, 20.2, 23.1, 27.0, 23.0, 24.6, 14.6, 27.5, 22.2, 22.0, 19.8, 21.0, 22.1, 24.9, 19.1, 26.6, 21.7, 25.6, 27.4, 21.8, 24.2, 21.7, 19.0, 24.5, null, 22.7, 26.3, 25.8, 23.8, 23.6, null, 23.9, null, 25.6, 22.6, 30.8, 22.7, 24.4, 21.5, 24.0, 25.3, 19.2, 26.5, 28.5, 23.9, 22.3, null, 22.2, 23.9, null, null, 23.5, 23.7, 22.9, 20.7, 19.7, 23.6, 26.4, 24.2, 23.9, null, 23.8, null, 25.6, 23.3, 16.7, null, 25.7, 18.6, 16.3, 23.7, 23.0, 26.6, null, 22.4, 22.1, 24.0, 20.9, 20.5, 17.6, null, 21.8, 25.2, 24.2, 22.3, 19.4, 27.5, 21.9, 18.4, 29.0, 26.9, 24.4, null, 21.7, 23.1, null, 20.1, null, 29.2, 22.1, 24.3, 27.6, null, 25.5, 26.2, 20.2, 27.2, null, 19.3, null, null, 17.2, null, 23.7, 31.0, 21.7, 22.0, 26.1, 22.9, 20.1, 19.5, 27.6, 26.9, 22.9, 23.9, 21.3, 21.3, 24.6, null, 27.6, 19.4, 20.6, 18.6, 26.1, 18.4, 16.3, 22.1, 30.7, 22.4, 22.3, 18.1, null, 25.2, null, 24.6, null, 24.1, 24.7, 24.7, null, 30.9, 26.5, null, null, 24.7, 23.8, 18.8, 17.9, 20.4, 28.3, 26.4, 24.1, 22.7, 25.0, 27.5, 26.3, 26.3, null, 24.4, 19.8, 23.0, 24.0, 27.3, 19.6, 22.2, 28.4, 23.8, 23.9, null, null, 19.1, 22.8, 19.2, 20.1, 25.4, 25.6, null, 21.8, 14.1, 22.1, 20.9, null, 20.3, 31.0, 27.8, 24.3, 24.2, 26.4, 21.7, 20.4, 30.2, 27.6, 25.3, null, 24.3, 20.7, 28.9, null, 20.8, 27.4, 25.2, 31.1, 17.5, 29.3, 25.9, 28.1, null, null, 22.8, 27.5, 22.5, 21.1, null, 21.7, 27.5, 21.2, null, 23.1, 22.4, 22.3, null, null, 25.6, 23.9, 23.6, 25.3, 20.4, 19.3, 19.9, 21.5, 26.3, null, 19.9, 25.5, 23.9, 28.0, 26.6, 25.8, 18.5, null, 20.0, 24.1, 26.0, 15.7, 24.2, null, 24.3, 20.4, 26.5, 25.2, 20.6, 19.8, null, 21.8, 23.2, 23.2, null, 22.3, 24.6, 14.1, 22.0, null, null, 27.1, null, null, null, null, null, 26.9, null, 22.0, 23.3, 28.6, 22.9, 20.0, 21.0, 28.8, 22.1, null, 24.3, 24.2, 27.4, 23.9, 21.1, 29.4, 23.7, 24.9, 23.4, 21.9, 18.1, 25.2, 24.7, 25.2, null, 18.5, 24.8, null, 25.1, 27.8, 21.6, 24.2, 24.0, 24.4, null, 21.2, 26.0, 23.8, 28.6, 23.9, null, 23.1, 21.4, 27.9, 21.4, 16.8, 18.3, null, 21.6, 21.0, 22.7, 24.7, 23.2, 19.8, 21.7, 30.8, 22.0, 28.2, 23.4, 27.1, null, 23.6, 26.3, 20.8, 23.2, 21.4, 23.6, 21.7, 24.0, 19.4, 21.2, null, 28.7, null, 27.2, 27.2, 25.5, 20.1, 27.8, 27.3, null, 25.5, 23.0, 20.9, 21.6, 20.7, 24.4, 22.5, 21.2, 30.6, 28.2, 22.1, 18.6, null, 15.6, 24.7, 24.0, 24.6, 23.6, 21.8, 24.7, 22.1, 23.1, 23.6, null, 18.5, 22.2, 28.2, 16.3, 17.5, 20.6, 21.5, null, 19.5, 19.9, 24.8, 24.4, 27.6, 22.4, 20.2, 22.5, null, 18.9, 16.4, 28.5, null, 20.6, null, 18.0, 26.9, 24.5, 24.7, 19.5, 28.2, 22.3, 21.2, 22.2, 23.5, 25.5, 21.5, 25.4, 21.6, 21.9, 24.1, 27.3, 15.6, null, 21.3, 24.4, 18.0, 22.1, 23.9, 22.5, null, 20.5, 24.9, 27.7, null, 20.0, null, 22.6, 15.3, 18.3, 18.8, 27.8, 20.0, 18.9, 22.3, null, 21.4, null, 18.0, 17.4, 25.1, 26.6, 24.6, 14.4, null, 21.5, 29.8, null, 20.5, 19.1, 20.0, 25.1, 19.8, 21.4, 26.4, 29.9, null, 23.5, null, null, 27.7, 28.7, 23.7, 22.3, 23.7, 20.2, 25.0, 22.0, 24.1, 23.7, null, 22.1, 24.1, 17.4, 28.1, 31.7, null, 25.8, 18.5, 21.0, null, 22.6, 20.4, 26.6, 27.4, null, null, 17.3, null, 23.0, 28.7, 24.0, 23.1, null, null, null, 24.8, 30.7, null, null, 26.3, 23.2, 20.4, 22.4, 23.7, null, 16.0, null, 15.9, 19.7, null, 21.9, 28.6, null, 18.0, 29.1, 18.9, null, 26.1, 20.9, 23.7, null, null, null, 22.4, 23.8, 27.7, null, 19.3, 24.9, 18.3, null, 27.6, null, 14.8, 19.6, 25.3, 28.5, null, 21.3, 18.9, 27.4, null, 22.6, 23.6, 19.6, 20.9, 22.8, null, 22.0, 19.8, null, 25.1, 25.9, null, 24.0, 19.5, 20.4, 27.3, null, 22.5, 21.2, null, 23.8, 21.9, 26.6, 18.3, 26.8, 21.0, null, 29.4, 24.9, 19.9, null, 23.7, 25.0, 21.9, 15.6, 25.2, 23.7, 22.4, 26.3, 20.1, 23.4, 21.3, 26.7, 22.2, 27.3, 22.4, 22.5, null, 26.9, 20.2, null, 20.9, 15.0, null, 24.2, null, null, 23.3, 26.3, 17.5, 17.7, 27.2, 29.3, 29.5, 20.1, null, 23.0, null, null, 25.4, null, null, 29.4, 24.6, 27.2, 23.8, 23.9, null, 20.2, 31.1, 24.3, 19.2, 25.4, 26.4, 19.7, 22.8, 23.2, null, 31.1, 26.3, 20.4, 21.5, 26.2, 23.2, 30.9, 24.8, 20.1, 23.4, 26.4, 21.5, 17.0, null, 20.0, 16.5, 28.5, 19.2, 22.2, 15.1, 20.0, 22.9, 19.5, 25.7, 24.0, null, null, 24.4, 27.4, 22.7, 21.9, 16.1, 27.2, null, 22.4, 25.0, 27.2, 21.4, 25.6, 23.0, 21.4, 18.9, 28.1, 24.9, 22.4, 24.6, 24.4, 21.5, 16.1, 22.5, 23.3, 25.5, 21.7, 24.3, 27.7, 25.4, 20.1, null, 22.5, 23.8, 30.2, 26.6, 20.9, 21.0, 27.9, null, 25.7, 23.6, 26.6, 20.3, 20.0, 26.2, 27.5, 23.6, 23.0, null, 24.7, 20.9, 27.8, 19.9, 25.3, null, 18.7, 21.6, 29.7, 18.2, 27.2, 20.8, 22.4, null, 14.7, null, 27.4, 27.7, 24.2, 29.0, 27.5, 23.7, 21.3, null, 24.1, 27.3, null, 26.2, null, 24.7, null, 25.5, 28.1, 17.3, 18.3, 24.9, null, 22.3, 23.7, null, null, null, 19.6, 27.1, null, 22.0, 28.8, 25.4, 26.0, 24.9, 24.3, 21.9, 25.3, 19.3, 27.6, null, null, 29.0, 25.1, 21.2, 14.3, 27.6, 22.8, 23.6, 19.3, null, null, null, null, 24.5, 20.3, 25.6, 19.0, 20.8, 23.6, null, 23.9, null, 31.3, 22.4, 23.2, 21.4, 29.4, 25.8, null, 30.8, 23.6, 22.1, 21.5, 29.0, 16.3, 22.4, 17.6, 25.1, 22.6, 19.6, null, 22.0, 29.6, 19.3, 19.0, 24.1, 23.3, 19.8, 27.2, 25.7, 25.7, 25.7, 17.9, null, 21.4, 23.2, 22.9, null, 18.6, null, 27.6, null, 19.9, null, null, 18.2, 17.7, 25.6, 26.2, 26.8, 18.7, 31.2, 21.7, null, 18.7, 27.8, 21.4, 25.8, 23.0, 18.2, 26.8, 16.7, 21.5, 23.4, null, null, null, 25.1, 24.5, 26.8, null, 18.7, 18.2, 26.5, null, 27.9, 27.2, null, null, null, 27.4, 24.7, null, 21.1, 25.3, null, 23.1, 27.1, 20.4, 21.0, 24.0, 21.4, 27.4, 21.9, 22.6, 24.0, null, null, 24.0, null, null, 19.3, null, 19.9, 14.5, 27.5, 18.3, 27.5, 16.6, 28.2, null, 22.7, 19.3, 18.9, null, 19.0, 20.9, 20.9, null, 16.7, 26.4, null, 17.7, 20.3, 18.5, 19.6, 17.6, 22.7, null, 14.2, 19.2, 17.0, 25.9, 25.5, 27.7, null, 16.4, 26.4, null, 21.4, 27.3, 25.3, 25.5, null, 28.6, 26.0, 25.5, 24.6, null, 19.4, 17.6, 23.5, 26.2, 20.1, 25.5, 20.2, 29.2, 27.5, 26.9, 25.1, 22.3, null, 22.9, 25.7, null, 21.6, 20.9, 24.1, null, 23.1, 24.1, 17.8, null, null, 26.9, null, null, 25.4, 28.1, 16.0, 23.9, 21.2, 20.6, null, 24.1, 25.2, 25.0, 22.4, 19.6, 25.5, 25.5, 22.5, null, null, 18.7, 20.0, 19.2, 29.0, 30.6, 15.2, null, 23.6, 27.4, 27.5, 31.0, 19.0, 25.8, 24.3, 22.7, 26.9, 24.4, 22.3, 24.3, 19.7, 18.5, 22.5, 29.7, 26.4, 21.0, null, 24.5, null, null, 20.6, 22.8, 22.5, 18.6, 23.4, 25.4, 24.2, 17.1, null, null, null, 26.4, null, 25.9, null, 29.2, 22.3, 23.0, 28.0, 16.5, null, 20.0, 23.0, 27.7, 20.5, 23.1, 23.0, 22.5, 21.7, 19.7, 21.7, 31.1, 27.5, 28.5, null, 22.0, 20.8, 18.9, 27.2, null, 24.8, null, 23.1, 24.4, null, 27.6, 14.6, 21.8, 21.9, 19.9, null, 26.0, 22.7, 22.3, null, 20.1, 17.2, 17.1, 19.5, 14.9, 20.8, 24.0, null, 27.0, null, null, 21.3, null, 23.7, 21.9, 26.3, 25.8, 22.5, 23.5, 21.2, 22.8, 18.5, null, 21.2, null, 26.5, 17.8, 17.7, 27.0, 22.6, 26.6, 24.0, 25.2, 23.7, null, null, 29.3, null, 28.0, 23.0, null, null, 25.0, 18.7, 24.9, null, 28.2, 23.5, 24.6, 20.9, null, 19.5, 19.3, 31.1, 22.6, 20.6, 25.4, 19.9, null, null, 20.8, 21.4, 21.6, 28.7, 16.4, 21.6, 22.9, null, null, 24.1, 24.9, 21.7, 19.7, 25.0, 21.1, 22.9, 26.0, null, null, 18.7, 20.0, 27.4, 18.2, 27.2, 18.2, null, 17.4, 27.7, 20.2, 25.9, 23.9, 19.3, 23.6, 23.5, null, 27.6, 18.1, 18.2, 30.1, 22.1, null, 24.2, 25.3, 24.5, null, null, 21.2, null, 22.3, 24.7, 14.3, 15.6, 22.4, 19.6, 27.4, 24.8, 26.2, 27.6, 25.6, null, 31.0, null, 17.5, 23.8, 22.1, 18.9, 23.9, 22.2, 23.4, null, null, null, null, 17.9, null, 20.6, 25.2, 19.1, 25.9, 22.3, null, 30.1, null, 21.6, 21.8, 22.9, 17.2, 21.9, 24.3, 25.0, null, null, 18.5, 24.3, 25.1, 18.6, null, 22.8, 20.9, 19.4, 27.8, 30.4, 19.0, 22.0, 25.5, 20.3, 17.3, 21.9, 25.6, 25.1, 22.5, 21.9, 22.2, 20.7, 25.6, 18.2, 17.6, 18.3, 29.7, 22.4, 21.5, 21.7, 28.6, 22.3, 17.4, null, 21.8, 23.0, 17.7, 25.1, 23.8, null, null, 20.6, null, 26.8, 28.1, null, null, null, null, 23.2, null, 22.5, null, 16.5, 16.3, null, 21.6, 29.9, 26.3, 27.1, null, 22.8, 26.8, 24.9, 20.6, null, null, 19.9, 21.9, null, 23.2, 20.1, 23.5, 28.2, 22.3, 19.1, 26.5, 20.4, 22.0, 29.4, 25.3, 24.2, 19.7, 25.8, 21.1, 25.0, 21.5, 30.8, 22.4, 21.6, 28.1, 22.1, null, 23.0, 20.6, 13.4, null, null, 26.9, 25.3, 27.0, 15.4, 18.9, null, 20.3, 22.3, null, 24.8, 22.9, null, 25.6, 27.9, 28.7, 19.1, 26.9, 22.9, null, 17.9, null, 23.2, 23.9, null, 26.5, 18.9, null, 23.0, 28.5, 26.6, 24.4, 21.5, 21.3, 29.8, 23.6, null, null, 21.6, 23.6, 19.1, 23.9, 27.5, 30.0, 24.2, 17.0, 26.0, null, 24.7, 29.6, 23.8, null, 27.7, 24.5, 27.6, 24.0, 23.8, 22.7, 23.6, 24.0, null, 26.9, 22.1, 21.0, 27.0, 26.0, 18.7, null, 19.1, null, 27.6, 19.3, 27.2, 20.4, 24.5, 26.8, 21.6, 27.9, null, 17.2, null, 27.6, 25.8, 21.6, 27.5, null, 19.5, 26.3, 24.9, 16.3, 22.9, 19.8, 17.6, null, 29.2, 28.8, 26.1, null, 14.7, 25.2, 23.9, null, null, null, 26.5, 27.8, null, 25.4, 23.6, 24.4, 25.4, null, 24.9, 25.7, 22.3, null, 18.7, null, 18.9, null, 14.5, 25.9, 24.7, 20.1, 24.9, 26.7, 16.7, 27.3, 24.1, 25.8, null, 22.3, 22.7, 19.0, 21.6, 19.7, 24.2, 20.1, null, 25.5, 31.1, 17.2, 30.8, 18.3, null, 15.4, 22.3, 22.6, null, 24.9, 18.5, null, 23.2, null, 24.6, 22.4, 17.6, 27.8, 20.0, 24.4, 20.7, 24.6, 25.0, 19.2, 21.7, 20.6, null, 27.3, 23.9, 18.8, 24.7, 28.1, 24.3, 30.9, 23.0, 16.5, 22.3, 23.5, 27.8, 17.9, null, null, null, 28.3, 20.0, 19.7, 28.4, 22.9, null, 24.2, null, 22.5, 20.6, 23.3, 23.6, null, 29.5, 18.6, null, 27.8, 24.2, 21.9, 27.3, null, 20.0, 29.5, 19.4, null, 27.6, null, 21.9, null, 22.1, 23.3, 25.1, 21.6, 27.4, 21.1, 18.3, 23.9, 19.9, null, null, 24.0, 19.8, null, 27.5, 26.5, 27.2, 28.2, null, null, null, 13.5, null, 17.5, null, 21.9, null, 21.7, 25.5, 23.3, 20.1, null, null, 21.2, 19.4, 26.0, null, 26.1, 21.9, 27.0, null, 24.6, 25.2, 21.5, 27.4, 23.4, 14.7, 24.4, 25.1, 20.9, 20.3, 21.8, 25.8, 22.9, 22.8, 15.7, 18.5, 21.9, null, 18.9, null, 25.8, 22.5, 28.1, 21.5, 27.3, 27.7, 21.7, null, 15.1, 22.6, 26.9, null, 23.5, 22.7, null, 25.3, 27.1, 14.7, 28.1, null, 26.4, 16.3, 20.4, 26.2, 17.6, 16.5, 27.0, 20.7, 22.6, 19.1, 26.8, 20.7, 23.1, null, null, 25.6, null, 18.8, 18.2, 30.6, 21.8, 20.2, null, 27.4, 17.5, null, 23.0, 15.4, null, null, 15.2, 23.4, 22.2, 23.8, 17.6, 26.4, null, 27.4, 28.5, 24.5, 28.1, 21.4, 24.2, null, null, null, null, 20.9, null, 23.5, 19.3, 27.4, 23.7, null, null, 19.0, 24.8, null, 19.9, 24.2, null, 21.6, 23.6, 23.5, 27.2, 31.1, 25.0, 24.4, 15.9, 19.8, 18.6, 26.6, 26.5, 23.2, null, 22.5, 16.8, 22.3, null, null, 26.4, 23.3, null, 23.6, 23.9, 25.1, 24.4, 27.5, 21.8, 25.6, 24.4, null, 23.9, 28.3, 26.8, 23.2, 22.2, 19.3, null, 18.9, 19.5, 27.5, null, null, 23.5, null, 29.0, 28.6, 26.0, 29.2, 15.0, 30.9]}],\n",
       "                        {\"template\": {\"data\": {\"bar\": [{\"error_x\": {\"color\": \"#2a3f5f\"}, \"error_y\": {\"color\": \"#2a3f5f\"}, \"marker\": {\"line\": {\"color\": \"#E5ECF6\", \"width\": 0.5}}, \"type\": \"bar\"}], \"barpolar\": [{\"marker\": {\"line\": {\"color\": \"#E5ECF6\", \"width\": 0.5}}, \"type\": \"barpolar\"}], \"carpet\": [{\"aaxis\": {\"endlinecolor\": \"#2a3f5f\", \"gridcolor\": \"white\", \"linecolor\": \"white\", \"minorgridcolor\": \"white\", \"startlinecolor\": \"#2a3f5f\"}, \"baxis\": {\"endlinecolor\": \"#2a3f5f\", \"gridcolor\": \"white\", \"linecolor\": \"white\", \"minorgridcolor\": \"white\", \"startlinecolor\": \"#2a3f5f\"}, \"type\": \"carpet\"}], \"choropleth\": [{\"colorbar\": {\"outlinewidth\": 0, \"ticks\": \"\"}, \"type\": \"choropleth\"}], \"contour\": [{\"colorbar\": {\"outlinewidth\": 0, \"ticks\": \"\"}, \"colorscale\": [[0.0, \"#0d0887\"], [0.1111111111111111, \"#46039f\"], [0.2222222222222222, \"#7201a8\"], [0.3333333333333333, \"#9c179e\"], [0.4444444444444444, \"#bd3786\"], [0.5555555555555556, \"#d8576b\"], [0.6666666666666666, \"#ed7953\"], [0.7777777777777778, \"#fb9f3a\"], [0.8888888888888888, \"#fdca26\"], [1.0, \"#f0f921\"]], \"type\": \"contour\"}], \"contourcarpet\": [{\"colorbar\": {\"outlinewidth\": 0, \"ticks\": \"\"}, \"type\": \"contourcarpet\"}], \"heatmap\": [{\"colorbar\": {\"outlinewidth\": 0, \"ticks\": \"\"}, \"colorscale\": [[0.0, \"#0d0887\"], [0.1111111111111111, \"#46039f\"], [0.2222222222222222, \"#7201a8\"], [0.3333333333333333, \"#9c179e\"], [0.4444444444444444, \"#bd3786\"], [0.5555555555555556, \"#d8576b\"], [0.6666666666666666, \"#ed7953\"], [0.7777777777777778, \"#fb9f3a\"], [0.8888888888888888, \"#fdca26\"], [1.0, \"#f0f921\"]], \"type\": \"heatmap\"}], \"heatmapgl\": [{\"colorbar\": {\"outlinewidth\": 0, \"ticks\": \"\"}, \"colorscale\": [[0.0, \"#0d0887\"], [0.1111111111111111, \"#46039f\"], [0.2222222222222222, \"#7201a8\"], [0.3333333333333333, \"#9c179e\"], [0.4444444444444444, \"#bd3786\"], [0.5555555555555556, \"#d8576b\"], [0.6666666666666666, \"#ed7953\"], [0.7777777777777778, \"#fb9f3a\"], [0.8888888888888888, \"#fdca26\"], [1.0, \"#f0f921\"]], \"type\": \"heatmapgl\"}], \"histogram\": [{\"marker\": {\"colorbar\": {\"outlinewidth\": 0, \"ticks\": \"\"}}, \"type\": \"histogram\"}], \"histogram2d\": [{\"colorbar\": {\"outlinewidth\": 0, \"ticks\": \"\"}, \"colorscale\": [[0.0, \"#0d0887\"], [0.1111111111111111, \"#46039f\"], [0.2222222222222222, \"#7201a8\"], [0.3333333333333333, \"#9c179e\"], [0.4444444444444444, \"#bd3786\"], [0.5555555555555556, \"#d8576b\"], [0.6666666666666666, \"#ed7953\"], [0.7777777777777778, \"#fb9f3a\"], [0.8888888888888888, \"#fdca26\"], [1.0, \"#f0f921\"]], \"type\": \"histogram2d\"}], \"histogram2dcontour\": [{\"colorbar\": {\"outlinewidth\": 0, \"ticks\": \"\"}, \"colorscale\": [[0.0, \"#0d0887\"], [0.1111111111111111, \"#46039f\"], [0.2222222222222222, \"#7201a8\"], [0.3333333333333333, \"#9c179e\"], [0.4444444444444444, \"#bd3786\"], [0.5555555555555556, \"#d8576b\"], [0.6666666666666666, \"#ed7953\"], [0.7777777777777778, \"#fb9f3a\"], [0.8888888888888888, \"#fdca26\"], [1.0, \"#f0f921\"]], \"type\": \"histogram2dcontour\"}], \"mesh3d\": [{\"colorbar\": {\"outlinewidth\": 0, \"ticks\": \"\"}, \"type\": \"mesh3d\"}], \"parcoords\": [{\"line\": {\"colorbar\": {\"outlinewidth\": 0, \"ticks\": \"\"}}, \"type\": \"parcoords\"}], \"scatter\": [{\"marker\": {\"colorbar\": {\"outlinewidth\": 0, \"ticks\": \"\"}}, \"type\": \"scatter\"}], \"scatter3d\": [{\"line\": {\"colorbar\": {\"outlinewidth\": 0, \"ticks\": \"\"}}, \"marker\": {\"colorbar\": {\"outlinewidth\": 0, \"ticks\": \"\"}}, \"type\": \"scatter3d\"}], \"scattercarpet\": [{\"marker\": {\"colorbar\": {\"outlinewidth\": 0, \"ticks\": \"\"}}, \"type\": \"scattercarpet\"}], \"scattergeo\": [{\"marker\": {\"colorbar\": {\"outlinewidth\": 0, \"ticks\": \"\"}}, \"type\": \"scattergeo\"}], \"scattergl\": [{\"marker\": {\"colorbar\": {\"outlinewidth\": 0, \"ticks\": \"\"}}, \"type\": \"scattergl\"}], \"scattermapbox\": [{\"marker\": {\"colorbar\": {\"outlinewidth\": 0, \"ticks\": \"\"}}, \"type\": \"scattermapbox\"}], \"scatterpolar\": [{\"marker\": {\"colorbar\": {\"outlinewidth\": 0, \"ticks\": \"\"}}, \"type\": \"scatterpolar\"}], \"scatterpolargl\": [{\"marker\": {\"colorbar\": {\"outlinewidth\": 0, \"ticks\": \"\"}}, \"type\": \"scatterpolargl\"}], \"scatterternary\": [{\"marker\": {\"colorbar\": {\"outlinewidth\": 0, \"ticks\": \"\"}}, \"type\": \"scatterternary\"}], \"surface\": [{\"colorbar\": {\"outlinewidth\": 0, \"ticks\": \"\"}, \"colorscale\": [[0.0, \"#0d0887\"], [0.1111111111111111, \"#46039f\"], [0.2222222222222222, \"#7201a8\"], [0.3333333333333333, \"#9c179e\"], [0.4444444444444444, \"#bd3786\"], [0.5555555555555556, \"#d8576b\"], [0.6666666666666666, \"#ed7953\"], [0.7777777777777778, \"#fb9f3a\"], [0.8888888888888888, \"#fdca26\"], [1.0, \"#f0f921\"]], \"type\": \"surface\"}], \"table\": [{\"cells\": {\"fill\": {\"color\": \"#EBF0F8\"}, \"line\": {\"color\": \"white\"}}, \"header\": {\"fill\": {\"color\": \"#C8D4E3\"}, \"line\": {\"color\": \"white\"}}, \"type\": \"table\"}]}, \"layout\": {\"annotationdefaults\": {\"arrowcolor\": \"#2a3f5f\", \"arrowhead\": 0, \"arrowwidth\": 1}, \"colorscale\": {\"diverging\": [[0, \"#8e0152\"], [0.1, \"#c51b7d\"], [0.2, \"#de77ae\"], [0.3, \"#f1b6da\"], [0.4, \"#fde0ef\"], [0.5, \"#f7f7f7\"], [0.6, \"#e6f5d0\"], [0.7, \"#b8e186\"], [0.8, \"#7fbc41\"], [0.9, \"#4d9221\"], [1, \"#276419\"]], \"sequential\": [[0.0, \"#0d0887\"], [0.1111111111111111, \"#46039f\"], [0.2222222222222222, \"#7201a8\"], [0.3333333333333333, \"#9c179e\"], [0.4444444444444444, \"#bd3786\"], [0.5555555555555556, \"#d8576b\"], [0.6666666666666666, \"#ed7953\"], [0.7777777777777778, \"#fb9f3a\"], [0.8888888888888888, \"#fdca26\"], [1.0, \"#f0f921\"]], \"sequentialminus\": [[0.0, \"#0d0887\"], [0.1111111111111111, \"#46039f\"], [0.2222222222222222, \"#7201a8\"], [0.3333333333333333, \"#9c179e\"], [0.4444444444444444, \"#bd3786\"], [0.5555555555555556, \"#d8576b\"], [0.6666666666666666, \"#ed7953\"], [0.7777777777777778, \"#fb9f3a\"], [0.8888888888888888, \"#fdca26\"], [1.0, \"#f0f921\"]]}, \"colorway\": [\"#636efa\", \"#EF553B\", \"#00cc96\", \"#ab63fa\", \"#FFA15A\", \"#19d3f3\", \"#FF6692\", \"#B6E880\", \"#FF97FF\", \"#FECB52\"], \"font\": {\"color\": \"#2a3f5f\"}, \"geo\": {\"bgcolor\": \"white\", \"lakecolor\": \"white\", \"landcolor\": \"#E5ECF6\", \"showlakes\": true, \"showland\": true, \"subunitcolor\": \"white\"}, \"hoverlabel\": {\"align\": \"left\"}, \"hovermode\": \"closest\", \"mapbox\": {\"style\": \"light\"}, \"paper_bgcolor\": \"white\", \"plot_bgcolor\": \"#E5ECF6\", \"polar\": {\"angularaxis\": {\"gridcolor\": \"white\", \"linecolor\": \"white\", \"ticks\": \"\"}, \"bgcolor\": \"#E5ECF6\", \"radialaxis\": {\"gridcolor\": \"white\", \"linecolor\": \"white\", \"ticks\": \"\"}}, \"scene\": {\"xaxis\": {\"backgroundcolor\": \"#E5ECF6\", \"gridcolor\": \"white\", \"gridwidth\": 2, \"linecolor\": \"white\", \"showbackground\": true, \"ticks\": \"\", \"zerolinecolor\": \"white\"}, \"yaxis\": {\"backgroundcolor\": \"#E5ECF6\", \"gridcolor\": \"white\", \"gridwidth\": 2, \"linecolor\": \"white\", \"showbackground\": true, \"ticks\": \"\", \"zerolinecolor\": \"white\"}, \"zaxis\": {\"backgroundcolor\": \"#E5ECF6\", \"gridcolor\": \"white\", \"gridwidth\": 2, \"linecolor\": \"white\", \"showbackground\": true, \"ticks\": \"\", \"zerolinecolor\": \"white\"}}, \"shapedefaults\": {\"line\": {\"color\": \"#2a3f5f\"}}, \"ternary\": {\"aaxis\": {\"gridcolor\": \"white\", \"linecolor\": \"white\", \"ticks\": \"\"}, \"baxis\": {\"gridcolor\": \"white\", \"linecolor\": \"white\", \"ticks\": \"\"}, \"bgcolor\": \"#E5ECF6\", \"caxis\": {\"gridcolor\": \"white\", \"linecolor\": \"white\", \"ticks\": \"\"}}, \"title\": {\"x\": 0.05}, \"xaxis\": {\"automargin\": true, \"gridcolor\": \"white\", \"linecolor\": \"white\", \"ticks\": \"\", \"zerolinecolor\": \"white\", \"zerolinewidth\": 2}, \"yaxis\": {\"automargin\": true, \"gridcolor\": \"white\", \"linecolor\": \"white\", \"ticks\": \"\", \"zerolinecolor\": \"white\", \"zerolinewidth\": 2}}}},\n",
       "                        {\"responsive\": true}\n",
       "                    ).then(function(){\n",
       "                            \n",
       "var gd = document.getElementById('e35d8555-6b4c-4868-ae86-2d3b7cb9f5a3');\n",
       "var x = new MutationObserver(function (mutations, observer) {{\n",
       "        var display = window.getComputedStyle(gd).display;\n",
       "        if (!display || display === 'none') {{\n",
       "            console.log([gd, 'removed!']);\n",
       "            Plotly.purge(gd);\n",
       "            observer.disconnect();\n",
       "        }}\n",
       "}});\n",
       "\n",
       "// Listen for the removal of the full notebook cells\n",
       "var notebookContainer = gd.closest('#notebook-container');\n",
       "if (notebookContainer) {{\n",
       "    x.observe(notebookContainer, {childList: true});\n",
       "}}\n",
       "\n",
       "// Listen for the clearing of the current output cell\n",
       "var outputEl = gd.closest('.output');\n",
       "if (outputEl) {{\n",
       "    x.observe(outputEl, {childList: true});\n",
       "}}\n",
       "\n",
       "                        })\n",
       "                };\n",
       "                \n",
       "            </script>\n",
       "        </div>\n",
       "</body>\n",
       "</html>"
      ]
     },
     "metadata": {
      "tags": []
     },
     "output_type": "display_data"
    }
   ],
   "source": [
    "box_data = [\n",
    "    go.Box(\n",
    "        y=data['Temperature'],\n",
    "        boxpoints='all',\n",
    "        jitter=0.3,\n",
    "        pointpos=-1.8,\n",
    "        name=\"Temperature Distribution\"\n",
    "    )\n",
    "]\n",
    "py.iplot(box_data)"
   ]
  },
  {
   "cell_type": "markdown",
   "metadata": {
    "colab_type": "text",
    "id": "XRDoPe8Ni7he"
   },
   "source": [
    "The distribution of temperature is fairly constant."
   ]
  },
  {
   "cell_type": "markdown",
   "metadata": {
    "colab_type": "text",
    "id": "esIYr71_i7hg"
   },
   "source": [
    "#### Analysis of Distance between pick up and drop location."
   ]
  },
  {
   "cell_type": "code",
   "execution_count": 0,
   "metadata": {
    "colab": {
     "base_uri": "https://localhost:8080/",
     "height": 542
    },
    "colab_type": "code",
    "id": "I2gsF-WKeQMP",
    "outputId": "633fdb11-33f4-4019-bc7d-c94d6d389e53"
   },
   "outputs": [
    {
     "data": {
      "text/html": [
       "<html>\n",
       "<head><meta charset=\"utf-8\" /></head>\n",
       "<body>\n",
       "    <div>\n",
       "            <script src=\"https://cdnjs.cloudflare.com/ajax/libs/mathjax/2.7.5/MathJax.js?config=TeX-AMS-MML_SVG\"></script><script type=\"text/javascript\">if (window.MathJax) {MathJax.Hub.Config({SVG: {font: \"STIX-Web\"}});}</script>\n",
       "                <script type=\"text/javascript\">window.PlotlyConfig = {MathJaxConfig: 'local'};</script>\n",
       "        <script src=\"https://cdn.plot.ly/plotly-latest.min.js\"></script>    \n",
       "            <div id=\"f0bef3d8-e255-4deb-af8e-49a6e07cfdeb\" class=\"plotly-graph-div\" style=\"height:525px; width:100%;\"></div>\n",
       "            <script type=\"text/javascript\">\n",
       "                \n",
       "                    window.PLOTLYENV=window.PLOTLYENV || {};\n",
       "                    \n",
       "                if (document.getElementById(\"f0bef3d8-e255-4deb-af8e-49a6e07cfdeb\")) {\n",
       "                    Plotly.newPlot(\n",
       "                        'f0bef3d8-e255-4deb-af8e-49a6e07cfdeb',\n",
       "                        [{\"boxpoints\": \"suspectedoutliers\", \"jitter\": 0.3, \"name\": \"Distance\", \"pointpos\": -1.8, \"type\": \"box\", \"y\": [4, 16, 3, 9, 9, 9, 5, 3, 9, 14, 9, 17, 10, 21, 1, 13, 17, 13, 5, 5, 7, 24, 11, 10, 3, 13, 5, 17, 9, 1, 20, 11, 12, 12, 3, 7, 4, 8, 9, 16, 21, 8, 16, 21, 9, 2, 8, 18, 15, 12, 11, 19, 3, 8, 28, 8, 10, 8, 18, 8, 8, 2, 9, 14, 11, 11, 3, 2, 4, 9, 4, 7, 6, 4, 15, 11, 19, 19, 19, 15, 14, 5, 8, 5, 11, 8, 4, 23, 12, 3, 14, 5, 9, 7, 18, 5, 4, 6, 20, 4, 4, 6, 4, 11, 6, 14, 9, 10, 15, 10, 4, 7, 6, 17, 2, 9, 16, 6, 19, 14, 8, 6, 20, 10, 8, 4, 4, 6, 7, 48, 7, 8, 19, 14, 7, 6, 4, 22, 14, 15, 9, 6, 21, 5, 15, 5, 5, 15, 12, 14, 7, 7, 10, 8, 14, 14, 10, 4, 3, 10, 9, 8, 18, 10, 12, 8, 15, 20, 5, 13, 10, 4, 11, 16, 15, 11, 13, 8, 14, 8, 4, 21, 3, 11, 4, 11, 15, 6, 1, 3, 5, 9, 15, 29, 8, 29, 11, 3, 15, 15, 12, 8, 23, 6, 8, 17, 6, 10, 17, 8, 5, 9, 3, 16, 7, 15, 9, 5, 16, 6, 6, 9, 2, 26, 8, 5, 9, 5, 6, 17, 5, 8, 7, 8, 6, 20, 10, 8, 11, 11, 11, 15, 6, 2, 11, 7, 10, 20, 8, 11, 7, 6, 10, 27, 3, 13, 4, 20, 3, 8, 10, 9, 9, 3, 8, 12, 18, 3, 5, 19, 10, 13, 12, 9, 4, 16, 1, 13, 5, 5, 7, 15, 6, 11, 9, 4, 9, 20, 18, 4, 15, 8, 6, 9, 9, 12, 16, 8, 5, 4, 2, 9, 5, 15, 1, 4, 13, 18, 7, 8, 2, 16, 2, 19, 11, 10, 8, 13, 10, 8, 32, 10, 5, 4, 5, 8, 18, 28, 4, 4, 3, 8, 6, 7, 11, 17, 8, 4, 14, 22, 2, 7, 8, 11, 13, 15, 5, 5, 8, 5, 7, 13, 5, 18, 7, 2, 4, 3, 14, 8, 9, 14, 8, 15, 1, 4, 6, 10, 11, 10, 3, 8, 10, 11, 14, 9, 3, 14, 3, 11, 8, 1, 3, 1, 5, 10, 16, 5, 7, 5, 8, 5, 3, 17, 18, 7, 2, 11, 16, 10, 17, 4, 11, 21, 9, 8, 10, 11, 11, 5, 10, 15, 8, 14, 22, 8, 3, 2, 17, 5, 4, 8, 7, 29, 6, 4, 8, 6, 5, 16, 12, 5, 10, 15, 7, 7, 6, 15, 5, 16, 2, 8, 11, 16, 12, 3, 8, 7, 4, 5, 12, 25, 7, 14, 8, 9, 13, 10, 22, 30, 2, 6, 4, 21, 5, 8, 9, 3, 4, 5, 7, 3, 8, 15, 9, 3, 4, 15, 8, 14, 17, 12, 4, 3, 13, 6, 7, 7, 12, 14, 15, 6, 1, 14, 8, 5, 9, 6, 10, 6, 16, 3, 7, 2, 21, 23, 8, 8, 19, 18, 4, 10, 17, 3, 4, 13, 15, 12, 19, 11, 9, 8, 14, 8, 19, 14, 14, 9, 5, 10, 16, 12, 17, 8, 8, 19, 10, 5, 4, 5, 8, 11, 8, 7, 6, 5, 10, 8, 5, 3, 12, 17, 21, 8, 6, 16, 8, 18, 22, 10, 9, 10, 19, 11, 8, 9, 3, 7, 3, 12, 14, 7, 16, 8, 9, 12, 2, 9, 7, 8, 9, 9, 1, 14, 20, 8, 9, 8, 13, 7, 12, 4, 15, 1, 9, 11, 6, 8, 2, 26, 4, 21, 6, 6, 3, 9, 8, 4, 5, 6, 3, 8, 13, 18, 8, 3, 7, 6, 14, 9, 8, 11, 15, 12, 6, 21, 18, 24, 9, 8, 11, 15, 20, 8, 4, 13, 12, 13, 5, 11, 19, 8, 11, 8, 5, 9, 8, 19, 4, 3, 15, 4, 11, 1, 6, 17, 9, 18, 5, 18, 13, 10, 9, 3, 6, 7, 5, 6, 4, 14, 11, 6, 1, 8, 9, 8, 21, 16, 21, 8, 8, 6, 8, 5, 23, 7, 19, 7, 14, 6, 29, 2, 8, 11, 5, 18, 4, 7, 2, 10, 12, 14, 4, 7, 5, 20, 5, 20, 9, 4, 7, 5, 3, 6, 4, 5, 11, 3, 9, 7, 16, 12, 1, 20, 7, 3, 8, 5, 10, 16, 3, 3, 13, 15, 5, 4, 13, 8, 9, 21, 23, 18, 8, 7, 14, 17, 8, 2, 2, 10, 18, 4, 7, 14, 10, 12, 9, 9, 10, 12, 8, 7, 23, 12, 11, 9, 9, 5, 3, 17, 13, 22, 6, 14, 9, 14, 3, 15, 8, 10, 7, 6, 3, 2, 16, 4, 21, 34, 7, 8, 2, 8, 19, 16, 2, 11, 8, 14, 12, 4, 14, 32, 22, 7, 3, 12, 8, 8, 5, 3, 3, 6, 5, 9, 19, 9, 14, 6, 10, 2, 2, 4, 18, 5, 18, 2, 6, 4, 12, 18, 15, 16, 8, 2, 9, 9, 8, 11, 7, 15, 11, 4, 9, 14, 6, 3, 11, 3, 14, 8, 23, 8, 4, 21, 11, 4, 27, 8, 16, 8, 22, 4, 17, 15, 7, 14, 6, 10, 6, 11, 3, 28, 6, 8, 15, 8, 7, 13, 7, 17, 11, 6, 4, 8, 3, 5, 5, 4, 2, 8, 13, 6, 3, 8, 8, 14, 6, 6, 10, 9, 18, 14, 14, 14, 19, 7, 8, 10, 8, 27, 9, 11, 9, 8, 1, 5, 17, 10, 12, 5, 7, 9, 30, 1, 7, 8, 21, 11, 4, 10, 13, 4, 9, 10, 9, 6, 8, 6, 6, 18, 5, 15, 4, 12, 14, 8, 21, 8, 17, 4, 21, 3, 4, 8, 9, 14, 5, 1, 14, 6, 10, 13, 23, 13, 7, 13, 7, 2, 2, 6, 8, 5, 9, 3, 4, 2, 5, 7, 2, 7, 5, 5, 9, 9, 8, 8, 9, 5, 7, 17, 22, 16, 10, 14, 20, 8, 12, 21, 4, 17, 9, 10, 18, 9, 5, 3, 21, 20, 22, 14, 17, 10, 8, 5, 22, 7, 11, 12, 5, 15, 14, 2, 8, 11, 5, 15, 5, 6, 27, 18, 7, 8, 5, 18, 24, 8, 6, 18, 15, 7, 22, 2, 5, 4, 5, 11, 3, 8, 6, 7, 5, 15, 14, 8, 22, 9, 12, 7, 13, 5, 6, 10, 4, 16, 5, 18, 7, 15, 9, 6, 7, 7, 21, 10, 6, 6, 7, 18, 3, 17, 2, 3, 12, 8, 8, 6, 8, 12, 3, 17, 15, 5, 5, 9, 7, 11, 12, 18, 25, 3, 16, 20, 8, 15, 16, 5, 9, 10, 11, 14, 9, 12, 18, 7, 5, 5, 25, 9, 4, 9, 10, 4, 4, 3, 7, 11, 8, 12, 6, 6, 8, 14, 8, 14, 8, 3, 5, 6, 4, 6, 16, 10, 13, 5, 6, 4, 6, 2, 5, 16, 23, 20, 30, 29, 16, 7, 5, 2, 4, 20, 14, 6, 9, 20, 9, 20, 16, 19, 6, 4, 11, 4, 4, 8, 10, 5, 9, 18, 10, 6, 3, 6, 18, 7, 1, 15, 7, 24, 19, 12, 5, 6, 14, 4, 5, 10, 8, 16, 7, 8, 4, 3, 3, 9, 17, 8, 8, 3, 15, 3, 5, 9, 10, 23, 4, 18, 7, 13, 7, 9, 11, 15, 11, 22, 14, 11, 14, 10, 6, 10, 5, 15, 15, 2, 6, 9, 5, 8, 5, 5, 8, 16, 1, 3, 20, 10, 3, 15, 14, 20, 2, 6, 16, 18, 6, 2, 8, 11, 1, 11, 3, 13, 5, 12, 5, 18, 5, 9, 6, 10, 3, 8, 1, 19, 7, 5, 11, 14, 19, 4, 4, 9, 8, 16, 13, 9, 26, 7, 3, 7, 9, 8, 7, 10, 6, 22, 4, 9, 3, 9, 16, 9, 10, 8, 8, 2, 8, 9, 15, 5, 3, 4, 2, 5, 12, 23, 10, 7, 9, 8, 8, 11, 4, 9, 4, 1, 12, 4, 12, 10, 14, 6, 11, 2, 14, 16, 8, 8, 14, 27, 9, 13, 13, 12, 7, 2, 8, 17, 6, 7, 7, 10, 8, 8, 8, 12, 12, 8, 14, 6, 17, 17, 4, 10, 11, 10, 15, 6, 2, 12, 3, 8, 6, 3, 3, 17, 9, 8, 11, 5, 6, 11, 12, 13, 14, 10, 9, 5, 8, 6, 14, 6, 9, 13, 8, 4, 35, 4, 7, 2, 5, 19, 4, 6, 10, 9, 9, 6, 19, 7, 7, 20, 10, 10, 12, 3, 13, 3, 5, 2, 11, 11, 4, 1, 12, 14, 5, 22, 12, 4, 23, 12, 11, 1, 3, 17, 3, 7, 11, 6, 10, 12, 6, 6, 6, 4, 5, 4, 20, 2, 13, 3, 11, 2, 3, 6, 16, 5, 3, 14, 7, 14, 8, 16, 6, 4, 6, 22, 9, 10, 7, 16, 4, 14, 5, 12, 12, 16, 4, 8, 21, 2, 14, 8, 6, 4, 9, 5, 5, 18, 2, 21, 5, 7, 10, 11, 18, 4, 11, 9, 14, 3, 8, 14, 12, 13, 9, 14, 9, 18, 8, 6, 6, 8, 5, 8, 8, 4, 2, 12, 10, 14, 12, 4, 8, 21, 2, 10, 8, 17, 6, 6, 9, 11, 20, 7, 5, 8, 5, 4, 15, 9, 4, 5, 6, 14, 19, 4, 18, 15, 27, 6, 5, 29, 15, 12, 13, 8, 6, 4, 3, 20, 25, 18, 5, 10, 11, 12, 8, 10, 9, 5, 10, 3, 12, 9, 18, 15, 8, 7, 9, 5, 14, 1, 12, 5, 9, 10, 10, 15, 5, 11, 9, 8, 29, 6, 1, 15, 6, 4, 18, 7, 4, 6, 7, 8, 18, 6, 6, 5, 9, 9, 7, 6, 3, 18, 21, 9, 14, 12, 4, 15, 8, 1, 12, 6, 14, 22, 6, 7, 8, 5, 1, 9, 9, 6, 12, 11, 4, 1, 10, 14, 10, 9, 13, 5, 4, 11, 14, 8, 21, 8, 2, 14, 5, 15, 4, 25, 14, 8, 5, 7, 14, 16, 13, 20, 10, 8, 20, 6, 10, 4, 12, 3, 6, 9, 14, 15, 8, 4, 5, 10, 15, 28, 2, 12, 13, 4, 4, 8, 11, 12, 8, 22, 5, 7, 1, 4, 16, 13, 10, 7, 7, 5, 14, 6, 10, 5, 3, 14, 7, 11, 16, 4, 9, 16, 15, 18, 13, 2, 4, 4, 3, 14, 8, 10, 19, 10, 16, 12, 3, 11, 8, 9, 22, 4, 5, 23, 8, 1, 16, 5, 20, 14, 9, 2, 11, 18, 5, 11, 9, 6, 6, 9, 5, 11, 10, 19, 8, 2, 8, 6, 10, 2, 4, 11, 4, 15, 19, 4, 11, 17, 1, 3, 9, 10, 3, 12, 25, 23, 9, 10, 5, 10, 5, 7, 4, 4, 14, 5, 15, 11, 8, 8, 7, 19, 7, 18, 10, 15, 3, 7, 7, 1, 4, 26, 14, 12, 8, 10, 20, 5, 7, 5, 6, 15, 16, 4, 13, 3, 11, 3, 13, 5, 4, 2, 5, 19, 5, 4, 6, 3, 7, 7, 2, 4, 6, 5, 21, 25, 9, 17, 5, 8, 4, 16, 9, 11, 11, 7, 10, 26, 3, 5, 10, 6, 7, 3, 9, 12, 7, 6, 17, 18, 9, 11, 15, 7, 3, 6, 10, 7, 9, 4, 20, 6, 9, 11, 8, 3, 12, 4, 3, 14, 8, 6, 10, 3, 14, 4, 8, 9, 1, 13, 7, 7, 12, 8, 5, 6, 7, 9, 9, 14, 9, 6, 6, 10, 10, 6, 25, 2, 8, 4, 6, 10, 17, 8, 5, 11, 8, 5, 2, 28, 5, 8, 2, 3, 10, 10, 4, 4, 13, 9, 8, 12, 4, 13, 9, 11, 14, 3, 3, 8, 2, 11, 10, 9, 6, 11, 14, 7, 9, 6, 5, 8, 6, 4, 14, 2, 3, 17, 9, 6, 1, 7, 10, 9, 14, 9, 15, 6, 20, 8, 13, 7, 7, 23, 6, 2, 2, 7, 5, 9, 16, 7, 8, 8, 8, 9, 10, 2, 5, 8, 10, 11, 5, 19, 1, 12, 6, 23, 11, 14, 8, 5, 8, 10, 24, 5, 18, 6, 6, 19, 13, 2, 7, 7, 5, 4, 7, 4, 4, 12, 11, 4, 7, 20, 7, 3, 7, 13, 25, 8, 7, 9, 16, 4, 15, 1, 2, 9, 15, 5, 3, 8, 2, 28, 9, 7, 24, 18, 2, 5, 4, 1, 12, 21, 4, 3, 9, 6, 8, 15, 7, 6, 3, 2, 18, 4, 14, 5, 16, 9, 13, 11, 8, 4, 6, 2, 9, 2, 4, 11, 6, 16, 14, 24, 2, 9, 12, 14, 2, 11, 5, 4, 5, 14, 12, 11, 7, 9, 17, 8, 12, 10, 8, 1, 10, 7, 4, 6, 8, 1, 14, 4, 35, 5, 12, 10, 5, 19, 14, 12, 21, 16, 8, 5, 5, 18, 10, 9, 3, 17, 27, 4, 5, 6, 26, 1, 2, 5, 11, 3, 5, 8, 12, 10, 9, 4, 9, 9, 10, 8, 5, 5, 7, 16, 25, 5, 6, 17, 4, 6, 8, 8, 12, 7, 4, 23, 14, 6, 12, 15, 16, 7, 11, 2, 19, 9, 7, 11, 6, 5, 10, 18, 7, 5, 12, 4, 5, 16, 8, 3, 5, 17, 13, 12, 5, 8, 11, 6, 5, 5, 20, 7, 6, 5, 24, 5, 7, 10, 5, 8, 26, 14, 8, 12, 7, 15, 9, 3, 4, 11, 6, 13, 6, 14, 4, 5, 10, 5, 8, 18, 9, 6, 4, 8, 18, 18, 4, 8, 7, 22, 12, 17, 9, 7, 19, 16, 12, 7, 7, 7, 2, 8, 7, 8, 6, 7, 3, 15, 18, 6, 10, 7, 13, 2, 15, 11, 14, 4, 13, 3, 8, 14, 4, 3, 5, 15, 4, 9, 6, 9, 28, 12, 3, 3, 12, 11, 6, 8, 4, 10, 3, 8, 4, 9, 8, 15, 9, 18, 5, 2, 12, 6, 15, 9, 20, 5, 12, 6, 3, 17, 17, 15, 20, 11, 15, 16, 12, 7, 7, 3, 8, 2, 12, 15, 17, 23, 10, 4, 6, 3, 14, 5, 10, 5, 1, 6, 5, 7, 15, 10, 5, 1, 5, 4, 7, 6, 4, 5, 4, 8, 7, 4, 3, 9, 8, 19, 2, 6, 20, 5, 8, 1, 10, 7, 11, 21, 9, 11, 3, 15, 2, 4, 4, 6, 18, 9, 19, 18, 36, 10, 11, 6, 5, 9, 21, 7, 3, 7, 18, 6, 3, 8, 7, 4, 5, 7, 8, 10, 14, 5, 13, 5, 10, 13, 6, 8, 7, 14, 2, 2, 6, 11, 6, 4, 6, 18, 9, 5, 6, 15, 4, 6, 7, 21, 14, 8, 13, 8, 5, 14, 6, 44, 3, 5, 18, 7, 14, 6, 5, 4, 9, 9, 11, 11, 8, 8, 6, 14, 7, 5, 17, 7, 4, 5, 10, 6, 8, 10, 9, 17, 3, 6, 14, 7, 10, 5, 5, 5, 11, 9, 14, 4, 13, 8, 9, 11, 6, 12, 3, 6, 3, 13, 16, 16, 6, 22, 8, 14, 8, 8, 7, 3, 14, 5, 8, 9, 19, 12, 12, 9, 15, 4, 10, 6, 21, 12, 4, 14, 10, 7, 14, 7, 17, 16, 5, 9, 4, 5, 6, 5, 14, 2, 14, 5, 5, 25, 9, 19, 11, 7, 5, 5, 5, 2, 18, 6, 3, 6, 4, 1, 7, 4, 6, 14, 12, 5, 8, 4, 4, 14, 9, 20, 20, 9, 10, 13, 16, 8, 7, 14, 17, 13, 9, 11, 14, 4, 9, 11, 8, 6, 11, 9, 8, 15, 10, 1, 5, 7, 24, 24, 8, 15, 3, 8, 8, 19, 5, 9, 7, 31, 9, 21, 7, 5, 10, 5, 14, 17, 3, 5, 7, 11, 6, 7, 14, 20, 10, 3, 16, 23, 14, 12, 11, 9, 16, 6, 18, 2, 4, 7, 4, 25, 10, 4, 17, 7, 9, 11, 12, 1, 12, 3, 11, 14, 4, 7, 11, 11, 11, 7, 20, 9, 6, 15, 16, 20, 1, 13, 16, 14, 14, 10, 5, 16, 5, 11, 7, 6, 9, 7, 6, 8, 9, 12, 3, 9, 4, 7, 15, 3, 11, 23, 4, 18, 9, 7, 8, 27, 2, 10, 16, 10, 7, 6, 11, 4, 17, 7, 9, 14, 5, 23, 5, 9, 2, 4, 6, 16, 1, 18, 7, 3, 4, 1, 4, 6, 4, 6, 23, 5, 8, 22, 13, 12, 17, 24, 8, 1, 28, 9, 9, 9, 7, 18, 9, 9, 6, 10, 29, 5, 10, 4, 3, 7, 7, 16, 15, 4, 10, 18, 18, 17, 16, 18, 4, 7, 5, 4, 12, 15, 7, 10, 4, 12, 3, 11, 13, 13, 8, 15, 12, 4, 10, 6, 6, 8, 16, 4, 6, 6, 11, 5, 15, 3, 5, 5, 12, 4, 8, 11, 3, 5, 5, 8, 18, 12, 14, 11, 15, 10, 9, 9, 16, 3, 7, 14, 11, 21, 10, 4, 8, 5, 7, 16, 6, 10, 17, 13, 3, 5, 6, 11, 3, 5, 8, 3, 2, 8, 4, 15, 5, 7, 2, 15, 7, 8, 6, 4, 13, 10, 1, 3, 15, 7, 18, 4, 10, 23, 12, 13, 8, 10, 6, 10, 9, 3, 17, 6, 11, 4, 9, 5, 15, 5, 9, 22, 29, 10, 29, 9, 8, 2, 11, 28, 10, 11, 9, 4, 4, 8, 22, 7, 2, 11, 10, 2, 11, 3, 2, 6, 12, 5, 20, 4, 14, 8, 3, 5, 9, 12, 8, 15, 14, 14, 8, 17, 4, 19, 8, 1, 4, 10, 14, 3, 2, 5, 5, 4, 5, 9, 3, 12, 9, 11, 6, 8, 3, 10, 14, 3, 2, 6, 6, 7, 5, 3, 17, 5, 4, 15, 3, 3, 5, 4, 15, 6, 11, 4, 7, 14, 20, 1, 3, 7, 9, 24, 7, 14, 9, 9, 5, 9, 6, 13, 6, 17, 13, 10, 17, 6, 3, 15, 6, 14, 5, 3, 20, 16, 10, 9, 23, 5, 7, 8, 2, 8, 4, 2, 3, 4, 22, 10, 4, 2, 13, 6, 6, 13, 5, 8, 2, 14, 8, 15, 6, 4, 8, 18, 14, 3, 4, 5, 11, 12, 5, 13, 3, 18, 23, 7, 19, 17, 18, 6, 8, 12, 4, 10, 9, 6, 1, 1, 8, 10, 8, 2, 12, 10, 2, 7, 7, 7, 5, 5, 19, 5, 11, 6, 5, 15, 12, 4, 19, 17, 6, 2, 3, 8, 12, 13, 14, 8, 23, 9, 9, 12, 4, 10, 9, 7, 24, 10, 4, 9, 36, 18, 7, 13, 10, 11, 20, 3, 3, 3, 11, 4, 11, 12, 3, 7, 18, 14, 14, 8, 8, 2, 4, 6, 28, 5, 7, 10, 13, 5, 3, 4, 9, 17, 12, 4, 18, 5, 4, 12, 7, 24, 8, 4, 6, 23, 8, 10, 6, 12, 5, 4, 6, 5, 9, 9, 5, 3, 5, 18, 15, 15, 14, 4, 11, 8, 14, 20, 14, 15, 27, 14, 11, 13, 2, 8, 5, 1, 6, 2, 9, 6, 6, 4, 7, 18, 17, 15, 7, 6, 11, 7, 9, 7, 11, 4, 8, 8, 4, 6, 41, 5, 6, 16, 8, 3, 7, 16, 3, 7, 5, 8, 8, 6, 6, 7, 14, 11, 4, 8, 16, 7, 9, 2, 21, 9, 16, 15, 8, 5, 7, 5, 19, 15, 6, 5, 11, 4, 11, 13, 15, 5, 16, 6, 21, 2, 8, 10, 2, 7, 3, 6, 4, 9, 2, 7, 4, 6, 13, 9, 8, 27, 10, 17, 1, 14, 14, 8, 15, 8, 7, 7, 17, 10, 7, 4, 1, 5, 11, 1, 8, 8, 5, 7, 12, 3, 6, 1, 10, 3, 18, 11, 16, 9, 8, 8, 5, 5, 6, 23, 10, 2, 5, 8, 3, 20, 22, 4, 3, 13, 8, 12, 13, 14, 5, 5, 25, 10, 8, 18, 11, 17, 9, 12, 14, 10, 8, 14, 12, 5, 6, 16, 10, 3, 11, 4, 11, 10, 20, 11, 19, 6, 11, 7, 10, 5, 5, 5, 2, 4, 6, 6, 7, 7, 6, 3, 4, 14, 4, 9, 2, 17, 11, 20, 2, 4, 9, 2, 14, 9, 7, 15, 6, 29, 15, 8, 5, 4, 6, 6, 10, 8, 8, 18, 4, 12, 8, 7, 10, 5, 8, 19, 3, 13, 4, 8, 10, 4, 5, 6, 18, 4, 8, 24, 17, 5, 13, 14, 13, 11, 9, 1, 7, 21, 1, 2, 16, 12, 10, 7, 16, 5, 5, 7, 8, 6, 17, 16, 8, 13, 7, 4, 7, 13, 5, 9, 7, 4, 14, 8, 7, 8, 4, 8, 16, 8, 13, 10, 14, 4, 4, 4, 7, 6, 7, 6, 12, 8, 20, 10, 23, 20, 2, 8, 4, 4, 9, 7, 8, 5, 5, 5, 7, 3, 14, 5, 21, 13, 22, 7, 8, 3, 11, 16, 6, 9, 5, 11, 23, 7, 11, 11, 18, 16, 10, 10, 17, 5, 14, 3, 7, 6, 21, 4, 7, 16, 7, 1, 10, 19, 10, 13, 5, 8, 2, 6, 7, 3, 6, 21, 7, 5, 10, 6, 14, 11, 3, 27, 20, 10, 10, 17, 2, 15, 5, 20, 13, 2, 7, 8, 6, 9, 17, 8, 19, 17, 15, 20, 17, 7, 2, 14, 12, 9, 9, 5, 4, 15, 23, 15, 14, 16, 2, 5, 10, 13, 5, 7, 12, 9, 11, 16, 16, 13, 5, 8, 5, 1, 17, 3, 14, 5, 5, 4, 11, 5, 23, 8, 17, 3, 5, 21, 8, 2, 12, 8, 5, 15, 16, 16, 11, 17, 8, 11, 10, 4, 5, 6, 6, 10, 9, 14, 11, 2, 8, 3, 15, 22, 4, 8, 20, 12, 8, 12, 11, 8, 10, 14, 5, 14, 14, 15, 26, 9, 8, 5, 8, 12, 9, 2, 9, 7, 8, 13, 4, 9, 18, 9, 14, 4, 7, 9, 6, 7, 7, 19, 8, 18, 6, 4, 8, 7, 11, 16, 6, 26, 7, 8, 9, 3, 8, 8, 4, 14, 8, 6, 15, 10, 18, 12, 23, 7, 22, 9, 4, 8, 4, 7, 15, 4, 13, 13, 2, 6, 12, 11, 14, 1, 7, 18, 4, 6, 13, 5, 17, 9, 6, 10, 6, 3, 4, 5, 11, 17, 9, 5, 4, 15, 17, 10, 10, 12, 5, 14, 18, 15, 2, 6, 5, 17, 6, 5, 9, 17, 25, 13, 3, 7, 7, 8, 15, 9, 13, 6, 3, 4, 7, 7, 14, 8, 10, 14, 14, 9, 14, 15, 9, 7, 12, 7, 7, 17, 7, 7, 5, 6, 13, 4, 7, 10, 8, 11, 18, 4, 4, 4, 8, 1, 3, 17, 10, 5, 11, 13, 6, 8, 5, 16, 8, 11, 5, 4, 13, 21, 5, 15, 5, 7, 17, 2, 12, 17, 5, 18, 8, 4, 8, 9, 18, 6, 6, 10, 8, 5, 4, 6, 14, 24, 16, 8, 7, 18, 1, 3, 11, 12, 17, 14, 8, 2, 8, 6, 11, 10, 3, 1, 2, 13, 2, 6, 10, 8, 8, 9, 8, 7, 4, 8, 25, 20, 11, 16, 3, 22, 20, 9, 3, 3, 7, 17, 10, 3, 6, 16, 11, 19, 24, 6, 2, 11, 9, 15, 3, 12, 8, 4, 8, 10, 5, 10, 6, 1, 3, 5, 3, 13, 6, 4, 5, 20, 20, 8, 5, 8, 14, 9, 6, 18, 4, 4, 5, 5, 17, 4, 17, 10, 13, 13, 21, 9, 9, 11, 4, 9, 11, 6, 18, 4, 8, 20, 4, 14, 3, 8, 10, 8, 4, 3, 12, 9, 10, 5, 15, 13, 6, 8, 16, 13, 2, 5, 19, 1, 8, 16, 6, 14, 5, 2, 3, 8, 18, 14, 22, 14, 8, 3, 9, 16, 4, 16, 5, 7, 4, 16, 3, 3, 6, 13, 3, 2, 9, 8, 22, 11, 10, 16, 5, 21, 7, 8, 3, 8, 3, 5, 5, 12, 7, 9, 6, 12, 4, 5, 12, 3, 8, 5, 7, 13, 13, 7, 16, 3, 5, 5, 4, 2, 14, 9, 9, 26, 8, 9, 24, 13, 6, 6, 9, 11, 26, 17, 11, 7, 10, 19, 21, 4, 6, 7, 6, 13, 12, 11, 10, 17, 6, 8, 15, 10, 9, 6, 12, 16, 8, 12, 4, 9, 4, 1, 5, 6, 5, 18, 14, 2, 4, 10, 11, 3, 15, 5, 3, 4, 7, 14, 19, 4, 18, 10, 10, 5, 14, 9, 19, 9, 11, 8, 14, 11, 2, 20, 8, 8, 8, 4, 17, 33, 12, 23, 9, 10, 4, 4, 6, 7, 8, 12, 5, 14, 3, 8, 2, 1, 11, 4, 5, 5, 15, 3, 21, 20, 17, 8, 20, 1, 4, 20, 6, 18, 7, 11, 3, 9, 18, 15, 7, 13, 3, 8, 2, 20, 6, 3, 18, 6, 12, 14, 5, 28, 3, 4, 4, 7, 2, 7, 11, 10, 8, 2, 5, 10, 8, 21, 18, 11, 6, 8, 4, 20, 4, 10, 9, 14, 7, 16, 20, 9, 8, 12, 16, 5, 14, 8, 7, 4, 11, 3, 2, 25, 7, 6, 6, 12, 10, 2, 5, 3, 6, 17, 4, 11, 39, 5, 2, 11, 15, 10, 9, 9, 16, 20, 17, 18, 8, 16, 10, 14, 6, 5, 4, 4, 8, 10, 13, 6, 10, 7, 6, 9, 13, 18, 10, 5, 14, 5, 9, 6, 8, 3, 6, 3, 1, 10, 11, 9, 12, 5, 7, 8, 4, 3, 5, 12, 6, 12, 9, 9, 14, 15, 8, 2, 5, 9, 10, 5, 20, 8, 16, 8, 8, 20, 22, 15, 18, 4, 16, 3, 5, 7, 9, 12, 8, 17, 16, 9, 4, 17, 8, 7, 7, 5, 12, 10, 10, 20, 16, 12, 5, 10, 19, 9, 12, 6, 7, 8, 4, 2, 7, 5, 3, 5, 13, 17, 13, 7, 9, 10, 2, 3, 2, 5, 8, 13, 21, 2, 5, 14, 4, 13, 18, 10, 21, 9, 9, 4, 13, 12, 9, 11, 6, 17, 18, 12, 12, 4, 17, 13, 7, 19, 8, 7, 18, 9, 13, 16, 5, 17, 9, 2, 6, 9, 3, 3, 5, 3, 9, 12, 8, 11, 11, 18, 10, 4, 9, 9, 8, 9, 6, 7, 5, 3, 7, 4, 22, 6, 4, 4, 23, 11, 15, 14, 8, 9, 21, 6, 3, 8, 4, 6, 10, 5, 5, 6, 4, 7, 18, 4, 8, 4, 3, 23, 9, 13, 2, 14, 4, 18, 8, 1, 8, 8, 10, 4, 4, 20, 6, 3, 15, 12, 6, 16, 3, 12, 6, 6, 8, 10, 9, 22, 7, 6, 5, 13, 15, 6, 8, 14, 7, 14, 17, 8, 18, 2, 12, 17, 13, 7, 5, 7, 13, 9, 14, 13, 4, 10, 7, 3, 9, 4, 5, 6, 6, 7, 5, 5, 12, 9, 4, 5, 20, 3, 9, 9, 22, 4, 5, 7, 8, 20, 6, 9, 5, 26, 6, 8, 2, 6, 9, 14, 2, 20, 14, 25, 8, 22, 4, 6, 5, 24, 2, 13, 7, 8, 2, 4, 7, 3, 9, 16, 12, 8, 10, 5, 11, 3, 9, 8, 13, 8, 13, 8, 12, 7, 5, 5, 7, 12, 6, 6, 10, 9, 9, 9, 10, 10, 5, 11, 7, 1, 4, 10, 6, 13, 23, 7, 12, 5, 8, 14, 19, 6, 3, 6, 5, 7, 14, 18, 12, 10, 8, 7, 5, 10, 24, 12, 9, 23, 11, 1, 21, 10, 6, 10, 5, 9, 13, 4, 11, 10, 10, 17, 11, 18, 24, 8, 4, 14, 5, 6, 12, 4, 5, 8, 5, 7, 14, 6, 4, 20, 15, 3, 16, 15, 4, 6, 9, 8, 5, 14, 3, 17, 10, 10, 19, 16, 3, 9, 14, 21, 18, 4, 2, 5, 7, 9, 9, 15, 11, 6, 8, 8, 7, 8, 4, 4, 5, 18, 3, 5, 23, 4, 7, 19, 20, 14, 9, 7, 7, 20, 8, 18, 20, 10, 3, 7, 13, 2, 11, 8, 7, 12, 5, 11, 14, 9, 20, 14, 8, 17, 8, 18, 8, 8, 2, 4, 6, 5, 3, 7, 21, 7, 16, 9, 3, 8, 9, 6, 8, 4, 4, 8, 15, 8, 7, 12, 5, 23, 26, 12, 5, 1, 5, 4, 7, 11, 17, 7, 12, 16, 7, 10, 4, 9, 7, 14, 8, 2, 14, 11, 17, 2, 6, 7, 5, 10, 5, 12, 16, 8, 13, 12, 12, 4, 21, 6, 18, 16, 16, 12, 19, 11, 21, 3, 12, 10, 14, 12, 9, 1, 7, 15, 2, 11, 5, 8, 9, 2, 4, 5, 5, 5, 6, 11, 8, 6, 9, 9, 8, 7, 9, 10, 18, 4, 3, 7, 28, 9, 14, 3, 9, 12, 10, 21, 8, 6, 9, 17, 5, 18, 8, 6, 11, 11, 17, 3, 9, 4, 16, 6, 12, 8, 9, 12, 25, 15, 20, 2, 7, 7, 4, 5, 4, 12, 5, 2, 9, 4, 20, 23, 4, 14, 6, 5, 6, 8, 15, 30, 5, 49, 10, 8, 20, 16, 18, 20, 16, 8, 6, 7, 15, 5, 7, 9, 9, 11, 7, 23, 12, 7, 18, 13, 20, 9, 14, 17, 4, 3, 5, 7, 4, 3, 3, 11, 22, 10, 8, 8, 2, 8, 4, 8, 8, 7, 14, 3, 3, 4, 8, 9, 7, 14, 11, 15, 5, 15, 17, 8, 10, 7, 11, 9, 6, 7, 3, 6, 12, 5, 5, 3, 4, 9, 20, 17, 13, 6, 12, 17, 20, 6, 7, 18, 6, 8, 16, 15, 6, 8, 7, 2, 15, 14, 14, 5, 22, 1, 2, 4, 16, 7, 10, 9, 4, 8, 18, 7, 9, 16, 14, 20, 18, 3, 10, 14, 7, 23, 2, 14, 4, 12, 4, 16, 8, 15, 5, 11, 28, 15, 8, 2, 11, 18, 4, 4, 5, 5, 6, 2, 21, 10, 9, 4, 6, 5, 1, 5, 15, 10, 22, 7, 17, 5, 6, 17, 4, 5, 20, 7, 16, 12, 16, 6, 15, 7, 3, 4, 5, 15, 11, 16, 1, 13, 6, 12, 12, 12, 8, 4, 20, 8, 14, 7, 15, 11, 10, 9, 12, 5, 8, 17, 4, 8, 10, 7, 7, 11, 7, 3, 7, 6, 3, 14, 3, 10, 8, 15, 22, 12, 13, 7, 8, 15, 3, 3, 7, 3, 5, 7, 8, 4, 6, 17, 5, 11, 14, 4, 3, 8, 7, 7, 19, 5, 9, 10, 15, 12, 13, 23, 8, 17, 5, 4, 21, 20, 12, 1, 11, 11, 6, 8, 8, 15, 28, 19, 10, 22, 1, 9, 7, 8, 5, 12, 5, 10, 5, 4, 7, 7, 17, 12, 4, 16, 12, 4, 19, 9, 8, 4, 10, 7, 2, 7, 10, 17, 14, 18, 2, 7, 12, 10, 3, 9, 5, 4, 8, 9, 15, 12, 7, 5, 7, 12, 7, 5, 12, 6, 2, 21, 7, 11, 14, 4, 4, 21, 6, 8, 5, 2, 23, 4, 4, 14, 16, 14, 12, 10, 4, 6, 12, 3, 1, 1, 10, 11, 14, 5, 20, 8, 8, 17, 7, 2, 15, 8, 9, 6, 19, 7, 5, 4, 14, 1, 13, 8, 8, 4, 9, 9, 8, 12, 4, 5, 5, 4, 7, 5, 1, 4, 7, 11, 15, 15, 6, 6, 10, 27, 5, 14, 14, 8, 4, 11, 16, 5, 6, 5, 2, 4, 1, 19, 11, 19, 4, 8, 7, 6, 4, 6, 4, 23, 5, 9, 8, 6, 23, 9, 3, 12, 2, 5, 1, 15, 5, 7, 3, 11, 9, 7, 2, 13, 11, 11, 8, 5, 6, 12, 22, 2, 7, 14, 8, 8, 10, 13, 1, 16, 19, 8, 10, 11, 5, 6, 4, 5, 15, 7, 3, 6, 8, 6, 2, 9, 6, 9, 14, 3, 5, 8, 8, 11, 3, 6, 8, 12, 3, 5, 4, 12, 11, 11, 7, 7, 5, 18, 12, 6, 15, 6, 6, 8, 3, 5, 11, 15, 10, 9, 13, 4, 12, 19, 3, 7, 13, 15, 5, 10, 3, 8, 7, 6, 4, 9, 9, 6, 5, 12, 5, 25, 28, 6, 14, 7, 9, 14, 10, 16, 2, 15, 11, 10, 29, 16, 8, 21, 9, 20, 15, 14, 5, 11, 8, 23, 5, 13, 13, 7, 7, 11, 12, 4, 11, 9, 15, 6, 8, 8, 18, 7, 11, 14, 8, 8, 23, 8, 4, 10, 10, 2, 6, 8, 8, 18, 13, 5, 18, 4, 5, 4, 8, 3, 5, 9, 12, 20, 9, 6, 2, 2, 12, 19, 18, 7, 10, 3, 10, 8, 9, 4, 10, 14, 9, 9, 3, 7, 6, 6, 5, 5, 11, 8, 6, 10, 4, 2, 15, 14, 8, 4, 8, 15, 2, 12, 16, 6, 5, 12, 7, 15, 8, 14, 7, 5, 14, 4, 7, 11, 8, 8, 6, 16, 12, 9, 12, 8, 9, 8, 9, 5, 9, 21, 10, 8, 20, 17, 2, 4, 5, 9, 15, 29, 6, 20, 18, 18, 1, 6, 10, 25, 3, 10, 23, 8, 17, 5, 22, 15, 6, 8, 7, 3, 6, 16, 15, 6, 12, 7, 8, 24, 13, 10, 11, 13, 7, 11, 2, 5, 6, 8, 6, 5, 4, 16, 14, 18, 8, 9, 7, 6, 7, 10, 3, 6, 6, 5, 15, 6, 2, 13, 8, 14, 19, 8, 3, 9, 17, 28, 9, 9, 8, 13, 3, 11, 9, 15, 14, 16, 10, 21, 8, 6, 14, 7, 17, 6, 14, 12, 11, 9, 3, 8, 3, 12, 11, 17, 14, 11, 14, 10, 9, 5, 11, 5, 4, 19, 10, 6, 12, 13, 2, 3, 6, 3, 11, 3, 4, 8, 4, 13, 24, 4, 14, 1, 2, 8, 14, 17, 6, 7, 8, 13, 7, 10, 22, 1, 14, 10, 5, 4, 9, 5, 9, 12, 21, 14, 12, 7, 21, 8, 3, 14, 17, 7, 4, 16, 14, 6, 6, 6, 8, 12, 2, 23, 26, 4, 7, 4, 5, 3, 6, 5, 14, 5, 12, 4, 7, 11, 8, 7, 5, 12, 6, 8, 12, 13, 12, 3, 11, 12, 6, 8, 9, 10, 6, 6, 7, 32, 3, 14, 10, 11, 10, 14, 15, 6, 7, 8, 22, 6, 14, 2, 8, 4, 5, 20, 5, 4, 10, 8, 8, 10, 14, 14, 5, 8, 9, 10, 14, 7, 26, 14, 3, 3, 19, 16, 14, 11, 9, 6, 12, 7, 9, 7, 20, 10, 18, 13, 16, 7, 9, 4, 16, 13, 5, 3, 21, 22, 3, 14, 5, 9, 6, 6, 8, 6, 7, 6, 6, 4, 4, 2, 6, 15, 8, 4, 13, 8, 11, 7, 9, 10, 7, 11, 16, 23, 4, 5, 8, 14, 3, 9, 9, 9, 10, 18, 4, 4, 7, 6, 14, 19, 4, 12, 7, 14, 2, 16, 6, 20, 1, 8, 13, 18, 4, 2, 14, 18, 4, 8, 11, 6, 6, 27, 13, 19, 14, 9, 4, 3, 3, 3, 6, 8, 12, 8, 5, 3, 5, 5, 22, 6, 1, 10, 12, 7, 6, 8, 6, 7, 5, 21, 6, 7, 6, 5, 4, 7, 11, 6, 9, 4, 9, 11, 5, 2, 20, 3, 5, 15, 8, 14, 15, 2, 5, 8, 10, 6, 9, 9, 11, 12, 1, 23, 3, 11, 16, 9, 14, 7, 6, 4, 11, 14, 11, 14, 4, 8, 14, 15, 17, 22, 16, 20, 8, 2, 7, 19, 2, 22, 11, 4, 8, 2, 5, 3, 7, 8, 12, 6, 11, 4, 7, 3, 10, 4, 9, 5, 12, 6, 4, 8, 9, 7, 17, 4, 3, 4, 4, 5, 5, 18, 18, 5, 15, 2, 12, 5, 7, 11, 12, 5, 7, 13, 14, 7, 8, 8, 5, 6, 13, 3, 10, 14, 19, 6, 16, 8, 10, 13, 8, 13, 5, 10, 3, 30, 10, 10, 2, 16, 29, 19, 14, 10, 4, 11, 3, 14, 12, 2, 4, 3, 7, 5, 4, 9, 15, 17, 12, 8, 11, 2, 7, 10, 5, 8, 6, 5, 11, 14, 3, 5, 4, 9, 4, 7, 8, 9, 4, 21, 14, 14, 2, 7, 1, 9, 4, 16, 31, 14, 18, 6, 14, 5, 9, 10, 11, 16, 12, 17, 14, 8, 5, 8, 6, 11, 6, 5, 4, 3, 5, 16, 7, 14, 9, 22, 11, 8, 7, 11, 6, 13, 9, 4, 7, 11, 4, 21, 8, 9, 9, 9, 20, 10, 17, 5, 14, 10, 13, 20, 22, 3, 13, 9, 15, 7, 5, 5, 19, 17, 28, 6, 3, 4, 3, 6, 9, 22, 3, 18, 9, 6, 12, 6, 6, 5, 9, 12, 17, 2, 22, 7, 8, 5, 5, 14, 7, 16, 7, 3, 10, 6, 7, 8, 16, 1, 8, 2, 16, 8, 3, 14, 8, 2, 13, 10, 7, 9, 5, 12, 22, 16, 4, 14, 15, 5, 36, 8, 1, 18, 11, 2, 1, 15, 7, 18, 6, 12, 7, 3, 7, 21, 8, 11, 9, 8, 19, 12, 5, 13, 9, 15, 13, 8, 5, 8, 5, 6, 14, 9, 16, 13, 14, 13, 4, 11, 5, 12, 9, 11, 11, 11, 9, 5, 3, 8, 19, 1, 6, 6, 16, 7, 8, 14, 16, 17, 12, 6, 19, 6, 3, 11, 5, 5, 7, 10, 10, 8, 11, 3, 8, 7, 12, 7, 18, 14, 8, 21, 9, 23, 4, 22, 10, 8, 18, 14, 16, 4, 5, 13, 8, 8, 4, 1, 5, 13, 14, 8, 8, 8, 10, 17, 8, 11, 20, 4, 18, 11, 17, 11, 4, 6, 2, 9, 9, 21, 17, 2, 14, 8, 14, 18, 5, 5, 13, 3, 8, 4, 12, 16, 13, 7, 9, 13, 8, 16, 9, 3, 8, 5, 8, 3, 9, 13, 5, 16, 13, 15, 5, 30, 24, 5, 14, 3, 10, 3, 15, 8, 5, 7, 4, 12, 6, 20, 8, 7, 6, 14, 13, 20, 4, 6, 6, 4, 10, 2, 14, 4, 11, 11, 7, 4, 20, 12, 13, 22, 16, 15, 14, 13, 3, 23, 8, 11, 11, 3, 19, 5, 8, 23, 7, 15, 7, 2, 7, 20, 5, 2, 1, 5, 4, 12, 14, 4, 8, 6, 18, 14, 4, 11, 6, 12, 7, 7, 15, 2, 6, 21, 8, 7, 3, 5, 17, 4, 10, 6, 7, 11, 8, 14, 21, 1, 15, 7, 18, 5, 4, 3, 14, 21, 4, 22, 6, 6, 8, 4, 4, 21, 4, 5, 9, 20, 8, 11, 13, 17, 18, 18, 19, 11, 8, 11, 5, 5, 12, 8, 10, 17, 7, 3, 25, 13, 7, 12, 21, 18, 27, 17, 5, 5, 9, 3, 7, 8, 10, 3, 2, 13, 6, 2, 2, 7, 8, 3, 6, 11, 24, 5, 11, 4, 4, 9, 5, 6, 7, 8, 14, 5, 28, 23, 8, 10, 7, 19, 4, 10, 24, 16, 7, 5, 10, 9, 13, 21, 9, 2, 12, 7, 5, 16, 9, 18, 19, 4, 12, 13, 6, 12, 13, 7, 8, 4, 14, 3, 2, 20, 6, 6, 4, 10, 9, 10, 21, 9, 7, 5, 11, 5, 16, 1, 4, 9, 11, 8, 3, 11, 4, 5, 4, 6, 13, 14, 10, 6, 3, 6, 12, 6, 5, 19, 2, 20, 13, 3, 13, 16, 1, 9, 8, 14, 21, 9, 5, 5, 20, 9, 3, 8, 11, 6, 2, 7, 15, 3, 8, 7, 25, 6, 3, 15, 13, 6, 8, 9, 5, 9, 11, 4, 6, 9, 2, 8, 6, 9, 8, 4, 4, 7, 20, 5, 12, 21, 8, 4, 5, 9, 14, 19, 29, 6, 15, 8, 7, 3, 15, 23, 9, 14, 4, 8, 9, 6, 10, 13, 9, 13, 18, 15, 1, 10, 20, 11, 4, 4, 2, 17, 5, 16, 8, 8, 13, 11, 3, 12, 13, 15, 10, 10, 8, 4, 5, 8, 5, 12, 8, 6, 16, 5, 9, 4, 8, 6, 8, 8, 18, 4, 20, 4, 15, 17, 6, 7, 12, 13, 5, 8, 4, 6, 5, 2, 3, 10, 10, 3, 8, 14, 5, 20, 17, 12, 7, 10, 23, 14, 8, 11, 12, 11, 6, 11, 15, 6, 21, 7, 18, 7, 4, 11, 21, 7, 5, 16, 5, 18, 7, 5, 8, 20, 15, 6, 15, 10, 14, 10, 4, 4, 7, 3, 2, 10, 2, 1, 16, 6, 14, 6, 12, 1, 14, 12, 5, 3, 4, 8, 13, 3, 8, 4, 11, 15, 4, 13, 8, 6, 11, 13, 5, 15, 3, 3, 13, 2, 2, 17, 17, 9, 15, 8, 5, 8, 9, 15, 14, 8, 9, 3, 22, 8, 7, 12, 8, 3, 3, 19, 14, 9, 8, 7, 11, 5, 13, 20, 10, 11, 25, 11, 4, 6, 18, 4, 6, 15, 7, 8, 17, 14, 14, 10, 8, 7, 6, 7, 10, 7, 6, 5, 6, 2, 17, 5, 8, 10, 21, 9, 4, 18, 24, 3, 8, 14, 28, 4, 12, 7, 4, 3, 18, 5, 7, 11, 12, 7, 4, 14, 21, 4, 5, 9, 18, 16, 6, 4, 10, 13, 19, 5, 5, 9, 15, 7, 25, 12, 14, 8, 8, 23, 4, 16, 10, 5, 8, 12, 7, 5, 9, 6, 10, 7, 8, 15, 6, 7, 7, 4, 3, 4, 6, 12, 8, 10, 7, 13, 28, 3, 1, 4, 9, 4, 22, 15, 4, 17, 10, 12, 6, 5, 10, 12, 11, 4, 14, 15, 12, 2, 5, 8, 14, 11, 11, 12, 15, 7, 5, 11, 5, 7, 6, 7, 6, 10, 7, 6, 5, 13, 9, 7, 4, 12, 10, 5, 12, 10, 12, 8, 4, 5, 7, 15, 26, 8, 9, 8, 9, 10, 7, 12, 17, 11, 12, 18, 4, 3, 9, 5, 4, 6, 13, 15, 21, 19, 6, 12, 20, 2, 5, 7, 12, 7, 3, 13, 6, 21, 10, 1, 15, 6, 8, 1, 10, 3, 11, 3, 10, 18, 14, 7, 12, 7, 5, 3, 10, 7, 5, 11, 7, 9, 11, 6, 5, 3, 4, 10, 22, 6, 8, 7, 8, 6, 15, 6, 3, 9, 19, 10, 17, 3, 10, 6, 20, 3, 4, 1, 8, 5, 11, 14, 17, 8, 15, 12, 17, 3, 3, 18, 22, 4, 8, 2, 30, 8, 2, 11, 8, 9, 5, 10, 9, 21, 6, 23, 8, 5, 13, 7, 7, 10, 6, 3, 9, 3, 4, 23, 8, 7, 9, 9, 10, 13, 20, 12, 11, 6, 10, 22, 4, 4, 4, 7, 8, 8, 22, 15, 8, 12, 4, 2, 8, 4, 6, 12, 10, 14, 17, 7, 5, 4, 8, 10, 7, 9, 12, 9, 18, 29, 8, 5, 14, 21, 16, 9, 5, 3, 7, 5, 12, 5, 2, 7, 4, 11, 7, 8, 15, 7, 7, 6, 28, 13, 27, 14, 16, 33, 3, 9, 2, 9, 18, 2, 5, 17, 15, 11, 20, 8, 4, 2, 10, 6, 3, 2, 5, 12, 2, 7, 5, 5, 7, 4, 4, 11, 10, 7, 15, 5, 23, 6, 6, 12, 5, 8, 7, 9, 6, 10, 15, 5, 4, 11, 9, 17, 3, 7, 9, 14, 7, 9, 8, 7, 11, 15, 5, 18, 6, 7, 8, 4, 9, 5, 22, 7, 10, 11, 9, 13, 6, 8, 11, 15, 17, 1, 10, 12, 4, 27, 6, 3, 9, 9, 4, 8, 8, 9, 17, 12, 6, 4, 2, 4, 7, 2, 9, 20, 17, 18, 17, 4, 18, 7, 6, 5, 14, 6, 33, 7, 18, 10, 6, 7, 10, 9, 4, 6, 4, 6, 10, 15, 29, 3, 8, 3, 16, 11, 6, 7, 3, 5, 15, 9, 37, 5, 3, 15, 13, 5, 2, 9, 5, 7, 32, 2, 2, 10, 16, 8, 18, 4, 10, 3, 8, 6, 6, 11, 14, 8, 3, 6, 4, 9, 11, 3, 9, 21, 25, 3, 21, 16, 13, 14, 9, 7, 17, 2, 4, 8, 3, 1, 5, 6, 10, 6, 11, 7, 5, 7, 4, 16, 3, 7, 11, 6, 10, 19, 11, 6, 24, 14, 26, 5, 9, 7, 2, 7, 20, 8, 4, 13, 5, 4, 6, 12, 6, 3, 4, 8, 18, 34, 7, 6, 10, 11, 7, 6, 4, 5, 2, 11, 10, 22, 14, 5, 24, 2, 2, 6, 9, 2, 4, 16, 6, 8, 20, 4, 7, 4, 8, 3, 12, 12, 1, 5, 4, 6, 5, 13, 9, 8, 8, 13, 9, 10, 10, 7, 7, 4, 3, 8, 5, 13, 16, 6, 10, 9, 11, 3, 5, 5, 20, 21, 5, 4, 7, 4, 6, 7, 14, 8, 6, 5, 7, 6, 1, 4, 5, 9, 9, 5, 17, 7, 6, 12, 6, 10, 7, 8, 19, 4, 38, 9, 11, 7, 5, 5, 6, 6, 10, 8, 7, 5, 4, 7, 27, 6, 7, 10, 14, 16, 7, 7, 10, 5, 2, 4, 6, 6, 16, 5, 19, 17, 23, 17, 6, 8, 11, 7, 23, 3, 7, 21, 11, 5, 15, 4, 4, 5, 5, 7, 4, 12, 6, 16, 14, 4, 13, 9, 3, 2, 13, 8, 13, 12, 7, 4, 13, 8, 20, 5, 9, 6, 5, 4, 7, 8, 4, 4, 4, 4, 8, 8, 5, 13, 7, 14, 6, 4, 8, 12, 8, 18, 13, 9, 9, 4, 12, 6, 9, 5, 9, 10, 11, 26, 9, 12, 4, 14, 11, 2, 9, 12, 5, 23, 7, 6, 17, 18, 21, 17, 7, 14, 18, 11, 5, 7, 7, 9, 9, 6, 38, 5, 7, 6, 10, 18, 5, 7, 4, 26, 26, 8, 9, 8, 16, 3, 10, 6, 10, 17, 2, 7, 11, 15, 25, 11, 12, 6, 5, 3, 2, 7, 18, 9, 4, 17, 7, 13, 6, 6, 16, 13, 9, 6, 7, 7, 9, 21, 4, 9, 2, 9, 9, 8, 3, 9, 2, 9, 1, 11, 4, 15, 4, 14, 20, 24, 9, 14, 20, 1, 6, 11, 12, 12, 14, 7, 5, 13, 5, 8, 3, 19, 5, 10, 21, 5, 20, 15, 7, 7, 6, 11, 15, 6, 7, 6, 2, 15, 7, 6, 12, 18, 12, 11, 8, 7, 3, 4, 13, 6, 6, 11, 14, 14, 10, 9, 10, 9, 7, 26, 3, 8, 3, 9, 8, 17, 8, 9, 8, 6, 5, 8, 4, 6, 7, 22, 13, 10, 3, 6, 2, 9, 7, 8, 12, 11, 23, 19, 2, 15, 18, 12, 28, 9, 18, 6, 14, 5, 3, 15, 15, 4, 2, 6, 24, 4, 6, 9, 8, 5, 17, 13, 3, 14, 2, 1, 10, 2, 5, 8, 13, 13, 13, 12, 13, 13, 3, 4, 2, 9, 7, 2, 8, 2, 4, 5, 2, 18, 6, 9, 4, 15, 7, 15, 11, 19, 11, 5, 8, 12, 21, 2, 10, 2, 10, 13, 11, 5, 1, 22, 6, 8, 8, 6, 21, 18, 16, 10, 2, 7, 16, 11, 5, 4, 8, 12, 6, 6, 17, 13, 4, 6, 8, 8, 11, 3, 2, 5, 18, 10, 4, 8, 2, 16, 25, 14, 7, 5, 12, 7, 8, 13, 4, 2, 7, 21, 6, 4, 8, 7, 7, 6, 8, 16, 21, 8, 6, 16, 17, 16, 12, 30, 7, 10, 6, 30, 1, 17, 10, 3, 4, 11, 17, 9, 6, 10, 12, 14, 9, 14, 18, 6, 8, 12, 5, 12, 10, 20, 4, 7, 9, 7, 5, 5, 12, 23, 7, 6, 5, 7, 11, 17, 4, 21, 11, 2, 5, 3, 20, 4, 4, 9, 3, 5, 5, 7, 12, 12, 8, 8, 9, 17, 8, 13, 11, 13, 6, 6, 8, 1, 4, 7, 2, 7, 9, 14, 8, 7, 7, 9, 7, 4, 23, 7, 8, 7, 5, 13, 5, 5, 8, 20, 21, 6, 12, 11, 8, 8, 12, 6, 13, 12, 10, 3, 6, 14, 4, 9, 11, 9, 8, 6, 10, 8, 10, 2, 7, 5, 12, 10, 25, 7, 3, 9, 10, 3, 13, 3, 14, 11, 4, 5, 7, 7, 7, 7, 10, 11, 8, 5, 4, 19, 5, 4, 3, 3, 23, 20, 5, 4, 12, 5, 3, 7, 14, 7, 13, 17, 6, 5, 9, 11, 4, 7, 5, 13, 8, 14, 1, 11, 6, 19, 5, 18, 8, 17, 8, 9, 10, 4, 20, 11, 3, 16, 5, 8, 8, 19, 11, 6, 10, 14, 6, 16, 15, 3, 3, 16, 3, 18, 25, 5, 5, 10, 10, 15, 7, 11, 13, 8, 3, 21, 2, 9, 6, 14, 3, 16, 12, 5, 9, 7, 3, 11, 5, 16, 6, 21, 10, 6, 5, 8, 6, 8, 11, 8, 2, 21, 15, 15, 19, 6, 6, 15, 6, 5, 8, 10, 10, 7, 6, 9, 7, 11, 3, 9, 14, 18, 10, 9, 15, 5, 9, 15, 7, 4, 31, 5, 3, 5, 17, 8, 4, 14, 4, 11, 14, 8, 15, 21, 11, 7, 14, 3, 18, 2, 10, 6, 17, 14, 8, 10, 8, 7, 1, 24, 13, 2, 9, 2, 4, 12, 1, 15, 14, 15, 10, 6, 11, 8, 9, 16, 4, 6, 13, 8, 10, 7, 2, 12, 6, 13, 11, 7, 9, 2, 12, 4, 13, 13, 11, 4, 6, 4, 12, 21, 17, 3, 8, 5, 2, 3, 8, 16, 7, 12, 9, 13, 10, 6, 14, 7, 15, 14, 15, 14, 13, 11, 14, 15, 8, 12, 12, 21, 15, 8, 3, 7, 3, 5, 10, 6, 9, 1, 5, 7, 14, 5, 7, 3, 4, 10, 16, 3, 4, 16, 21, 4, 14, 9, 7, 6, 11, 11, 3, 10, 4, 8, 6, 13, 2, 10, 10, 9, 4, 5, 10, 8, 8, 15, 17, 12, 3, 5, 1, 14, 5, 8, 5, 5, 1, 6, 3, 10, 8, 7, 9, 19, 12, 13, 11, 8, 8, 2, 6, 7, 5, 5, 9, 12, 9, 16, 16, 1, 6, 8, 5, 2, 7, 5, 4, 6, 17, 9, 8, 10, 18, 14, 14, 16, 4, 6, 9, 18, 9, 3, 5, 7, 9, 1, 2, 5, 11, 6, 8, 7, 28, 8, 4, 16, 12, 14, 7, 16, 6, 5, 4, 9, 14, 14, 12, 6, 5, 4, 10, 13, 5, 13, 22, 8, 4, 4, 9, 8, 8, 8, 5, 3, 24, 12, 9, 3, 5, 7, 8, 11, 9, 4, 14, 5, 3, 7, 16, 8, 7, 14, 5, 11, 16, 9, 4, 4, 7, 3, 10, 4, 4, 2, 6, 5, 7, 10, 4, 8, 8, 11, 11, 4, 16, 5, 2, 4, 20, 11, 9, 4, 4, 3, 8, 7, 2, 1, 8, 10, 12, 4, 7, 5, 10, 6, 15, 10, 8, 14, 10, 8, 6, 1, 8, 8, 3, 10, 11, 3, 6, 12, 9, 10, 4, 15, 25, 3, 5, 5, 16, 18, 15, 13, 9, 8, 4, 11, 4, 8, 5, 4, 12, 7, 5, 7, 15, 2, 17, 10, 11, 21, 8, 14, 21, 6, 10, 9, 19, 14, 10, 6, 5, 10, 10, 7, 12, 18, 17, 8, 8, 10, 14, 5, 11, 12, 5, 1, 10, 15, 3, 1, 21, 3, 14, 5, 4, 18, 9, 10, 11, 9, 18, 11, 13, 11, 28, 5, 4, 12, 10, 6, 6, 3, 4, 16, 16, 6, 5, 19, 6, 17, 5, 4, 12, 7, 9, 12, 3, 5, 5, 10, 17, 11, 5, 10, 6, 8, 6, 2, 6, 3, 9, 9, 8, 8, 6, 10, 9, 6, 14, 14, 14, 3, 8, 8, 12, 3, 5, 9, 14, 7, 3, 6, 7, 7, 4, 8, 5, 3, 7, 6, 2, 1, 3, 10, 2, 9, 13, 4, 14, 2, 21, 6, 13, 11, 6, 2, 8, 14, 8, 6, 8, 2, 6, 20, 14, 4, 9, 20, 4, 4, 11, 15, 6, 5, 18, 17, 4, 5, 21, 18, 10, 2, 12, 10, 23, 6, 22, 12, 9, 5, 6, 20, 6, 10, 3, 9, 10, 4, 12, 7, 7, 9, 6, 17, 7, 14, 22, 17, 14, 8, 1, 16, 7, 17, 8, 4, 10, 6, 4, 1, 6, 6, 7, 9, 7, 10, 11, 1, 10, 2, 6, 19, 15, 8, 8, 21, 22, 4, 11, 3, 3, 6, 5, 7, 5, 14, 10, 22, 5, 21, 22, 12, 6, 5, 8, 11, 6, 12, 9, 5, 21, 18, 7, 8, 10, 9, 7, 8, 22, 7, 11, 3, 1, 5, 23, 10, 16, 8, 8, 8, 14, 9, 11, 4, 12, 17, 4, 3, 8, 4, 6, 7, 9, 1, 10, 7, 4, 20, 2, 10, 17, 4, 5, 8, 6, 19, 7, 6, 3, 13, 5, 3, 14, 18, 9, 10, 9, 5, 8, 6, 5, 17, 10, 14, 10, 16, 12, 7, 8, 14, 12, 16, 5, 3, 4, 22, 4, 3, 4, 3, 14, 15, 9, 8, 10, 4, 5, 8, 10, 16, 8, 5, 8, 9, 10, 13, 18, 6, 6, 22, 8, 6, 8, 4, 5, 7, 13, 6, 1, 6, 10, 9, 14, 9, 9, 10, 5, 9, 3, 14, 6, 11, 4, 4, 11, 7, 10, 5, 9, 12, 9, 12, 5, 17, 5, 7, 1, 6, 6, 6, 3, 21, 22, 7, 5, 5, 11, 3, 10, 10, 8, 6, 17, 16, 5, 1, 4, 6, 12, 25, 17, 5, 8, 13, 11, 8, 5, 21, 15, 20, 12, 4, 2, 5, 4, 4, 15, 4, 4, 4, 5, 9, 1, 9, 5, 7, 16, 5, 16, 7, 6, 6, 17, 6, 12, 6, 3, 14, 2, 3, 5, 12, 18, 4, 4, 8, 8, 8, 6, 12, 7, 10, 7, 13, 36, 11, 13, 14, 12, 5, 10, 7, 18, 7, 10, 8, 22, 8, 3, 8, 14, 7, 9, 5, 5, 2, 10, 16, 15, 7, 14, 11, 5, 4, 6, 4, 7, 6, 2, 7, 11, 6, 5, 9, 13, 4, 7, 10, 3, 7, 9, 3, 14, 12, 12, 32, 3, 7, 11, 8, 4, 12, 15, 6, 7, 16, 7, 9, 9, 5, 1, 5, 16, 2, 3, 12, 8, 9, 19, 3, 14, 7, 2, 5, 6, 16, 19, 12, 3, 2, 4, 29, 14, 3, 3, 7, 4, 7, 12, 6, 3, 10, 10, 12, 1, 2, 8, 20, 15, 7, 19, 14, 3, 6, 4, 6, 15, 2, 12, 24, 4, 4, 8, 7, 8, 2, 6, 8, 4, 5, 8, 22, 14, 10, 4, 12, 15, 23, 15, 10, 13, 4, 7, 7, 14, 7, 4, 9, 6, 10, 17, 6, 8, 25, 9, 14, 9, 7, 8, 8, 20, 11, 6, 14, 10, 19, 10, 14, 4, 37, 9, 6, 11, 8, 4, 10, 6, 13, 4, 4, 12, 8, 3, 7, 12, 5, 6, 19, 2, 10, 21, 5, 5, 3, 20, 4, 2, 15, 6, 6, 6, 28, 7, 15, 2, 9, 8, 15, 18, 21, 14, 4, 16, 3, 15, 5, 2, 18, 8, 8, 6, 17, 10, 13, 6, 14, 16, 9, 9, 13, 9, 7, 10, 5, 8, 5, 9, 11, 10, 8, 9, 8, 6, 12, 6, 10, 16, 10, 10, 19, 4, 7, 13, 24, 8, 10, 14, 9, 5, 5, 15, 3, 8, 6, 6, 17, 4, 13, 7, 10, 8, 4, 2, 14, 7, 4, 3, 12, 5, 20, 19, 5, 5, 12, 13, 5, 17, 6, 11, 11, 9, 6, 12, 19, 18, 6, 9, 18, 7, 8, 7, 10, 7, 8, 17, 7, 5, 24, 7, 11, 35, 6, 7, 9, 14, 11, 11, 2, 14, 7, 4, 1, 7, 10, 7, 19, 11, 2, 11, 5, 9, 9, 8, 6, 10, 15, 11, 2, 8, 23, 9, 2, 5, 5, 16, 3, 16, 5, 5, 7, 8, 1, 12, 21, 12, 8, 19, 7, 10, 5, 16, 12, 10, 8, 9, 18, 14, 16, 3, 10, 8, 8, 17, 14, 17, 8, 2, 2, 16, 15, 7, 13, 3, 17, 7, 3, 12, 1, 8, 2, 3, 6, 15, 5, 15, 6, 9, 17, 11, 12, 7, 12, 8, 11, 6, 11, 13, 29, 12, 6, 22, 6, 15, 1, 4, 11, 16, 14, 5, 7, 28, 16, 6, 16, 17, 4, 4, 17, 3, 6, 11, 5, 14, 4, 10, 7, 7, 2, 11, 13, 16, 8, 17, 27, 4, 7, 10, 6, 2, 5, 14, 13, 5, 5, 6, 9, 9, 4, 7, 1, 6, 10, 11, 18, 9, 12, 20, 10, 3, 3, 22, 7, 3, 17, 9, 6, 13, 12, 15, 17, 6, 11, 8, 21, 18, 4, 3, 6, 8, 12, 4, 5, 15, 5, 17, 16, 8, 5, 5, 5, 5, 8, 4, 22, 4, 9, 12, 2, 7, 8, 6, 4, 7, 17, 8, 10, 9, 11, 2, 7, 5, 8, 3, 10, 8, 11, 15, 8, 8, 4, 11, 17, 9, 8, 10, 9, 14, 13, 15, 6, 11, 23, 6, 11, 7, 15, 6, 15, 16, 16, 4, 8, 5, 9, 10, 8, 8, 6, 11, 5, 8, 4, 8, 4, 9, 20, 7, 4, 9, 4, 9, 4, 8, 13, 8, 3, 5, 16, 7, 7, 7, 3, 23, 14, 10, 4, 18, 6, 7, 9, 4, 8, 16, 8, 3, 10, 8, 5, 10, 4, 7, 14, 8, 13, 4, 22, 17, 6, 5, 10, 2, 13, 9, 4, 18, 15, 3, 5, 18, 8, 10, 20, 9, 16, 7, 4, 5, 3, 6, 5, 6, 14, 3, 5, 4, 4, 11, 9, 6, 1, 4, 20, 9, 21, 5, 10, 4, 8, 11, 9, 8, 5, 11, 6, 15, 22, 4, 7, 9, 14, 17, 22, 6, 3, 5, 4, 6, 6, 13, 17, 14, 7, 9, 8, 10, 5, 16, 13, 14, 13, 2, 2, 1, 3, 8, 2, 5, 2, 6, 21, 6, 10, 1, 17, 14, 13, 2, 7, 19, 12, 7, 8, 4, 13, 8, 10, 7, 6, 6, 5, 19, 1, 16, 6, 4, 7, 5, 11, 3, 2, 6, 4, 2, 8, 22, 6, 9, 14, 3, 8, 6, 5, 5, 3, 9, 4, 5, 10, 8, 15, 9, 3, 13, 9, 3, 19, 19, 4, 7, 13, 5, 13, 1, 9, 7, 13, 8, 11, 2, 13, 11, 8, 26, 14, 4, 2, 4, 9, 19, 8, 22, 3, 12, 4, 7, 6, 15, 8, 9, 8, 11, 10, 10, 8, 7, 5, 13, 12, 7, 4, 14, 4, 16, 5, 3, 7, 8, 8, 15, 5, 16, 4, 18, 4, 2, 11, 8, 9, 11, 5, 15, 7, 4, 13, 3, 9, 6, 12, 11, 7, 17, 13, 8, 4, 3, 15, 11, 14, 6, 14, 3, 2, 8, 7, 7, 18, 20, 6, 3, 23, 4, 3, 8, 3, 14, 6, 9, 14, 18, 3, 5, 8, 5, 12, 6, 8, 6, 11, 2, 4, 15, 6, 5, 13, 12, 7, 6, 17, 11, 15, 2, 28, 7, 14, 5, 10, 8, 10, 8, 8, 9, 8, 4, 15, 1, 9, 14, 6, 3, 23, 9, 2, 2, 6, 6, 7, 3, 5, 8, 9, 14, 14, 2, 5, 11, 25, 9, 2, 17, 10, 14, 5, 6, 6, 8, 8, 12, 1, 2, 6, 14, 9, 12, 9, 23, 2, 4, 4, 9, 12, 4, 16, 13, 8, 8, 15, 5, 7, 20, 6, 8, 12, 19, 10, 7, 5, 5, 5, 8, 7, 5, 15, 3, 20, 5, 7, 7, 14, 8, 13, 5, 8, 12, 7, 8, 5, 5, 4, 11, 10, 3, 11, 9, 11, 18, 14, 10, 1, 7, 13, 5, 15, 12, 5, 20, 13, 15, 7, 15, 3, 13, 6, 15, 21, 8, 10, 7, 21, 9, 7, 14, 10, 9, 6, 5, 15, 9, 11, 9, 28, 9, 2, 9, 17, 8, 12, 5, 8, 6, 6, 7, 16, 23, 4, 6, 7, 3, 10, 7, 1, 8, 12, 9, 5, 8, 4, 21, 6, 16, 13, 20, 3, 10, 13, 9, 4, 8, 18, 1, 13, 6, 10, 7, 4, 4, 7, 9, 5, 8, 12, 16, 18, 8, 30, 13, 9, 13, 6, 10, 16, 8, 10, 11, 6, 12, 3, 6, 6, 23, 30, 13, 13, 4, 8, 10, 12, 4, 15, 5, 4, 5, 15, 11, 15, 17, 6, 12, 5, 5, 5, 14, 3, 8, 10, 13, 21, 6, 17, 11, 19, 4, 1, 6, 21, 13, 24, 18, 9, 22, 14, 3, 26, 9, 13, 4, 20, 5, 11, 8, 8, 2, 8, 14, 5, 22, 10, 17, 5, 14, 12, 16, 22, 7, 5, 5, 8, 5, 5, 7, 7, 17, 6, 13, 4, 17, 12, 12, 8, 6, 6, 13, 5, 26, 8, 15, 8, 5, 1, 5, 7, 13, 7, 6, 13, 8, 5, 15, 4, 5, 8, 4, 10, 4, 8, 8, 6, 9, 4, 20, 5, 3, 6, 2, 18, 22, 22, 19, 5, 12, 14, 14, 18, 10, 14, 5, 4, 8, 23, 3, 6, 14, 10, 14, 6, 14, 10, 5, 4, 2, 9, 9, 2, 15, 2, 8, 3, 14, 14, 2, 7, 8, 12, 8, 7, 8, 4, 7, 6, 6, 4, 7, 18, 3, 8, 12, 8, 6, 7, 17, 6, 8, 8, 6, 7, 6, 2, 15, 8, 19, 17, 17, 11, 5, 5, 3, 7, 10, 10, 6, 9, 13, 4, 8, 13, 5, 6, 7, 5, 2, 5, 6, 6, 9, 11, 8, 6, 4, 8, 26, 6, 8, 9, 9, 15, 6, 6, 6, 13, 3, 13, 17, 4, 10, 3, 6, 4, 7, 15, 3, 12, 10, 6, 17, 17, 9, 21, 4, 10, 14, 7, 13, 7, 6, 9, 6, 5, 17, 20, 4, 11, 5, 4, 7, 18, 5, 18, 4, 24, 8, 4, 6, 9, 8, 21, 7, 12, 8, 12, 17, 7, 6, 7, 5, 10, 9, 4, 18, 6, 20, 5, 11, 9, 13, 18, 11, 4, 6, 5, 5, 14, 7, 6, 5, 9, 17, 8, 24, 13, 17, 11, 15, 23, 3, 18, 5, 10, 11, 8, 17, 5, 12, 7, 8, 6, 11, 15, 6, 8, 6, 22, 17, 8, 7, 8, 8, 2, 8, 18, 6, 1, 8, 6, 17, 7, 11, 6, 10, 8, 11, 8, 6, 23, 15, 7, 11, 4, 13, 8, 8, 14, 8, 2, 21, 12, 21, 22, 14, 4, 6, 13, 12, 10, 9, 16, 13, 5, 10, 11, 8, 13, 26, 5, 23, 7, 18, 5, 5, 13, 6, 12, 18, 16, 6, 8, 7, 6, 9, 3, 12, 9, 9, 9, 4, 9, 10, 13, 5, 16, 13, 13, 8, 10, 5, 2, 6, 18, 3, 6, 20, 3, 4, 11, 8, 2, 6, 5, 8, 2, 19, 12, 11, 13, 3, 6, 7, 9, 12, 12, 4, 12, 2, 4, 4, 19, 7, 15, 13, 18, 11, 4, 4, 14, 14, 11, 9, 21, 21, 17, 8, 5, 15, 16, 6, 8, 12, 7, 12, 10, 8, 6, 4, 10, 5, 5, 7, 10, 10, 8, 10, 10, 17, 10, 10, 11, 20, 2, 18, 4, 7, 9, 7, 4, 11, 23, 12, 9, 5, 6, 11, 8, 12, 11, 6, 35, 15, 6, 9, 3, 3, 8, 5, 8, 9, 9, 8, 14, 5, 12, 24, 15, 12, 23, 4, 8, 13, 5, 6, 5, 11, 7, 5, 10, 3, 1, 2, 11, 8, 14, 12, 12, 8, 7, 27, 8, 12, 8, 12, 15, 9, 4, 18, 2, 5, 10, 17, 18, 5, 16, 7, 4, 14, 5, 10, 6, 5, 7, 8, 13, 2, 2, 11, 16, 6, 7, 14, 3, 14, 3, 16, 3, 6, 11, 15, 11, 4, 13, 6, 6, 41, 9, 8, 7, 6, 8, 17, 15, 9, 8, 6, 2, 21, 13, 19, 2, 22, 10, 5, 4, 12, 5, 17, 3, 7, 5, 8, 18, 8, 12, 13, 4, 6, 4, 10, 9, 14, 8, 8, 15, 16, 2, 8, 12, 5, 5, 10, 4, 13, 12, 2, 10, 8, 2, 7, 14, 19, 7, 5, 35, 4, 3, 14, 19, 10, 5, 6, 5, 6, 10, 4, 15, 5, 2, 4, 7, 6, 3, 10, 6, 2, 5, 8, 10, 4, 17, 19, 7, 7, 8, 6, 8, 16, 14, 6, 12, 11, 13, 4, 5, 14, 9, 11, 8, 14, 3, 5, 12, 8, 8, 18, 6, 11, 5, 9, 7, 8, 12, 12, 8, 3, 20, 5, 13, 7, 11, 5, 16, 8, 5, 6, 9, 4, 4, 8, 6, 7, 9, 8, 11, 14, 7, 3, 5, 18, 13, 4, 7, 9, 5, 5, 2, 12, 7, 7, 5, 6, 5, 7, 5, 8, 13, 13, 11, 11, 7, 4, 3, 9, 5, 14, 3, 2, 4, 14, 11, 6, 17, 7, 12, 8, 8, 17, 23, 8, 7, 3, 20, 29, 11, 12, 1, 6, 10, 10, 14, 12, 4, 21, 17, 8, 14, 1, 15, 8, 11, 10, 11, 6, 10, 5, 9, 10, 11, 13, 4, 11, 6, 14, 3, 6, 7, 12, 10, 6, 8, 4, 16, 2, 2, 2, 9, 5, 21, 5, 17, 21, 2, 7, 7, 7, 10, 4, 10, 5, 2, 13, 6, 16, 12, 16, 17, 11, 14, 4, 7, 3, 6, 10, 6, 10, 15, 5, 11, 5, 6, 10, 24, 7, 4, 5, 4, 11, 6, 14, 18, 8, 7, 8, 5, 3, 25, 15, 15, 6, 10, 3, 10, 18, 11, 18, 11, 10, 4, 4, 8, 23, 5, 20, 2, 5, 6, 10, 8, 11, 9, 5, 6, 8, 9, 7, 7, 6, 13, 6, 5, 4, 16, 10, 6, 11, 7, 8, 3, 14, 11, 20, 40, 10, 5, 7, 7, 2, 13, 13, 8, 11, 15, 5, 9, 18, 5, 15, 12, 20, 21, 3, 26, 23, 6, 3, 10, 8, 8, 17, 9, 5, 7, 9, 9, 7, 3, 8, 5, 14, 12, 7, 1, 7, 8, 14, 9, 19, 19, 5, 6, 9, 11, 17, 9, 9, 16, 8, 5, 6, 6, 18, 9, 7, 36, 2, 6, 9, 12, 12, 12, 7, 8, 8, 7, 10, 12, 7, 9, 11, 7, 5, 11, 10, 10, 20, 15, 5, 4, 35, 3, 11, 6, 7, 18, 7, 4, 7, 5, 25, 7, 2, 6, 9, 6, 2, 6, 9, 14, 6, 7, 4, 10, 4, 15, 11, 17, 16, 26, 14, 4, 11, 16, 6, 12, 9, 12, 10, 7, 13, 18, 6, 4, 8, 14, 10, 7, 18, 4, 11, 5, 5, 19, 7, 3, 6, 14, 3, 3, 9, 6, 4, 12, 8, 4, 5, 12, 8, 18, 3, 4, 10, 11, 4, 11, 4, 6, 11, 4, 14, 6, 21, 10, 21, 1, 18, 5, 6, 16, 21, 13, 4, 14, 11, 7, 7, 12, 34, 16, 5, 14, 14, 8, 10, 3, 21, 9, 10, 11, 7, 5, 9, 6, 14, 7, 8, 20, 6, 7, 7, 3, 14, 8, 12, 5, 4, 6, 19, 15, 17, 7, 14, 11, 6, 14, 2, 13, 10, 6, 2, 4, 6, 9, 21, 16, 11, 6, 22, 18, 17, 5, 16, 3, 8, 3, 18, 5, 3, 1, 9, 14, 8, 9, 4, 3, 18, 5, 17, 18, 9, 9, 11, 4, 4, 19, 4, 8, 8, 5, 6, 10, 8, 4, 15, 7, 20, 8, 10, 4, 6, 10, 10, 6, 9, 6, 17, 9, 3, 10, 3, 4, 5, 23, 11, 5, 10, 21, 11, 5, 1, 11, 4, 9, 19, 18, 6, 17, 23, 17, 10, 3, 13, 18, 18, 13, 8, 15, 8, 3, 9, 6, 15, 19, 15, 8, 8, 12, 9, 8, 18, 10, 7, 8, 10, 9, 12, 2, 14, 18, 12, 10, 16, 4, 8, 6, 9, 10, 9, 3, 12, 15, 5, 15, 15, 23, 27, 16, 14, 5, 4, 4, 11, 8, 32, 1, 3, 13, 8, 18, 4, 7, 1, 7, 14, 15, 11, 3, 22, 6, 10, 6, 5, 21, 5, 7, 14, 2, 8, 20, 3, 5, 23, 15, 7, 6, 4, 5, 9, 14, 17, 6, 3, 5, 3, 16, 5, 16, 8, 5, 2, 5, 4, 6, 9, 5, 4, 4, 15, 2, 5, 10, 13, 7, 4, 15, 7, 14, 21, 11, 5, 19, 8, 3, 6, 8, 13, 8, 5, 12, 8, 6, 16, 12, 8, 8, 2, 4, 22, 15, 11, 9, 5, 16, 5, 7, 4, 6, 20, 1, 9, 10, 10, 5, 9, 17, 11, 6, 12, 4, 11, 5, 11, 5, 3, 20, 8, 3, 8, 4, 2, 7, 2, 14, 1, 8, 7, 2, 6, 20, 10, 9, 23, 4, 6, 2, 10, 4, 8, 18, 12, 3, 6, 5, 9, 6, 7, 12, 4, 11, 4, 4, 7, 2, 6, 8, 15, 17, 5, 4, 8, 9, 17, 7, 13, 5, 6, 8, 10, 5, 4, 15, 11, 5, 8, 7, 20, 4, 11, 5, 5, 5, 6, 1, 22, 5, 20, 4, 12, 11, 10, 9, 8, 13, 17, 4, 7, 5, 8, 17, 5, 10, 24, 18, 18, 2, 15, 4, 4, 8, 6, 9, 5, 7, 11, 2, 3, 8, 9, 20, 5, 11, 4, 10, 7, 6, 8, 9, 12, 7, 10, 17, 9, 3, 8, 6, 4, 16, 6, 8, 7, 5, 8, 8, 27, 21, 4, 9, 11, 9, 10, 3, 4, 5, 18, 4, 12, 10, 15, 9, 15, 4, 19, 14, 9, 5, 13, 5, 5, 5, 7, 7, 4, 9, 8, 9, 19, 7, 14, 2, 16, 17, 7, 5, 20, 12, 21, 19, 10, 4, 14, 4, 2, 8, 8, 7, 7, 8, 4, 9, 18, 19, 21, 11, 6, 13, 14, 5, 5, 10, 18, 8, 10, 6, 5, 13, 11, 4, 5, 13, 4, 17, 30, 13, 19, 6, 2, 7, 6, 10, 8, 7, 8, 3, 21, 5, 18, 4, 7, 13, 15, 14, 5, 6, 10, 6, 19, 8, 5, 8, 6, 13, 16, 8, 4, 2, 12, 16, 6, 15, 8, 8, 8, 18, 20, 13, 5, 5, 3, 13, 13, 11, 21, 12, 3, 10, 3, 17, 6, 4, 18, 6, 5, 15, 12, 14, 4, 9, 7, 8, 6, 9, 9, 6, 2, 2, 8, 6, 6, 7, 5, 4, 8, 5, 8, 6, 30, 11, 15, 17, 5, 6, 28, 2, 22, 19, 4, 12, 16, 5, 15, 8, 8, 3, 16, 8, 5, 5, 15, 4, 4, 16, 14, 9, 9, 8, 16, 7, 7, 8, 4, 16, 8, 9, 8, 5, 16, 15, 20, 5, 3, 3, 4, 8, 9, 17, 8, 16, 10, 8, 5, 3, 9, 11, 6, 6, 4, 21, 7, 14, 9, 2, 4, 4, 19, 20, 6, 8, 10, 17, 4, 6, 16, 8, 14, 8, 9, 11, 14, 9, 8, 3, 14, 4, 8, 4, 13, 13, 3, 5, 18, 10, 5, 8, 14, 3, 4, 4, 8, 8, 2, 7, 8, 10, 2, 9, 10, 18, 5, 2, 20, 18, 8, 19, 12, 6, 14, 22, 2, 12, 7, 16, 10, 2, 7, 20, 7, 7, 5, 3, 7, 24, 1, 11, 7, 8, 3, 8, 7, 6, 27, 5, 26, 11, 10, 6, 10, 5, 20, 4, 13, 5, 3, 7, 15, 16, 5, 9, 2, 15, 11, 10, 20, 24, 8, 8, 7, 24, 7, 4, 9, 4, 13, 6, 16, 6, 5, 5, 14, 4, 9, 9, 7, 18, 6, 13, 25, 11, 5, 11, 5, 8, 8, 9, 12, 6, 4, 9, 12, 9, 30, 7, 3, 21, 1, 12, 13, 6, 11, 10, 20, 9, 8, 12, 8, 9, 7, 5, 8, 14, 12, 8, 4, 8, 4, 8, 15, 6, 7, 9, 5, 10, 12, 2, 28, 3, 8, 3, 22, 5, 5, 17, 7, 3, 13, 9, 7, 7, 5, 6, 19, 2, 6, 9, 6, 10, 22, 9, 3, 7, 8, 21, 7, 4, 8, 5, 3, 10, 3, 10, 9, 13, 20, 2, 3, 12, 7, 7, 4, 4, 23, 5, 7, 11, 17, 9, 13, 4, 1, 14, 4, 14, 8, 11, 8, 7, 5, 9, 4, 3, 7, 12, 7, 7, 7, 5, 29, 2, 11, 9, 1, 5, 13, 20, 6, 6, 6, 19, 11, 12, 22, 5, 9, 8, 9, 9, 8, 9, 9, 17, 6, 7, 17, 1, 7, 7, 10, 11, 20, 8, 7, 5, 11, 6, 9, 7, 9, 6, 8, 6, 10, 4, 7, 22, 6, 8, 7, 8, 6, 8, 5, 5, 9, 19, 8, 5, 14, 10, 4, 8, 6, 10, 28, 7, 16, 4, 18, 9, 18, 14, 8, 3, 5, 17, 8, 24, 2, 4, 11, 6, 6, 4, 8, 5, 6, 8, 17, 2, 14, 18, 12, 1, 22, 10, 7, 4, 15, 9, 14, 15, 10, 8, 2, 5, 16, 8, 5, 5, 5, 6, 12, 14, 3, 15, 8, 4, 8, 15, 4, 13, 7, 8, 15, 8, 10, 8, 16, 5, 5, 18, 14, 11, 6, 6, 3, 10, 4, 14, 22, 18, 13, 14, 20, 6, 9, 4, 9, 10, 16, 10, 3, 5, 11, 15, 12, 6, 4, 11, 15, 1, 22, 12, 18, 3, 6, 13, 2, 15, 3, 7, 15, 5, 7, 7, 5, 12, 13, 6, 5, 14, 8, 2, 8, 28, 1, 3, 2, 13, 3, 18, 11, 8, 6, 7, 17, 6, 8, 6, 6, 5, 16, 4, 11, 8, 12, 6, 4, 20, 3, 15, 1, 8, 6, 22, 5, 3, 4, 12, 13, 12, 7, 4, 5, 10, 10, 17, 5, 8, 3, 11, 9, 8, 7, 13, 18, 7, 10, 8, 10, 19, 9, 7, 14, 10, 13, 2, 7, 11, 7, 19, 5, 9, 14, 11, 15, 15, 16, 6, 6, 13, 17, 17, 6, 13, 22, 20, 6, 6, 7, 7, 11, 6, 4, 5, 6, 7, 17, 17, 3, 11, 6, 31, 19, 12, 13, 4, 7, 7, 14, 10, 6, 5, 11, 7, 22, 13, 15, 7, 8, 3, 11, 11, 9, 10, 4, 12, 13, 8, 14, 16, 6, 13, 16, 2, 4, 3, 21, 10, 6, 2, 11, 9, 9, 1, 3, 9, 5, 6, 6, 5, 3, 4, 6, 4, 14, 20, 5, 4, 5, 6, 12, 9, 16, 5, 2, 16, 10, 2, 3, 13, 5, 8, 6, 5, 17, 16, 17, 5, 8, 8, 7, 2, 6, 15, 20, 9, 6, 2, 4, 5, 7, 9, 3, 5, 8, 5, 8, 9, 8, 12, 5, 5, 4, 28, 4, 9, 17, 14, 2, 10, 5, 8, 8, 1, 11, 4, 9, 13, 23, 12, 10, 16, 9, 9, 5, 19, 16, 16, 6, 23, 7, 6, 11, 11, 5, 3, 5, 5, 14, 6, 9, 9, 7, 20, 6, 9, 8, 24, 6, 11, 9, 2, 3, 4, 3, 24, 10, 7, 4, 8, 5, 11, 13, 13, 6, 15, 23, 19, 9, 7, 7, 7, 4, 7, 17, 7, 14, 2, 16, 15, 5, 12, 2, 8, 4, 10, 7, 8, 1, 14, 7, 11, 7, 9, 8, 5, 16, 7, 5, 11, 15, 20, 19, 11, 26, 10, 5, 17, 6, 15, 2, 13, 5, 4, 14, 17, 14, 11, 5, 11, 5, 8, 4, 4, 13, 6, 6, 15, 13, 9, 14, 11, 3, 1, 7, 8, 5, 6, 4, 3, 9, 11, 6, 17, 2, 8, 23, 7, 8, 3, 3, 13, 9, 10, 6, 17, 14, 8, 16, 7, 18, 10, 7, 23, 3, 5, 7, 8, 5, 8, 3, 4, 12, 7, 8, 15, 8, 16, 5, 34, 6, 3, 12, 6, 3, 4, 14, 19, 9, 14, 2, 6, 11, 14, 7, 1, 5, 2, 10, 8, 9, 1, 12, 10, 26, 18, 19, 8, 2, 9, 8, 18, 4, 4, 3, 13, 12, 5, 8, 7, 7, 9, 1, 4, 15, 24, 16, 20, 8, 25, 3, 13, 25, 12, 8, 20, 6, 7, 10, 8, 8, 6, 14, 1, 15, 8, 23, 16, 8, 5, 6, 14, 16, 15, 19, 30, 7, 5, 3, 14, 7, 17, 21, 8, 13, 11, 4, 8, 20, 4, 12, 11, 12, 3, 4, 15, 9, 28, 10, 10, 20, 6, 5, 13, 7, 16, 14, 11, 5, 11, 20, 8, 14, 21, 18, 3, 9, 4, 2, 9, 9, 10, 8, 19, 16, 36, 4, 13, 7, 8, 4, 11, 13, 20, 14, 5, 13, 8, 16, 17, 7, 5, 7, 10, 15, 5, 19, 2, 6, 7, 15, 18, 5, 14, 17, 13, 8, 5, 17, 7, 11, 2, 8, 7, 14, 7, 14, 14, 28, 14, 8, 3, 2, 5, 6, 14, 8, 15, 9, 11, 3, 21, 12, 8, 5, 8, 21, 7, 4, 14, 12, 17, 9, 7, 9, 4, 19, 8, 16, 13, 7, 19, 7, 4, 5, 3, 18, 14, 17, 9, 12, 11, 9, 6, 6, 15, 21, 8, 17, 9, 9, 16, 14, 3, 5, 13, 7, 3, 2, 14, 12, 9, 15, 22, 7, 16, 4, 3, 18, 13, 11, 12, 9, 10, 6, 4, 8, 14, 5, 10, 9, 4, 11, 5, 26, 4, 5, 16, 10, 2, 17, 7, 17, 4, 20, 7, 13, 5, 14, 15, 4, 5, 14, 1, 13, 6, 14, 9, 2, 12, 4, 8, 8, 5, 13, 8, 10, 5, 12, 11, 4, 3, 12, 10, 22, 5, 2, 12, 13, 3, 11, 8, 4, 14, 9, 2, 5, 8, 8, 4, 7, 7, 3, 9, 5, 21, 5, 11, 14, 8, 21, 1, 16, 3, 5, 9, 5, 2, 6, 18, 5, 7, 5, 6, 4, 18, 10, 12, 5, 14, 3, 23, 15, 5, 5, 22, 6, 15, 8, 16, 10, 9, 5, 11, 4, 7, 2, 5, 17, 7, 6, 3, 5, 15, 4, 10, 5, 12, 6, 2, 4, 11, 6, 9, 5, 5, 2, 13, 4, 4, 7, 5, 3, 6, 21, 15, 7, 5, 12, 9, 10, 7, 28, 11, 14, 14, 15, 13, 15, 1, 8, 9, 8, 5, 5, 8, 24, 5, 3, 7, 11, 5, 10, 14, 5, 18, 9, 21, 9, 8, 8, 9, 16, 2, 20, 19, 7, 11, 3, 4, 11, 6, 8, 12, 7, 8, 10, 5, 10, 1, 10, 23, 11, 8, 4, 14, 4, 9, 7, 5, 4, 6, 11, 6, 8, 10, 2, 2, 11, 15, 6, 3, 6, 4, 6, 5, 9, 9, 12, 4, 15, 20, 4, 11, 4, 4, 7, 7, 9, 16, 17, 4, 9, 8, 16, 4, 2, 4, 18, 4, 16, 10, 19, 4, 5, 10, 7, 15, 9, 2, 5, 11, 11, 6, 7, 4, 14, 5, 7, 5, 15, 6, 2, 10, 8, 3, 5, 8, 7, 7, 14, 7, 10, 22, 21, 11, 10, 7, 16, 1, 7, 9, 15, 11, 15, 9, 9, 8, 7, 13, 17, 17, 1, 4, 1, 6, 4, 7, 6, 16, 9, 6, 13, 5, 1, 3, 10, 14, 4, 7, 7, 7, 14, 3, 10, 7, 8, 7, 1, 2, 14, 5, 29, 11, 12, 9, 8, 4, 26, 9, 5, 4, 17, 7, 7, 11, 11, 23, 10, 7, 7, 12, 11, 5, 3, 24, 7, 6, 9, 15, 11, 14, 8, 23, 37, 13, 13, 13, 5, 18, 7, 5, 18, 13, 5, 8, 7, 14, 4, 7, 5, 18, 17, 9, 32, 7, 19, 8, 24, 1, 13, 4, 6, 11, 5, 20, 9, 21, 8, 18, 5, 12, 6, 8, 10, 8, 7, 7, 11, 1, 13, 1, 6, 23, 5, 10, 8, 15, 10, 8, 15, 19, 8, 17, 20, 4, 17, 21, 7, 20, 5, 4, 11, 7, 5, 9, 12, 8, 4, 22, 15, 22, 3, 2, 19, 4, 10, 4, 5, 17, 11, 10, 6, 10, 7, 18, 6, 23, 5, 2, 15, 5, 5, 9, 14, 20, 4, 17, 11, 12, 18, 8, 5, 18, 17, 8, 15, 10, 4, 5, 8, 16, 9, 20, 8, 31, 5, 4, 19, 6, 5, 3, 4, 8, 4, 14, 23, 30, 3, 6, 8, 7, 12, 19, 6, 2, 17, 9, 5, 16, 4, 10, 14, 13, 7, 6, 6, 9, 4, 9, 6, 6, 7, 14, 13, 9, 12, 11, 13, 4, 10, 14, 10, 14, 8, 25, 4, 7, 9, 8, 4, 7, 5, 10, 6, 10, 20, 8, 5, 14, 5, 7, 8, 5, 6, 6, 10, 8, 11, 13, 18, 13, 11, 12, 9, 11, 5, 12, 17, 14, 4, 10, 14, 6, 6, 15, 9, 17, 11, 4, 7, 7, 31, 10, 20, 7, 27, 10, 20, 1, 16, 10, 5, 14, 11, 3, 11, 2, 9, 4, 3, 6, 6, 8, 21, 16, 8, 10, 2, 14, 11, 7, 6, 9, 26, 17, 16, 11, 8, 6, 2, 6, 17, 6, 4, 19, 28, 17, 14, 2, 5, 11, 12, 22, 17, 4, 8, 4, 18, 4, 4, 3, 11, 9, 13, 19, 10, 7, 9, 10, 15, 14, 6, 16, 17, 8, 10, 8, 6, 5, 15, 6, 7, 6, 16, 6, 23, 9, 10, 19, 24, 8, 10, 5, 7, 9, 9, 18, 3, 4, 12, 9, 5, 1, 3, 11, 21, 10, 21, 3, 7, 6, 20, 13, 11, 8, 8, 7, 1, 4, 7, 14, 5, 7, 12, 4, 25, 3, 6, 13, 10, 5, 2, 14, 3, 10, 4, 15, 19, 4, 20, 9, 5, 2, 13, 6, 10, 20, 4, 16, 17, 8, 17, 10, 24, 19, 9, 5, 10, 5, 3, 8, 2, 6, 22, 11, 6, 14, 12, 14, 18, 7, 8, 10, 8, 8, 4, 15, 10, 2, 3, 6, 11, 33, 6, 4, 4, 20, 9, 8, 5, 8, 5, 2, 11, 2, 17, 10, 5, 8, 12, 21, 2, 7, 12, 14, 8, 6, 12, 3, 20, 4, 12, 3, 4, 17, 13, 5, 7, 11, 27, 9, 8, 9, 16, 5, 3, 21, 5, 3, 7, 15, 13, 18, 4, 5, 8, 16, 6, 17, 8, 11, 4, 8, 6, 4, 10, 15, 5, 4, 8, 4, 2, 5, 5, 9, 11, 3, 11, 14, 7, 11, 13, 6, 3, 7, 12, 9, 3, 5, 9, 7, 5, 9, 8, 8, 2, 6, 12, 7, 2, 11, 9, 5, 14, 8, 5, 9, 17, 6, 10, 4, 8, 10, 32, 7, 1, 3, 14, 8, 10, 13, 19, 13, 9, 21, 22, 10, 5, 8, 7, 16, 9, 2, 5, 17, 6, 11, 8, 15, 26, 7, 2, 3, 5, 8, 17, 8, 9, 5, 5, 17, 9, 2, 8, 11, 15, 9, 11, 3, 3, 7, 8, 16, 13, 24, 5, 3, 2, 21, 15, 9, 8, 7, 8, 6, 10, 9, 6, 13, 23, 5, 2, 2, 5, 9, 14, 7, 5, 10, 9, 3, 4, 8, 10, 4, 5, 9, 9, 5, 2, 9, 3, 20, 4, 14, 6, 8, 14, 12, 11, 12, 2, 8, 6, 1, 20, 28, 10, 13, 9, 9, 2, 3, 7, 4, 8, 9, 22, 22, 13, 10, 18, 6, 19, 10, 7, 8, 4, 6, 8, 8, 13, 5, 15, 1, 18, 5, 19, 3, 7, 9, 8, 8, 17, 5, 14, 2, 8, 8, 12, 7, 14, 20, 8, 4, 17, 9, 12, 7, 2, 11, 16, 9, 20, 14, 8, 9, 11, 10, 15, 16, 9, 11, 19, 3, 7, 7, 14, 4, 4, 12, 12, 17, 7, 2, 4, 4, 5, 6, 6, 5, 10, 20, 5, 15, 8, 12, 10, 8, 4, 2, 3, 7, 11, 16, 5, 4, 10, 8, 17, 16, 18, 18, 15, 10, 14, 14, 2, 21, 21, 5, 8, 12, 6, 16, 8, 7, 15, 20, 4, 9, 30, 3, 9, 17, 19, 10, 7, 15, 20, 5, 7, 20, 5, 9, 23, 7, 4, 13, 14, 5, 11, 7, 9, 7, 1, 6, 7, 12, 5, 6, 5, 6, 10, 17, 3, 4, 24, 12, 8, 3, 4, 17, 3, 3, 12, 9, 8, 6, 12, 7, 15, 3, 10, 8, 10, 13, 20, 2, 26, 8, 9, 11, 18, 15, 8, 13, 9, 8, 20, 13, 15, 6, 13, 14, 9, 8, 5, 9, 5, 5, 4, 4, 18, 7, 15, 6, 8, 8, 9, 7, 15, 1, 5, 9, 21, 5, 8, 23, 6, 5, 11, 10, 12, 12, 4, 3, 4, 21, 6, 11, 3, 8, 22, 15, 3, 9, 14, 15, 5, 8, 12, 9, 14, 8, 9, 17, 10, 4, 8, 10, 6, 1, 8, 16, 21, 8, 12, 7, 7, 12, 8, 9, 29, 4, 6, 11, 8, 4, 8, 11, 5, 9, 16, 5, 6, 1, 22, 27, 3, 8, 2, 8, 1, 17, 17, 8, 16, 14, 9, 15, 9, 19, 6, 8, 4, 2, 13, 13, 4, 1, 4, 12, 6, 4, 6, 11, 8, 2, 14, 4, 13, 16, 15, 9, 5, 8, 14, 9, 5, 17, 1, 8, 9, 7, 23, 6, 7, 1, 10, 10, 11, 17, 3, 9, 12, 6, 3, 8, 13, 6, 11, 7, 8, 7, 17, 5, 3, 3, 11, 18, 17, 15, 17, 15, 6, 7, 10, 5, 7, 4, 3, 12, 6, 13, 12, 8, 9, 8, 16, 12, 14, 4, 16, 8, 18, 9, 12, 19, 9, 10, 14, 9, 5, 6, 11, 5, 9, 7, 4, 4, 2, 3, 12, 3, 7, 8, 17, 15, 4, 9, 17, 10, 2, 15, 11, 6, 4, 12, 10, 13, 10, 7, 8, 12, 21, 8, 5, 22, 15, 10, 5, 16, 2, 6, 8, 2, 3, 14, 11, 5, 10, 6, 6, 10, 11, 16, 9, 6, 15, 3, 6, 12, 11, 6, 19, 9, 14, 6, 2, 1, 3, 8, 17, 7, 7, 12, 12, 3, 2, 9, 9, 5, 17, 6, 19, 9, 8, 17, 9, 4, 10, 6, 2, 15, 17, 9, 12, 2, 9, 5, 13, 5, 11, 4, 11, 10, 10, 5, 22, 12, 15, 14, 9, 16, 5, 18, 6, 12, 13, 12, 16, 16, 4, 14, 10, 15, 7, 4, 8, 13, 4, 11, 2, 4, 9, 6, 17, 7, 12, 8, 2, 4, 22, 21, 16, 22, 1, 5, 12, 5, 17, 12, 5, 9, 8, 16, 11, 4, 6, 13, 10, 8, 5, 8, 3, 15, 16, 16, 8, 5, 11, 19, 3, 2, 6, 8, 10, 13, 9, 14, 17, 8, 14, 14, 6, 9, 14, 7, 3, 9, 6, 13, 19, 22, 12, 9, 18, 2, 4, 12, 7, 20, 17, 3, 24, 5, 4, 6, 5, 8, 4, 4, 9, 10, 2, 7, 17, 14, 4, 29, 5, 16, 15, 13, 8, 2, 17, 14, 8, 4, 18, 9, 6, 4, 5, 9, 16, 6, 21, 5, 6, 6, 10, 4, 5, 4, 21, 28, 10, 14, 5, 6, 12, 8, 2, 21, 17, 2, 10, 14, 22, 9, 9, 12, 5, 2, 9, 9, 13, 4, 16, 11, 8, 3, 4, 15, 11, 15, 4, 21, 7, 9, 6, 10, 24, 12, 8, 13, 5, 14, 12, 4, 4, 10, 8, 2, 7, 4, 2, 9, 14, 8, 16, 8, 11, 1, 9, 3, 4, 9, 4, 5, 9, 8, 9, 3, 6, 26, 5, 3, 4, 13, 6, 12, 3, 8, 9, 8, 14, 7, 5, 11, 23, 7, 10, 8, 7, 9, 4, 19, 2, 17, 13, 4, 8, 5, 13, 2, 4, 19, 21, 16, 8, 17, 12, 12, 23, 5, 10, 6, 13, 6, 12, 8, 15, 10, 23, 18, 8, 3, 6, 11, 9, 8, 17, 5, 12, 11, 9, 14, 14, 11, 9, 12, 3, 3, 4, 10, 2, 11, 10, 12, 8, 9, 20, 9, 19, 20, 10, 8, 19, 3, 14, 4, 26, 23, 13, 6, 12, 3, 3, 7, 6, 2, 2, 4, 9, 15, 8, 4, 6, 6, 2, 2, 10, 5, 6, 8, 4, 10, 8, 5, 15, 4, 7, 25, 8, 6, 8, 3, 6, 9, 5, 7, 6, 6, 13, 7, 5, 5, 8, 16, 17, 16, 5, 36, 14, 10, 16, 3, 9, 6, 12, 15, 6, 5, 4, 18, 7, 2, 7, 9, 9, 14, 7, 4, 26, 20, 31, 7, 4, 4, 16, 4, 7, 12, 5, 5, 18, 1, 12, 5, 2, 4, 5, 6, 8, 2, 6, 8, 7, 8, 9, 6, 8, 21, 15, 9, 22, 11, 9, 8, 8, 14, 9, 6, 6, 10, 19, 6, 9, 27, 7, 2, 6, 8, 16, 18, 11, 18, 10, 3, 8, 5, 2, 12, 11, 9, 3, 7, 18, 11, 18, 20, 13, 11, 1, 15, 11, 4, 2, 4, 3, 10, 9, 8, 19, 17, 10, 4, 4, 25, 4, 4, 19, 14, 6, 9, 8, 12, 9, 11, 16, 10, 3, 26, 5, 6, 14, 15, 8, 7, 15, 5, 7, 10, 7, 12, 1, 5, 7, 4, 4, 6, 3, 16, 7, 18, 11, 15, 8, 12, 11, 9, 9, 4, 9, 7, 23, 7, 12, 17, 10, 7, 2, 17, 8, 14, 12, 8, 13, 6, 7, 10, 5, 13, 5, 5, 9, 9, 19, 13, 5, 2, 14, 16, 10, 9, 15, 9, 7, 2, 20, 11, 5, 8, 20, 6, 5, 11, 6, 8, 9, 7, 17, 11, 8, 6, 6, 8, 7, 7, 20, 12, 22, 15, 4, 8, 8, 5, 2, 7, 28, 3, 1, 13, 12, 5, 7, 16, 7, 2, 10, 28, 9, 23, 19, 5, 6, 9, 7, 8, 18, 3, 4, 7, 6, 15, 5, 8, 6, 1, 11, 14, 4, 7, 6, 17, 8, 6, 3, 8, 17, 6, 15, 6, 3, 12, 15, 20, 23, 3, 7, 15, 10, 3, 3, 7, 6, 8, 19, 11, 4, 13, 5, 7, 11, 4, 5, 6, 13, 5, 5, 12, 8, 7, 18, 7, 3, 7, 5, 18, 9, 18, 4, 4, 9, 4, 12, 14, 7, 5, 20, 4, 14, 19, 9, 4, 9, 9, 2, 18, 22, 4, 9, 14, 4, 15, 19, 5, 12, 8, 4, 12, 7, 14, 5, 9, 4, 5, 23, 5, 5, 8, 12, 14, 9, 3, 4, 19, 4, 3, 6, 4, 4, 10, 4, 19, 5, 8, 9, 8, 7, 10, 9, 12, 10, 9, 3, 13, 20, 12, 11, 3, 5, 14, 4, 8, 4, 6, 4, 11, 14, 16, 6, 24, 15, 18, 6, 7, 17, 2, 9, 17, 2, 6, 6, 3, 8, 14, 1, 2, 8, 28, 10, 12, 7, 5, 16, 5, 10, 4, 10, 13, 14, 21, 8, 13, 15, 14, 2, 6, 7, 20, 20, 21, 16, 8, 4, 14, 4, 4, 10, 5, 2, 5, 8, 12, 14, 9, 5, 5, 3, 20, 4, 14, 6, 13, 9, 13, 1, 4, 9, 1, 17, 13, 5, 8, 10, 9, 11, 3, 14, 5, 6, 5, 5, 8, 16, 1, 1, 14, 6, 17, 17, 7, 16, 4, 12, 2, 5, 6, 5, 6, 9, 7, 9, 4, 13, 7, 8, 16, 6, 5, 5, 5, 7, 6, 5, 12, 9, 9, 4, 6, 11, 4, 12, 7, 9, 11, 8, 14, 11, 16, 7, 8, 12, 23, 4, 15, 5, 12, 8, 2, 4, 3, 16, 17, 5, 19, 18, 6, 10, 4, 7, 11, 19, 6, 15, 9, 34, 7, 3, 10, 4, 16, 3, 6, 4, 9, 7, 22, 2, 9, 16, 15, 11, 18, 16, 9, 15, 10, 3, 14, 8, 19, 9, 5, 14, 5, 4, 15, 4, 7, 16, 5, 13, 13, 14, 15, 6, 8, 8, 5, 9, 11, 5, 19, 4, 6, 6, 1, 8, 3, 18, 19, 10, 14, 14, 5, 4, 23, 8, 6, 9, 13, 7, 12, 7, 9, 9, 5, 16, 6, 4, 9, 9, 18, 12, 7, 8, 9, 11, 12, 12, 6, 15, 8, 17, 23, 22, 6, 21, 9, 7, 9, 4, 2, 19, 9, 4, 9, 13, 6, 9, 4, 10, 9, 4, 9, 5, 8, 10, 8, 5, 14, 3, 8, 4, 1, 16, 5, 4, 6, 5, 6, 14, 12, 2, 7, 12, 4, 5, 19, 1, 9, 8, 5, 4, 8, 19, 6, 10, 4, 5, 9, 13, 17, 12, 4, 14, 7, 10, 5, 11, 10, 37, 1, 7, 4, 5, 4, 2, 14, 6, 24, 4, 5, 6, 8, 4, 23, 11, 2, 9, 4, 12, 9, 8, 5, 4, 7, 11, 13, 25, 2, 7, 5, 14, 7, 16, 12, 5, 15, 14, 12, 9, 4, 18, 23, 8, 6, 14, 3, 8, 1, 5, 3, 5, 4, 8, 6, 7, 9, 16, 5, 6, 20, 12, 11, 9, 17, 9, 5, 10, 10, 12, 10, 6, 7, 12, 18, 6, 8, 23, 17, 8, 12, 13, 22, 11, 7, 7, 19, 14, 8, 8, 16, 7, 6, 15, 7, 5, 2, 8, 3, 20, 5, 7, 5, 4, 5, 5, 16, 12, 7, 7, 7, 5, 2, 17, 30, 9, 8, 9, 12, 4, 3, 6, 2, 5, 5, 5, 11, 4, 4, 15, 8, 9, 14, 5, 14, 22, 3, 11, 7, 14, 15, 10, 6, 6, 14, 26, 4, 14, 1, 9, 8, 6, 4, 12, 7, 10, 23, 1, 5, 5, 7, 3, 7, 7, 19, 15, 8, 9, 7, 2, 13, 8, 10, 15, 2, 11, 18, 3, 14, 8, 11, 4, 7, 5, 1, 17, 11, 10, 1, 7, 8, 6, 9, 9, 4, 14, 15, 2, 3, 19, 5, 21, 5, 3, 14, 7, 9, 4, 10, 7, 4, 11, 8, 5, 14, 6, 16, 4, 8, 22, 3, 5, 13, 2, 18, 16, 15, 7, 10, 19, 7, 6, 8, 4, 4, 8, 5, 5, 7, 10, 15, 12, 8, 2, 2, 11, 14, 15, 12, 6, 10, 13, 22, 15, 9, 6, 9, 7, 5, 3, 5, 7, 3, 2, 8, 8, 9, 10, 8, 12, 3, 9, 8, 17, 12, 9, 16, 5, 16, 8, 7, 5, 5, 13, 13, 16, 3, 10, 4, 11, 5, 11, 15, 8, 10, 4, 7, 20, 8, 5, 3, 4, 9, 5, 10, 5, 6, 2, 8, 16, 11, 7, 17, 9, 6, 2, 15, 10, 6, 8, 9, 5, 4, 8, 9, 2, 4, 3, 14, 9, 7, 10, 2, 6, 5, 10, 8, 10, 19, 8, 8, 13, 10, 11, 6, 10, 13, 3, 6, 14, 14, 21, 9, 4, 24, 13, 7, 9, 8, 9, 6, 14, 5, 2, 9, 2, 10, 15, 6, 2, 5, 6, 8, 5, 8, 5, 11, 15, 2, 5, 9, 5, 5, 14, 8, 9, 15, 20, 13, 4, 5, 14, 5, 6, 15, 7, 4, 1, 5, 6, 7, 28, 9, 7, 3, 10, 11, 8, 9, 18, 4, 4, 3, 5, 14, 11, 7, 12, 6, 8, 7, 3, 18, 8, 10, 13, 8, 22, 7, 5, 5, 10, 10, 11, 21, 1, 15, 16, 3, 5, 7, 4, 2, 8, 11, 18, 12, 10, 3, 3, 5, 8, 5, 9, 8, 8, 13, 6, 15, 5, 19, 9, 18, 14, 4, 8, 5, 8, 3, 6, 16, 5, 6, 11, 6, 18, 4, 6, 3, 3, 21, 8, 9, 6, 18, 9, 16, 3, 5, 4, 11, 7, 12, 6, 8, 18, 9, 8, 7, 4, 10, 4, 14, 2, 10, 2, 3, 5, 12, 7, 14, 4, 9, 15, 10, 7, 14, 11, 5, 8, 8, 17, 5, 8, 20, 7, 3, 11, 6, 11, 7, 8, 4, 5, 5, 17, 8, 5, 23, 26, 6, 8, 11, 5, 7, 5, 3, 24, 14, 6, 9, 8, 4, 4, 12, 7, 9, 14, 11, 2, 14, 8, 5, 6, 3, 16, 5, 5, 3, 15, 3, 9, 6, 7, 20, 4, 12, 8, 9, 10, 8, 4, 11, 7, 6, 9, 21, 5, 16, 4, 17, 5, 6, 9, 6, 6, 5, 5, 4, 10, 13, 11, 8, 6, 2, 5, 8, 11, 9, 4, 14, 2, 6, 4, 2, 11, 16, 7, 4, 7, 14, 6, 14, 2, 13, 26, 17, 3, 3, 10, 1, 7, 6, 5, 7, 5, 10, 4, 17, 10, 34, 5, 8, 3, 14, 9, 21, 7, 9, 13, 12, 7, 4, 5, 7, 6, 18, 3, 6, 4, 4, 2, 9, 6, 7, 9, 8, 8, 12, 5, 5, 7, 8, 4, 6, 4, 6, 8, 6, 22, 16, 15, 4, 10, 19, 6, 10, 11, 4, 13, 14, 6, 13, 8, 30, 9, 4, 6, 11, 13, 13, 10, 5, 16, 14, 20, 5, 3, 16, 12, 2, 6, 8, 11, 13, 9, 9, 17, 7, 3, 4, 4, 13, 2, 3, 2, 12, 18, 16, 5, 8, 6, 14, 9, 6, 2, 4, 16, 8, 5, 12, 12, 12, 4, 19, 6, 12, 3, 4, 7, 4, 8, 7, 10, 18, 3, 23, 19, 15, 4, 13, 6, 16, 6, 8, 9, 20, 14, 5, 5, 6, 7, 6, 6, 31, 11, 10, 8, 18, 4, 4, 6, 6, 25, 2, 33, 11, 5, 23, 7, 10, 6, 3, 4, 7, 8, 11, 6, 23, 6, 19, 13, 9, 3, 14, 5, 8, 21, 8, 5, 5, 7, 17, 6, 6, 7, 14, 13, 4, 6, 10, 4, 23, 5, 8, 5, 10, 6, 11, 14, 11, 4, 2, 6, 9, 16, 3, 14, 3, 4, 4, 6, 2, 2, 10, 9, 11, 7, 5, 27, 11, 17, 6, 6, 8, 1, 5, 5, 17, 11, 22, 7, 6, 19, 7, 12, 19, 8, 15, 6, 5, 6, 7, 9, 10, 20, 15, 4, 5, 3, 17, 11, 4, 7, 7, 7, 17, 9, 9, 5, 3, 7, 17, 5, 16, 5, 4, 5, 5, 14, 4, 8, 5, 7, 12, 17, 5, 5, 6, 5, 3, 13, 2, 18, 9, 15, 12, 3, 22, 17, 14, 7, 8, 12, 12, 14, 7, 9, 6, 4, 7, 10, 14, 14, 11, 11, 10, 15, 12, 5, 4, 2, 15, 10, 5, 4, 8, 10, 2, 8, 14, 8, 14, 9, 19, 1, 7, 16, 8, 10, 4, 4, 3, 4, 5, 4, 3, 6, 4, 6, 4, 16, 9, 10, 5, 5, 14, 22, 13, 12, 10, 16, 2, 5, 11, 9, 6, 4, 9, 9, 6, 20, 5, 12, 15, 8, 4, 17, 19, 15, 15, 3, 4, 15, 4, 15, 13, 7, 5, 7, 11, 7, 9, 14, 7, 7, 5, 5, 5, 12, 5, 13, 5, 3, 17, 4, 3, 5, 9, 8, 7, 16, 12, 15, 21, 7, 6, 7, 14, 5, 16, 17, 7, 4, 5, 5, 15, 10, 19, 7, 11, 11, 3, 10, 12, 20, 9, 5, 13, 14, 9, 3, 2, 4, 2, 4, 4, 7, 4, 4, 23, 2, 4, 5, 14, 1, 11, 7, 5, 8, 9, 4, 15, 7, 14, 5, 8, 3, 6, 9, 6, 6, 18, 19, 22, 12, 6, 3, 4, 2, 5, 10, 21, 4, 14, 3, 7, 7, 5, 8, 5, 3, 2, 7, 6, 4, 4, 17, 12, 13, 6, 13, 4, 9, 17, 5, 3, 22, 7, 3, 4, 17, 12, 4, 14, 4, 2, 7, 8, 19, 16, 16, 5, 6, 7, 13, 2, 5, 3, 7, 4, 14, 10, 10, 5, 4, 15, 2, 16, 10, 3, 5, 5, 16, 6, 14, 8, 5, 2, 2, 9, 8, 6, 9, 4, 5, 3, 8, 5, 8, 7, 22, 6, 6, 12, 5, 13, 22, 14, 12, 17, 12, 9, 13, 9, 10, 18, 6, 4, 23, 6, 6, 12, 17, 6, 33, 8, 16, 7, 2, 2, 12, 5, 9, 7, 10, 9, 7, 7, 22, 3, 5, 19, 8, 17, 20, 2, 11, 22, 5, 7, 6, 9, 3, 12, 6, 6, 5, 18, 6, 5, 4, 11, 11, 7, 4, 16, 6, 2, 11, 18, 15, 8, 5, 6, 6, 7, 15, 5, 16, 9, 7, 8, 2, 12, 3, 5, 9, 4, 3, 5, 12, 13, 15, 16, 7, 18, 9, 2, 2, 8, 29, 11, 7, 18, 2, 6, 8, 15, 9, 3, 25, 21, 9, 8, 8, 7, 5, 2, 8, 8, 8, 19, 3, 10, 17, 21, 12, 5, 16, 4, 7, 16, 9, 7, 3, 5, 9, 7, 10, 8, 7, 9, 4, 14, 15, 10, 2, 22, 4, 5, 5, 3, 10, 7, 6, 21, 13, 24, 8, 4, 8, 11, 13, 14, 6, 10, 4, 28, 11, 8, 2, 16, 7, 11, 10, 16, 1, 6, 7, 7, 46, 11, 16, 8, 10, 14, 14, 12, 5, 11, 5, 4, 5, 9, 4, 6, 7, 5, 10, 6, 4, 6, 8, 5, 13, 4, 7, 11, 5, 6, 7, 6, 4, 8, 7, 9, 6, 2, 6, 4, 16, 8, 8, 21, 8, 15, 8, 10, 6, 18, 27, 13, 4, 5, 5, 6, 11, 9, 9, 17, 7, 10, 5, 4, 7, 10, 5, 7, 5, 17, 5, 10, 1, 11, 11, 10, 6, 4, 11, 6, 6, 5, 6, 14, 7, 6, 14, 14, 7, 5, 12, 4, 9, 10, 9, 3, 7, 5, 3, 7, 4, 3, 10, 8, 3, 13, 10, 15, 12, 5, 3, 6, 8, 11, 4, 7, 13, 8, 18, 5, 6, 4, 22, 12, 4, 15, 15, 3, 12, 9, 10, 6, 3, 6, 9, 15, 22, 4, 11, 14, 6, 5, 6, 7, 7, 12, 10, 19, 6, 23, 1, 10, 8, 4, 8, 15, 10, 6, 7, 5, 17, 8, 5, 19, 29, 13, 6, 6, 9, 4, 6, 5, 2, 14, 5, 9, 10, 5, 3, 14, 13, 9, 3, 3, 5, 7, 3, 7, 8, 13, 10, 6, 4, 7, 31, 2, 5, 6, 6, 21, 14, 6, 12, 7, 16, 2, 33, 13, 15, 10, 10, 12, 18, 10, 5, 10, 10, 9, 10, 9, 26, 8, 3, 7, 14, 10, 2, 9, 5, 9, 13, 9, 8, 17, 6, 4, 25, 6, 8, 14, 14, 13, 24, 14, 29, 6, 5, 9, 13, 14, 9, 5, 4, 5, 13, 11, 9, 8, 4, 6, 7, 5, 2, 8, 10, 5, 20, 7, 6, 11, 22, 8, 7, 4, 7, 2, 21, 14, 10, 11, 3, 2, 19, 5, 8, 15, 12, 19, 7, 14, 13, 4, 9, 4, 9, 2, 3, 4, 9, 3, 7, 11, 11, 4, 14, 18, 11, 4, 17, 5, 5, 7, 20, 8, 4, 9, 10, 11, 1, 1, 8, 6, 11, 22, 20, 14, 17, 18, 9, 3, 10, 14, 19, 6, 3, 9, 4, 23, 9, 10, 15, 7, 8, 20, 18, 14, 7, 3, 21, 17, 10, 15, 4, 15, 4, 6, 5, 24, 5, 6, 3, 14, 2, 17, 20, 6, 13, 20, 9, 23, 4, 14, 7, 23, 12, 12, 3, 10, 13, 3, 6, 3, 10, 11, 6, 15, 14, 13, 4, 4, 8, 13, 5, 6, 9, 6, 19, 9, 11, 5, 6, 7, 12, 6, 16, 4, 13, 14, 17, 13, 6, 12, 5, 10, 11, 21, 2, 5, 6, 8, 4, 7, 20, 8, 4, 12, 18, 10, 10, 14, 3, 17, 9, 11, 2, 13, 9, 8, 18, 4, 10, 15, 6, 11, 11, 15, 10, 10, 9, 11, 2, 6, 4, 8, 14, 10, 23, 3, 11, 19, 15, 6, 18, 9, 8, 6, 6, 6, 5, 4, 4, 6, 4, 5, 4, 4, 9, 4, 5, 3, 8, 6, 9, 7, 3, 9, 11, 14, 9, 2, 7, 8, 7, 3, 6, 9, 10, 7, 8, 4, 10, 10, 6, 10, 3, 11, 23, 8, 6, 10, 2, 11, 5, 8, 4, 8, 19, 16, 5, 6, 7, 5, 8, 4, 12, 7, 4, 10, 22, 10, 12, 9, 11, 6, 18, 13, 8, 13, 10, 12, 17, 3, 8, 8, 9, 10, 6, 8, 11, 3, 14, 7, 10, 7, 3, 9, 5, 15, 13, 9, 5, 23, 12, 12, 14, 11, 11, 11, 2, 13, 6, 14, 12, 19, 5, 3, 8, 6, 11, 14, 2, 15, 9, 3, 9, 20, 5, 2, 6, 10, 3, 13, 5, 8, 21, 22, 16, 9, 7, 16, 2, 8, 15, 24, 18, 8, 11, 15, 16, 4, 19, 11, 19, 5, 15, 10, 17, 8, 28, 4, 6, 18, 2, 3, 3, 5, 3, 8, 7, 15, 9, 14, 14, 10, 11, 4, 3, 7, 10, 15, 6, 18, 21, 5, 7, 4, 7, 6, 10, 17, 6, 3, 6, 22, 8, 5, 24, 10, 5, 6, 1, 6, 9, 3, 15, 5, 15, 6, 13, 23, 3, 18, 2, 11, 7, 10, 8, 5, 18, 9, 8, 8, 27, 11, 8, 5, 28, 16, 9, 21, 17, 22, 14, 8, 8, 7, 13, 15, 8, 9, 18, 4, 4, 8, 6, 10, 4, 28, 7, 28, 21, 13, 18, 15, 6, 18, 6, 14, 4, 5, 20, 8, 15, 4, 6, 11, 8, 5, 8, 13, 9, 16, 2, 3, 19, 14, 17, 18, 5, 15, 4, 5, 10, 2, 20, 3, 13, 4, 11, 7, 14, 3, 23, 10, 5, 6, 26, 5, 9, 16, 7, 11, 8, 11, 8, 16, 9, 7, 4, 9, 12, 6, 12, 8, 17, 11, 7, 15, 26, 10, 9, 3, 2, 8, 3, 22, 15, 4, 5, 17, 12, 12, 6, 21, 9, 8, 20, 7, 7, 12, 8, 7, 9, 8, 15, 6, 5, 7, 4, 7, 8, 20, 11, 4, 10, 5, 10, 7, 4, 18, 4, 7, 8, 1, 3, 17, 7, 4, 6, 4, 4, 12, 5, 11, 5, 7, 15, 10, 22, 12, 12, 10, 12, 4, 6, 8, 21, 9, 6, 5, 2, 7, 2, 3, 10, 6, 13, 12, 28, 2, 3, 7, 11, 15, 3, 10, 5, 1, 18, 9, 8, 10, 5, 8, 22, 12, 8, 4, 11, 21, 5, 8, 4, 11, 7, 6, 17, 4, 4, 4, 9, 5, 6, 10, 12, 4, 15, 4, 3, 10, 11, 23, 12, 15, 19, 12, 13, 20, 2, 14, 6, 19, 5, 5, 10, 6, 3, 4, 9, 8, 7, 11, 4, 5, 13, 11, 6, 7, 3, 3, 10, 12, 1, 7, 7, 2, 6, 23, 5, 8, 6, 4, 24, 13, 6, 7, 6, 12, 12, 10, 13, 11, 4, 6, 17, 2, 6, 9, 11, 6, 3, 8, 7, 20, 6, 2, 10, 8, 6, 13, 3, 3, 1, 27, 9, 13, 14, 13, 9, 6, 5, 9, 2, 10, 10, 3, 14, 13, 5, 7, 3, 5, 23, 13, 10, 9, 7, 10, 14, 12, 17, 8, 7, 8, 10, 6, 3, 13, 7, 7, 9, 4, 5, 2, 11, 5, 4, 9, 16, 14, 7, 10, 15, 7, 12, 5, 11, 9, 10, 11, 11, 4, 5, 5, 9, 17, 6, 15, 1, 6, 12, 9, 12, 2, 23, 8, 8, 12, 13, 7, 8, 5, 8, 4, 9, 8, 8, 20, 5, 3, 20, 10, 9, 16, 8, 4, 15, 3, 21, 4, 14, 15, 4, 17, 9, 11, 10, 19, 7, 3, 8, 6, 5, 8, 3, 10, 26, 15, 5, 21, 11, 10, 14, 12, 9, 7, 15, 10, 18, 10, 13, 20, 15, 10, 15, 4, 27, 3, 12, 12, 5, 5, 6, 7, 3, 1, 12, 5, 5, 15, 5, 5, 20, 2, 6, 7, 10, 4, 3, 14, 6, 11, 7, 15, 8, 5, 20, 13, 12, 4, 5, 13, 9, 23, 17, 5, 11, 4, 1, 4, 9, 7, 9, 13, 15, 17, 3, 14, 5, 14, 6, 4, 4, 9, 4, 18, 9, 11, 16, 10, 1, 8, 8, 13, 13, 12, 7, 5, 5, 10, 7, 25, 9, 7, 8, 7, 3, 9, 5, 2, 10, 4, 10, 8, 8, 8, 4, 28, 2, 8, 11, 9, 14, 12, 7, 2, 2, 5, 20, 33, 7, 4, 6, 7, 8, 11, 5, 3, 14, 11, 1, 14, 11, 12, 5, 11, 15, 9, 8, 17, 3, 4, 20, 16, 4, 12, 18, 20, 8, 4, 11, 15, 7, 2, 8, 9, 12, 9, 3, 30, 17, 4, 4, 14, 4, 7, 9, 4, 15, 10, 12, 3, 3, 11, 13, 11, 19, 18, 9, 18, 8, 18, 6, 6, 14, 4, 10, 3, 4, 6, 10, 4, 13, 8, 11, 7, 9, 9, 10, 4, 9, 9, 4, 6, 15, 2, 14, 15, 14, 18, 21, 7, 11, 5, 8, 19, 8, 18, 7, 12, 27, 6, 8, 5, 7, 5, 6, 16, 9, 4, 8, 8, 17, 2, 12, 4, 6, 1, 5, 16, 3, 4, 7, 2, 6, 5, 28, 6, 18, 7, 4, 8, 11, 9, 16, 18, 9, 8, 12, 12, 10, 5, 4, 5, 18, 19, 3, 3, 7, 4, 19, 10, 6, 19, 6, 5, 15, 4, 9, 13, 16, 21, 7, 10, 20, 11, 5, 16, 12, 6, 8, 8, 7, 22, 1, 6, 5, 6, 13, 18, 3, 17, 10, 8, 8, 14, 8, 4, 5, 5, 4, 12, 7, 7, 11, 5, 5, 3, 13, 17, 5, 12, 7, 6, 15, 5, 16, 18, 20, 9, 20, 8, 2, 7, 15, 13, 4, 18, 6, 6, 1, 14, 5, 8, 5, 5, 5, 3, 33, 8, 7, 11, 3, 13, 14, 17, 15, 8, 3, 10, 12, 8, 20, 21, 15, 8, 15, 7, 3, 6, 8, 11, 11, 15, 18, 11, 9, 8, 6, 16, 6, 12, 9, 5, 5, 8, 5, 10, 9, 16, 3, 6, 6, 10, 9, 15, 9, 12, 11, 24, 10, 5, 6, 5, 7, 6, 4, 8, 5, 2, 6, 5, 11, 6, 22, 8, 12, 8, 2, 3, 11, 11, 6, 5, 6, 1, 4, 8, 6, 2, 7, 5, 14, 29, 8, 8, 10, 4, 16, 7, 21, 6, 8, 11, 8, 15, 1, 17, 7, 9, 14, 6, 5, 16, 14, 14, 10, 4, 16, 10, 5, 13, 19, 8, 19, 14, 7, 3, 16, 5, 12, 12, 10, 11, 17, 6, 8, 3, 8, 4, 11, 13, 4, 12, 6, 9, 5, 5, 1, 23, 7, 10, 5, 7, 7, 2, 4, 4, 10, 7, 5, 3, 7, 4, 14, 10, 5, 14, 4, 5, 4, 13, 2, 2, 14, 3, 19, 16, 9, 3, 5, 9, 5, 2, 5, 3, 9, 5, 11, 16, 5, 16, 6, 10, 11, 20, 5, 14, 15, 4, 11, 11, 11, 2, 8, 9, 8, 2, 5, 9, 12, 5, 6, 16, 11, 6, 7, 12, 6, 7, 11, 17, 5, 4, 12, 9, 2, 3, 28, 9, 34, 8, 9, 24, 4, 17, 15, 8, 12, 3, 10, 13, 5, 9, 13, 6, 12, 5, 9, 15, 11, 9, 5, 10, 8, 2, 7, 1, 14, 5, 6, 9, 9, 9, 15, 13, 6, 20, 8, 6, 4, 7, 5, 9, 13, 5, 13, 3, 21, 6, 10, 4, 4, 3, 20, 18, 11, 4, 17, 8, 7, 6, 18, 7, 5, 11, 5, 21, 9, 4, 13, 17, 5, 5, 3, 20, 10, 4, 23, 14, 5, 8, 10, 15, 1, 5, 5, 6, 5, 13, 16, 11, 22, 12, 13, 8, 6, 8, 8, 15, 9, 6, 4, 7, 7, 11, 21, 3, 18, 7, 5, 8, 4, 7, 3, 9, 5, 1, 7, 9, 6, 7, 14, 6, 9, 22, 20, 3, 14, 8, 6, 1, 7, 6, 5, 11, 6, 7, 3, 23, 6, 3, 15, 4, 4, 8, 5, 11, 10, 2, 6, 2, 3, 17, 11, 2, 8, 12, 6, 5, 16, 7, 5, 8, 5, 17, 13, 8, 4, 26, 6, 3, 5, 11, 13, 11, 8, 11, 13, 7, 3, 8, 3, 18, 5, 8, 8, 11, 9, 5, 4, 5, 12, 6, 3, 6, 6, 22, 4, 7, 7, 22, 1, 10, 7, 7, 12, 12, 9, 12, 9, 18, 2, 5, 9, 5, 20, 10, 7, 18, 7, 5, 14, 3, 6, 5, 7, 10, 9, 7, 7, 6, 4, 4, 5, 17, 1, 5, 5, 9, 10, 7, 18, 16, 8, 23, 4, 4, 8, 18, 2, 12, 4, 12, 8, 15, 5, 13, 3, 17, 15, 7, 9, 5, 9, 24, 9, 1, 5, 3, 13, 4, 17, 6, 19, 8, 15, 4, 16, 5, 12, 11, 6, 8, 5, 9, 5, 12, 8, 27, 4, 6, 6, 25, 19, 6, 8, 7, 11, 4, 6, 11, 2, 15, 12, 8, 5, 12, 11, 7, 9, 23, 11, 21, 14, 4, 3, 10, 8, 2, 3, 5, 3, 5, 8, 7, 11, 22, 21, 7, 24, 9, 4, 10, 8, 11, 8, 5, 11, 11, 9, 4, 6, 4, 7, 7, 3, 4, 17, 10, 5, 13, 6, 6, 3, 9, 16, 12, 4, 10, 6, 12, 5, 6, 7, 16, 9, 6, 17, 13, 8, 15, 18, 6, 9, 8, 23, 7, 7, 2, 7, 10, 8, 9, 9, 11, 20, 15, 11, 8, 6, 6, 14, 14, 12, 14, 2, 17, 10, 14, 3, 2, 6, 14, 7, 11, 6, 4, 8, 26, 19, 23, 9, 8, 8, 8, 9, 4, 18, 20, 3, 16, 7, 6, 7, 9, 22, 3, 6, 4, 9, 6, 14, 16, 2, 15, 4, 4, 4, 15, 19, 13, 4, 10, 10, 6, 5, 7, 1, 10, 17, 3, 5, 33, 1, 17, 9, 6, 12, 12, 6, 11, 9, 12, 2, 6, 9, 8, 4, 3, 16, 7, 14, 2, 10, 8, 5, 28, 10, 4, 8, 6, 7, 10, 16, 2, 24, 18, 7, 15, 9, 4, 7, 12, 10, 20, 7, 6, 12, 6, 5, 5, 6, 9, 6, 20, 17, 10, 7, 7, 6, 16, 18, 7, 6, 6, 11, 5, 6, 8, 12, 6, 20, 10, 10, 19, 2, 4, 21, 21, 6, 22, 6, 5, 8, 7, 10, 13, 8, 12, 5, 7, 12, 7, 12, 2, 4, 9, 9, 16, 25, 8, 5, 5, 12, 13, 6, 9, 9, 4, 8, 10, 18, 11, 3, 17, 2, 6, 4, 8, 9, 10, 8, 21, 14, 22, 3, 8, 13, 3, 4, 3, 4, 14, 22, 9, 10, 16, 2, 9, 11, 19, 3, 14, 4, 6, 15, 18, 8, 4, 19, 8, 15, 8, 6, 9, 4, 14, 7, 6, 25, 9, 4, 6, 4, 6, 9, 18, 11, 7, 11, 5, 13, 7, 9, 8, 11, 4, 11, 13, 6, 16, 4, 14, 8, 2, 12, 8, 7, 10, 16, 3, 8, 12, 11, 6, 8, 8, 5, 6, 5, 9, 22, 16, 15, 9, 11, 7, 8, 5, 3, 6, 6, 17, 10, 12, 11, 11, 23, 7, 9, 17, 11, 12, 6, 4, 11, 8, 6, 19, 1, 6, 3, 1, 15, 11, 17, 12, 7, 6, 4, 15, 4, 7, 11, 10, 8, 3, 23, 15, 2, 6, 11, 10, 8, 19, 6, 4, 9, 16, 5, 4, 7, 5, 17, 3, 3, 7, 17, 17, 5, 10, 8, 9, 19, 10, 14, 13, 23, 10, 16, 8, 7, 15, 8, 13, 10, 5, 11, 9, 12, 15, 23, 5, 9, 8, 3, 5, 3, 2, 12, 11, 18, 9, 7, 10, 7, 7, 7, 10, 3, 8, 20, 7, 19, 11, 11, 7, 5, 8, 2, 8, 18, 10, 11, 12, 24, 13, 5, 14, 15, 6, 7, 28, 1, 8, 1, 6, 9, 15, 6, 7, 7, 13, 7, 16, 1, 14, 4, 4, 11, 10, 5, 18, 6, 8, 4, 8, 4, 7, 3, 21, 19, 9, 3, 4, 19, 9, 4, 5, 12, 2, 16, 8, 2, 2, 14, 19, 10, 14, 4, 9, 3, 2, 8, 11, 17, 2, 5, 3, 8, 2, 5, 3, 12, 4, 7, 8, 7, 8, 10, 7, 17, 21, 18, 17, 7, 4, 3, 5, 3, 23, 5, 5, 12, 5, 4, 7, 16, 7, 14, 5, 2, 10, 10, 4, 6, 8, 8, 5, 7, 5, 8, 11, 17, 5, 4, 15, 7, 9, 8, 19, 3, 14, 10, 9, 3, 21, 15, 20, 20, 3, 21, 5, 2, 10, 7, 9, 14, 1, 20, 11, 22, 5, 11, 3, 14, 5, 3, 3, 20, 28, 23, 15, 10, 7, 4, 5, 13, 3, 15, 4, 18, 6, 12, 8, 8, 9, 7, 5, 23, 15, 11, 9, 2, 13, 32, 5, 4, 6, 5, 4, 11, 4, 6, 5, 3, 15, 13, 4, 2, 24, 9, 11, 22, 1, 3, 9, 8, 6, 19, 12, 8, 5, 5, 17, 5, 7, 4, 19, 4, 3, 8, 5, 3, 8, 8, 6, 7, 7, 5, 9, 8, 9, 6, 14, 8, 7, 10, 23, 10, 8, 2, 4, 2, 8, 8, 17, 2, 7, 14, 3, 17, 4, 23, 7, 5, 20, 3, 3, 17, 8, 10, 11, 2, 5, 11, 10, 4, 3, 6, 4, 7, 3, 5, 9, 4, 2, 12, 9, 8, 9, 14, 6, 2, 14, 4, 23, 23, 10, 2, 27, 8, 8, 6, 9, 11, 3, 17, 6, 19, 6, 3, 5, 11, 6, 10, 7, 6, 5, 3, 4, 11, 4, 14, 7, 7, 11, 9, 2, 5, 15, 8, 8, 13, 8, 14, 8, 8, 9, 9, 8, 2, 6, 22, 14, 9, 5, 9, 5, 1, 14, 18, 9, 17, 8, 10, 16, 6, 15, 15, 3, 3, 13, 5, 12, 30, 8, 18, 9, 16, 6, 8, 9, 8, 8, 12, 2, 6, 21, 7, 5, 3, 6, 10, 8, 7, 14, 14, 13, 5, 11, 2, 8, 12, 5, 8, 7, 8, 5, 2, 4, 9, 21, 12, 21, 19, 5, 8, 14, 18, 8, 11, 10, 7, 3, 5, 2, 11, 6, 9, 9, 4, 3, 20, 2, 4, 6, 5, 12, 12, 11, 9, 7, 8, 11, 6, 4, 4, 18, 4, 5, 6, 8, 9, 7, 10, 8, 4, 11, 8, 9, 17, 19, 4, 4, 3, 8, 3, 17, 12, 9, 17, 5, 20, 4, 3, 16, 3, 8, 5, 3, 7, 7, 13, 6, 5, 13, 6, 6, 6, 7, 9, 17, 6, 5, 7, 8, 6, 5, 10, 27, 23, 11, 14, 7, 5, 22, 2, 5, 6, 6, 9, 9, 17, 6, 3, 10, 7, 12, 3, 2, 3, 15, 8, 20, 17, 5, 17, 21, 7, 6, 14, 13, 5, 5, 11, 2, 14, 6, 12, 9, 6, 20, 5, 9, 5, 8, 6, 11, 6, 5, 7, 11, 10, 9, 3, 4, 4, 9, 15, 6, 11, 14, 9, 16, 14, 21, 18, 12, 15, 5, 9, 14, 14, 3, 7, 12, 10, 9, 12, 5, 15, 10, 8, 5, 18, 12, 13, 6, 5, 12, 10, 8, 6, 1, 11, 5, 19, 9, 10, 14, 5, 11, 9, 7, 15, 4, 14, 16, 14, 13, 21, 9, 30, 3, 13, 16, 8, 11, 12, 6, 5, 14, 11, 5, 10, 7, 9, 13, 4, 3, 10, 7, 10, 15, 17, 12, 9, 14, 15, 10, 12, 6, 15, 6, 10, 15, 11, 10, 32, 8, 6, 6, 14, 5, 14, 6, 17, 13, 11, 4, 7, 7, 7, 10, 4, 5, 7, 9, 4, 8, 10, 7, 14, 5, 5, 17, 9, 8, 2, 5, 5, 4, 11, 2, 2, 7, 11, 5, 4, 5, 8, 4, 20, 9, 10, 7, 7, 6, 5, 4, 10, 3, 7, 5, 20, 5, 9, 14, 7, 4, 7, 8, 14, 11, 27, 14, 24, 11, 18, 7, 12, 18, 6, 9, 14, 16, 2, 13, 4, 10, 14, 10, 8, 11, 21, 5, 15, 3, 3, 11, 5, 5, 14, 8, 7, 8, 3, 4, 5, 24, 13, 12, 3, 10, 11, 18, 11, 6, 12, 10, 18, 1, 22, 5, 6, 6, 7, 7, 5, 11, 6, 10, 10, 5, 14, 2, 12, 11, 14, 12, 9, 15, 17, 16, 1, 27, 2, 4, 6, 9, 17, 4, 22, 9, 15, 14, 15, 18, 5, 9, 14, 3, 4, 4, 6, 13, 15, 10, 16, 7, 7, 5, 7, 17, 8, 6, 13, 3, 3, 4, 17, 10, 3, 2, 13, 15, 7, 7, 18, 12, 25, 8, 8, 9, 14, 5, 15, 7, 7, 8, 9, 4, 11, 14, 15, 19, 9, 20, 6, 20, 5, 9, 21, 16, 19, 9, 4, 9, 9, 7, 23, 14, 5, 3, 10, 7, 9, 4, 3, 4, 18, 22, 14, 4, 8, 8, 7, 7, 12, 8, 23, 10, 10, 25, 6, 16, 9, 4, 4, 13, 4, 16, 3, 6, 4, 7, 21, 5, 10, 3, 8, 6, 14, 17, 4, 9, 5, 4, 17, 7, 9, 3, 9, 8, 4, 9, 12, 19, 7, 19, 7, 12, 4, 4, 8, 4, 4, 1, 3, 7, 5, 10, 4, 4, 14, 6, 8, 13, 3, 15, 15, 7, 4, 6, 19, 18, 3, 3, 7, 9, 4, 8, 15, 10, 6, 10, 8, 5, 4, 4, 7, 16, 3, 6, 17, 5, 6, 3, 6, 5, 11, 4, 13, 10, 5, 14, 4, 17, 9, 12, 11, 4, 16, 13, 18, 8, 7, 7, 8, 7, 7, 22, 15, 8, 14, 4, 7, 4, 6, 19, 15, 15, 5, 18, 10, 11, 7, 19, 2, 4, 8, 8, 11, 11, 8, 4, 9, 5, 5, 8, 5, 17, 6, 10, 11, 14, 10, 3, 7, 9, 8, 4, 4, 4, 8, 6, 11, 13, 1, 4, 8, 8, 6, 17, 5, 14, 16, 6, 6, 11, 8, 10, 11, 1, 11, 12, 13, 11, 6, 6, 16, 3, 3, 24, 20, 4, 4, 8, 4, 6, 3, 8, 7, 6, 14, 8, 5, 22, 9, 16, 7, 11, 3, 9, 4, 10, 16, 11, 10, 9, 12, 17, 14, 16, 11, 4, 5, 5, 20, 3, 5, 12, 10, 7, 2, 8, 4, 23, 15, 6, 7, 9, 19, 20, 5, 3, 13, 14, 5, 7, 2, 31, 15, 7, 10, 14, 8, 8, 5, 18, 11, 20, 7, 9, 4, 12, 4, 29, 29, 10, 8, 7, 3, 11, 20, 21, 6, 24, 5, 11, 6, 9, 4, 22, 8, 15, 5, 17, 6, 11, 1, 22, 6, 18, 4, 21, 2, 12, 27, 8, 7, 10, 9, 7, 5, 6, 4, 14, 17, 5, 3, 3, 22, 5, 6, 13, 7, 5, 7, 7, 4, 13, 8, 21, 3, 15, 8, 11, 15, 13, 5, 12, 18, 14, 20, 11, 6, 8, 6, 4, 5, 4, 11, 2, 14, 8, 20, 14, 13, 1, 8, 3, 15, 14, 4, 16, 19, 17, 5, 8, 5, 8, 7, 14, 8, 3, 4, 12, 9, 9, 13, 13, 4, 5, 7, 12, 7, 11, 26, 5, 2, 12, 12, 15, 2, 23, 11, 11, 4, 8, 11, 14, 2, 8, 11, 5, 5, 11, 13, 16, 13, 7, 16, 23, 6, 7, 11, 12, 14, 6, 8, 8, 11, 7, 27, 9, 3, 8, 9, 8, 5, 8, 7, 15, 6, 3, 8, 9, 7, 8, 12, 6, 11, 4, 2, 9, 1, 8, 4, 14, 5, 11, 14, 11, 9, 2, 6, 21, 7, 12, 11, 8, 14, 10, 18, 14, 5, 9, 5, 9, 14, 18, 7, 4, 5, 5, 7, 9, 16, 12, 9, 7, 3, 7, 14, 23, 10, 5, 8, 12, 4, 2, 1, 11, 20, 13, 8, 21, 15, 7, 9, 8, 14, 5, 27, 11, 16, 14, 8, 21, 3, 19, 3, 6, 5, 12, 5, 2, 11, 4, 4, 5, 6, 10, 4, 4, 2, 13, 14, 3, 5, 9, 6, 16, 5, 8, 9, 11, 5, 14, 13, 10, 13, 14, 9, 7, 12, 13, 3, 9, 8, 19, 4, 4, 11, 8, 3, 6, 8, 5, 3, 5, 9, 3, 13, 9, 12, 8, 5, 6, 18, 10, 9, 10, 12, 9, 3, 17, 7, 5, 10, 2, 5, 6, 3, 11, 20, 13, 7, 17, 8, 8, 5, 7, 3, 6, 13, 12, 15, 18, 9, 15, 10, 9, 6, 7, 24, 2, 7, 5, 5, 8, 2, 1, 17, 8, 13, 3, 11, 21, 6, 13, 4, 5, 12, 16, 11, 23, 14, 18, 17, 6, 6, 12, 5, 7, 8, 6, 2, 14, 20, 8, 9, 20, 11, 8, 7, 8, 3, 8, 14, 6, 3, 15, 14, 4, 8, 4, 10, 10, 10, 14, 7, 6, 27, 14, 6, 8, 20, 24, 5, 4, 3, 18, 7, 12, 9, 19, 14, 7, 5, 7, 14, 17, 13, 18, 8, 10, 18, 11, 8, 12, 19, 13, 3, 9, 11, 7, 3, 9, 12, 2, 10, 10, 6, 12, 4, 13, 11, 8, 13, 2, 13, 12, 17, 8, 6, 8, 8, 14, 9, 14, 8, 17, 6, 7, 6, 8, 8, 6, 11, 10, 8, 14, 6, 17, 23, 6, 8, 8, 7, 2, 7, 1, 5, 17, 3, 3, 5, 3, 15, 8, 3, 2, 6, 16, 23, 12, 5, 6, 3, 3, 12, 6, 14, 8, 4, 3, 14, 10, 4, 4, 5, 20, 5, 13, 7, 5, 3, 24, 6, 5, 20, 19, 14, 8, 5, 4, 7, 6, 18, 4, 8, 7, 3, 3, 5, 4, 4, 9, 8, 5, 19, 18, 4, 6, 13, 14, 34, 4, 2, 9, 7, 3, 6, 7, 14, 17, 7, 15, 4, 4, 5, 7, 8, 14, 18, 6, 7, 18, 20, 17, 13, 12, 8, 4, 9, 18, 4, 5, 4, 12, 14, 9, 7, 6, 8, 8, 10, 19, 12, 18, 4, 13, 6, 21, 4, 14, 6, 1, 17, 10, 18, 8, 7, 9, 2, 10, 10, 9, 15, 6, 17, 9, 10, 15, 2, 5, 8, 8, 13, 10, 22, 18, 13, 6, 5, 3, 7, 3, 5, 22, 8, 3, 11, 7, 1, 12, 3, 8, 8, 15, 8, 5, 21, 13, 5, 14, 8, 6, 10, 7, 19, 7, 6, 8, 10, 2, 4, 10, 3, 14, 10, 7, 10, 27, 7, 21, 14, 19, 4, 3, 5, 7, 17, 6, 9, 7, 5, 5, 3, 8, 18, 11, 7, 9, 9, 11, 27, 6, 17, 2, 8, 12, 20, 5, 8, 18, 14, 5, 11, 4, 4, 2, 7, 6, 4, 5, 6, 10, 7, 15, 14, 2, 7, 6, 25, 14, 14, 3, 7, 14, 5, 7, 12, 4, 3, 11, 9, 8, 10, 6, 5, 6, 8, 7, 14, 8, 12, 9, 8, 2, 4, 9, 5, 8, 4, 14, 5, 20, 9, 6, 6, 11, 18, 16, 10, 18, 16, 10, 7, 2, 5, 4, 21, 13, 10, 2, 19, 6, 6, 7, 18, 12, 7, 4, 3, 9, 16, 20, 7, 2, 4, 19, 6, 18, 8, 12, 3, 5, 18, 5, 5, 7, 4, 6, 20, 5, 14, 9, 8, 9, 4, 13, 8, 12, 9, 8, 11, 7, 10, 12, 12, 2, 13, 12, 3, 8, 13, 11, 6, 9, 16, 5, 8, 6, 7, 15, 12, 17, 4, 15, 2, 7, 12, 10, 5, 5, 18, 8, 4, 9, 1, 14, 2, 9, 7, 6, 7, 19, 11, 5, 18, 6, 6, 16, 4, 1, 6, 6, 8, 12, 2, 17, 7, 4, 7, 8, 12, 7, 4, 10, 14, 4, 13, 7, 5, 4, 11, 24, 7, 8, 8, 11, 10, 14, 12, 8, 3, 5, 1, 23, 12, 22, 27, 6, 8, 7, 5, 12, 6, 5, 11, 5, 3, 7, 11, 11, 3, 8, 8, 6, 13, 15, 3, 19, 4, 14, 2, 11, 5, 15, 7, 6, 4, 18, 13, 22, 19, 3, 7, 6, 20, 13, 1, 8, 14, 2, 17, 13, 4, 6, 13, 10, 8, 8, 6, 5, 20, 1, 3, 6, 5, 7, 8, 4, 14, 4, 13, 10, 5, 7, 15, 5, 29, 21, 4, 6, 14, 10, 18, 5, 14, 12, 3, 4, 9, 7, 8, 9, 3, 9, 20, 7, 9, 10, 5, 9, 10, 15, 8, 11, 9, 6, 7, 9, 16, 15, 6, 21, 5, 2, 12, 8, 21, 7, 15, 6, 12, 7, 22, 11, 8, 19, 4, 6, 19, 4, 7, 12, 10, 9, 10, 9, 20, 8, 5, 19, 16, 5, 14, 7, 4, 18, 4, 5, 20, 3, 8, 7, 9, 4, 16, 7, 7, 6, 13, 17, 6, 21, 13, 13, 9, 2, 21, 10, 5, 10, 6, 11, 12, 9, 4, 4, 28, 8, 9, 7, 21, 11, 10, 8, 24, 2, 5, 7, 6, 18, 3, 5, 13, 13, 7, 10, 16, 17, 3, 7, 20, 13, 12]}],\n",
       "                        {\"template\": {\"data\": {\"bar\": [{\"error_x\": {\"color\": \"#2a3f5f\"}, \"error_y\": {\"color\": \"#2a3f5f\"}, \"marker\": {\"line\": {\"color\": \"#E5ECF6\", \"width\": 0.5}}, \"type\": \"bar\"}], \"barpolar\": [{\"marker\": {\"line\": {\"color\": \"#E5ECF6\", \"width\": 0.5}}, \"type\": \"barpolar\"}], \"carpet\": [{\"aaxis\": {\"endlinecolor\": \"#2a3f5f\", \"gridcolor\": \"white\", \"linecolor\": \"white\", \"minorgridcolor\": \"white\", \"startlinecolor\": \"#2a3f5f\"}, \"baxis\": {\"endlinecolor\": \"#2a3f5f\", \"gridcolor\": \"white\", \"linecolor\": \"white\", \"minorgridcolor\": \"white\", \"startlinecolor\": \"#2a3f5f\"}, \"type\": \"carpet\"}], \"choropleth\": [{\"colorbar\": {\"outlinewidth\": 0, \"ticks\": \"\"}, \"type\": \"choropleth\"}], \"contour\": [{\"colorbar\": {\"outlinewidth\": 0, \"ticks\": \"\"}, \"colorscale\": [[0.0, \"#0d0887\"], [0.1111111111111111, \"#46039f\"], [0.2222222222222222, \"#7201a8\"], [0.3333333333333333, \"#9c179e\"], [0.4444444444444444, \"#bd3786\"], [0.5555555555555556, \"#d8576b\"], [0.6666666666666666, \"#ed7953\"], [0.7777777777777778, \"#fb9f3a\"], [0.8888888888888888, \"#fdca26\"], [1.0, \"#f0f921\"]], \"type\": \"contour\"}], \"contourcarpet\": [{\"colorbar\": {\"outlinewidth\": 0, \"ticks\": \"\"}, \"type\": \"contourcarpet\"}], \"heatmap\": [{\"colorbar\": {\"outlinewidth\": 0, \"ticks\": \"\"}, \"colorscale\": [[0.0, \"#0d0887\"], [0.1111111111111111, \"#46039f\"], [0.2222222222222222, \"#7201a8\"], [0.3333333333333333, \"#9c179e\"], [0.4444444444444444, \"#bd3786\"], [0.5555555555555556, \"#d8576b\"], [0.6666666666666666, \"#ed7953\"], [0.7777777777777778, \"#fb9f3a\"], [0.8888888888888888, \"#fdca26\"], [1.0, \"#f0f921\"]], \"type\": \"heatmap\"}], \"heatmapgl\": [{\"colorbar\": {\"outlinewidth\": 0, \"ticks\": \"\"}, \"colorscale\": [[0.0, \"#0d0887\"], [0.1111111111111111, \"#46039f\"], [0.2222222222222222, \"#7201a8\"], [0.3333333333333333, \"#9c179e\"], [0.4444444444444444, \"#bd3786\"], [0.5555555555555556, \"#d8576b\"], [0.6666666666666666, \"#ed7953\"], [0.7777777777777778, \"#fb9f3a\"], [0.8888888888888888, \"#fdca26\"], [1.0, \"#f0f921\"]], \"type\": \"heatmapgl\"}], \"histogram\": [{\"marker\": {\"colorbar\": {\"outlinewidth\": 0, \"ticks\": \"\"}}, \"type\": \"histogram\"}], \"histogram2d\": [{\"colorbar\": {\"outlinewidth\": 0, \"ticks\": \"\"}, \"colorscale\": [[0.0, \"#0d0887\"], [0.1111111111111111, \"#46039f\"], [0.2222222222222222, \"#7201a8\"], [0.3333333333333333, \"#9c179e\"], [0.4444444444444444, \"#bd3786\"], [0.5555555555555556, \"#d8576b\"], [0.6666666666666666, \"#ed7953\"], [0.7777777777777778, \"#fb9f3a\"], [0.8888888888888888, \"#fdca26\"], [1.0, \"#f0f921\"]], \"type\": \"histogram2d\"}], \"histogram2dcontour\": [{\"colorbar\": {\"outlinewidth\": 0, \"ticks\": \"\"}, \"colorscale\": [[0.0, \"#0d0887\"], [0.1111111111111111, \"#46039f\"], [0.2222222222222222, \"#7201a8\"], [0.3333333333333333, \"#9c179e\"], [0.4444444444444444, \"#bd3786\"], [0.5555555555555556, \"#d8576b\"], [0.6666666666666666, \"#ed7953\"], [0.7777777777777778, \"#fb9f3a\"], [0.8888888888888888, \"#fdca26\"], [1.0, \"#f0f921\"]], \"type\": \"histogram2dcontour\"}], \"mesh3d\": [{\"colorbar\": {\"outlinewidth\": 0, \"ticks\": \"\"}, \"type\": \"mesh3d\"}], \"parcoords\": [{\"line\": {\"colorbar\": {\"outlinewidth\": 0, \"ticks\": \"\"}}, \"type\": \"parcoords\"}], \"scatter\": [{\"marker\": {\"colorbar\": {\"outlinewidth\": 0, \"ticks\": \"\"}}, \"type\": \"scatter\"}], \"scatter3d\": [{\"line\": {\"colorbar\": {\"outlinewidth\": 0, \"ticks\": \"\"}}, \"marker\": {\"colorbar\": {\"outlinewidth\": 0, \"ticks\": \"\"}}, \"type\": \"scatter3d\"}], \"scattercarpet\": [{\"marker\": {\"colorbar\": {\"outlinewidth\": 0, \"ticks\": \"\"}}, \"type\": \"scattercarpet\"}], \"scattergeo\": [{\"marker\": {\"colorbar\": {\"outlinewidth\": 0, \"ticks\": \"\"}}, \"type\": \"scattergeo\"}], \"scattergl\": [{\"marker\": {\"colorbar\": {\"outlinewidth\": 0, \"ticks\": \"\"}}, \"type\": \"scattergl\"}], \"scattermapbox\": [{\"marker\": {\"colorbar\": {\"outlinewidth\": 0, \"ticks\": \"\"}}, \"type\": \"scattermapbox\"}], \"scatterpolar\": [{\"marker\": {\"colorbar\": {\"outlinewidth\": 0, \"ticks\": \"\"}}, \"type\": \"scatterpolar\"}], \"scatterpolargl\": [{\"marker\": {\"colorbar\": {\"outlinewidth\": 0, \"ticks\": \"\"}}, \"type\": \"scatterpolargl\"}], \"scatterternary\": [{\"marker\": {\"colorbar\": {\"outlinewidth\": 0, \"ticks\": \"\"}}, \"type\": \"scatterternary\"}], \"surface\": [{\"colorbar\": {\"outlinewidth\": 0, \"ticks\": \"\"}, \"colorscale\": [[0.0, \"#0d0887\"], [0.1111111111111111, \"#46039f\"], [0.2222222222222222, \"#7201a8\"], [0.3333333333333333, \"#9c179e\"], [0.4444444444444444, \"#bd3786\"], [0.5555555555555556, \"#d8576b\"], [0.6666666666666666, \"#ed7953\"], [0.7777777777777778, \"#fb9f3a\"], [0.8888888888888888, \"#fdca26\"], [1.0, \"#f0f921\"]], \"type\": \"surface\"}], \"table\": [{\"cells\": {\"fill\": {\"color\": \"#EBF0F8\"}, \"line\": {\"color\": \"white\"}}, \"header\": {\"fill\": {\"color\": \"#C8D4E3\"}, \"line\": {\"color\": \"white\"}}, \"type\": \"table\"}]}, \"layout\": {\"annotationdefaults\": {\"arrowcolor\": \"#2a3f5f\", \"arrowhead\": 0, \"arrowwidth\": 1}, \"colorscale\": {\"diverging\": [[0, \"#8e0152\"], [0.1, \"#c51b7d\"], [0.2, \"#de77ae\"], [0.3, \"#f1b6da\"], [0.4, \"#fde0ef\"], [0.5, \"#f7f7f7\"], [0.6, \"#e6f5d0\"], [0.7, \"#b8e186\"], [0.8, \"#7fbc41\"], [0.9, \"#4d9221\"], [1, \"#276419\"]], \"sequential\": [[0.0, \"#0d0887\"], [0.1111111111111111, \"#46039f\"], [0.2222222222222222, \"#7201a8\"], [0.3333333333333333, \"#9c179e\"], [0.4444444444444444, \"#bd3786\"], [0.5555555555555556, \"#d8576b\"], [0.6666666666666666, \"#ed7953\"], [0.7777777777777778, \"#fb9f3a\"], [0.8888888888888888, \"#fdca26\"], [1.0, \"#f0f921\"]], \"sequentialminus\": [[0.0, \"#0d0887\"], [0.1111111111111111, \"#46039f\"], [0.2222222222222222, \"#7201a8\"], [0.3333333333333333, \"#9c179e\"], [0.4444444444444444, \"#bd3786\"], [0.5555555555555556, \"#d8576b\"], [0.6666666666666666, \"#ed7953\"], [0.7777777777777778, \"#fb9f3a\"], [0.8888888888888888, \"#fdca26\"], [1.0, \"#f0f921\"]]}, \"colorway\": [\"#636efa\", \"#EF553B\", \"#00cc96\", \"#ab63fa\", \"#FFA15A\", \"#19d3f3\", \"#FF6692\", \"#B6E880\", \"#FF97FF\", \"#FECB52\"], \"font\": {\"color\": \"#2a3f5f\"}, \"geo\": {\"bgcolor\": \"white\", \"lakecolor\": \"white\", \"landcolor\": \"#E5ECF6\", \"showlakes\": true, \"showland\": true, \"subunitcolor\": \"white\"}, \"hoverlabel\": {\"align\": \"left\"}, \"hovermode\": \"closest\", \"mapbox\": {\"style\": \"light\"}, \"paper_bgcolor\": \"white\", \"plot_bgcolor\": \"#E5ECF6\", \"polar\": {\"angularaxis\": {\"gridcolor\": \"white\", \"linecolor\": \"white\", \"ticks\": \"\"}, \"bgcolor\": \"#E5ECF6\", \"radialaxis\": {\"gridcolor\": \"white\", \"linecolor\": \"white\", \"ticks\": \"\"}}, \"scene\": {\"xaxis\": {\"backgroundcolor\": \"#E5ECF6\", \"gridcolor\": \"white\", \"gridwidth\": 2, \"linecolor\": \"white\", \"showbackground\": true, \"ticks\": \"\", \"zerolinecolor\": \"white\"}, \"yaxis\": {\"backgroundcolor\": \"#E5ECF6\", \"gridcolor\": \"white\", \"gridwidth\": 2, \"linecolor\": \"white\", \"showbackground\": true, \"ticks\": \"\", \"zerolinecolor\": \"white\"}, \"zaxis\": {\"backgroundcolor\": \"#E5ECF6\", \"gridcolor\": \"white\", \"gridwidth\": 2, \"linecolor\": \"white\", \"showbackground\": true, \"ticks\": \"\", \"zerolinecolor\": \"white\"}}, \"shapedefaults\": {\"line\": {\"color\": \"#2a3f5f\"}}, \"ternary\": {\"aaxis\": {\"gridcolor\": \"white\", \"linecolor\": \"white\", \"ticks\": \"\"}, \"baxis\": {\"gridcolor\": \"white\", \"linecolor\": \"white\", \"ticks\": \"\"}, \"bgcolor\": \"#E5ECF6\", \"caxis\": {\"gridcolor\": \"white\", \"linecolor\": \"white\", \"ticks\": \"\"}}, \"title\": {\"x\": 0.05}, \"xaxis\": {\"automargin\": true, \"gridcolor\": \"white\", \"linecolor\": \"white\", \"ticks\": \"\", \"zerolinecolor\": \"white\", \"zerolinewidth\": 2}, \"yaxis\": {\"automargin\": true, \"gridcolor\": \"white\", \"linecolor\": \"white\", \"ticks\": \"\", \"zerolinecolor\": \"white\", \"zerolinewidth\": 2}}}},\n",
       "                        {\"responsive\": true}\n",
       "                    ).then(function(){\n",
       "                            \n",
       "var gd = document.getElementById('f0bef3d8-e255-4deb-af8e-49a6e07cfdeb');\n",
       "var x = new MutationObserver(function (mutations, observer) {{\n",
       "        var display = window.getComputedStyle(gd).display;\n",
       "        if (!display || display === 'none') {{\n",
       "            console.log([gd, 'removed!']);\n",
       "            Plotly.purge(gd);\n",
       "            observer.disconnect();\n",
       "        }}\n",
       "}});\n",
       "\n",
       "// Listen for the removal of the full notebook cells\n",
       "var notebookContainer = gd.closest('#notebook-container');\n",
       "if (notebookContainer) {{\n",
       "    x.observe(notebookContainer, {childList: true});\n",
       "}}\n",
       "\n",
       "// Listen for the clearing of the current output cell\n",
       "var outputEl = gd.closest('.output');\n",
       "if (outputEl) {{\n",
       "    x.observe(outputEl, {childList: true});\n",
       "}}\n",
       "\n",
       "                        })\n",
       "                };\n",
       "                \n",
       "            </script>\n",
       "        </div>\n",
       "</body>\n",
       "</html>"
      ]
     },
     "metadata": {
      "tags": []
     },
     "output_type": "display_data"
    }
   ],
   "source": [
    "box_data2 = [\n",
    "    go.Box(\n",
    "        y=data['Distance'],\n",
    "        boxpoints='suspectedoutliers',\n",
    "        jitter=0.3,\n",
    "        pointpos=-1.8,\n",
    "        name=\"Distance\"\n",
    "    )\n",
    "]\n",
    "py.iplot(box_data2)"
   ]
  },
  {
   "cell_type": "markdown",
   "metadata": {
    "colab_type": "text",
    "id": "R5cf4T13i7hr"
   },
   "source": [
    "The distance varies largely from a minimum of 1KM to a maximum of 49KM."
   ]
  },
  {
   "cell_type": "markdown",
   "metadata": {
    "colab_type": "text",
    "id": "53vSnV9vi7hu"
   },
   "source": [
    "#### The Placement Day of Month Attribute"
   ]
  },
  {
   "cell_type": "code",
   "execution_count": 0,
   "metadata": {
    "colab": {
     "base_uri": "https://localhost:8080/",
     "height": 1000
    },
    "colab_type": "code",
    "id": "y7C0QFHkfqmE",
    "outputId": "4ff93ff0-cab4-45e5-99ac-7229901b078b"
   },
   "outputs": [
    {
     "data": {
      "text/html": [
       "<html>\n",
       "<head><meta charset=\"utf-8\" /></head>\n",
       "<body>\n",
       "    <div>\n",
       "            <script src=\"https://cdnjs.cloudflare.com/ajax/libs/mathjax/2.7.5/MathJax.js?config=TeX-AMS-MML_SVG\"></script><script type=\"text/javascript\">if (window.MathJax) {MathJax.Hub.Config({SVG: {font: \"STIX-Web\"}});}</script>\n",
       "                <script type=\"text/javascript\">window.PlotlyConfig = {MathJaxConfig: 'local'};</script>\n",
       "        <script src=\"https://cdn.plot.ly/plotly-latest.min.js\"></script>    \n",
       "            <div id=\"5562aa1d-2a25-42b7-a9e6-bf9aa4a9b8c6\" class=\"plotly-graph-div\" style=\"height:10000px; width:100%;\"></div>\n",
       "            <script type=\"text/javascript\">\n",
       "                \n",
       "                    window.PLOTLYENV=window.PLOTLYENV || {};\n",
       "                    \n",
       "                if (document.getElementById(\"5562aa1d-2a25-42b7-a9e6-bf9aa4a9b8c6\")) {\n",
       "                    Plotly.newPlot(\n",
       "                        '5562aa1d-2a25-42b7-a9e6-bf9aa4a9b8c6',\n",
       "                        [{\"alignmentgroup\": \"True\", \"hoverlabel\": {\"namelength\": 0}, \"hovertemplate\": \"Day_of_month=%{x}<br>count=%{marker.color}\", \"legendgroup\": \"\", \"marker\": {\"color\": [848, 822, 811, 804, 794, 784, 769, 769, 762, 752, 747, 718, 714, 709, 691, 685, 670, 667, 666, 650, 649, 643, 639, 602, 593, 591, 589, 565, 563, 482, 453], \"coloraxis\": \"coloraxis\"}, \"name\": \"\", \"offsetgroup\": \"\", \"orientation\": \"v\", \"showlegend\": false, \"textposition\": \"auto\", \"type\": \"bar\", \"x\": [8, 7, 13, 14, 6, 28, 4, 18, 15, 11, 5, 3, 30, 10, 25, 29, 27, 9, 12, 22, 21, 20, 26, 2, 17, 24, 19, 16, 23, 1, 31], \"xaxis\": \"x\", \"y\": [848, 822, 811, 804, 794, 784, 769, 769, 762, 752, 747, 718, 714, 709, 691, 685, 670, 667, 666, 650, 649, 643, 639, 602, 593, 591, 589, 565, 563, 482, 453], \"yaxis\": \"y\"}],\n",
       "                        {\"barmode\": \"relative\", \"coloraxis\": {\"colorbar\": {\"title\": {\"text\": \"count\"}}, \"colorscale\": [[0.0, \"#0d0887\"], [0.1111111111111111, \"#46039f\"], [0.2222222222222222, \"#7201a8\"], [0.3333333333333333, \"#9c179e\"], [0.4444444444444444, \"#bd3786\"], [0.5555555555555556, \"#d8576b\"], [0.6666666666666666, \"#ed7953\"], [0.7777777777777778, \"#fb9f3a\"], [0.8888888888888888, \"#fdca26\"], [1.0, \"#f0f921\"]]}, \"height\": 10000, \"legend\": {\"tracegroupgap\": 0}, \"margin\": {\"t\": 60}, \"template\": {\"data\": {\"bar\": [{\"error_x\": {\"color\": \"#2a3f5f\"}, \"error_y\": {\"color\": \"#2a3f5f\"}, \"marker\": {\"line\": {\"color\": \"#E5ECF6\", \"width\": 0.5}}, \"type\": \"bar\"}], \"barpolar\": [{\"marker\": {\"line\": {\"color\": \"#E5ECF6\", \"width\": 0.5}}, \"type\": \"barpolar\"}], \"carpet\": [{\"aaxis\": {\"endlinecolor\": \"#2a3f5f\", \"gridcolor\": \"white\", \"linecolor\": \"white\", \"minorgridcolor\": \"white\", \"startlinecolor\": \"#2a3f5f\"}, \"baxis\": {\"endlinecolor\": \"#2a3f5f\", \"gridcolor\": \"white\", \"linecolor\": \"white\", \"minorgridcolor\": \"white\", \"startlinecolor\": \"#2a3f5f\"}, \"type\": \"carpet\"}], \"choropleth\": [{\"colorbar\": {\"outlinewidth\": 0, \"ticks\": \"\"}, \"type\": \"choropleth\"}], \"contour\": [{\"colorbar\": {\"outlinewidth\": 0, \"ticks\": \"\"}, \"colorscale\": [[0.0, \"#0d0887\"], [0.1111111111111111, \"#46039f\"], [0.2222222222222222, \"#7201a8\"], [0.3333333333333333, \"#9c179e\"], [0.4444444444444444, \"#bd3786\"], [0.5555555555555556, \"#d8576b\"], [0.6666666666666666, \"#ed7953\"], [0.7777777777777778, \"#fb9f3a\"], [0.8888888888888888, \"#fdca26\"], [1.0, \"#f0f921\"]], \"type\": \"contour\"}], \"contourcarpet\": [{\"colorbar\": {\"outlinewidth\": 0, \"ticks\": \"\"}, \"type\": \"contourcarpet\"}], \"heatmap\": [{\"colorbar\": {\"outlinewidth\": 0, \"ticks\": \"\"}, \"colorscale\": [[0.0, \"#0d0887\"], [0.1111111111111111, \"#46039f\"], [0.2222222222222222, \"#7201a8\"], [0.3333333333333333, \"#9c179e\"], [0.4444444444444444, \"#bd3786\"], [0.5555555555555556, \"#d8576b\"], [0.6666666666666666, \"#ed7953\"], [0.7777777777777778, \"#fb9f3a\"], [0.8888888888888888, \"#fdca26\"], [1.0, \"#f0f921\"]], \"type\": \"heatmap\"}], \"heatmapgl\": [{\"colorbar\": {\"outlinewidth\": 0, \"ticks\": \"\"}, \"colorscale\": [[0.0, \"#0d0887\"], [0.1111111111111111, \"#46039f\"], [0.2222222222222222, \"#7201a8\"], [0.3333333333333333, \"#9c179e\"], [0.4444444444444444, \"#bd3786\"], [0.5555555555555556, \"#d8576b\"], [0.6666666666666666, \"#ed7953\"], [0.7777777777777778, \"#fb9f3a\"], [0.8888888888888888, \"#fdca26\"], [1.0, \"#f0f921\"]], \"type\": \"heatmapgl\"}], \"histogram\": [{\"marker\": {\"colorbar\": {\"outlinewidth\": 0, \"ticks\": \"\"}}, \"type\": \"histogram\"}], \"histogram2d\": [{\"colorbar\": {\"outlinewidth\": 0, \"ticks\": \"\"}, \"colorscale\": [[0.0, \"#0d0887\"], [0.1111111111111111, \"#46039f\"], [0.2222222222222222, \"#7201a8\"], [0.3333333333333333, \"#9c179e\"], [0.4444444444444444, \"#bd3786\"], [0.5555555555555556, \"#d8576b\"], [0.6666666666666666, \"#ed7953\"], [0.7777777777777778, \"#fb9f3a\"], [0.8888888888888888, \"#fdca26\"], [1.0, \"#f0f921\"]], \"type\": \"histogram2d\"}], \"histogram2dcontour\": [{\"colorbar\": {\"outlinewidth\": 0, \"ticks\": \"\"}, \"colorscale\": [[0.0, \"#0d0887\"], [0.1111111111111111, \"#46039f\"], [0.2222222222222222, \"#7201a8\"], [0.3333333333333333, \"#9c179e\"], [0.4444444444444444, \"#bd3786\"], [0.5555555555555556, \"#d8576b\"], [0.6666666666666666, \"#ed7953\"], [0.7777777777777778, \"#fb9f3a\"], [0.8888888888888888, \"#fdca26\"], [1.0, \"#f0f921\"]], \"type\": \"histogram2dcontour\"}], \"mesh3d\": [{\"colorbar\": {\"outlinewidth\": 0, \"ticks\": \"\"}, \"type\": \"mesh3d\"}], \"parcoords\": [{\"line\": {\"colorbar\": {\"outlinewidth\": 0, \"ticks\": \"\"}}, \"type\": \"parcoords\"}], \"scatter\": [{\"marker\": {\"colorbar\": {\"outlinewidth\": 0, \"ticks\": \"\"}}, \"type\": \"scatter\"}], \"scatter3d\": [{\"line\": {\"colorbar\": {\"outlinewidth\": 0, \"ticks\": \"\"}}, \"marker\": {\"colorbar\": {\"outlinewidth\": 0, \"ticks\": \"\"}}, \"type\": \"scatter3d\"}], \"scattercarpet\": [{\"marker\": {\"colorbar\": {\"outlinewidth\": 0, \"ticks\": \"\"}}, \"type\": \"scattercarpet\"}], \"scattergeo\": [{\"marker\": {\"colorbar\": {\"outlinewidth\": 0, \"ticks\": \"\"}}, \"type\": \"scattergeo\"}], \"scattergl\": [{\"marker\": {\"colorbar\": {\"outlinewidth\": 0, \"ticks\": \"\"}}, \"type\": \"scattergl\"}], \"scattermapbox\": [{\"marker\": {\"colorbar\": {\"outlinewidth\": 0, \"ticks\": \"\"}}, \"type\": \"scattermapbox\"}], \"scatterpolar\": [{\"marker\": {\"colorbar\": {\"outlinewidth\": 0, \"ticks\": \"\"}}, \"type\": \"scatterpolar\"}], \"scatterpolargl\": [{\"marker\": {\"colorbar\": {\"outlinewidth\": 0, \"ticks\": \"\"}}, \"type\": \"scatterpolargl\"}], \"scatterternary\": [{\"marker\": {\"colorbar\": {\"outlinewidth\": 0, \"ticks\": \"\"}}, \"type\": \"scatterternary\"}], \"surface\": [{\"colorbar\": {\"outlinewidth\": 0, \"ticks\": \"\"}, \"colorscale\": [[0.0, \"#0d0887\"], [0.1111111111111111, \"#46039f\"], [0.2222222222222222, \"#7201a8\"], [0.3333333333333333, \"#9c179e\"], [0.4444444444444444, \"#bd3786\"], [0.5555555555555556, \"#d8576b\"], [0.6666666666666666, \"#ed7953\"], [0.7777777777777778, \"#fb9f3a\"], [0.8888888888888888, \"#fdca26\"], [1.0, \"#f0f921\"]], \"type\": \"surface\"}], \"table\": [{\"cells\": {\"fill\": {\"color\": \"#EBF0F8\"}, \"line\": {\"color\": \"white\"}}, \"header\": {\"fill\": {\"color\": \"#C8D4E3\"}, \"line\": {\"color\": \"white\"}}, \"type\": \"table\"}]}, \"layout\": {\"annotationdefaults\": {\"arrowcolor\": \"#2a3f5f\", \"arrowhead\": 0, \"arrowwidth\": 1}, \"colorscale\": {\"diverging\": [[0, \"#8e0152\"], [0.1, \"#c51b7d\"], [0.2, \"#de77ae\"], [0.3, \"#f1b6da\"], [0.4, \"#fde0ef\"], [0.5, \"#f7f7f7\"], [0.6, \"#e6f5d0\"], [0.7, \"#b8e186\"], [0.8, \"#7fbc41\"], [0.9, \"#4d9221\"], [1, \"#276419\"]], \"sequential\": [[0.0, \"#0d0887\"], [0.1111111111111111, \"#46039f\"], [0.2222222222222222, \"#7201a8\"], [0.3333333333333333, \"#9c179e\"], [0.4444444444444444, \"#bd3786\"], [0.5555555555555556, \"#d8576b\"], [0.6666666666666666, \"#ed7953\"], [0.7777777777777778, \"#fb9f3a\"], [0.8888888888888888, \"#fdca26\"], [1.0, \"#f0f921\"]], \"sequentialminus\": [[0.0, \"#0d0887\"], [0.1111111111111111, \"#46039f\"], [0.2222222222222222, \"#7201a8\"], [0.3333333333333333, \"#9c179e\"], [0.4444444444444444, \"#bd3786\"], [0.5555555555555556, \"#d8576b\"], [0.6666666666666666, \"#ed7953\"], [0.7777777777777778, \"#fb9f3a\"], [0.8888888888888888, \"#fdca26\"], [1.0, \"#f0f921\"]]}, \"colorway\": [\"#636efa\", \"#EF553B\", \"#00cc96\", \"#ab63fa\", \"#FFA15A\", \"#19d3f3\", \"#FF6692\", \"#B6E880\", \"#FF97FF\", \"#FECB52\"], \"font\": {\"color\": \"#2a3f5f\"}, \"geo\": {\"bgcolor\": \"white\", \"lakecolor\": \"white\", \"landcolor\": \"#E5ECF6\", \"showlakes\": true, \"showland\": true, \"subunitcolor\": \"white\"}, \"hoverlabel\": {\"align\": \"left\"}, \"hovermode\": \"closest\", \"mapbox\": {\"style\": \"light\"}, \"paper_bgcolor\": \"white\", \"plot_bgcolor\": \"#E5ECF6\", \"polar\": {\"angularaxis\": {\"gridcolor\": \"white\", \"linecolor\": \"white\", \"ticks\": \"\"}, \"bgcolor\": \"#E5ECF6\", \"radialaxis\": {\"gridcolor\": \"white\", \"linecolor\": \"white\", \"ticks\": \"\"}}, \"scene\": {\"xaxis\": {\"backgroundcolor\": \"#E5ECF6\", \"gridcolor\": \"white\", \"gridwidth\": 2, \"linecolor\": \"white\", \"showbackground\": true, \"ticks\": \"\", \"zerolinecolor\": \"white\"}, \"yaxis\": {\"backgroundcolor\": \"#E5ECF6\", \"gridcolor\": \"white\", \"gridwidth\": 2, \"linecolor\": \"white\", \"showbackground\": true, \"ticks\": \"\", \"zerolinecolor\": \"white\"}, \"zaxis\": {\"backgroundcolor\": \"#E5ECF6\", \"gridcolor\": \"white\", \"gridwidth\": 2, \"linecolor\": \"white\", \"showbackground\": true, \"ticks\": \"\", \"zerolinecolor\": \"white\"}}, \"shapedefaults\": {\"line\": {\"color\": \"#2a3f5f\"}}, \"ternary\": {\"aaxis\": {\"gridcolor\": \"white\", \"linecolor\": \"white\", \"ticks\": \"\"}, \"baxis\": {\"gridcolor\": \"white\", \"linecolor\": \"white\", \"ticks\": \"\"}, \"bgcolor\": \"#E5ECF6\", \"caxis\": {\"gridcolor\": \"white\", \"linecolor\": \"white\", \"ticks\": \"\"}}, \"title\": {\"x\": 0.05}, \"xaxis\": {\"automargin\": true, \"gridcolor\": \"white\", \"linecolor\": \"white\", \"ticks\": \"\", \"zerolinecolor\": \"white\", \"zerolinewidth\": 2}, \"yaxis\": {\"automargin\": true, \"gridcolor\": \"white\", \"linecolor\": \"white\", \"ticks\": \"\", \"zerolinecolor\": \"white\", \"zerolinewidth\": 2}}}, \"xaxis\": {\"anchor\": \"y\", \"domain\": [0.0, 0.98], \"title\": {\"text\": \"Day_of_month\"}}, \"yaxis\": {\"anchor\": \"x\", \"domain\": [0.0, 1.0], \"title\": {\"text\": \"count\"}}},\n",
       "                        {\"responsive\": true}\n",
       "                    ).then(function(){\n",
       "                            \n",
       "var gd = document.getElementById('5562aa1d-2a25-42b7-a9e6-bf9aa4a9b8c6');\n",
       "var x = new MutationObserver(function (mutations, observer) {{\n",
       "        var display = window.getComputedStyle(gd).display;\n",
       "        if (!display || display === 'none') {{\n",
       "            console.log([gd, 'removed!']);\n",
       "            Plotly.purge(gd);\n",
       "            observer.disconnect();\n",
       "        }}\n",
       "}});\n",
       "\n",
       "// Listen for the removal of the full notebook cells\n",
       "var notebookContainer = gd.closest('#notebook-container');\n",
       "if (notebookContainer) {{\n",
       "    x.observe(notebookContainer, {childList: true});\n",
       "}}\n",
       "\n",
       "// Listen for the clearing of the current output cell\n",
       "var outputEl = gd.closest('.output');\n",
       "if (outputEl) {{\n",
       "    x.observe(outputEl, {childList: true});\n",
       "}}\n",
       "\n",
       "                        })\n",
       "                };\n",
       "                \n",
       "            </script>\n",
       "        </div>\n",
       "</body>\n",
       "</html>"
      ]
     },
     "metadata": {
      "tags": []
     },
     "output_type": "display_data"
    }
   ],
   "source": [
    "x=data['Placement_Day_of_Month'].value_counts(sort=True)\n",
    "x=x.to_frame()\n",
    "x['Day_of_month']=x.index\n",
    "x['count']=x['Placement_Day_of_Month']\n",
    "x.drop(['Placement_Day_of_Month'],axis=1,inplace=True)\n",
    "fig2=px.bar(x,x='Day_of_month',y='count',color='count',height=10000)\n",
    "fig2.show()"
   ]
  },
  {
   "cell_type": "markdown",
   "metadata": {
    "colab_type": "text",
    "id": "kmVz1Ajui7h6"
   },
   "source": [
    "With this attribute we may notice some kind of seasonality in the data and lean towards time series analysis in further processing steps. "
   ]
  },
  {
   "cell_type": "markdown",
   "metadata": {
    "colab_type": "text",
    "id": "3NGktXBQi7h8"
   },
   "source": [
    "#### Percieving time taken for delivery of a package and the distance it travelled in one variable - Speed."
   ]
  },
  {
   "cell_type": "code",
   "execution_count": 0,
   "metadata": {
    "colab": {
     "base_uri": "https://localhost:8080/",
     "height": 323
    },
    "colab_type": "code",
    "id": "hYc9Y0z8w7RX",
    "outputId": "62a1dc11-6288-465a-a76e-1224c767fcb2"
   },
   "outputs": [
    {
     "name": "stderr",
     "output_type": "stream",
     "text": [
      "/usr/local/lib/python3.6/dist-packages/ipykernel_launcher.py:3: SettingWithCopyWarning:\n",
      "\n",
      "\n",
      "A value is trying to be set on a copy of a slice from a DataFrame\n",
      "\n",
      "See the caveats in the documentation: http://pandas.pydata.org/pandas-docs/stable/user_guide/indexing.html#returning-a-view-versus-a-copy\n",
      "\n"
     ]
    },
    {
     "data": {
      "text/html": [
       "<div>\n",
       "<style scoped>\n",
       "    .dataframe tbody tr th:only-of-type {\n",
       "        vertical-align: middle;\n",
       "    }\n",
       "\n",
       "    .dataframe tbody tr th {\n",
       "        vertical-align: top;\n",
       "    }\n",
       "\n",
       "    .dataframe thead th {\n",
       "        text-align: right;\n",
       "    }\n",
       "</style>\n",
       "<table border=\"1\" class=\"dataframe\">\n",
       "  <thead>\n",
       "    <tr style=\"text-align: right;\">\n",
       "      <th></th>\n",
       "      <th>Distance</th>\n",
       "      <th>Time_from_Pickup_to_Arrival</th>\n",
       "      <th>speed</th>\n",
       "    </tr>\n",
       "  </thead>\n",
       "  <tbody>\n",
       "    <tr>\n",
       "      <th>11087</th>\n",
       "      <td>1</td>\n",
       "      <td>3912</td>\n",
       "      <td>0.920245</td>\n",
       "    </tr>\n",
       "    <tr>\n",
       "      <th>16384</th>\n",
       "      <td>2</td>\n",
       "      <td>7714</td>\n",
       "      <td>0.933368</td>\n",
       "    </tr>\n",
       "    <tr>\n",
       "      <th>17758</th>\n",
       "      <td>1</td>\n",
       "      <td>3394</td>\n",
       "      <td>1.060695</td>\n",
       "    </tr>\n",
       "    <tr>\n",
       "      <th>381</th>\n",
       "      <td>1</td>\n",
       "      <td>2997</td>\n",
       "      <td>1.201201</td>\n",
       "    </tr>\n",
       "    <tr>\n",
       "      <th>13020</th>\n",
       "      <td>1</td>\n",
       "      <td>2836</td>\n",
       "      <td>1.269394</td>\n",
       "    </tr>\n",
       "  </tbody>\n",
       "</table>\n",
       "</div>"
      ],
      "text/plain": [
       "       Distance  Time_from_Pickup_to_Arrival     speed\n",
       "11087         1                         3912  0.920245\n",
       "16384         2                         7714  0.933368\n",
       "17758         1                         3394  1.060695\n",
       "381           1                         2997  1.201201\n",
       "13020         1                         2836  1.269394"
      ]
     },
     "execution_count": 15,
     "metadata": {
      "tags": []
     },
     "output_type": "execute_result"
    }
   ],
   "source": [
    "data['speed']=data['Distance']*3600/data['Time_from_Pickup_to_Arrival']\n",
    "line_data = data[['Distance','Time_from_Pickup_to_Arrival','speed']]\n",
    "line_data.sort_values(\"speed\",inplace = True)\n",
    "line_data.head()"
   ]
  },
  {
   "cell_type": "markdown",
   "metadata": {
    "colab_type": "text",
    "id": "NGKg_eFbi7iD"
   },
   "source": [
    "#### Outliers in Speed implying noise in distance or time duration attribute."
   ]
  },
  {
   "cell_type": "code",
   "execution_count": 0,
   "metadata": {
    "colab": {
     "base_uri": "https://localhost:8080/",
     "height": 34
    },
    "colab_type": "code",
    "id": "Wqkya1GWjAIy",
    "outputId": "e280bfae-b6f1-407d-f7d8-9e906fe94456"
   },
   "outputs": [
    {
     "data": {
      "text/plain": [
       "966"
      ]
     },
     "execution_count": 16,
     "metadata": {
      "tags": []
     },
     "output_type": "execute_result"
    }
   ],
   "source": [
    "data1 = line_data[line_data['speed']>80]\n",
    "data1.shape[0]"
   ]
  },
  {
   "cell_type": "code",
   "execution_count": 0,
   "metadata": {
    "colab": {
     "base_uri": "https://localhost:8080/",
     "height": 170
    },
    "colab_type": "code",
    "id": "yDBAodDWji4V",
    "outputId": "9bb18f02-2c75-4c78-c657-befc8150a54b"
   },
   "outputs": [
    {
     "data": {
      "text/plain": [
       "count      966.000000\n",
       "mean      4984.404015\n",
       "std       7498.835461\n",
       "min         80.446927\n",
       "25%        331.609195\n",
       "50%       1800.000000\n",
       "75%       7200.000000\n",
       "max      61200.000000\n",
       "Name: speed, dtype: float64"
      ]
     },
     "execution_count": 17,
     "metadata": {
      "tags": []
     },
     "output_type": "execute_result"
    }
   ],
   "source": [
    "data1['speed'].describe()"
   ]
  },
  {
   "cell_type": "markdown",
   "metadata": {
    "colab_type": "text",
    "id": "wNKD-HE7i7iT"
   },
   "source": [
    "Common knowledge has it that no motorbike can have an average speed greater than say, 70 kmph. Giving a leeway of 10 kmph, we understand that the data has 966 outliers ranging from 81 Kmph to 65000Kmph which is humanly impossible. "
   ]
  },
  {
   "cell_type": "code",
   "execution_count": 0,
   "metadata": {
    "colab": {
     "base_uri": "https://localhost:8080/",
     "height": 542
    },
    "colab_type": "code",
    "id": "WNvR_hdNw7XH",
    "outputId": "c566be32-3c76-4f32-88af-d643ed537cbf"
   },
   "outputs": [
    {
     "data": {
      "text/html": [
       "<html>\n",
       "<head><meta charset=\"utf-8\" /></head>\n",
       "<body>\n",
       "    <div>\n",
       "            <script src=\"https://cdnjs.cloudflare.com/ajax/libs/mathjax/2.7.5/MathJax.js?config=TeX-AMS-MML_SVG\"></script><script type=\"text/javascript\">if (window.MathJax) {MathJax.Hub.Config({SVG: {font: \"STIX-Web\"}});}</script>\n",
       "                <script type=\"text/javascript\">window.PlotlyConfig = {MathJaxConfig: 'local'};</script>\n",
       "        <script src=\"https://cdn.plot.ly/plotly-latest.min.js\"></script>    \n",
       "            <div id=\"78c61abc-edec-4c5f-91be-d82010d1f199\" class=\"plotly-graph-div\" style=\"height:525px; width:100%;\"></div>\n",
       "            <script type=\"text/javascript\">\n",
       "                \n",
       "                    window.PLOTLYENV=window.PLOTLYENV || {};\n",
       "                    \n",
       "                if (document.getElementById(\"78c61abc-edec-4c5f-91be-d82010d1f199\")) {\n",
       "                    Plotly.newPlot(\n",
       "                        '78c61abc-edec-4c5f-91be-d82010d1f199',\n",
       "                        [{\"boxpoints\": \"all\", \"jitter\": 0.3, \"name\": \"Time\", \"pointpos\": -1.8, \"type\": \"box\", \"y\": [80.44692737430168, 80.53691275167785, 80.55077452667814, 80.89887640449439, 81.02893890675242, 81.08108108108108, 81.12676056338029, 81.44796380090497, 81.59564823209429, 81.81818181818181, 82.0253164556962, 83.23699421965318, 83.81374722838137, 83.86023294509151, 84.2433697347894, 84.375, 84.81675392670157, 85.1063829787234, 85.26315789473684, 86.42384105960265, 86.48648648648648, 86.74698795180723, 86.74698795180723, 86.74698795180723, 86.84210526315789, 87.19723183391004, 87.27272727272727, 88.34355828220859, 88.52459016393442, 88.52459016393442, 89.44099378881988, 90.49180327868852, 90.8108108108108, 91.13924050632912, 91.71974522292993, 91.86602870813397, 91.91489361702128, 92.3076923076923, 95.01466275659824, 95.15418502202643, 95.49071618037135, 95.57522123893806, 95.57522123893806, 96.0, 96.42857142857143, 97.87234042553192, 98.05447470817121, 98.05447470817121, 98.18181818181819, 98.50746268656717, 98.63013698630137, 99.3103448275862, 100.0, 100.0, 100.0, 100.46511627906976, 101.12359550561797, 101.51843817787419, 101.88679245283019, 102.85714285714286, 104.93273542600897, 105.88235294117646, 105.88235294117646, 106.2730627306273, 106.4039408866995, 106.66666666666667, 106.66666666666667, 107.46268656716418, 108.38709677419355, 109.0909090909091, 109.0909090909091, 109.52380952380952, 110.11764705882354, 110.20408163265306, 111.05398457583547, 111.80124223602485, 112.1813031161473, 112.23021582733813, 112.5, 113.83399209486166, 114.28571428571429, 114.8936170212766, 115.01597444089457, 115.38461538461539, 115.94202898550725, 116.12903225806451, 116.59919028340082, 116.88311688311688, 117.01720841300191, 118.51851851851852, 122.03389830508475, 122.98136645962732, 123.42857142857143, 123.80952380952381, 124.13793103448276, 125.0965250965251, 125.43554006968641, 126.63316582914572, 126.63316582914572, 126.7605633802817, 126.7605633802817, 127.05882352941177, 127.05882352941177, 127.43362831858407, 129.8360655737705, 130.5699481865285, 130.9090909090909, 131.5068493150685, 132.11009174311926, 132.11009174311926, 132.11009174311926, 135.0, 135.33834586466165, 135.48387096774192, 135.8490566037736, 138.46153846153845, 138.46153846153845, 138.996138996139, 139.05579399141632, 139.53488372093022, 140.0, 140.35087719298247, 140.4255319148936, 140.625, 142.10526315789474, 142.10526315789474, 142.73127753303964, 144.0, 144.0, 144.33962264150944, 146.9387755102041, 147.54098360655738, 148.7603305785124, 149.58448753462605, 150.0, 150.9933774834437, 152.11267605633802, 157.43440233236151, 158.24175824175825, 160.16949152542372, 163.63636363636363, 163.63636363636363, 164.7058823529412, 165.51724137931035, 166.15384615384616, 168.88888888888889, 170.07874015748033, 172.17391304347825, 175.0, 175.2808988764045, 175.609756097561, 177.04918032786884, 178.21782178217822, 178.21782178217822, 178.32817337461302, 180.0, 180.95238095238096, 181.8181818181818, 182.02247191011236, 182.27848101265823, 183.05084745762713, 183.05084745762713, 185.0467289719626, 185.20900321543408, 185.91549295774647, 186.01823708206686, 188.23529411764707, 189.47368421052633, 189.47368421052633, 189.47368421052633, 191.0204081632653, 196.36363636363637, 200.0, 202.81690140845072, 203.77358490566039, 207.69230769230768, 208.69565217391303, 209.70873786407768, 210.2189781021898, 211.76470588235293, 211.76470588235293, 211.76470588235293, 216.0, 216.59751037344398, 217.24137931034483, 218.1818181818182, 218.1818181818182, 218.1818181818182, 220.40816326530611, 223.25581395348837, 225.0, 225.0, 225.94142259414227, 232.25806451612902, 232.25806451612902, 234.7826086956522, 234.7826086956522, 236.0655737704918, 238.01652892561984, 239.11439114391143, 240.0, 240.0, 240.0, 240.0, 240.0, 244.0677966101695, 248.27586206896552, 254.54545454545453, 254.86725663716814, 257.14285714285717, 257.14285714285717, 257.14285714285717, 259.7938144329897, 260.5263157894737, 263.013698630137, 264.2201834862385, 266.6666666666667, 267.90697674418607, 269.1588785046729, 271.0843373493976, 271.6981132075472, 276.9230769230769, 276.9230769230769, 276.9230769230769, 276.9230769230769, 282.3529411764706, 288.0, 288.0, 300.0, 300.0, 300.0, 305.08474576271186, 315.2073732718894, 316.4835164835165, 320.0, 321.42857142857144, 324.3243243243243, 327.27272727272725, 327.27272727272725, 327.27272727272725, 327.27272727272725, 331.0344827586207, 333.3333333333333, 334.02061855670104, 334.8837209302326, 335.59322033898303, 337.5, 338.8235294117647, 339.62264150943395, 339.62264150943395, 342.85714285714283, 342.85714285714283, 342.85714285714283, 342.85714285714283, 348.38709677419354, 354.0983606557377, 367.3469387755102, 370.5882352941176, 374.02597402597405, 375.0, 378.94736842105266, 385.7142857142857, 385.7142857142857, 385.7142857142857, 385.7142857142857, 391.30434782608694, 395.1219512195122, 396.0, 400.0, 400.0, 400.0, 403.2, 405.63380281690144, 415.38461538461536, 423.52941176470586, 423.52941176470586, 436.3636363636364, 450.0, 450.0, 450.0, 457.14285714285717, 464.51612903225805, 467.53246753246754, 469.5652173913044, 480.0, 480.0, 480.0, 490.90909090909093, 496.55172413793105, 496.55172413793105, 506.25, 514.2857142857143, 514.2857142857143, 514.2857142857143, 514.2857142857143, 514.2857142857143, 514.2857142857143, 514.2857142857143, 536.1702127659574, 553.8461538461538, 564.7058823529412, 568.421052631579, 568.421052631579, 580.6451612903226, 600.0, 600.0, 600.0, 600.0, 600.0, 600.0, 612.7659574468086, 620.6896551724138, 626.0869565217391, 635.2941176470588, 654.5454545454545, 654.5454545454545, 654.5454545454545, 654.5454545454545, 666.6666666666666, 675.0, 692.3076923076923, 707.1428571428571, 720.0, 720.0, 720.0, 720.0, 720.0, 720.0, 720.0, 720.0, 720.0, 720.0, 720.0, 720.0, 720.0, 736.3636363636364, 747.1698113207547, 750.0, 771.4285714285714, 792.0, 800.0, 800.0, 800.0, 800.0, 800.0, 800.0, 818.1818181818181, 818.1818181818181, 818.1818181818181, 830.7692307692307, 830.7692307692307, 830.7692307692307, 840.0, 868.9655172413793, 900.0, 900.0, 900.0, 900.0, 900.0, 900.0, 900.0, 900.0, 900.0, 900.0, 900.0, 900.0, 900.0, 900.0, 900.0, 929.0322580645161, 939.1304347826087, 952.9411764705883, 960.0, 981.8181818181819, 981.8181818181819, 981.8181818181819, 981.8181818181819, 981.8181818181819, 981.8181818181819, 1015.3846153846154, 1028.5714285714287, 1028.5714285714287, 1028.5714285714287, 1028.5714285714287, 1028.5714285714287, 1028.5714285714287, 1028.5714285714287, 1028.5714285714287, 1038.4615384615386, 1058.8235294117646, 1080.0, 1080.0, 1107.6923076923076, 1107.6923076923076, 1117.2413793103449, 1145.4545454545455, 1148.936170212766, 1152.0, 1164.7058823529412, 1200.0, 1200.0, 1200.0, 1200.0, 1200.0, 1200.0, 1200.0, 1200.0, 1200.0, 1200.0, 1200.0, 1200.0, 1200.0, 1200.0, 1200.0, 1200.0, 1200.0, 1200.0, 1200.0, 1200.0, 1285.7142857142858, 1285.7142857142858, 1309.090909090909, 1309.090909090909, 1309.090909090909, 1350.0, 1350.0, 1350.0, 1350.0, 1350.0, 1350.0, 1350.0, 1350.0, 1350.0, 1384.6153846153845, 1408.695652173913, 1408.695652173913, 1440.0, 1440.0, 1440.0, 1440.0, 1440.0, 1440.0, 1440.0, 1440.0, 1440.0, 1440.0, 1542.857142857143, 1542.857142857143, 1542.857142857143, 1542.857142857143, 1542.857142857143, 1542.857142857143, 1542.857142857143, 1600.0, 1600.0, 1600.0, 1600.0, 1600.0, 1636.3636363636363, 1636.3636363636363, 1680.0, 1680.0, 1694.1176470588234, 1694.1176470588234, 1694.1176470588234, 1721.7391304347825, 1800.0, 1800.0, 1800.0, 1800.0, 1800.0, 1800.0, 1800.0, 1800.0, 1800.0, 1800.0, 1800.0, 1800.0, 1800.0, 1800.0, 1800.0, 1800.0, 1800.0, 1800.0, 1800.0, 1800.0, 1800.0, 1800.0, 1800.0, 1800.0, 1872.0, 1878.2608695652175, 1885.7142857142858, 1894.7368421052631, 1920.0, 1938.4615384615386, 1963.6363636363637, 1963.6363636363637, 2000.0, 2057.1428571428573, 2057.1428571428573, 2057.1428571428573, 2057.1428571428573, 2057.1428571428573, 2160.0, 2160.0, 2160.0, 2160.0, 2160.0, 2160.0, 2160.0, 2160.0, 2160.0, 2191.304347826087, 2250.0, 2250.0, 2250.0, 2250.0, 2290.909090909091, 2314.285714285714, 2314.285714285714, 2400.0, 2400.0, 2400.0, 2400.0, 2400.0, 2400.0, 2400.0, 2400.0, 2400.0, 2400.0, 2400.0, 2400.0, 2400.0, 2475.0, 2520.0, 2541.176470588235, 2571.4285714285716, 2571.4285714285716, 2618.181818181818, 2618.181818181818, 2652.6315789473683, 2700.0, 2700.0, 2700.0, 2700.0, 2700.0, 2700.0, 2700.0, 2769.230769230769, 2817.391304347826, 2880.0, 2880.0, 2880.0, 2880.0, 2880.0, 2880.0, 2880.0, 2880.0, 2880.0, 2880.0, 3085.714285714286, 3150.0, 3240.0, 3360.0, 3600.0, 3600.0, 3600.0, 3600.0, 3600.0, 3600.0, 3600.0, 3600.0, 3600.0, 3600.0, 3600.0, 3600.0, 3600.0, 3600.0, 3600.0, 3600.0, 3600.0, 3600.0, 3600.0, 3600.0, 3600.0, 3600.0, 3600.0, 3600.0, 3600.0, 3600.0, 3600.0, 3600.0, 3600.0, 3600.0, 3600.0, 3600.0, 3600.0, 3600.0, 3600.0, 3600.0, 3600.0, 3600.0, 3600.0, 3600.0, 3600.0, 3600.0, 3600.0, 3600.0, 3600.0, 3600.0, 3600.0, 3600.0, 3600.0, 3600.0, 3600.0, 3600.0, 3600.0, 3600.0, 3600.0, 3600.0, 3600.0, 3600.0, 3840.0, 3927.2727272727275, 3960.0, 3960.0, 4000.0, 4050.0, 4050.0, 4114.285714285715, 4114.285714285715, 4200.0, 4200.0, 4200.0, 4200.0, 4200.0, 4200.0, 4320.0, 4320.0, 4320.0, 4320.0, 4320.0, 4320.0, 4447.058823529412, 4447.058823529412, 4500.0, 4500.0, 4500.0, 4500.0, 4500.0, 4500.0, 4500.0, 4500.0, 4628.571428571428, 4628.571428571428, 4800.0, 4800.0, 4800.0, 4800.0, 4800.0, 4800.0, 4800.0, 4800.0, 4800.0, 4800.0, 4800.0, 4800.0, 4800.0, 4800.0, 4800.0, 4800.0, 4800.0, 4800.0, 4800.0, 4800.0, 4800.0, 4800.0, 4800.0, 4800.0, 4800.0, 5040.0, 5142.857142857143, 5142.857142857143, 5142.857142857143, 5400.0, 5400.0, 5400.0, 5400.0, 5400.0, 5400.0, 5400.0, 5400.0, 5400.0, 5400.0, 5538.461538461538, 5600.0, 5760.0, 5760.0, 5760.0, 5760.0, 5760.0, 5760.0, 6000.0, 6000.0, 6000.0, 6000.0, 6000.0, 6000.0, 6000.0, 6000.0, 6000.0, 6000.0, 6000.0, 6000.0, 6000.0, 6300.0, 6480.0, 6600.0, 6600.0, 6600.0, 6600.0, 7200.0, 7200.0, 7200.0, 7200.0, 7200.0, 7200.0, 7200.0, 7200.0, 7200.0, 7200.0, 7200.0, 7200.0, 7200.0, 7200.0, 7200.0, 7200.0, 7200.0, 7200.0, 7200.0, 7200.0, 7200.0, 7200.0, 7200.0, 7200.0, 7200.0, 7200.0, 7200.0, 7200.0, 7200.0, 7200.0, 7200.0, 7200.0, 7200.0, 7200.0, 7200.0, 7200.0, 7200.0, 7200.0, 7200.0, 7200.0, 7200.0, 7200.0, 7200.0, 7200.0, 7200.0, 7200.0, 7200.0, 7200.0, 7200.0, 7650.0, 7714.285714285715, 7800.0, 7920.0, 7920.0, 7920.0, 7920.0, 7920.0, 8100.0, 8100.0, 8100.0, 8100.0, 8228.57142857143, 8400.0, 8400.0, 8400.0, 8400.0, 8640.0, 9000.0, 9000.0, 9000.0, 9000.0, 9000.0, 9000.0, 9000.0, 9000.0, 9000.0, 9000.0, 9000.0, 9000.0, 9000.0, 9000.0, 9000.0, 9000.0, 9000.0, 9000.0, 9360.0, 9450.0, 9600.0, 9600.0, 9600.0, 9600.0, 9600.0, 9600.0, 9600.0, 9771.42857142857, 9900.0, 9900.0, 9900.0, 9900.0, 10800.0, 10800.0, 10800.0, 10800.0, 10800.0, 10800.0, 10800.0, 10800.0, 10800.0, 10800.0, 10800.0, 10800.0, 10800.0, 10800.0, 10800.0, 11520.0, 12000.0, 12000.0, 12600.0, 12600.0, 12600.0, 12600.0, 12600.0, 12600.0, 12600.0, 12600.0, 12600.0, 12600.0, 12600.0, 12600.0, 12600.0, 12600.0, 12600.0, 13200.0, 13200.0, 13200.0, 13200.0, 13200.0, 13200.0, 13200.0, 13200.0, 13200.0, 13200.0, 13200.0, 13500.0, 14400.0, 14400.0, 14400.0, 14400.0, 14400.0, 14400.0, 14400.0, 14400.0, 14400.0, 14400.0, 14400.0, 14400.0, 14400.0, 14400.0, 14400.0, 15600.0, 16200.0, 16200.0, 16200.0, 16200.0, 16200.0, 16200.0, 16200.0, 16800.0, 16800.0, 16800.0, 16800.0, 16800.0, 16800.0, 17100.0, 18000.0, 18000.0, 18000.0, 18000.0, 18000.0, 18000.0, 18000.0, 18000.0, 18000.0, 18000.0, 19200.0, 19800.0, 19800.0, 19800.0, 19800.0, 19800.0, 19800.0, 19800.0, 19800.0, 19800.0, 19800.0, 19800.0, 19800.0, 19800.0, 20400.0, 21600.0, 21600.0, 21600.0, 22800.0, 23400.0, 23400.0, 24000.0, 24000.0, 24000.0, 24000.0, 25200.0, 25200.0, 25200.0, 25200.0, 25200.0, 25200.0, 25200.0, 25200.0, 25200.0, 25200.0, 25200.0, 25200.0, 25200.0, 25200.0, 25200.0, 25200.0, 26400.0, 27000.0, 27000.0, 28800.0, 30600.0, 32400.0, 36000.0, 36000.0, 37800.0, 37800.0, 39600.0, 39600.0, 39600.0, 39600.0, 39600.0, 46800.0, 50400.0, 50400.0, 61200.0]}],\n",
       "                        {\"template\": {\"data\": {\"bar\": [{\"error_x\": {\"color\": \"#2a3f5f\"}, \"error_y\": {\"color\": \"#2a3f5f\"}, \"marker\": {\"line\": {\"color\": \"#E5ECF6\", \"width\": 0.5}}, \"type\": \"bar\"}], \"barpolar\": [{\"marker\": {\"line\": {\"color\": \"#E5ECF6\", \"width\": 0.5}}, \"type\": \"barpolar\"}], \"carpet\": [{\"aaxis\": {\"endlinecolor\": \"#2a3f5f\", \"gridcolor\": \"white\", \"linecolor\": \"white\", \"minorgridcolor\": \"white\", \"startlinecolor\": \"#2a3f5f\"}, \"baxis\": {\"endlinecolor\": \"#2a3f5f\", \"gridcolor\": \"white\", \"linecolor\": \"white\", \"minorgridcolor\": \"white\", \"startlinecolor\": \"#2a3f5f\"}, \"type\": \"carpet\"}], \"choropleth\": [{\"colorbar\": {\"outlinewidth\": 0, \"ticks\": \"\"}, \"type\": \"choropleth\"}], \"contour\": [{\"colorbar\": {\"outlinewidth\": 0, \"ticks\": \"\"}, \"colorscale\": [[0.0, \"#0d0887\"], [0.1111111111111111, \"#46039f\"], [0.2222222222222222, \"#7201a8\"], [0.3333333333333333, \"#9c179e\"], [0.4444444444444444, \"#bd3786\"], [0.5555555555555556, \"#d8576b\"], [0.6666666666666666, \"#ed7953\"], [0.7777777777777778, \"#fb9f3a\"], [0.8888888888888888, \"#fdca26\"], [1.0, \"#f0f921\"]], \"type\": \"contour\"}], \"contourcarpet\": [{\"colorbar\": {\"outlinewidth\": 0, \"ticks\": \"\"}, \"type\": \"contourcarpet\"}], \"heatmap\": [{\"colorbar\": {\"outlinewidth\": 0, \"ticks\": \"\"}, \"colorscale\": [[0.0, \"#0d0887\"], [0.1111111111111111, \"#46039f\"], [0.2222222222222222, \"#7201a8\"], [0.3333333333333333, \"#9c179e\"], [0.4444444444444444, \"#bd3786\"], [0.5555555555555556, \"#d8576b\"], [0.6666666666666666, \"#ed7953\"], [0.7777777777777778, \"#fb9f3a\"], [0.8888888888888888, \"#fdca26\"], [1.0, \"#f0f921\"]], \"type\": \"heatmap\"}], \"heatmapgl\": [{\"colorbar\": {\"outlinewidth\": 0, \"ticks\": \"\"}, \"colorscale\": [[0.0, \"#0d0887\"], [0.1111111111111111, \"#46039f\"], [0.2222222222222222, \"#7201a8\"], [0.3333333333333333, \"#9c179e\"], [0.4444444444444444, \"#bd3786\"], [0.5555555555555556, \"#d8576b\"], [0.6666666666666666, \"#ed7953\"], [0.7777777777777778, \"#fb9f3a\"], [0.8888888888888888, \"#fdca26\"], [1.0, \"#f0f921\"]], \"type\": \"heatmapgl\"}], \"histogram\": [{\"marker\": {\"colorbar\": {\"outlinewidth\": 0, \"ticks\": \"\"}}, \"type\": \"histogram\"}], \"histogram2d\": [{\"colorbar\": {\"outlinewidth\": 0, \"ticks\": \"\"}, \"colorscale\": [[0.0, \"#0d0887\"], [0.1111111111111111, \"#46039f\"], [0.2222222222222222, \"#7201a8\"], [0.3333333333333333, \"#9c179e\"], [0.4444444444444444, \"#bd3786\"], [0.5555555555555556, \"#d8576b\"], [0.6666666666666666, \"#ed7953\"], [0.7777777777777778, \"#fb9f3a\"], [0.8888888888888888, \"#fdca26\"], [1.0, \"#f0f921\"]], \"type\": \"histogram2d\"}], \"histogram2dcontour\": [{\"colorbar\": {\"outlinewidth\": 0, \"ticks\": \"\"}, \"colorscale\": [[0.0, \"#0d0887\"], [0.1111111111111111, \"#46039f\"], [0.2222222222222222, \"#7201a8\"], [0.3333333333333333, \"#9c179e\"], [0.4444444444444444, \"#bd3786\"], [0.5555555555555556, \"#d8576b\"], [0.6666666666666666, \"#ed7953\"], [0.7777777777777778, \"#fb9f3a\"], [0.8888888888888888, \"#fdca26\"], [1.0, \"#f0f921\"]], \"type\": \"histogram2dcontour\"}], \"mesh3d\": [{\"colorbar\": {\"outlinewidth\": 0, \"ticks\": \"\"}, \"type\": \"mesh3d\"}], \"parcoords\": [{\"line\": {\"colorbar\": {\"outlinewidth\": 0, \"ticks\": \"\"}}, \"type\": \"parcoords\"}], \"scatter\": [{\"marker\": {\"colorbar\": {\"outlinewidth\": 0, \"ticks\": \"\"}}, \"type\": \"scatter\"}], \"scatter3d\": [{\"line\": {\"colorbar\": {\"outlinewidth\": 0, \"ticks\": \"\"}}, \"marker\": {\"colorbar\": {\"outlinewidth\": 0, \"ticks\": \"\"}}, \"type\": \"scatter3d\"}], \"scattercarpet\": [{\"marker\": {\"colorbar\": {\"outlinewidth\": 0, \"ticks\": \"\"}}, \"type\": \"scattercarpet\"}], \"scattergeo\": [{\"marker\": {\"colorbar\": {\"outlinewidth\": 0, \"ticks\": \"\"}}, \"type\": \"scattergeo\"}], \"scattergl\": [{\"marker\": {\"colorbar\": {\"outlinewidth\": 0, \"ticks\": \"\"}}, \"type\": \"scattergl\"}], \"scattermapbox\": [{\"marker\": {\"colorbar\": {\"outlinewidth\": 0, \"ticks\": \"\"}}, \"type\": \"scattermapbox\"}], \"scatterpolar\": [{\"marker\": {\"colorbar\": {\"outlinewidth\": 0, \"ticks\": \"\"}}, \"type\": \"scatterpolar\"}], \"scatterpolargl\": [{\"marker\": {\"colorbar\": {\"outlinewidth\": 0, \"ticks\": \"\"}}, \"type\": \"scatterpolargl\"}], \"scatterternary\": [{\"marker\": {\"colorbar\": {\"outlinewidth\": 0, \"ticks\": \"\"}}, \"type\": \"scatterternary\"}], \"surface\": [{\"colorbar\": {\"outlinewidth\": 0, \"ticks\": \"\"}, \"colorscale\": [[0.0, \"#0d0887\"], [0.1111111111111111, \"#46039f\"], [0.2222222222222222, \"#7201a8\"], [0.3333333333333333, \"#9c179e\"], [0.4444444444444444, \"#bd3786\"], [0.5555555555555556, \"#d8576b\"], [0.6666666666666666, \"#ed7953\"], [0.7777777777777778, \"#fb9f3a\"], [0.8888888888888888, \"#fdca26\"], [1.0, \"#f0f921\"]], \"type\": \"surface\"}], \"table\": [{\"cells\": {\"fill\": {\"color\": \"#EBF0F8\"}, \"line\": {\"color\": \"white\"}}, \"header\": {\"fill\": {\"color\": \"#C8D4E3\"}, \"line\": {\"color\": \"white\"}}, \"type\": \"table\"}]}, \"layout\": {\"annotationdefaults\": {\"arrowcolor\": \"#2a3f5f\", \"arrowhead\": 0, \"arrowwidth\": 1}, \"colorscale\": {\"diverging\": [[0, \"#8e0152\"], [0.1, \"#c51b7d\"], [0.2, \"#de77ae\"], [0.3, \"#f1b6da\"], [0.4, \"#fde0ef\"], [0.5, \"#f7f7f7\"], [0.6, \"#e6f5d0\"], [0.7, \"#b8e186\"], [0.8, \"#7fbc41\"], [0.9, \"#4d9221\"], [1, \"#276419\"]], \"sequential\": [[0.0, \"#0d0887\"], [0.1111111111111111, \"#46039f\"], [0.2222222222222222, \"#7201a8\"], [0.3333333333333333, \"#9c179e\"], [0.4444444444444444, \"#bd3786\"], [0.5555555555555556, \"#d8576b\"], [0.6666666666666666, \"#ed7953\"], [0.7777777777777778, \"#fb9f3a\"], [0.8888888888888888, \"#fdca26\"], [1.0, \"#f0f921\"]], \"sequentialminus\": [[0.0, \"#0d0887\"], [0.1111111111111111, \"#46039f\"], [0.2222222222222222, \"#7201a8\"], [0.3333333333333333, \"#9c179e\"], [0.4444444444444444, \"#bd3786\"], [0.5555555555555556, \"#d8576b\"], [0.6666666666666666, \"#ed7953\"], [0.7777777777777778, \"#fb9f3a\"], [0.8888888888888888, \"#fdca26\"], [1.0, \"#f0f921\"]]}, \"colorway\": [\"#636efa\", \"#EF553B\", \"#00cc96\", \"#ab63fa\", \"#FFA15A\", \"#19d3f3\", \"#FF6692\", \"#B6E880\", \"#FF97FF\", \"#FECB52\"], \"font\": {\"color\": \"#2a3f5f\"}, \"geo\": {\"bgcolor\": \"white\", \"lakecolor\": \"white\", \"landcolor\": \"#E5ECF6\", \"showlakes\": true, \"showland\": true, \"subunitcolor\": \"white\"}, \"hoverlabel\": {\"align\": \"left\"}, \"hovermode\": \"closest\", \"mapbox\": {\"style\": \"light\"}, \"paper_bgcolor\": \"white\", \"plot_bgcolor\": \"#E5ECF6\", \"polar\": {\"angularaxis\": {\"gridcolor\": \"white\", \"linecolor\": \"white\", \"ticks\": \"\"}, \"bgcolor\": \"#E5ECF6\", \"radialaxis\": {\"gridcolor\": \"white\", \"linecolor\": \"white\", \"ticks\": \"\"}}, \"scene\": {\"xaxis\": {\"backgroundcolor\": \"#E5ECF6\", \"gridcolor\": \"white\", \"gridwidth\": 2, \"linecolor\": \"white\", \"showbackground\": true, \"ticks\": \"\", \"zerolinecolor\": \"white\"}, \"yaxis\": {\"backgroundcolor\": \"#E5ECF6\", \"gridcolor\": \"white\", \"gridwidth\": 2, \"linecolor\": \"white\", \"showbackground\": true, \"ticks\": \"\", \"zerolinecolor\": \"white\"}, \"zaxis\": {\"backgroundcolor\": \"#E5ECF6\", \"gridcolor\": \"white\", \"gridwidth\": 2, \"linecolor\": \"white\", \"showbackground\": true, \"ticks\": \"\", \"zerolinecolor\": \"white\"}}, \"shapedefaults\": {\"line\": {\"color\": \"#2a3f5f\"}}, \"ternary\": {\"aaxis\": {\"gridcolor\": \"white\", \"linecolor\": \"white\", \"ticks\": \"\"}, \"baxis\": {\"gridcolor\": \"white\", \"linecolor\": \"white\", \"ticks\": \"\"}, \"bgcolor\": \"#E5ECF6\", \"caxis\": {\"gridcolor\": \"white\", \"linecolor\": \"white\", \"ticks\": \"\"}}, \"title\": {\"x\": 0.05}, \"xaxis\": {\"automargin\": true, \"gridcolor\": \"white\", \"linecolor\": \"white\", \"ticks\": \"\", \"zerolinecolor\": \"white\", \"zerolinewidth\": 2}, \"yaxis\": {\"automargin\": true, \"gridcolor\": \"white\", \"linecolor\": \"white\", \"ticks\": \"\", \"zerolinecolor\": \"white\", \"zerolinewidth\": 2}}}},\n",
       "                        {\"responsive\": true}\n",
       "                    ).then(function(){\n",
       "                            \n",
       "var gd = document.getElementById('78c61abc-edec-4c5f-91be-d82010d1f199');\n",
       "var x = new MutationObserver(function (mutations, observer) {{\n",
       "        var display = window.getComputedStyle(gd).display;\n",
       "        if (!display || display === 'none') {{\n",
       "            console.log([gd, 'removed!']);\n",
       "            Plotly.purge(gd);\n",
       "            observer.disconnect();\n",
       "        }}\n",
       "}});\n",
       "\n",
       "// Listen for the removal of the full notebook cells\n",
       "var notebookContainer = gd.closest('#notebook-container');\n",
       "if (notebookContainer) {{\n",
       "    x.observe(notebookContainer, {childList: true});\n",
       "}}\n",
       "\n",
       "// Listen for the clearing of the current output cell\n",
       "var outputEl = gd.closest('.output');\n",
       "if (outputEl) {{\n",
       "    x.observe(outputEl, {childList: true});\n",
       "}}\n",
       "\n",
       "                        })\n",
       "                };\n",
       "                \n",
       "            </script>\n",
       "        </div>\n",
       "</body>\n",
       "</html>"
      ]
     },
     "metadata": {
      "tags": []
     },
     "output_type": "display_data"
    }
   ],
   "source": [
    "box_data3 = [\n",
    "    go.Box(\n",
    "        y=data1['speed'],\n",
    "        boxpoints='all',\n",
    "        jitter=0.3,\n",
    "        pointpos=-1.8,\n",
    "        name=\"Time\"\n",
    "    )\n",
    "]\n",
    "py.iplot(box_data3)"
   ]
  },
  {
   "cell_type": "markdown",
   "metadata": {
    "colab_type": "text",
    "id": "NzZvOSG0i7ie"
   },
   "source": [
    "It is clear from this boxplot that these values need to be filtered before feeding into the model to get a near accurate result."
   ]
  },
  {
   "cell_type": "markdown",
   "metadata": {
    "colab_type": "text",
    "id": "GZNapth_i7ig"
   },
   "source": [
    "#### Summary:\n",
    "\n",
    "From the exploratory data analysis, it is clear that the attributes that we need to choose carefully to build the model are the time related attributes of order placements, confirmation, pickup and estimate the delivery time. \n",
    "\n",
    "Factors like precipitation, even though very less in numberof values may play an important role especially considering the fact that the data belongs to the low precipitation areas of Kenya. \n",
    "\n",
    "Temperature may or may not affect the delivery. We need to look into how the platform on which the order has been placed affects the confirmation time and intern how it speeds up or delays the delivery process. It may not lead on to huge differences, it may help make the model more accurate.\n",
    "\n",
    "Orders placed are high on certain days of month and week. Hence seasonality can be found. Time series analysis must be made. "
   ]
  },
  {
   "cell_type": "markdown",
   "metadata": {
    "colab_type": "text",
    "id": "qsgoMADGXNHB"
   },
   "source": [
    "# **Data Pre-processing**"
   ]
  },
  {
   "cell_type": "markdown",
   "metadata": {
    "colab_type": "text",
    "id": "KUOOwRFaakr-"
   },
   "source": [
    "## Data Cleaning"
   ]
  },
  {
   "cell_type": "markdown",
   "metadata": {
    "colab_type": "text",
    "id": "BLpL0oW-aso5"
   },
   "source": [
    "### Missing Values\n",
    "Temperature attribute is filled with mean.\n",
    "\n",
    "Precipitation is filled with Zero."
   ]
  },
  {
   "cell_type": "code",
   "execution_count": 0,
   "metadata": {
    "colab": {},
    "colab_type": "code",
    "id": "7AtDg1_PTYIv"
   },
   "outputs": [],
   "source": [
    "mean_temp=data.Temperature.mean()\n",
    "data['Temperature'].fillna(mean_temp,inplace=True)\n",
    "data['Precipitation'].fillna(0,inplace=True)"
   ]
  },
  {
   "cell_type": "markdown",
   "metadata": {
    "colab_type": "text",
    "id": "cyiXqqRbb9mu"
   },
   "source": [
    "## Data Integration\n",
    "Training dataset is merged with relevent attributes of rider's dataset.\n"
   ]
  },
  {
   "cell_type": "code",
   "execution_count": 0,
   "metadata": {
    "colab": {
     "base_uri": "https://localhost:8080/",
     "height": 1000
    },
    "colab_type": "code",
    "id": "pVBCKGMMbjcV",
    "outputId": "29de5a63-eeb2-49e5-e73f-12e4c98bccd5"
   },
   "outputs": [
    {
     "data": {
      "text/html": [
       "<div>\n",
       "<style scoped>\n",
       "    .dataframe tbody tr th:only-of-type {\n",
       "        vertical-align: middle;\n",
       "    }\n",
       "\n",
       "    .dataframe tbody tr th {\n",
       "        vertical-align: top;\n",
       "    }\n",
       "\n",
       "    .dataframe thead th {\n",
       "        text-align: right;\n",
       "    }\n",
       "</style>\n",
       "<table border=\"1\" class=\"dataframe\">\n",
       "  <thead>\n",
       "    <tr style=\"text-align: right;\">\n",
       "      <th></th>\n",
       "      <th>0</th>\n",
       "      <th>1</th>\n",
       "      <th>2</th>\n",
       "      <th>3</th>\n",
       "      <th>4</th>\n",
       "      <th>5</th>\n",
       "      <th>6</th>\n",
       "      <th>7</th>\n",
       "      <th>8</th>\n",
       "      <th>9</th>\n",
       "      <th>10</th>\n",
       "      <th>11</th>\n",
       "      <th>12</th>\n",
       "      <th>13</th>\n",
       "      <th>14</th>\n",
       "      <th>15</th>\n",
       "      <th>16</th>\n",
       "      <th>17</th>\n",
       "      <th>18</th>\n",
       "      <th>19</th>\n",
       "      <th>20</th>\n",
       "      <th>21</th>\n",
       "      <th>22</th>\n",
       "      <th>23</th>\n",
       "      <th>24</th>\n",
       "      <th>25</th>\n",
       "      <th>26</th>\n",
       "      <th>27</th>\n",
       "      <th>28</th>\n",
       "      <th>29</th>\n",
       "      <th>30</th>\n",
       "      <th>31</th>\n",
       "      <th>32</th>\n",
       "      <th>33</th>\n",
       "      <th>34</th>\n",
       "      <th>35</th>\n",
       "      <th>36</th>\n",
       "      <th>37</th>\n",
       "      <th>38</th>\n",
       "      <th>39</th>\n",
       "      <th>...</th>\n",
       "      <th>21161</th>\n",
       "      <th>21162</th>\n",
       "      <th>21163</th>\n",
       "      <th>21164</th>\n",
       "      <th>21165</th>\n",
       "      <th>21166</th>\n",
       "      <th>21167</th>\n",
       "      <th>21168</th>\n",
       "      <th>21169</th>\n",
       "      <th>21170</th>\n",
       "      <th>21171</th>\n",
       "      <th>21172</th>\n",
       "      <th>21173</th>\n",
       "      <th>21174</th>\n",
       "      <th>21175</th>\n",
       "      <th>21176</th>\n",
       "      <th>21177</th>\n",
       "      <th>21178</th>\n",
       "      <th>21179</th>\n",
       "      <th>21180</th>\n",
       "      <th>21181</th>\n",
       "      <th>21182</th>\n",
       "      <th>21183</th>\n",
       "      <th>21184</th>\n",
       "      <th>21185</th>\n",
       "      <th>21186</th>\n",
       "      <th>21187</th>\n",
       "      <th>21188</th>\n",
       "      <th>21189</th>\n",
       "      <th>21190</th>\n",
       "      <th>21191</th>\n",
       "      <th>21192</th>\n",
       "      <th>21193</th>\n",
       "      <th>21194</th>\n",
       "      <th>21195</th>\n",
       "      <th>21196</th>\n",
       "      <th>21197</th>\n",
       "      <th>21198</th>\n",
       "      <th>21199</th>\n",
       "      <th>21200</th>\n",
       "    </tr>\n",
       "  </thead>\n",
       "  <tbody>\n",
       "    <tr>\n",
       "      <th>Order_No</th>\n",
       "      <td>Order_No_4211</td>\n",
       "      <td>Order_No_27440</td>\n",
       "      <td>Order_No_14170</td>\n",
       "      <td>Order_No_21727</td>\n",
       "      <td>Order_No_8301</td>\n",
       "      <td>Order_No_10440</td>\n",
       "      <td>Order_No_25321</td>\n",
       "      <td>Order_No_2476</td>\n",
       "      <td>Order_No_14704</td>\n",
       "      <td>Order_No_118</td>\n",
       "      <td>Order_No_10887</td>\n",
       "      <td>Order_No_918</td>\n",
       "      <td>Order_No_15419</td>\n",
       "      <td>Order_No_267</td>\n",
       "      <td>Order_No_23527</td>\n",
       "      <td>Order_No_303</td>\n",
       "      <td>Order_No_6056</td>\n",
       "      <td>Order_No_26295</td>\n",
       "      <td>Order_No_26873</td>\n",
       "      <td>Order_No_22150</td>\n",
       "      <td>Order_No_28145</td>\n",
       "      <td>Order_No_7684</td>\n",
       "      <td>Order_No_5724</td>\n",
       "      <td>Order_No_25375</td>\n",
       "      <td>Order_No_14810</td>\n",
       "      <td>Order_No_16835</td>\n",
       "      <td>Order_No_1672</td>\n",
       "      <td>Order_No_12021</td>\n",
       "      <td>Order_No_21063</td>\n",
       "      <td>Order_No_25751</td>\n",
       "      <td>Order_No_15423</td>\n",
       "      <td>Order_No_10780</td>\n",
       "      <td>Order_No_9901</td>\n",
       "      <td>Order_No_17664</td>\n",
       "      <td>Order_No_2765</td>\n",
       "      <td>Order_No_8841</td>\n",
       "      <td>Order_No_3266</td>\n",
       "      <td>Order_No_13420</td>\n",
       "      <td>Order_No_15216</td>\n",
       "      <td>Order_No_3854</td>\n",
       "      <td>...</td>\n",
       "      <td>Order_No_5741</td>\n",
       "      <td>Order_No_1921</td>\n",
       "      <td>Order_No_3409</td>\n",
       "      <td>Order_No_21249</td>\n",
       "      <td>Order_No_23677</td>\n",
       "      <td>Order_No_13217</td>\n",
       "      <td>Order_No_1489</td>\n",
       "      <td>Order_No_297</td>\n",
       "      <td>Order_No_27402</td>\n",
       "      <td>Order_No_22888</td>\n",
       "      <td>Order_No_19971</td>\n",
       "      <td>Order_No_7005</td>\n",
       "      <td>Order_No_4843</td>\n",
       "      <td>Order_No_23091</td>\n",
       "      <td>Order_No_6421</td>\n",
       "      <td>Order_No_2078</td>\n",
       "      <td>Order_No_26796</td>\n",
       "      <td>Order_No_25524</td>\n",
       "      <td>Order_No_18705</td>\n",
       "      <td>Order_No_27093</td>\n",
       "      <td>Order_No_23810</td>\n",
       "      <td>Order_No_27812</td>\n",
       "      <td>Order_No_18086</td>\n",
       "      <td>Order_No_24548</td>\n",
       "      <td>Order_No_12301</td>\n",
       "      <td>Order_No_19006</td>\n",
       "      <td>Order_No_6098</td>\n",
       "      <td>Order_No_6655</td>\n",
       "      <td>Order_No_18827</td>\n",
       "      <td>Order_No_18182</td>\n",
       "      <td>Order_No_7344</td>\n",
       "      <td>Order_No_13073</td>\n",
       "      <td>Order_No_14073</td>\n",
       "      <td>Order_No_15727</td>\n",
       "      <td>Order_No_7218</td>\n",
       "      <td>Order_No_27103</td>\n",
       "      <td>Order_No_3786</td>\n",
       "      <td>Order_No_7281</td>\n",
       "      <td>Order_No_15575</td>\n",
       "      <td>Order_No_15578</td>\n",
       "    </tr>\n",
       "    <tr>\n",
       "      <th>User_Id</th>\n",
       "      <td>User_Id_633</td>\n",
       "      <td>User_Id_2642</td>\n",
       "      <td>User_Id_3339</td>\n",
       "      <td>User_Id_3523</td>\n",
       "      <td>User_Id_87</td>\n",
       "      <td>User_Id_2801</td>\n",
       "      <td>User_Id_1882</td>\n",
       "      <td>User_Id_2260</td>\n",
       "      <td>User_Id_2186</td>\n",
       "      <td>User_Id_3688</td>\n",
       "      <td>User_Id_2209</td>\n",
       "      <td>User_Id_1363</td>\n",
       "      <td>User_Id_53</td>\n",
       "      <td>User_Id_641</td>\n",
       "      <td>User_Id_3326</td>\n",
       "      <td>User_Id_2468</td>\n",
       "      <td>User_Id_3689</td>\n",
       "      <td>User_Id_2789</td>\n",
       "      <td>User_Id_1523</td>\n",
       "      <td>User_Id_393</td>\n",
       "      <td>User_Id_2801</td>\n",
       "      <td>User_Id_3175</td>\n",
       "      <td>User_Id_3771</td>\n",
       "      <td>User_Id_2285</td>\n",
       "      <td>User_Id_3698</td>\n",
       "      <td>User_Id_3291</td>\n",
       "      <td>User_Id_2639</td>\n",
       "      <td>User_Id_3547</td>\n",
       "      <td>User_Id_1004</td>\n",
       "      <td>User_Id_2066</td>\n",
       "      <td>User_Id_3698</td>\n",
       "      <td>User_Id_393</td>\n",
       "      <td>User_Id_1249</td>\n",
       "      <td>User_Id_3525</td>\n",
       "      <td>User_Id_265</td>\n",
       "      <td>User_Id_2330</td>\n",
       "      <td>User_Id_1249</td>\n",
       "      <td>User_Id_2102</td>\n",
       "      <td>User_Id_896</td>\n",
       "      <td>User_Id_3222</td>\n",
       "      <td>...</td>\n",
       "      <td>User_Id_3291</td>\n",
       "      <td>User_Id_1151</td>\n",
       "      <td>User_Id_3283</td>\n",
       "      <td>User_Id_640</td>\n",
       "      <td>User_Id_3186</td>\n",
       "      <td>User_Id_3177</td>\n",
       "      <td>User_Id_2924</td>\n",
       "      <td>User_Id_2335</td>\n",
       "      <td>User_Id_1404</td>\n",
       "      <td>User_Id_1640</td>\n",
       "      <td>User_Id_2106</td>\n",
       "      <td>User_Id_2358</td>\n",
       "      <td>User_Id_2069</td>\n",
       "      <td>User_Id_3147</td>\n",
       "      <td>User_Id_1787</td>\n",
       "      <td>User_Id_2373</td>\n",
       "      <td>User_Id_3355</td>\n",
       "      <td>User_Id_2781</td>\n",
       "      <td>User_Id_2200</td>\n",
       "      <td>User_Id_173</td>\n",
       "      <td>User_Id_517</td>\n",
       "      <td>User_Id_265</td>\n",
       "      <td>User_Id_928</td>\n",
       "      <td>User_Id_2527</td>\n",
       "      <td>User_Id_3291</td>\n",
       "      <td>User_Id_1329</td>\n",
       "      <td>User_Id_2330</td>\n",
       "      <td>User_Id_2195</td>\n",
       "      <td>User_Id_46</td>\n",
       "      <td>User_Id_1329</td>\n",
       "      <td>User_Id_868</td>\n",
       "      <td>User_Id_2030</td>\n",
       "      <td>User_Id_136</td>\n",
       "      <td>User_Id_3599</td>\n",
       "      <td>User_Id_435</td>\n",
       "      <td>User_Id_3718</td>\n",
       "      <td>User_Id_1558</td>\n",
       "      <td>User_Id_2008</td>\n",
       "      <td>User_Id_1346</td>\n",
       "      <td>User_Id_2174</td>\n",
       "    </tr>\n",
       "    <tr>\n",
       "      <th>Vehicle_Type</th>\n",
       "      <td>Bike</td>\n",
       "      <td>Bike</td>\n",
       "      <td>Bike</td>\n",
       "      <td>Bike</td>\n",
       "      <td>Bike</td>\n",
       "      <td>Bike</td>\n",
       "      <td>Bike</td>\n",
       "      <td>Bike</td>\n",
       "      <td>Bike</td>\n",
       "      <td>Bike</td>\n",
       "      <td>Bike</td>\n",
       "      <td>Bike</td>\n",
       "      <td>Bike</td>\n",
       "      <td>Bike</td>\n",
       "      <td>Bike</td>\n",
       "      <td>Bike</td>\n",
       "      <td>Bike</td>\n",
       "      <td>Bike</td>\n",
       "      <td>Bike</td>\n",
       "      <td>Bike</td>\n",
       "      <td>Bike</td>\n",
       "      <td>Bike</td>\n",
       "      <td>Bike</td>\n",
       "      <td>Bike</td>\n",
       "      <td>Bike</td>\n",
       "      <td>Bike</td>\n",
       "      <td>Bike</td>\n",
       "      <td>Bike</td>\n",
       "      <td>Bike</td>\n",
       "      <td>Bike</td>\n",
       "      <td>Bike</td>\n",
       "      <td>Bike</td>\n",
       "      <td>Bike</td>\n",
       "      <td>Bike</td>\n",
       "      <td>Bike</td>\n",
       "      <td>Bike</td>\n",
       "      <td>Bike</td>\n",
       "      <td>Bike</td>\n",
       "      <td>Bike</td>\n",
       "      <td>Bike</td>\n",
       "      <td>...</td>\n",
       "      <td>Bike</td>\n",
       "      <td>Bike</td>\n",
       "      <td>Bike</td>\n",
       "      <td>Bike</td>\n",
       "      <td>Bike</td>\n",
       "      <td>Bike</td>\n",
       "      <td>Bike</td>\n",
       "      <td>Bike</td>\n",
       "      <td>Bike</td>\n",
       "      <td>Bike</td>\n",
       "      <td>Bike</td>\n",
       "      <td>Bike</td>\n",
       "      <td>Bike</td>\n",
       "      <td>Bike</td>\n",
       "      <td>Bike</td>\n",
       "      <td>Bike</td>\n",
       "      <td>Bike</td>\n",
       "      <td>Bike</td>\n",
       "      <td>Bike</td>\n",
       "      <td>Bike</td>\n",
       "      <td>Bike</td>\n",
       "      <td>Bike</td>\n",
       "      <td>Bike</td>\n",
       "      <td>Bike</td>\n",
       "      <td>Bike</td>\n",
       "      <td>Bike</td>\n",
       "      <td>Bike</td>\n",
       "      <td>Bike</td>\n",
       "      <td>Bike</td>\n",
       "      <td>Bike</td>\n",
       "      <td>Bike</td>\n",
       "      <td>Bike</td>\n",
       "      <td>Bike</td>\n",
       "      <td>Bike</td>\n",
       "      <td>Bike</td>\n",
       "      <td>Bike</td>\n",
       "      <td>Bike</td>\n",
       "      <td>Bike</td>\n",
       "      <td>Bike</td>\n",
       "      <td>Bike</td>\n",
       "    </tr>\n",
       "    <tr>\n",
       "      <th>Platform_Type</th>\n",
       "      <td>3</td>\n",
       "      <td>3</td>\n",
       "      <td>3</td>\n",
       "      <td>3</td>\n",
       "      <td>2</td>\n",
       "      <td>3</td>\n",
       "      <td>1</td>\n",
       "      <td>1</td>\n",
       "      <td>1</td>\n",
       "      <td>3</td>\n",
       "      <td>3</td>\n",
       "      <td>3</td>\n",
       "      <td>3</td>\n",
       "      <td>3</td>\n",
       "      <td>3</td>\n",
       "      <td>3</td>\n",
       "      <td>3</td>\n",
       "      <td>3</td>\n",
       "      <td>1</td>\n",
       "      <td>3</td>\n",
       "      <td>3</td>\n",
       "      <td>3</td>\n",
       "      <td>3</td>\n",
       "      <td>3</td>\n",
       "      <td>3</td>\n",
       "      <td>3</td>\n",
       "      <td>3</td>\n",
       "      <td>3</td>\n",
       "      <td>3</td>\n",
       "      <td>3</td>\n",
       "      <td>3</td>\n",
       "      <td>3</td>\n",
       "      <td>3</td>\n",
       "      <td>3</td>\n",
       "      <td>3</td>\n",
       "      <td>3</td>\n",
       "      <td>3</td>\n",
       "      <td>3</td>\n",
       "      <td>3</td>\n",
       "      <td>3</td>\n",
       "      <td>...</td>\n",
       "      <td>3</td>\n",
       "      <td>2</td>\n",
       "      <td>3</td>\n",
       "      <td>3</td>\n",
       "      <td>3</td>\n",
       "      <td>3</td>\n",
       "      <td>2</td>\n",
       "      <td>3</td>\n",
       "      <td>2</td>\n",
       "      <td>2</td>\n",
       "      <td>1</td>\n",
       "      <td>4</td>\n",
       "      <td>3</td>\n",
       "      <td>3</td>\n",
       "      <td>3</td>\n",
       "      <td>1</td>\n",
       "      <td>3</td>\n",
       "      <td>3</td>\n",
       "      <td>3</td>\n",
       "      <td>3</td>\n",
       "      <td>3</td>\n",
       "      <td>3</td>\n",
       "      <td>3</td>\n",
       "      <td>2</td>\n",
       "      <td>3</td>\n",
       "      <td>3</td>\n",
       "      <td>3</td>\n",
       "      <td>3</td>\n",
       "      <td>3</td>\n",
       "      <td>3</td>\n",
       "      <td>3</td>\n",
       "      <td>3</td>\n",
       "      <td>3</td>\n",
       "      <td>3</td>\n",
       "      <td>3</td>\n",
       "      <td>3</td>\n",
       "      <td>3</td>\n",
       "      <td>3</td>\n",
       "      <td>3</td>\n",
       "      <td>3</td>\n",
       "    </tr>\n",
       "    <tr>\n",
       "      <th>Type</th>\n",
       "      <td>Business</td>\n",
       "      <td>Personal</td>\n",
       "      <td>Business</td>\n",
       "      <td>Personal</td>\n",
       "      <td>Personal</td>\n",
       "      <td>Business</td>\n",
       "      <td>Business</td>\n",
       "      <td>Personal</td>\n",
       "      <td>Personal</td>\n",
       "      <td>Business</td>\n",
       "      <td>Business</td>\n",
       "      <td>Business</td>\n",
       "      <td>Business</td>\n",
       "      <td>Personal</td>\n",
       "      <td>Business</td>\n",
       "      <td>Business</td>\n",
       "      <td>Business</td>\n",
       "      <td>Business</td>\n",
       "      <td>Personal</td>\n",
       "      <td>Business</td>\n",
       "      <td>Business</td>\n",
       "      <td>Business</td>\n",
       "      <td>Personal</td>\n",
       "      <td>Personal</td>\n",
       "      <td>Business</td>\n",
       "      <td>Business</td>\n",
       "      <td>Personal</td>\n",
       "      <td>Business</td>\n",
       "      <td>Business</td>\n",
       "      <td>Business</td>\n",
       "      <td>Business</td>\n",
       "      <td>Business</td>\n",
       "      <td>Business</td>\n",
       "      <td>Business</td>\n",
       "      <td>Business</td>\n",
       "      <td>Business</td>\n",
       "      <td>Business</td>\n",
       "      <td>Business</td>\n",
       "      <td>Personal</td>\n",
       "      <td>Business</td>\n",
       "      <td>...</td>\n",
       "      <td>Business</td>\n",
       "      <td>Personal</td>\n",
       "      <td>Business</td>\n",
       "      <td>Business</td>\n",
       "      <td>Business</td>\n",
       "      <td>Business</td>\n",
       "      <td>Personal</td>\n",
       "      <td>Business</td>\n",
       "      <td>Personal</td>\n",
       "      <td>Personal</td>\n",
       "      <td>Personal</td>\n",
       "      <td>Business</td>\n",
       "      <td>Business</td>\n",
       "      <td>Business</td>\n",
       "      <td>Business</td>\n",
       "      <td>Personal</td>\n",
       "      <td>Business</td>\n",
       "      <td>Personal</td>\n",
       "      <td>Business</td>\n",
       "      <td>Business</td>\n",
       "      <td>Business</td>\n",
       "      <td>Business</td>\n",
       "      <td>Business</td>\n",
       "      <td>Personal</td>\n",
       "      <td>Business</td>\n",
       "      <td>Business</td>\n",
       "      <td>Business</td>\n",
       "      <td>Business</td>\n",
       "      <td>Business</td>\n",
       "      <td>Business</td>\n",
       "      <td>Business</td>\n",
       "      <td>Business</td>\n",
       "      <td>Business</td>\n",
       "      <td>Business</td>\n",
       "      <td>Business</td>\n",
       "      <td>Business</td>\n",
       "      <td>Personal</td>\n",
       "      <td>Business</td>\n",
       "      <td>Business</td>\n",
       "      <td>Business</td>\n",
       "    </tr>\n",
       "    <tr>\n",
       "      <th>Placement_Day_of_Month</th>\n",
       "      <td>9</td>\n",
       "      <td>18</td>\n",
       "      <td>31</td>\n",
       "      <td>2</td>\n",
       "      <td>22</td>\n",
       "      <td>29</td>\n",
       "      <td>2</td>\n",
       "      <td>19</td>\n",
       "      <td>28</td>\n",
       "      <td>14</td>\n",
       "      <td>16</td>\n",
       "      <td>28</td>\n",
       "      <td>8</td>\n",
       "      <td>2</td>\n",
       "      <td>14</td>\n",
       "      <td>4</td>\n",
       "      <td>9</td>\n",
       "      <td>24</td>\n",
       "      <td>2</td>\n",
       "      <td>25</td>\n",
       "      <td>14</td>\n",
       "      <td>15</td>\n",
       "      <td>17</td>\n",
       "      <td>12</td>\n",
       "      <td>22</td>\n",
       "      <td>15</td>\n",
       "      <td>14</td>\n",
       "      <td>10</td>\n",
       "      <td>4</td>\n",
       "      <td>20</td>\n",
       "      <td>21</td>\n",
       "      <td>14</td>\n",
       "      <td>15</td>\n",
       "      <td>8</td>\n",
       "      <td>7</td>\n",
       "      <td>9</td>\n",
       "      <td>15</td>\n",
       "      <td>31</td>\n",
       "      <td>4</td>\n",
       "      <td>27</td>\n",
       "      <td>...</td>\n",
       "      <td>14</td>\n",
       "      <td>5</td>\n",
       "      <td>7</td>\n",
       "      <td>22</td>\n",
       "      <td>22</td>\n",
       "      <td>15</td>\n",
       "      <td>4</td>\n",
       "      <td>14</td>\n",
       "      <td>25</td>\n",
       "      <td>8</td>\n",
       "      <td>2</td>\n",
       "      <td>11</td>\n",
       "      <td>7</td>\n",
       "      <td>28</td>\n",
       "      <td>28</td>\n",
       "      <td>16</td>\n",
       "      <td>16</td>\n",
       "      <td>23</td>\n",
       "      <td>26</td>\n",
       "      <td>19</td>\n",
       "      <td>12</td>\n",
       "      <td>4</td>\n",
       "      <td>14</td>\n",
       "      <td>26</td>\n",
       "      <td>3</td>\n",
       "      <td>6</td>\n",
       "      <td>10</td>\n",
       "      <td>13</td>\n",
       "      <td>16</td>\n",
       "      <td>24</td>\n",
       "      <td>9</td>\n",
       "      <td>18</td>\n",
       "      <td>18</td>\n",
       "      <td>29</td>\n",
       "      <td>7</td>\n",
       "      <td>13</td>\n",
       "      <td>21</td>\n",
       "      <td>10</td>\n",
       "      <td>29</td>\n",
       "      <td>30</td>\n",
       "    </tr>\n",
       "    <tr>\n",
       "      <th>Placement_Weekday</th>\n",
       "      <td>5</td>\n",
       "      <td>5</td>\n",
       "      <td>5</td>\n",
       "      <td>2</td>\n",
       "      <td>2</td>\n",
       "      <td>3</td>\n",
       "      <td>2</td>\n",
       "      <td>5</td>\n",
       "      <td>1</td>\n",
       "      <td>4</td>\n",
       "      <td>3</td>\n",
       "      <td>1</td>\n",
       "      <td>4</td>\n",
       "      <td>2</td>\n",
       "      <td>4</td>\n",
       "      <td>1</td>\n",
       "      <td>5</td>\n",
       "      <td>4</td>\n",
       "      <td>3</td>\n",
       "      <td>5</td>\n",
       "      <td>1</td>\n",
       "      <td>4</td>\n",
       "      <td>3</td>\n",
       "      <td>5</td>\n",
       "      <td>3</td>\n",
       "      <td>5</td>\n",
       "      <td>5</td>\n",
       "      <td>1</td>\n",
       "      <td>2</td>\n",
       "      <td>3</td>\n",
       "      <td>2</td>\n",
       "      <td>4</td>\n",
       "      <td>5</td>\n",
       "      <td>1</td>\n",
       "      <td>2</td>\n",
       "      <td>4</td>\n",
       "      <td>5</td>\n",
       "      <td>5</td>\n",
       "      <td>1</td>\n",
       "      <td>1</td>\n",
       "      <td>...</td>\n",
       "      <td>5</td>\n",
       "      <td>3</td>\n",
       "      <td>2</td>\n",
       "      <td>4</td>\n",
       "      <td>4</td>\n",
       "      <td>4</td>\n",
       "      <td>3</td>\n",
       "      <td>3</td>\n",
       "      <td>5</td>\n",
       "      <td>6</td>\n",
       "      <td>6</td>\n",
       "      <td>3</td>\n",
       "      <td>5</td>\n",
       "      <td>5</td>\n",
       "      <td>4</td>\n",
       "      <td>4</td>\n",
       "      <td>3</td>\n",
       "      <td>3</td>\n",
       "      <td>1</td>\n",
       "      <td>5</td>\n",
       "      <td>4</td>\n",
       "      <td>1</td>\n",
       "      <td>3</td>\n",
       "      <td>2</td>\n",
       "      <td>5</td>\n",
       "      <td>4</td>\n",
       "      <td>3</td>\n",
       "      <td>4</td>\n",
       "      <td>6</td>\n",
       "      <td>5</td>\n",
       "      <td>2</td>\n",
       "      <td>2</td>\n",
       "      <td>1</td>\n",
       "      <td>4</td>\n",
       "      <td>5</td>\n",
       "      <td>2</td>\n",
       "      <td>4</td>\n",
       "      <td>1</td>\n",
       "      <td>2</td>\n",
       "      <td>5</td>\n",
       "    </tr>\n",
       "    <tr>\n",
       "      <th>Placement_Time</th>\n",
       "      <td>9:35:46 AM</td>\n",
       "      <td>3:41:17 PM</td>\n",
       "      <td>12:51:41 PM</td>\n",
       "      <td>7:12:10 AM</td>\n",
       "      <td>10:40:58 AM</td>\n",
       "      <td>12:14:43 PM</td>\n",
       "      <td>9:08:42 AM</td>\n",
       "      <td>4:12:56 PM</td>\n",
       "      <td>3:03:10 PM</td>\n",
       "      <td>2:42:58 PM</td>\n",
       "      <td>4:28:49 PM</td>\n",
       "      <td>4:03:31 PM</td>\n",
       "      <td>9:58:23 AM</td>\n",
       "      <td>12:28:05 PM</td>\n",
       "      <td>1:54:02 PM</td>\n",
       "      <td>11:09:09 AM</td>\n",
       "      <td>1:44:20 PM</td>\n",
       "      <td>12:40:03 PM</td>\n",
       "      <td>7:17:35 AM</td>\n",
       "      <td>12:23:28 PM</td>\n",
       "      <td>1:33:25 PM</td>\n",
       "      <td>11:50:26 AM</td>\n",
       "      <td>2:18:32 PM</td>\n",
       "      <td>11:16:16 AM</td>\n",
       "      <td>10:42:19 AM</td>\n",
       "      <td>11:34:01 AM</td>\n",
       "      <td>12:38:04 PM</td>\n",
       "      <td>11:28:37 AM</td>\n",
       "      <td>2:21:55 PM</td>\n",
       "      <td>3:21:51 PM</td>\n",
       "      <td>3:59:20 PM</td>\n",
       "      <td>12:01:43 PM</td>\n",
       "      <td>12:24:50 PM</td>\n",
       "      <td>10:06:16 AM</td>\n",
       "      <td>3:50:37 PM</td>\n",
       "      <td>12:41:17 PM</td>\n",
       "      <td>4:32:37 PM</td>\n",
       "      <td>11:33:40 AM</td>\n",
       "      <td>12:24:52 PM</td>\n",
       "      <td>12:03:21 PM</td>\n",
       "      <td>...</td>\n",
       "      <td>1:44:25 PM</td>\n",
       "      <td>3:24:55 PM</td>\n",
       "      <td>2:39:57 PM</td>\n",
       "      <td>10:59:18 AM</td>\n",
       "      <td>11:25:29 AM</td>\n",
       "      <td>1:10:02 PM</td>\n",
       "      <td>9:36:33 AM</td>\n",
       "      <td>2:44:47 PM</td>\n",
       "      <td>5:42:30 PM</td>\n",
       "      <td>11:27:43 AM</td>\n",
       "      <td>1:06:44 PM</td>\n",
       "      <td>8:39:18 AM</td>\n",
       "      <td>3:51:27 PM</td>\n",
       "      <td>1:41:57 PM</td>\n",
       "      <td>10:56:54 AM</td>\n",
       "      <td>3:46:49 PM</td>\n",
       "      <td>10:50:27 AM</td>\n",
       "      <td>8:30:54 PM</td>\n",
       "      <td>9:58:13 AM</td>\n",
       "      <td>11:13:18 AM</td>\n",
       "      <td>9:47:28 AM</td>\n",
       "      <td>11:29:31 AM</td>\n",
       "      <td>4:07:40 PM</td>\n",
       "      <td>11:47:49 AM</td>\n",
       "      <td>2:20:31 PM</td>\n",
       "      <td>3:21:59 PM</td>\n",
       "      <td>4:58:52 PM</td>\n",
       "      <td>1:02:35 PM</td>\n",
       "      <td>10:50:03 AM</td>\n",
       "      <td>4:21:12 PM</td>\n",
       "      <td>1:15:58 PM</td>\n",
       "      <td>2:18:44 PM</td>\n",
       "      <td>8:51:44 AM</td>\n",
       "      <td>10:54:05 AM</td>\n",
       "      <td>12:10:17 PM</td>\n",
       "      <td>11:09:37 AM</td>\n",
       "      <td>4:33:17 PM</td>\n",
       "      <td>5:00:40 PM</td>\n",
       "      <td>2:31:55 PM</td>\n",
       "      <td>9:51:23 AM</td>\n",
       "    </tr>\n",
       "    <tr>\n",
       "      <th>Confirmation_Day_of_Month</th>\n",
       "      <td>9</td>\n",
       "      <td>18</td>\n",
       "      <td>31</td>\n",
       "      <td>2</td>\n",
       "      <td>22</td>\n",
       "      <td>29</td>\n",
       "      <td>2</td>\n",
       "      <td>19</td>\n",
       "      <td>28</td>\n",
       "      <td>14</td>\n",
       "      <td>16</td>\n",
       "      <td>28</td>\n",
       "      <td>8</td>\n",
       "      <td>2</td>\n",
       "      <td>14</td>\n",
       "      <td>4</td>\n",
       "      <td>9</td>\n",
       "      <td>24</td>\n",
       "      <td>2</td>\n",
       "      <td>25</td>\n",
       "      <td>14</td>\n",
       "      <td>15</td>\n",
       "      <td>17</td>\n",
       "      <td>12</td>\n",
       "      <td>22</td>\n",
       "      <td>15</td>\n",
       "      <td>14</td>\n",
       "      <td>10</td>\n",
       "      <td>4</td>\n",
       "      <td>20</td>\n",
       "      <td>21</td>\n",
       "      <td>14</td>\n",
       "      <td>15</td>\n",
       "      <td>8</td>\n",
       "      <td>7</td>\n",
       "      <td>9</td>\n",
       "      <td>15</td>\n",
       "      <td>31</td>\n",
       "      <td>4</td>\n",
       "      <td>27</td>\n",
       "      <td>...</td>\n",
       "      <td>14</td>\n",
       "      <td>5</td>\n",
       "      <td>7</td>\n",
       "      <td>22</td>\n",
       "      <td>22</td>\n",
       "      <td>15</td>\n",
       "      <td>4</td>\n",
       "      <td>14</td>\n",
       "      <td>25</td>\n",
       "      <td>8</td>\n",
       "      <td>2</td>\n",
       "      <td>11</td>\n",
       "      <td>7</td>\n",
       "      <td>28</td>\n",
       "      <td>28</td>\n",
       "      <td>16</td>\n",
       "      <td>16</td>\n",
       "      <td>23</td>\n",
       "      <td>26</td>\n",
       "      <td>19</td>\n",
       "      <td>12</td>\n",
       "      <td>4</td>\n",
       "      <td>14</td>\n",
       "      <td>26</td>\n",
       "      <td>3</td>\n",
       "      <td>6</td>\n",
       "      <td>10</td>\n",
       "      <td>13</td>\n",
       "      <td>16</td>\n",
       "      <td>24</td>\n",
       "      <td>9</td>\n",
       "      <td>18</td>\n",
       "      <td>18</td>\n",
       "      <td>29</td>\n",
       "      <td>7</td>\n",
       "      <td>13</td>\n",
       "      <td>21</td>\n",
       "      <td>10</td>\n",
       "      <td>29</td>\n",
       "      <td>30</td>\n",
       "    </tr>\n",
       "    <tr>\n",
       "      <th>Confirmation_Weekday</th>\n",
       "      <td>5</td>\n",
       "      <td>5</td>\n",
       "      <td>5</td>\n",
       "      <td>2</td>\n",
       "      <td>2</td>\n",
       "      <td>3</td>\n",
       "      <td>2</td>\n",
       "      <td>5</td>\n",
       "      <td>1</td>\n",
       "      <td>4</td>\n",
       "      <td>3</td>\n",
       "      <td>1</td>\n",
       "      <td>4</td>\n",
       "      <td>2</td>\n",
       "      <td>4</td>\n",
       "      <td>1</td>\n",
       "      <td>5</td>\n",
       "      <td>4</td>\n",
       "      <td>3</td>\n",
       "      <td>5</td>\n",
       "      <td>1</td>\n",
       "      <td>4</td>\n",
       "      <td>3</td>\n",
       "      <td>5</td>\n",
       "      <td>3</td>\n",
       "      <td>5</td>\n",
       "      <td>5</td>\n",
       "      <td>1</td>\n",
       "      <td>2</td>\n",
       "      <td>3</td>\n",
       "      <td>2</td>\n",
       "      <td>4</td>\n",
       "      <td>5</td>\n",
       "      <td>1</td>\n",
       "      <td>2</td>\n",
       "      <td>4</td>\n",
       "      <td>5</td>\n",
       "      <td>5</td>\n",
       "      <td>1</td>\n",
       "      <td>1</td>\n",
       "      <td>...</td>\n",
       "      <td>5</td>\n",
       "      <td>3</td>\n",
       "      <td>2</td>\n",
       "      <td>4</td>\n",
       "      <td>4</td>\n",
       "      <td>4</td>\n",
       "      <td>3</td>\n",
       "      <td>3</td>\n",
       "      <td>5</td>\n",
       "      <td>6</td>\n",
       "      <td>6</td>\n",
       "      <td>3</td>\n",
       "      <td>5</td>\n",
       "      <td>5</td>\n",
       "      <td>4</td>\n",
       "      <td>4</td>\n",
       "      <td>3</td>\n",
       "      <td>3</td>\n",
       "      <td>1</td>\n",
       "      <td>5</td>\n",
       "      <td>4</td>\n",
       "      <td>1</td>\n",
       "      <td>3</td>\n",
       "      <td>2</td>\n",
       "      <td>5</td>\n",
       "      <td>4</td>\n",
       "      <td>3</td>\n",
       "      <td>4</td>\n",
       "      <td>6</td>\n",
       "      <td>5</td>\n",
       "      <td>2</td>\n",
       "      <td>2</td>\n",
       "      <td>1</td>\n",
       "      <td>4</td>\n",
       "      <td>5</td>\n",
       "      <td>2</td>\n",
       "      <td>4</td>\n",
       "      <td>1</td>\n",
       "      <td>2</td>\n",
       "      <td>5</td>\n",
       "    </tr>\n",
       "    <tr>\n",
       "      <th>Confirmation_Time</th>\n",
       "      <td>9:40:10 AM</td>\n",
       "      <td>3:41:30 PM</td>\n",
       "      <td>1:12:49 PM</td>\n",
       "      <td>7:12:29 AM</td>\n",
       "      <td>10:42:24 AM</td>\n",
       "      <td>12:15:51 PM</td>\n",
       "      <td>9:08:57 AM</td>\n",
       "      <td>4:16:19 PM</td>\n",
       "      <td>3:04:38 PM</td>\n",
       "      <td>2:44:37 PM</td>\n",
       "      <td>4:40:48 PM</td>\n",
       "      <td>4:07:45 PM</td>\n",
       "      <td>10:12:59 AM</td>\n",
       "      <td>12:29:27 PM</td>\n",
       "      <td>1:55:33 PM</td>\n",
       "      <td>11:09:51 AM</td>\n",
       "      <td>5:10:12 PM</td>\n",
       "      <td>12:41:29 PM</td>\n",
       "      <td>7:33:21 AM</td>\n",
       "      <td>1:28:54 PM</td>\n",
       "      <td>1:34:11 PM</td>\n",
       "      <td>11:50:47 AM</td>\n",
       "      <td>2:23:49 PM</td>\n",
       "      <td>11:23:21 AM</td>\n",
       "      <td>10:42:39 AM</td>\n",
       "      <td>11:34:25 AM</td>\n",
       "      <td>12:38:57 PM</td>\n",
       "      <td>11:29:07 AM</td>\n",
       "      <td>2:23:00 PM</td>\n",
       "      <td>3:22:57 PM</td>\n",
       "      <td>4:00:32 PM</td>\n",
       "      <td>12:10:22 PM</td>\n",
       "      <td>12:26:30 PM</td>\n",
       "      <td>10:07:03 AM</td>\n",
       "      <td>3:51:57 PM</td>\n",
       "      <td>1:00:55 PM</td>\n",
       "      <td>4:45:31 PM</td>\n",
       "      <td>11:36:05 AM</td>\n",
       "      <td>12:27:37 PM</td>\n",
       "      <td>12:06:27 PM</td>\n",
       "      <td>...</td>\n",
       "      <td>1:45:20 PM</td>\n",
       "      <td>3:25:21 PM</td>\n",
       "      <td>2:40:48 PM</td>\n",
       "      <td>10:59:56 AM</td>\n",
       "      <td>11:30:35 AM</td>\n",
       "      <td>1:14:59 PM</td>\n",
       "      <td>9:37:03 AM</td>\n",
       "      <td>2:44:57 PM</td>\n",
       "      <td>5:44:02 PM</td>\n",
       "      <td>11:28:01 AM</td>\n",
       "      <td>1:07:35 PM</td>\n",
       "      <td>8:40:01 AM</td>\n",
       "      <td>3:56:24 PM</td>\n",
       "      <td>2:05:47 PM</td>\n",
       "      <td>11:08:16 AM</td>\n",
       "      <td>3:47:10 PM</td>\n",
       "      <td>11:31:23 AM</td>\n",
       "      <td>8:32:08 PM</td>\n",
       "      <td>11:27:45 AM</td>\n",
       "      <td>11:14:08 AM</td>\n",
       "      <td>9:47:52 AM</td>\n",
       "      <td>11:31:23 AM</td>\n",
       "      <td>4:07:59 PM</td>\n",
       "      <td>11:48:26 AM</td>\n",
       "      <td>2:23:15 PM</td>\n",
       "      <td>3:23:42 PM</td>\n",
       "      <td>5:00:22 PM</td>\n",
       "      <td>1:03:16 PM</td>\n",
       "      <td>10:51:13 AM</td>\n",
       "      <td>4:22:18 PM</td>\n",
       "      <td>1:19:35 PM</td>\n",
       "      <td>2:19:06 PM</td>\n",
       "      <td>8:57:42 AM</td>\n",
       "      <td>11:11:25 AM</td>\n",
       "      <td>1:38:56 PM</td>\n",
       "      <td>11:32:18 AM</td>\n",
       "      <td>4:47:27 PM</td>\n",
       "      <td>5:11:21 PM</td>\n",
       "      <td>2:32:43 PM</td>\n",
       "      <td>9:51:32 AM</td>\n",
       "    </tr>\n",
       "    <tr>\n",
       "      <th>Arrival_at_Pickup_Day_of_Month</th>\n",
       "      <td>9</td>\n",
       "      <td>18</td>\n",
       "      <td>31</td>\n",
       "      <td>2</td>\n",
       "      <td>22</td>\n",
       "      <td>29</td>\n",
       "      <td>2</td>\n",
       "      <td>19</td>\n",
       "      <td>28</td>\n",
       "      <td>14</td>\n",
       "      <td>16</td>\n",
       "      <td>28</td>\n",
       "      <td>8</td>\n",
       "      <td>2</td>\n",
       "      <td>14</td>\n",
       "      <td>4</td>\n",
       "      <td>9</td>\n",
       "      <td>24</td>\n",
       "      <td>2</td>\n",
       "      <td>25</td>\n",
       "      <td>14</td>\n",
       "      <td>15</td>\n",
       "      <td>17</td>\n",
       "      <td>12</td>\n",
       "      <td>22</td>\n",
       "      <td>15</td>\n",
       "      <td>14</td>\n",
       "      <td>10</td>\n",
       "      <td>4</td>\n",
       "      <td>20</td>\n",
       "      <td>21</td>\n",
       "      <td>14</td>\n",
       "      <td>15</td>\n",
       "      <td>8</td>\n",
       "      <td>7</td>\n",
       "      <td>9</td>\n",
       "      <td>15</td>\n",
       "      <td>31</td>\n",
       "      <td>4</td>\n",
       "      <td>27</td>\n",
       "      <td>...</td>\n",
       "      <td>14</td>\n",
       "      <td>5</td>\n",
       "      <td>7</td>\n",
       "      <td>22</td>\n",
       "      <td>22</td>\n",
       "      <td>15</td>\n",
       "      <td>4</td>\n",
       "      <td>14</td>\n",
       "      <td>25</td>\n",
       "      <td>8</td>\n",
       "      <td>2</td>\n",
       "      <td>11</td>\n",
       "      <td>7</td>\n",
       "      <td>28</td>\n",
       "      <td>28</td>\n",
       "      <td>16</td>\n",
       "      <td>16</td>\n",
       "      <td>23</td>\n",
       "      <td>26</td>\n",
       "      <td>19</td>\n",
       "      <td>12</td>\n",
       "      <td>4</td>\n",
       "      <td>14</td>\n",
       "      <td>26</td>\n",
       "      <td>3</td>\n",
       "      <td>6</td>\n",
       "      <td>10</td>\n",
       "      <td>13</td>\n",
       "      <td>16</td>\n",
       "      <td>24</td>\n",
       "      <td>9</td>\n",
       "      <td>18</td>\n",
       "      <td>18</td>\n",
       "      <td>29</td>\n",
       "      <td>7</td>\n",
       "      <td>13</td>\n",
       "      <td>21</td>\n",
       "      <td>10</td>\n",
       "      <td>29</td>\n",
       "      <td>30</td>\n",
       "    </tr>\n",
       "    <tr>\n",
       "      <th>Arrival_at_Pickup_Weekday</th>\n",
       "      <td>5</td>\n",
       "      <td>5</td>\n",
       "      <td>5</td>\n",
       "      <td>2</td>\n",
       "      <td>2</td>\n",
       "      <td>3</td>\n",
       "      <td>2</td>\n",
       "      <td>5</td>\n",
       "      <td>1</td>\n",
       "      <td>4</td>\n",
       "      <td>3</td>\n",
       "      <td>1</td>\n",
       "      <td>4</td>\n",
       "      <td>2</td>\n",
       "      <td>4</td>\n",
       "      <td>1</td>\n",
       "      <td>5</td>\n",
       "      <td>4</td>\n",
       "      <td>3</td>\n",
       "      <td>5</td>\n",
       "      <td>1</td>\n",
       "      <td>4</td>\n",
       "      <td>3</td>\n",
       "      <td>5</td>\n",
       "      <td>3</td>\n",
       "      <td>5</td>\n",
       "      <td>5</td>\n",
       "      <td>1</td>\n",
       "      <td>2</td>\n",
       "      <td>3</td>\n",
       "      <td>2</td>\n",
       "      <td>4</td>\n",
       "      <td>5</td>\n",
       "      <td>1</td>\n",
       "      <td>2</td>\n",
       "      <td>4</td>\n",
       "      <td>5</td>\n",
       "      <td>5</td>\n",
       "      <td>1</td>\n",
       "      <td>1</td>\n",
       "      <td>...</td>\n",
       "      <td>5</td>\n",
       "      <td>3</td>\n",
       "      <td>2</td>\n",
       "      <td>4</td>\n",
       "      <td>4</td>\n",
       "      <td>4</td>\n",
       "      <td>3</td>\n",
       "      <td>3</td>\n",
       "      <td>5</td>\n",
       "      <td>6</td>\n",
       "      <td>6</td>\n",
       "      <td>3</td>\n",
       "      <td>5</td>\n",
       "      <td>5</td>\n",
       "      <td>4</td>\n",
       "      <td>4</td>\n",
       "      <td>3</td>\n",
       "      <td>3</td>\n",
       "      <td>1</td>\n",
       "      <td>5</td>\n",
       "      <td>4</td>\n",
       "      <td>1</td>\n",
       "      <td>3</td>\n",
       "      <td>2</td>\n",
       "      <td>5</td>\n",
       "      <td>4</td>\n",
       "      <td>3</td>\n",
       "      <td>4</td>\n",
       "      <td>6</td>\n",
       "      <td>5</td>\n",
       "      <td>2</td>\n",
       "      <td>2</td>\n",
       "      <td>1</td>\n",
       "      <td>4</td>\n",
       "      <td>5</td>\n",
       "      <td>2</td>\n",
       "      <td>4</td>\n",
       "      <td>1</td>\n",
       "      <td>2</td>\n",
       "      <td>5</td>\n",
       "    </tr>\n",
       "    <tr>\n",
       "      <th>Arrival_at_Pickup_Time</th>\n",
       "      <td>10:04:47 AM</td>\n",
       "      <td>4:07:16 PM</td>\n",
       "      <td>1:20:02 PM</td>\n",
       "      <td>7:35:24 AM</td>\n",
       "      <td>10:56:00 AM</td>\n",
       "      <td>12:21:54 PM</td>\n",
       "      <td>9:14:25 AM</td>\n",
       "      <td>4:30:34 PM</td>\n",
       "      <td>3:20:45 PM</td>\n",
       "      <td>3:05:00 PM</td>\n",
       "      <td>5:07:46 PM</td>\n",
       "      <td>4:26:42 PM</td>\n",
       "      <td>10:50:06 AM</td>\n",
       "      <td>12:51:17 PM</td>\n",
       "      <td>2:04:15 PM</td>\n",
       "      <td>11:18:56 AM</td>\n",
       "      <td>5:36:26 PM</td>\n",
       "      <td>12:54:28 PM</td>\n",
       "      <td>8:14:04 AM</td>\n",
       "      <td>1:39:06 PM</td>\n",
       "      <td>2:05:18 PM</td>\n",
       "      <td>11:56:17 AM</td>\n",
       "      <td>2:40:08 PM</td>\n",
       "      <td>11:40:22 AM</td>\n",
       "      <td>11:14:29 AM</td>\n",
       "      <td>11:53:40 AM</td>\n",
       "      <td>12:55:09 PM</td>\n",
       "      <td>11:31:53 AM</td>\n",
       "      <td>3:19:37 PM</td>\n",
       "      <td>3:38:33 PM</td>\n",
       "      <td>4:20:41 PM</td>\n",
       "      <td>12:21:58 PM</td>\n",
       "      <td>12:43:23 PM</td>\n",
       "      <td>10:47:03 AM</td>\n",
       "      <td>4:01:46 PM</td>\n",
       "      <td>1:14:45 PM</td>\n",
       "      <td>5:10:05 PM</td>\n",
       "      <td>11:39:31 AM</td>\n",
       "      <td>12:46:23 PM</td>\n",
       "      <td>12:20:52 PM</td>\n",
       "      <td>...</td>\n",
       "      <td>1:59:36 PM</td>\n",
       "      <td>3:28:17 PM</td>\n",
       "      <td>2:41:13 PM</td>\n",
       "      <td>11:04:54 AM</td>\n",
       "      <td>11:39:50 AM</td>\n",
       "      <td>1:28:57 PM</td>\n",
       "      <td>9:54:26 AM</td>\n",
       "      <td>2:48:14 PM</td>\n",
       "      <td>6:07:34 PM</td>\n",
       "      <td>11:29:39 AM</td>\n",
       "      <td>1:35:47 PM</td>\n",
       "      <td>9:13:02 AM</td>\n",
       "      <td>4:12:58 PM</td>\n",
       "      <td>2:29:14 PM</td>\n",
       "      <td>11:40:50 AM</td>\n",
       "      <td>4:04:36 PM</td>\n",
       "      <td>11:46:20 AM</td>\n",
       "      <td>8:47:32 PM</td>\n",
       "      <td>11:31:13 AM</td>\n",
       "      <td>11:20:22 AM</td>\n",
       "      <td>9:48:26 AM</td>\n",
       "      <td>11:58:17 AM</td>\n",
       "      <td>4:18:35 PM</td>\n",
       "      <td>11:56:47 AM</td>\n",
       "      <td>2:34:18 PM</td>\n",
       "      <td>3:32:00 PM</td>\n",
       "      <td>5:15:11 PM</td>\n",
       "      <td>1:10:26 PM</td>\n",
       "      <td>11:07:53 AM</td>\n",
       "      <td>4:37:13 PM</td>\n",
       "      <td>1:48:54 PM</td>\n",
       "      <td>2:19:16 PM</td>\n",
       "      <td>9:21:22 AM</td>\n",
       "      <td>11:52:57 AM</td>\n",
       "      <td>2:05:22 PM</td>\n",
       "      <td>11:49:32 AM</td>\n",
       "      <td>4:53:01 PM</td>\n",
       "      <td>6:01:04 PM</td>\n",
       "      <td>2:45:25 PM</td>\n",
       "      <td>9:52:56 AM</td>\n",
       "    </tr>\n",
       "    <tr>\n",
       "      <th>Pickup_Day_of_Month</th>\n",
       "      <td>9</td>\n",
       "      <td>18</td>\n",
       "      <td>31</td>\n",
       "      <td>2</td>\n",
       "      <td>22</td>\n",
       "      <td>29</td>\n",
       "      <td>2</td>\n",
       "      <td>19</td>\n",
       "      <td>28</td>\n",
       "      <td>14</td>\n",
       "      <td>16</td>\n",
       "      <td>28</td>\n",
       "      <td>8</td>\n",
       "      <td>2</td>\n",
       "      <td>14</td>\n",
       "      <td>4</td>\n",
       "      <td>9</td>\n",
       "      <td>24</td>\n",
       "      <td>2</td>\n",
       "      <td>25</td>\n",
       "      <td>14</td>\n",
       "      <td>15</td>\n",
       "      <td>17</td>\n",
       "      <td>12</td>\n",
       "      <td>22</td>\n",
       "      <td>15</td>\n",
       "      <td>14</td>\n",
       "      <td>10</td>\n",
       "      <td>4</td>\n",
       "      <td>20</td>\n",
       "      <td>21</td>\n",
       "      <td>14</td>\n",
       "      <td>15</td>\n",
       "      <td>8</td>\n",
       "      <td>7</td>\n",
       "      <td>9</td>\n",
       "      <td>15</td>\n",
       "      <td>31</td>\n",
       "      <td>4</td>\n",
       "      <td>27</td>\n",
       "      <td>...</td>\n",
       "      <td>14</td>\n",
       "      <td>5</td>\n",
       "      <td>7</td>\n",
       "      <td>22</td>\n",
       "      <td>22</td>\n",
       "      <td>15</td>\n",
       "      <td>4</td>\n",
       "      <td>14</td>\n",
       "      <td>25</td>\n",
       "      <td>8</td>\n",
       "      <td>2</td>\n",
       "      <td>11</td>\n",
       "      <td>7</td>\n",
       "      <td>28</td>\n",
       "      <td>28</td>\n",
       "      <td>16</td>\n",
       "      <td>16</td>\n",
       "      <td>23</td>\n",
       "      <td>26</td>\n",
       "      <td>19</td>\n",
       "      <td>12</td>\n",
       "      <td>4</td>\n",
       "      <td>14</td>\n",
       "      <td>26</td>\n",
       "      <td>3</td>\n",
       "      <td>6</td>\n",
       "      <td>10</td>\n",
       "      <td>13</td>\n",
       "      <td>16</td>\n",
       "      <td>24</td>\n",
       "      <td>9</td>\n",
       "      <td>18</td>\n",
       "      <td>18</td>\n",
       "      <td>29</td>\n",
       "      <td>7</td>\n",
       "      <td>13</td>\n",
       "      <td>21</td>\n",
       "      <td>10</td>\n",
       "      <td>29</td>\n",
       "      <td>30</td>\n",
       "    </tr>\n",
       "    <tr>\n",
       "      <th>Pickup_Weekday</th>\n",
       "      <td>5</td>\n",
       "      <td>5</td>\n",
       "      <td>5</td>\n",
       "      <td>2</td>\n",
       "      <td>2</td>\n",
       "      <td>3</td>\n",
       "      <td>2</td>\n",
       "      <td>5</td>\n",
       "      <td>1</td>\n",
       "      <td>4</td>\n",
       "      <td>3</td>\n",
       "      <td>1</td>\n",
       "      <td>4</td>\n",
       "      <td>2</td>\n",
       "      <td>4</td>\n",
       "      <td>1</td>\n",
       "      <td>5</td>\n",
       "      <td>4</td>\n",
       "      <td>3</td>\n",
       "      <td>5</td>\n",
       "      <td>1</td>\n",
       "      <td>4</td>\n",
       "      <td>3</td>\n",
       "      <td>5</td>\n",
       "      <td>3</td>\n",
       "      <td>5</td>\n",
       "      <td>5</td>\n",
       "      <td>1</td>\n",
       "      <td>2</td>\n",
       "      <td>3</td>\n",
       "      <td>2</td>\n",
       "      <td>4</td>\n",
       "      <td>5</td>\n",
       "      <td>1</td>\n",
       "      <td>2</td>\n",
       "      <td>4</td>\n",
       "      <td>5</td>\n",
       "      <td>5</td>\n",
       "      <td>1</td>\n",
       "      <td>1</td>\n",
       "      <td>...</td>\n",
       "      <td>5</td>\n",
       "      <td>3</td>\n",
       "      <td>2</td>\n",
       "      <td>4</td>\n",
       "      <td>4</td>\n",
       "      <td>4</td>\n",
       "      <td>3</td>\n",
       "      <td>3</td>\n",
       "      <td>5</td>\n",
       "      <td>6</td>\n",
       "      <td>6</td>\n",
       "      <td>3</td>\n",
       "      <td>5</td>\n",
       "      <td>5</td>\n",
       "      <td>4</td>\n",
       "      <td>4</td>\n",
       "      <td>3</td>\n",
       "      <td>3</td>\n",
       "      <td>1</td>\n",
       "      <td>5</td>\n",
       "      <td>4</td>\n",
       "      <td>1</td>\n",
       "      <td>3</td>\n",
       "      <td>2</td>\n",
       "      <td>5</td>\n",
       "      <td>4</td>\n",
       "      <td>3</td>\n",
       "      <td>4</td>\n",
       "      <td>6</td>\n",
       "      <td>5</td>\n",
       "      <td>2</td>\n",
       "      <td>2</td>\n",
       "      <td>1</td>\n",
       "      <td>4</td>\n",
       "      <td>5</td>\n",
       "      <td>2</td>\n",
       "      <td>4</td>\n",
       "      <td>1</td>\n",
       "      <td>2</td>\n",
       "      <td>5</td>\n",
       "    </tr>\n",
       "    <tr>\n",
       "      <th>Pickup_Time</th>\n",
       "      <td>10:27:30 AM</td>\n",
       "      <td>4:13:37 PM</td>\n",
       "      <td>1:33:08 PM</td>\n",
       "      <td>7:38:46 AM</td>\n",
       "      <td>10:59:40 AM</td>\n",
       "      <td>12:25:10 PM</td>\n",
       "      <td>9:37:47 AM</td>\n",
       "      <td>4:39:21 PM</td>\n",
       "      <td>3:32:26 PM</td>\n",
       "      <td>3:28:59 PM</td>\n",
       "      <td>5:10:35 PM</td>\n",
       "      <td>4:35:55 PM</td>\n",
       "      <td>10:51:39 AM</td>\n",
       "      <td>12:53:33 PM</td>\n",
       "      <td>2:11:23 PM</td>\n",
       "      <td>11:25:46 AM</td>\n",
       "      <td>5:40:14 PM</td>\n",
       "      <td>12:56:37 PM</td>\n",
       "      <td>8:16:28 AM</td>\n",
       "      <td>1:46:10 PM</td>\n",
       "      <td>2:06:25 PM</td>\n",
       "      <td>11:58:03 AM</td>\n",
       "      <td>3:35:56 PM</td>\n",
       "      <td>11:44:09 AM</td>\n",
       "      <td>11:15:38 AM</td>\n",
       "      <td>12:06:28 PM</td>\n",
       "      <td>12:59:33 PM</td>\n",
       "      <td>12:01:17 PM</td>\n",
       "      <td>3:28:33 PM</td>\n",
       "      <td>3:42:17 PM</td>\n",
       "      <td>5:16:18 PM</td>\n",
       "      <td>12:44:50 PM</td>\n",
       "      <td>12:50:41 PM</td>\n",
       "      <td>11:10:33 AM</td>\n",
       "      <td>4:19:08 PM</td>\n",
       "      <td>1:24:15 PM</td>\n",
       "      <td>5:13:01 PM</td>\n",
       "      <td>11:50:57 AM</td>\n",
       "      <td>12:58:42 PM</td>\n",
       "      <td>12:50:55 PM</td>\n",
       "      <td>...</td>\n",
       "      <td>2:09:41 PM</td>\n",
       "      <td>3:52:12 PM</td>\n",
       "      <td>2:44:15 PM</td>\n",
       "      <td>11:08:29 AM</td>\n",
       "      <td>11:41:16 AM</td>\n",
       "      <td>1:35:02 PM</td>\n",
       "      <td>10:14:17 AM</td>\n",
       "      <td>2:49:26 PM</td>\n",
       "      <td>6:37:07 PM</td>\n",
       "      <td>12:16:26 PM</td>\n",
       "      <td>1:50:40 PM</td>\n",
       "      <td>9:27:36 AM</td>\n",
       "      <td>4:15:10 PM</td>\n",
       "      <td>2:37:49 PM</td>\n",
       "      <td>11:42:56 AM</td>\n",
       "      <td>4:31:24 PM</td>\n",
       "      <td>12:16:40 PM</td>\n",
       "      <td>8:50:05 PM</td>\n",
       "      <td>11:49:05 AM</td>\n",
       "      <td>11:55:32 AM</td>\n",
       "      <td>9:56:01 AM</td>\n",
       "      <td>12:05:06 PM</td>\n",
       "      <td>4:28:01 PM</td>\n",
       "      <td>11:59:35 AM</td>\n",
       "      <td>2:40:54 PM</td>\n",
       "      <td>3:33:55 PM</td>\n",
       "      <td>5:19:44 PM</td>\n",
       "      <td>1:25:56 PM</td>\n",
       "      <td>11:18:10 AM</td>\n",
       "      <td>4:38:33 PM</td>\n",
       "      <td>2:00:21 PM</td>\n",
       "      <td>2:21:40 PM</td>\n",
       "      <td>9:25:43 AM</td>\n",
       "      <td>12:33:19 PM</td>\n",
       "      <td>2:08:05 PM</td>\n",
       "      <td>11:52:48 AM</td>\n",
       "      <td>5:10:53 PM</td>\n",
       "      <td>6:07:17 PM</td>\n",
       "      <td>2:48:23 PM</td>\n",
       "      <td>9:59:31 AM</td>\n",
       "    </tr>\n",
       "    <tr>\n",
       "      <th>Arrival_at_Destination_Day_of_Month</th>\n",
       "      <td>9</td>\n",
       "      <td>18</td>\n",
       "      <td>31</td>\n",
       "      <td>2</td>\n",
       "      <td>22</td>\n",
       "      <td>29</td>\n",
       "      <td>2</td>\n",
       "      <td>19</td>\n",
       "      <td>28</td>\n",
       "      <td>14</td>\n",
       "      <td>16</td>\n",
       "      <td>28</td>\n",
       "      <td>8</td>\n",
       "      <td>2</td>\n",
       "      <td>14</td>\n",
       "      <td>4</td>\n",
       "      <td>9</td>\n",
       "      <td>24</td>\n",
       "      <td>2</td>\n",
       "      <td>25</td>\n",
       "      <td>14</td>\n",
       "      <td>15</td>\n",
       "      <td>17</td>\n",
       "      <td>12</td>\n",
       "      <td>22</td>\n",
       "      <td>15</td>\n",
       "      <td>14</td>\n",
       "      <td>10</td>\n",
       "      <td>4</td>\n",
       "      <td>20</td>\n",
       "      <td>21</td>\n",
       "      <td>14</td>\n",
       "      <td>15</td>\n",
       "      <td>8</td>\n",
       "      <td>7</td>\n",
       "      <td>9</td>\n",
       "      <td>15</td>\n",
       "      <td>31</td>\n",
       "      <td>4</td>\n",
       "      <td>27</td>\n",
       "      <td>...</td>\n",
       "      <td>14</td>\n",
       "      <td>5</td>\n",
       "      <td>7</td>\n",
       "      <td>22</td>\n",
       "      <td>22</td>\n",
       "      <td>15</td>\n",
       "      <td>4</td>\n",
       "      <td>14</td>\n",
       "      <td>25</td>\n",
       "      <td>8</td>\n",
       "      <td>2</td>\n",
       "      <td>11</td>\n",
       "      <td>7</td>\n",
       "      <td>28</td>\n",
       "      <td>28</td>\n",
       "      <td>16</td>\n",
       "      <td>16</td>\n",
       "      <td>23</td>\n",
       "      <td>26</td>\n",
       "      <td>19</td>\n",
       "      <td>12</td>\n",
       "      <td>4</td>\n",
       "      <td>14</td>\n",
       "      <td>26</td>\n",
       "      <td>3</td>\n",
       "      <td>6</td>\n",
       "      <td>10</td>\n",
       "      <td>13</td>\n",
       "      <td>16</td>\n",
       "      <td>24</td>\n",
       "      <td>9</td>\n",
       "      <td>18</td>\n",
       "      <td>18</td>\n",
       "      <td>29</td>\n",
       "      <td>7</td>\n",
       "      <td>13</td>\n",
       "      <td>21</td>\n",
       "      <td>10</td>\n",
       "      <td>29</td>\n",
       "      <td>30</td>\n",
       "    </tr>\n",
       "    <tr>\n",
       "      <th>Arrival_at_Destination_Weekday</th>\n",
       "      <td>5</td>\n",
       "      <td>5</td>\n",
       "      <td>5</td>\n",
       "      <td>2</td>\n",
       "      <td>2</td>\n",
       "      <td>3</td>\n",
       "      <td>2</td>\n",
       "      <td>5</td>\n",
       "      <td>1</td>\n",
       "      <td>4</td>\n",
       "      <td>3</td>\n",
       "      <td>1</td>\n",
       "      <td>4</td>\n",
       "      <td>2</td>\n",
       "      <td>4</td>\n",
       "      <td>1</td>\n",
       "      <td>5</td>\n",
       "      <td>4</td>\n",
       "      <td>3</td>\n",
       "      <td>5</td>\n",
       "      <td>1</td>\n",
       "      <td>4</td>\n",
       "      <td>3</td>\n",
       "      <td>5</td>\n",
       "      <td>3</td>\n",
       "      <td>5</td>\n",
       "      <td>5</td>\n",
       "      <td>1</td>\n",
       "      <td>2</td>\n",
       "      <td>3</td>\n",
       "      <td>2</td>\n",
       "      <td>4</td>\n",
       "      <td>5</td>\n",
       "      <td>1</td>\n",
       "      <td>2</td>\n",
       "      <td>4</td>\n",
       "      <td>5</td>\n",
       "      <td>5</td>\n",
       "      <td>1</td>\n",
       "      <td>1</td>\n",
       "      <td>...</td>\n",
       "      <td>5</td>\n",
       "      <td>3</td>\n",
       "      <td>2</td>\n",
       "      <td>4</td>\n",
       "      <td>4</td>\n",
       "      <td>4</td>\n",
       "      <td>3</td>\n",
       "      <td>3</td>\n",
       "      <td>5</td>\n",
       "      <td>6</td>\n",
       "      <td>6</td>\n",
       "      <td>3</td>\n",
       "      <td>5</td>\n",
       "      <td>5</td>\n",
       "      <td>4</td>\n",
       "      <td>4</td>\n",
       "      <td>3</td>\n",
       "      <td>3</td>\n",
       "      <td>1</td>\n",
       "      <td>5</td>\n",
       "      <td>4</td>\n",
       "      <td>1</td>\n",
       "      <td>3</td>\n",
       "      <td>2</td>\n",
       "      <td>5</td>\n",
       "      <td>4</td>\n",
       "      <td>3</td>\n",
       "      <td>4</td>\n",
       "      <td>6</td>\n",
       "      <td>5</td>\n",
       "      <td>2</td>\n",
       "      <td>2</td>\n",
       "      <td>1</td>\n",
       "      <td>4</td>\n",
       "      <td>5</td>\n",
       "      <td>2</td>\n",
       "      <td>4</td>\n",
       "      <td>1</td>\n",
       "      <td>2</td>\n",
       "      <td>5</td>\n",
       "    </tr>\n",
       "    <tr>\n",
       "      <th>Arrival_at_Destination_Time</th>\n",
       "      <td>10:39:55 AM</td>\n",
       "      <td>5:01:43 PM</td>\n",
       "      <td>2:16:43 PM</td>\n",
       "      <td>8:28:32 AM</td>\n",
       "      <td>11:26:22 AM</td>\n",
       "      <td>1:03:43 PM</td>\n",
       "      <td>10:05:05 AM</td>\n",
       "      <td>5:10:58 PM</td>\n",
       "      <td>4:00:44 PM</td>\n",
       "      <td>4:13:52 PM</td>\n",
       "      <td>5:52:02 PM</td>\n",
       "      <td>4:44:42 PM</td>\n",
       "      <td>11:15:01 AM</td>\n",
       "      <td>1:23:46 PM</td>\n",
       "      <td>2:29:03 PM</td>\n",
       "      <td>11:42:40 AM</td>\n",
       "      <td>5:53:41 PM</td>\n",
       "      <td>1:10:04 PM</td>\n",
       "      <td>8:36:07 AM</td>\n",
       "      <td>2:25:23 PM</td>\n",
       "      <td>2:30:10 PM</td>\n",
       "      <td>12:26:15 PM</td>\n",
       "      <td>4:03:55 PM</td>\n",
       "      <td>12:17:22 PM</td>\n",
       "      <td>11:51:02 AM</td>\n",
       "      <td>12:56:22 PM</td>\n",
       "      <td>1:54:42 PM</td>\n",
       "      <td>12:21:15 PM</td>\n",
       "      <td>4:05:07 PM</td>\n",
       "      <td>4:13:33 PM</td>\n",
       "      <td>5:16:20 PM</td>\n",
       "      <td>12:59:53 PM</td>\n",
       "      <td>1:24:51 PM</td>\n",
       "      <td>11:46:47 AM</td>\n",
       "      <td>4:35:17 PM</td>\n",
       "      <td>1:50:49 PM</td>\n",
       "      <td>5:52:52 PM</td>\n",
       "      <td>12:24:08 PM</td>\n",
       "      <td>1:31:56 PM</td>\n",
       "      <td>1:12:21 PM</td>\n",
       "      <td>...</td>\n",
       "      <td>2:33:36 PM</td>\n",
       "      <td>4:24:25 PM</td>\n",
       "      <td>2:58:40 PM</td>\n",
       "      <td>11:17:37 AM</td>\n",
       "      <td>11:57:41 AM</td>\n",
       "      <td>2:41:05 PM</td>\n",
       "      <td>10:49:32 AM</td>\n",
       "      <td>3:20:07 PM</td>\n",
       "      <td>7:03:04 PM</td>\n",
       "      <td>12:34:59 PM</td>\n",
       "      <td>2:36:18 PM</td>\n",
       "      <td>10:21:28 AM</td>\n",
       "      <td>4:42:28 PM</td>\n",
       "      <td>3:13:00 PM</td>\n",
       "      <td>12:01:17 PM</td>\n",
       "      <td>5:45:51 PM</td>\n",
       "      <td>1:09:13 PM</td>\n",
       "      <td>9:20:25 PM</td>\n",
       "      <td>12:15:23 PM</td>\n",
       "      <td>12:17:45 PM</td>\n",
       "      <td>10:32:25 AM</td>\n",
       "      <td>12:28:19 PM</td>\n",
       "      <td>4:47:29 PM</td>\n",
       "      <td>12:21:32 PM</td>\n",
       "      <td>2:51:00 PM</td>\n",
       "      <td>3:53:42 PM</td>\n",
       "      <td>5:37:17 PM</td>\n",
       "      <td>2:16:37 PM</td>\n",
       "      <td>11:51:09 AM</td>\n",
       "      <td>5:53:48 PM</td>\n",
       "      <td>2:14:23 PM</td>\n",
       "      <td>2:45:29 PM</td>\n",
       "      <td>9:41:32 AM</td>\n",
       "      <td>12:39:14 PM</td>\n",
       "      <td>2:42:42 PM</td>\n",
       "      <td>12:08:07 PM</td>\n",
       "      <td>5:49:44 PM</td>\n",
       "      <td>6:47:35 PM</td>\n",
       "      <td>3:00:20 PM</td>\n",
       "      <td>10:26:58 AM</td>\n",
       "    </tr>\n",
       "    <tr>\n",
       "      <th>Distance</th>\n",
       "      <td>4</td>\n",
       "      <td>20</td>\n",
       "      <td>6</td>\n",
       "      <td>18</td>\n",
       "      <td>7</td>\n",
       "      <td>26</td>\n",
       "      <td>8</td>\n",
       "      <td>7</td>\n",
       "      <td>11</td>\n",
       "      <td>12</td>\n",
       "      <td>10</td>\n",
       "      <td>3</td>\n",
       "      <td>6</td>\n",
       "      <td>14</td>\n",
       "      <td>4</td>\n",
       "      <td>5</td>\n",
       "      <td>2</td>\n",
       "      <td>7</td>\n",
       "      <td>3</td>\n",
       "      <td>14</td>\n",
       "      <td>7</td>\n",
       "      <td>12</td>\n",
       "      <td>6</td>\n",
       "      <td>16</td>\n",
       "      <td>24</td>\n",
       "      <td>18</td>\n",
       "      <td>18</td>\n",
       "      <td>9</td>\n",
       "      <td>12</td>\n",
       "      <td>13</td>\n",
       "      <td>22</td>\n",
       "      <td>5</td>\n",
       "      <td>13</td>\n",
       "      <td>20</td>\n",
       "      <td>7</td>\n",
       "      <td>12</td>\n",
       "      <td>18</td>\n",
       "      <td>11</td>\n",
       "      <td>20</td>\n",
       "      <td>14</td>\n",
       "      <td>...</td>\n",
       "      <td>12</td>\n",
       "      <td>15</td>\n",
       "      <td>5</td>\n",
       "      <td>3</td>\n",
       "      <td>5</td>\n",
       "      <td>20</td>\n",
       "      <td>18</td>\n",
       "      <td>21</td>\n",
       "      <td>18</td>\n",
       "      <td>17</td>\n",
       "      <td>21</td>\n",
       "      <td>34</td>\n",
       "      <td>6</td>\n",
       "      <td>22</td>\n",
       "      <td>10</td>\n",
       "      <td>15</td>\n",
       "      <td>13</td>\n",
       "      <td>16</td>\n",
       "      <td>8</td>\n",
       "      <td>11</td>\n",
       "      <td>14</td>\n",
       "      <td>12</td>\n",
       "      <td>2</td>\n",
       "      <td>4</td>\n",
       "      <td>2</td>\n",
       "      <td>13</td>\n",
       "      <td>7</td>\n",
       "      <td>16</td>\n",
       "      <td>7</td>\n",
       "      <td>6</td>\n",
       "      <td>9</td>\n",
       "      <td>3</td>\n",
       "      <td>17</td>\n",
       "      <td>15</td>\n",
       "      <td>12</td>\n",
       "      <td>3</td>\n",
       "      <td>6</td>\n",
       "      <td>7</td>\n",
       "      <td>2</td>\n",
       "      <td>10</td>\n",
       "    </tr>\n",
       "    <tr>\n",
       "      <th>Temperature</th>\n",
       "      <td>20.4</td>\n",
       "      <td>24.5</td>\n",
       "      <td>24.7</td>\n",
       "      <td>15.2</td>\n",
       "      <td>19.2</td>\n",
       "      <td>23.2589</td>\n",
       "      <td>15.2</td>\n",
       "      <td>24.5</td>\n",
       "      <td>24.3</td>\n",
       "      <td>27.5</td>\n",
       "      <td>19.9</td>\n",
       "      <td>22.4</td>\n",
       "      <td>26.4</td>\n",
       "      <td>20.8</td>\n",
       "      <td>27.7</td>\n",
       "      <td>25.4</td>\n",
       "      <td>25</td>\n",
       "      <td>24.3</td>\n",
       "      <td>18.1</td>\n",
       "      <td>23.3</td>\n",
       "      <td>25.5</td>\n",
       "      <td>24.3</td>\n",
       "      <td>28.5</td>\n",
       "      <td>26.4</td>\n",
       "      <td>23.3</td>\n",
       "      <td>25.8</td>\n",
       "      <td>21.8</td>\n",
       "      <td>18.3</td>\n",
       "      <td>22.4</td>\n",
       "      <td>28.3</td>\n",
       "      <td>23.9</td>\n",
       "      <td>23.9</td>\n",
       "      <td>26.3</td>\n",
       "      <td>27.9</td>\n",
       "      <td>23.2589</td>\n",
       "      <td>23.2589</td>\n",
       "      <td>27.8</td>\n",
       "      <td>21.5</td>\n",
       "      <td>25.5</td>\n",
       "      <td>20.7</td>\n",
       "      <td>...</td>\n",
       "      <td>22.9</td>\n",
       "      <td>23.7</td>\n",
       "      <td>25</td>\n",
       "      <td>22.8</td>\n",
       "      <td>22.4</td>\n",
       "      <td>27.7</td>\n",
       "      <td>14.9</td>\n",
       "      <td>25.6</td>\n",
       "      <td>21</td>\n",
       "      <td>22.2</td>\n",
       "      <td>24.1</td>\n",
       "      <td>15.4</td>\n",
       "      <td>23.2589</td>\n",
       "      <td>25.2</td>\n",
       "      <td>28</td>\n",
       "      <td>19.1</td>\n",
       "      <td>23.9</td>\n",
       "      <td>21.3</td>\n",
       "      <td>23.1</td>\n",
       "      <td>25</td>\n",
       "      <td>16.2</td>\n",
       "      <td>26.4</td>\n",
       "      <td>25.7</td>\n",
       "      <td>23.2589</td>\n",
       "      <td>23.2589</td>\n",
       "      <td>21.3</td>\n",
       "      <td>27.3</td>\n",
       "      <td>22.1</td>\n",
       "      <td>25.9</td>\n",
       "      <td>20.1</td>\n",
       "      <td>30.7</td>\n",
       "      <td>25.4</td>\n",
       "      <td>21.3</td>\n",
       "      <td>21.5</td>\n",
       "      <td>23.2589</td>\n",
       "      <td>22.2</td>\n",
       "      <td>19.9</td>\n",
       "      <td>19</td>\n",
       "      <td>27</td>\n",
       "      <td>19.1</td>\n",
       "    </tr>\n",
       "    <tr>\n",
       "      <th>Precipitation</th>\n",
       "      <td>0</td>\n",
       "      <td>0</td>\n",
       "      <td>0</td>\n",
       "      <td>0</td>\n",
       "      <td>0</td>\n",
       "      <td>0</td>\n",
       "      <td>0</td>\n",
       "      <td>0</td>\n",
       "      <td>0</td>\n",
       "      <td>0</td>\n",
       "      <td>0</td>\n",
       "      <td>0</td>\n",
       "      <td>0</td>\n",
       "      <td>0</td>\n",
       "      <td>0</td>\n",
       "      <td>0</td>\n",
       "      <td>0</td>\n",
       "      <td>0</td>\n",
       "      <td>1.1</td>\n",
       "      <td>0</td>\n",
       "      <td>0</td>\n",
       "      <td>0</td>\n",
       "      <td>0</td>\n",
       "      <td>0</td>\n",
       "      <td>0</td>\n",
       "      <td>0</td>\n",
       "      <td>0</td>\n",
       "      <td>0</td>\n",
       "      <td>0</td>\n",
       "      <td>0</td>\n",
       "      <td>0</td>\n",
       "      <td>0</td>\n",
       "      <td>0</td>\n",
       "      <td>0</td>\n",
       "      <td>0</td>\n",
       "      <td>0</td>\n",
       "      <td>0</td>\n",
       "      <td>0</td>\n",
       "      <td>0</td>\n",
       "      <td>0</td>\n",
       "      <td>...</td>\n",
       "      <td>0</td>\n",
       "      <td>0</td>\n",
       "      <td>0</td>\n",
       "      <td>0</td>\n",
       "      <td>0</td>\n",
       "      <td>0</td>\n",
       "      <td>0</td>\n",
       "      <td>0</td>\n",
       "      <td>0</td>\n",
       "      <td>0</td>\n",
       "      <td>0</td>\n",
       "      <td>1.1</td>\n",
       "      <td>0</td>\n",
       "      <td>0</td>\n",
       "      <td>0</td>\n",
       "      <td>0</td>\n",
       "      <td>0</td>\n",
       "      <td>0</td>\n",
       "      <td>0</td>\n",
       "      <td>0</td>\n",
       "      <td>0</td>\n",
       "      <td>0</td>\n",
       "      <td>0</td>\n",
       "      <td>0</td>\n",
       "      <td>0</td>\n",
       "      <td>0</td>\n",
       "      <td>0</td>\n",
       "      <td>0</td>\n",
       "      <td>0</td>\n",
       "      <td>0</td>\n",
       "      <td>0</td>\n",
       "      <td>0</td>\n",
       "      <td>0</td>\n",
       "      <td>0</td>\n",
       "      <td>0</td>\n",
       "      <td>0</td>\n",
       "      <td>0</td>\n",
       "      <td>0</td>\n",
       "      <td>0</td>\n",
       "      <td>0</td>\n",
       "    </tr>\n",
       "    <tr>\n",
       "      <th>Pickup_Lat</th>\n",
       "      <td>-1.31775</td>\n",
       "      <td>-1.32677</td>\n",
       "      <td>-1.25519</td>\n",
       "      <td>-1.29031</td>\n",
       "      <td>-1.27352</td>\n",
       "      <td>-1.26743</td>\n",
       "      <td>-1.22689</td>\n",
       "      <td>-1.25628</td>\n",
       "      <td>-1.27952</td>\n",
       "      <td>-1.25519</td>\n",
       "      <td>-1.26269</td>\n",
       "      <td>-1.30779</td>\n",
       "      <td>-1.25742</td>\n",
       "      <td>-1.28487</td>\n",
       "      <td>-1.25519</td>\n",
       "      <td>-1.28577</td>\n",
       "      <td>-1.26159</td>\n",
       "      <td>-1.30473</td>\n",
       "      <td>-1.26766</td>\n",
       "      <td>-1.31775</td>\n",
       "      <td>-1.28797</td>\n",
       "      <td>-1.2681</td>\n",
       "      <td>-1.27381</td>\n",
       "      <td>-1.35145</td>\n",
       "      <td>-1.32449</td>\n",
       "      <td>-1.33935</td>\n",
       "      <td>-1.32943</td>\n",
       "      <td>-1.32855</td>\n",
       "      <td>-1.26627</td>\n",
       "      <td>-1.32102</td>\n",
       "      <td>-1.32449</td>\n",
       "      <td>-1.31671</td>\n",
       "      <td>-1.26795</td>\n",
       "      <td>-1.35334</td>\n",
       "      <td>-1.26738</td>\n",
       "      <td>-1.22843</td>\n",
       "      <td>-1.31893</td>\n",
       "      <td>-1.33231</td>\n",
       "      <td>-1.32477</td>\n",
       "      <td>-1.32619</td>\n",
       "      <td>...</td>\n",
       "      <td>-1.31806</td>\n",
       "      <td>-1.26968</td>\n",
       "      <td>-1.26684</td>\n",
       "      <td>-1.30403</td>\n",
       "      <td>-1.29802</td>\n",
       "      <td>-1.30195</td>\n",
       "      <td>-1.3234</td>\n",
       "      <td>-1.35624</td>\n",
       "      <td>-1.32712</td>\n",
       "      <td>-1.31727</td>\n",
       "      <td>-1.3286</td>\n",
       "      <td>-1.32569</td>\n",
       "      <td>-1.22966</td>\n",
       "      <td>-1.36322</td>\n",
       "      <td>-1.22858</td>\n",
       "      <td>-1.28688</td>\n",
       "      <td>-1.35624</td>\n",
       "      <td>-1.2966</td>\n",
       "      <td>-1.30145</td>\n",
       "      <td>-1.32071</td>\n",
       "      <td>-1.31775</td>\n",
       "      <td>-1.32929</td>\n",
       "      <td>-1.25519</td>\n",
       "      <td>-1.26037</td>\n",
       "      <td>-1.26684</td>\n",
       "      <td>-1.27306</td>\n",
       "      <td>-1.25363</td>\n",
       "      <td>-1.3036</td>\n",
       "      <td>-1.28368</td>\n",
       "      <td>-1.27306</td>\n",
       "      <td>-1.22966</td>\n",
       "      <td>-1.29631</td>\n",
       "      <td>-1.32545</td>\n",
       "      <td>-1.3303</td>\n",
       "      <td>-1.27847</td>\n",
       "      <td>-1.265</td>\n",
       "      <td>-1.26961</td>\n",
       "      <td>-1.25082</td>\n",
       "      <td>-1.29179</td>\n",
       "      <td>-1.24828</td>\n",
       "    </tr>\n",
       "    <tr>\n",
       "      <th>Pickup_Long</th>\n",
       "      <td>36.8304</td>\n",
       "      <td>36.7878</td>\n",
       "      <td>36.7822</td>\n",
       "      <td>36.7574</td>\n",
       "      <td>36.7992</td>\n",
       "      <td>36.7871</td>\n",
       "      <td>36.8074</td>\n",
       "      <td>36.8076</td>\n",
       "      <td>36.8168</td>\n",
       "      <td>36.7822</td>\n",
       "      <td>36.7827</td>\n",
       "      <td>36.8443</td>\n",
       "      <td>36.7927</td>\n",
       "      <td>36.7905</td>\n",
       "      <td>36.7822</td>\n",
       "      <td>36.7876</td>\n",
       "      <td>36.7929</td>\n",
       "      <td>36.7846</td>\n",
       "      <td>36.8018</td>\n",
       "      <td>36.8304</td>\n",
       "      <td>36.8203</td>\n",
       "      <td>36.7952</td>\n",
       "      <td>36.8403</td>\n",
       "      <td>36.8993</td>\n",
       "      <td>36.8978</td>\n",
       "      <td>36.891</td>\n",
       "      <td>36.8942</td>\n",
       "      <td>36.9018</td>\n",
       "      <td>36.8151</td>\n",
       "      <td>36.8411</td>\n",
       "      <td>36.8978</td>\n",
       "      <td>36.8302</td>\n",
       "      <td>36.8095</td>\n",
       "      <td>36.9079</td>\n",
       "      <td>36.8082</td>\n",
       "      <td>36.8757</td>\n",
       "      <td>36.8617</td>\n",
       "      <td>36.8693</td>\n",
       "      <td>36.858</td>\n",
       "      <td>36.8602</td>\n",
       "      <td>...</td>\n",
       "      <td>36.8493</td>\n",
       "      <td>36.864</td>\n",
       "      <td>36.7992</td>\n",
       "      <td>36.7849</td>\n",
       "      <td>36.7886</td>\n",
       "      <td>36.7885</td>\n",
       "      <td>36.8563</td>\n",
       "      <td>36.9043</td>\n",
       "      <td>36.8952</td>\n",
       "      <td>36.8661</td>\n",
       "      <td>36.9037</td>\n",
       "      <td>36.8748</td>\n",
       "      <td>36.8438</td>\n",
       "      <td>36.9108</td>\n",
       "      <td>36.8826</td>\n",
       "      <td>36.8284</td>\n",
       "      <td>36.9043</td>\n",
       "      <td>36.763</td>\n",
       "      <td>36.7661</td>\n",
       "      <td>36.8306</td>\n",
       "      <td>36.8304</td>\n",
       "      <td>36.8868</td>\n",
       "      <td>36.7822</td>\n",
       "      <td>36.7893</td>\n",
       "      <td>36.7992</td>\n",
       "      <td>36.8113</td>\n",
       "      <td>36.7988</td>\n",
       "      <td>36.7784</td>\n",
       "      <td>36.8307</td>\n",
       "      <td>36.8113</td>\n",
       "      <td>36.8438</td>\n",
       "      <td>36.7688</td>\n",
       "      <td>36.7217</td>\n",
       "      <td>36.8708</td>\n",
       "      <td>36.7557</td>\n",
       "      <td>36.8126</td>\n",
       "      <td>36.8257</td>\n",
       "      <td>36.7895</td>\n",
       "      <td>36.7873</td>\n",
       "      <td>36.8841</td>\n",
       "    </tr>\n",
       "    <tr>\n",
       "      <th>Destination_Lat</th>\n",
       "      <td>-1.30041</td>\n",
       "      <td>-1.35624</td>\n",
       "      <td>-1.27341</td>\n",
       "      <td>-1.22352</td>\n",
       "      <td>-1.30043</td>\n",
       "      <td>-1.34364</td>\n",
       "      <td>-1.2591</td>\n",
       "      <td>-1.29814</td>\n",
       "      <td>-1.32813</td>\n",
       "      <td>-1.26132</td>\n",
       "      <td>-1.30902</td>\n",
       "      <td>-1.30907</td>\n",
       "      <td>-1.27707</td>\n",
       "      <td>-1.22972</td>\n",
       "      <td>-1.27385</td>\n",
       "      <td>-1.29967</td>\n",
       "      <td>-1.2528</td>\n",
       "      <td>-1.30443</td>\n",
       "      <td>-1.27385</td>\n",
       "      <td>-1.30638</td>\n",
       "      <td>-1.25954</td>\n",
       "      <td>-1.21016</td>\n",
       "      <td>-1.27683</td>\n",
       "      <td>-1.295</td>\n",
       "      <td>-1.31079</td>\n",
       "      <td>-1.26009</td>\n",
       "      <td>-1.2662</td>\n",
       "      <td>-1.31945</td>\n",
       "      <td>-1.325</td>\n",
       "      <td>-1.28714</td>\n",
       "      <td>-1.30145</td>\n",
       "      <td>-1.30779</td>\n",
       "      <td>-1.31893</td>\n",
       "      <td>-1.25715</td>\n",
       "      <td>-1.30092</td>\n",
       "      <td>-1.29256</td>\n",
       "      <td>-1.35166</td>\n",
       "      <td>-1.29696</td>\n",
       "      <td>-1.21635</td>\n",
       "      <td>-1.25519</td>\n",
       "      <td>...</td>\n",
       "      <td>-1.26009</td>\n",
       "      <td>-1.30484</td>\n",
       "      <td>-1.26285</td>\n",
       "      <td>-1.30048</td>\n",
       "      <td>-1.27978</td>\n",
       "      <td>-1.26175</td>\n",
       "      <td>-1.26642</td>\n",
       "      <td>-1.25519</td>\n",
       "      <td>-1.29183</td>\n",
       "      <td>-1.36713</td>\n",
       "      <td>-1.19857</td>\n",
       "      <td>-1.32562</td>\n",
       "      <td>-1.22891</td>\n",
       "      <td>-1.34721</td>\n",
       "      <td>-1.26843</td>\n",
       "      <td>-1.33262</td>\n",
       "      <td>-1.30525</td>\n",
       "      <td>-1.22352</td>\n",
       "      <td>-1.29089</td>\n",
       "      <td>-1.29932</td>\n",
       "      <td>-1.30638</td>\n",
       "      <td>-1.30092</td>\n",
       "      <td>-1.26221</td>\n",
       "      <td>-1.26726</td>\n",
       "      <td>-1.26009</td>\n",
       "      <td>-1.21868</td>\n",
       "      <td>-1.29215</td>\n",
       "      <td>-1.22891</td>\n",
       "      <td>-1.30566</td>\n",
       "      <td>-1.29743</td>\n",
       "      <td>-1.26571</td>\n",
       "      <td>-1.29591</td>\n",
       "      <td>-1.32335</td>\n",
       "      <td>-1.31327</td>\n",
       "      <td>-1.30092</td>\n",
       "      <td>-1.26543</td>\n",
       "      <td>-1.27807</td>\n",
       "      <td>-1.28585</td>\n",
       "      <td>-1.29857</td>\n",
       "      <td>-1.28681</td>\n",
       "    </tr>\n",
       "    <tr>\n",
       "      <th>Destination_Long</th>\n",
       "      <td>36.8297</td>\n",
       "      <td>36.9043</td>\n",
       "      <td>36.8182</td>\n",
       "      <td>36.8021</td>\n",
       "      <td>36.7524</td>\n",
       "      <td>36.8925</td>\n",
       "      <td>36.8006</td>\n",
       "      <td>36.8214</td>\n",
       "      <td>36.8719</td>\n",
       "      <td>36.8657</td>\n",
       "      <td>36.8409</td>\n",
       "      <td>36.8315</td>\n",
       "      <td>36.8231</td>\n",
       "      <td>36.882</td>\n",
       "      <td>36.7993</td>\n",
       "      <td>36.8068</td>\n",
       "      <td>36.8003</td>\n",
       "      <td>36.8185</td>\n",
       "      <td>36.8003</td>\n",
       "      <td>36.752</td>\n",
       "      <td>36.7871</td>\n",
       "      <td>36.7879</td>\n",
       "      <td>36.8074</td>\n",
       "      <td>36.8144</td>\n",
       "      <td>36.7618</td>\n",
       "      <td>36.8089</td>\n",
       "      <td>36.8155</td>\n",
       "      <td>36.8694</td>\n",
       "      <td>36.8697</td>\n",
       "      <td>36.8899</td>\n",
       "      <td>36.7661</td>\n",
       "      <td>36.8443</td>\n",
       "      <td>36.8617</td>\n",
       "      <td>36.7951</td>\n",
       "      <td>36.8282</td>\n",
       "      <td>36.8976</td>\n",
       "      <td>36.7298</td>\n",
       "      <td>36.8066</td>\n",
       "      <td>36.8862</td>\n",
       "      <td>36.7822</td>\n",
       "      <td>...</td>\n",
       "      <td>36.8089</td>\n",
       "      <td>36.9058</td>\n",
       "      <td>36.7818</td>\n",
       "      <td>36.7902</td>\n",
       "      <td>36.7628</td>\n",
       "      <td>36.6701</td>\n",
       "      <td>36.7454</td>\n",
       "      <td>36.7822</td>\n",
       "      <td>36.7964</td>\n",
       "      <td>36.7564</td>\n",
       "      <td>36.8364</td>\n",
       "      <td>36.8617</td>\n",
       "      <td>36.8819</td>\n",
       "      <td>36.7693</td>\n",
       "      <td>36.8166</td>\n",
       "      <td>36.7146</td>\n",
       "      <td>36.8224</td>\n",
       "      <td>36.8021</td>\n",
       "      <td>36.823</td>\n",
       "      <td>36.7753</td>\n",
       "      <td>36.752</td>\n",
       "      <td>36.8282</td>\n",
       "      <td>36.7887</td>\n",
       "      <td>36.8</td>\n",
       "      <td>36.8089</td>\n",
       "      <td>36.8922</td>\n",
       "      <td>36.803</td>\n",
       "      <td>36.8819</td>\n",
       "      <td>36.8446</td>\n",
       "      <td>36.8029</td>\n",
       "      <td>36.8238</td>\n",
       "      <td>36.7914</td>\n",
       "      <td>36.8139</td>\n",
       "      <td>36.9127</td>\n",
       "      <td>36.8282</td>\n",
       "      <td>36.795</td>\n",
       "      <td>36.7835</td>\n",
       "      <td>36.8306</td>\n",
       "      <td>36.8088</td>\n",
       "      <td>36.8219</td>\n",
       "    </tr>\n",
       "    <tr>\n",
       "      <th>Rider_Id</th>\n",
       "      <td>Rider_Id_432</td>\n",
       "      <td>Rider_Id_432</td>\n",
       "      <td>Rider_Id_432</td>\n",
       "      <td>Rider_Id_432</td>\n",
       "      <td>Rider_Id_432</td>\n",
       "      <td>Rider_Id_432</td>\n",
       "      <td>Rider_Id_432</td>\n",
       "      <td>Rider_Id_432</td>\n",
       "      <td>Rider_Id_432</td>\n",
       "      <td>Rider_Id_432</td>\n",
       "      <td>Rider_Id_432</td>\n",
       "      <td>Rider_Id_432</td>\n",
       "      <td>Rider_Id_432</td>\n",
       "      <td>Rider_Id_432</td>\n",
       "      <td>Rider_Id_432</td>\n",
       "      <td>Rider_Id_432</td>\n",
       "      <td>Rider_Id_432</td>\n",
       "      <td>Rider_Id_432</td>\n",
       "      <td>Rider_Id_432</td>\n",
       "      <td>Rider_Id_432</td>\n",
       "      <td>Rider_Id_432</td>\n",
       "      <td>Rider_Id_432</td>\n",
       "      <td>Rider_Id_432</td>\n",
       "      <td>Rider_Id_856</td>\n",
       "      <td>Rider_Id_856</td>\n",
       "      <td>Rider_Id_856</td>\n",
       "      <td>Rider_Id_856</td>\n",
       "      <td>Rider_Id_856</td>\n",
       "      <td>Rider_Id_856</td>\n",
       "      <td>Rider_Id_856</td>\n",
       "      <td>Rider_Id_856</td>\n",
       "      <td>Rider_Id_856</td>\n",
       "      <td>Rider_Id_856</td>\n",
       "      <td>Rider_Id_856</td>\n",
       "      <td>Rider_Id_856</td>\n",
       "      <td>Rider_Id_856</td>\n",
       "      <td>Rider_Id_856</td>\n",
       "      <td>Rider_Id_856</td>\n",
       "      <td>Rider_Id_856</td>\n",
       "      <td>Rider_Id_856</td>\n",
       "      <td>...</td>\n",
       "      <td>Rider_Id_270</td>\n",
       "      <td>Rider_Id_182</td>\n",
       "      <td>Rider_Id_666</td>\n",
       "      <td>Rider_Id_558</td>\n",
       "      <td>Rider_Id_558</td>\n",
       "      <td>Rider_Id_558</td>\n",
       "      <td>Rider_Id_833</td>\n",
       "      <td>Rider_Id_833</td>\n",
       "      <td>Rider_Id_765</td>\n",
       "      <td>Rider_Id_765</td>\n",
       "      <td>Rider_Id_765</td>\n",
       "      <td>Rider_Id_121</td>\n",
       "      <td>Rider_Id_834</td>\n",
       "      <td>Rider_Id_711</td>\n",
       "      <td>Rider_Id_711</td>\n",
       "      <td>Rider_Id_711</td>\n",
       "      <td>Rider_Id_711</td>\n",
       "      <td>Rider_Id_711</td>\n",
       "      <td>Rider_Id_711</td>\n",
       "      <td>Rider_Id_1</td>\n",
       "      <td>Rider_Id_18</td>\n",
       "      <td>Rider_Id_0</td>\n",
       "      <td>Rider_Id_738</td>\n",
       "      <td>Rider_Id_738</td>\n",
       "      <td>Rider_Id_745</td>\n",
       "      <td>Rider_Id_481</td>\n",
       "      <td>Rider_Id_251</td>\n",
       "      <td>Rider_Id_492</td>\n",
       "      <td>Rider_Id_954</td>\n",
       "      <td>Rider_Id_203</td>\n",
       "      <td>Rider_Id_525</td>\n",
       "      <td>Rider_Id_220</td>\n",
       "      <td>Rider_Id_170</td>\n",
       "      <td>Rider_Id_794</td>\n",
       "      <td>Rider_Id_342</td>\n",
       "      <td>Rider_Id_528</td>\n",
       "      <td>Rider_Id_638</td>\n",
       "      <td>Rider_Id_773</td>\n",
       "      <td>Rider_Id_860</td>\n",
       "      <td>Rider_Id_53</td>\n",
       "    </tr>\n",
       "    <tr>\n",
       "      <th>Time_from_Pickup_to_Arrival</th>\n",
       "      <td>745</td>\n",
       "      <td>2886</td>\n",
       "      <td>2615</td>\n",
       "      <td>2986</td>\n",
       "      <td>1602</td>\n",
       "      <td>2313</td>\n",
       "      <td>1638</td>\n",
       "      <td>1897</td>\n",
       "      <td>1698</td>\n",
       "      <td>2693</td>\n",
       "      <td>2487</td>\n",
       "      <td>527</td>\n",
       "      <td>1402</td>\n",
       "      <td>1813</td>\n",
       "      <td>1060</td>\n",
       "      <td>1014</td>\n",
       "      <td>807</td>\n",
       "      <td>807</td>\n",
       "      <td>1179</td>\n",
       "      <td>2353</td>\n",
       "      <td>1425</td>\n",
       "      <td>1692</td>\n",
       "      <td>1679</td>\n",
       "      <td>1993</td>\n",
       "      <td>2124</td>\n",
       "      <td>2994</td>\n",
       "      <td>3309</td>\n",
       "      <td>1198</td>\n",
       "      <td>2194</td>\n",
       "      <td>1876</td>\n",
       "      <td>2</td>\n",
       "      <td>903</td>\n",
       "      <td>2050</td>\n",
       "      <td>2174</td>\n",
       "      <td>969</td>\n",
       "      <td>1594</td>\n",
       "      <td>2391</td>\n",
       "      <td>1991</td>\n",
       "      <td>1994</td>\n",
       "      <td>1286</td>\n",
       "      <td>...</td>\n",
       "      <td>1435</td>\n",
       "      <td>1933</td>\n",
       "      <td>865</td>\n",
       "      <td>548</td>\n",
       "      <td>985</td>\n",
       "      <td>3963</td>\n",
       "      <td>2115</td>\n",
       "      <td>1841</td>\n",
       "      <td>1557</td>\n",
       "      <td>1113</td>\n",
       "      <td>2738</td>\n",
       "      <td>3232</td>\n",
       "      <td>1638</td>\n",
       "      <td>2111</td>\n",
       "      <td>1101</td>\n",
       "      <td>4467</td>\n",
       "      <td>3153</td>\n",
       "      <td>1820</td>\n",
       "      <td>1578</td>\n",
       "      <td>1333</td>\n",
       "      <td>2184</td>\n",
       "      <td>1393</td>\n",
       "      <td>1168</td>\n",
       "      <td>1317</td>\n",
       "      <td>606</td>\n",
       "      <td>1187</td>\n",
       "      <td>1053</td>\n",
       "      <td>3041</td>\n",
       "      <td>1979</td>\n",
       "      <td>4515</td>\n",
       "      <td>842</td>\n",
       "      <td>1429</td>\n",
       "      <td>949</td>\n",
       "      <td>355</td>\n",
       "      <td>2077</td>\n",
       "      <td>919</td>\n",
       "      <td>2331</td>\n",
       "      <td>2418</td>\n",
       "      <td>717</td>\n",
       "      <td>1647</td>\n",
       "    </tr>\n",
       "    <tr>\n",
       "      <th>speed</th>\n",
       "      <td>19.3289</td>\n",
       "      <td>24.948</td>\n",
       "      <td>8.26004</td>\n",
       "      <td>21.7013</td>\n",
       "      <td>15.7303</td>\n",
       "      <td>40.4669</td>\n",
       "      <td>17.5824</td>\n",
       "      <td>13.2841</td>\n",
       "      <td>23.3216</td>\n",
       "      <td>16.0416</td>\n",
       "      <td>14.4753</td>\n",
       "      <td>20.4934</td>\n",
       "      <td>15.4066</td>\n",
       "      <td>27.7992</td>\n",
       "      <td>13.5849</td>\n",
       "      <td>17.7515</td>\n",
       "      <td>8.92193</td>\n",
       "      <td>31.2268</td>\n",
       "      <td>9.16031</td>\n",
       "      <td>21.4195</td>\n",
       "      <td>17.6842</td>\n",
       "      <td>25.5319</td>\n",
       "      <td>12.8648</td>\n",
       "      <td>28.9012</td>\n",
       "      <td>40.678</td>\n",
       "      <td>21.6433</td>\n",
       "      <td>19.583</td>\n",
       "      <td>27.0451</td>\n",
       "      <td>19.6901</td>\n",
       "      <td>24.9467</td>\n",
       "      <td>39600</td>\n",
       "      <td>19.9336</td>\n",
       "      <td>22.8293</td>\n",
       "      <td>33.1187</td>\n",
       "      <td>26.0062</td>\n",
       "      <td>27.1016</td>\n",
       "      <td>27.1016</td>\n",
       "      <td>19.8895</td>\n",
       "      <td>36.1083</td>\n",
       "      <td>39.1913</td>\n",
       "      <td>...</td>\n",
       "      <td>30.1045</td>\n",
       "      <td>27.9359</td>\n",
       "      <td>20.8092</td>\n",
       "      <td>19.708</td>\n",
       "      <td>18.2741</td>\n",
       "      <td>18.1681</td>\n",
       "      <td>30.6383</td>\n",
       "      <td>41.0646</td>\n",
       "      <td>41.6185</td>\n",
       "      <td>54.9865</td>\n",
       "      <td>27.6114</td>\n",
       "      <td>37.8713</td>\n",
       "      <td>13.1868</td>\n",
       "      <td>37.5178</td>\n",
       "      <td>32.6975</td>\n",
       "      <td>12.0887</td>\n",
       "      <td>14.843</td>\n",
       "      <td>31.6484</td>\n",
       "      <td>18.251</td>\n",
       "      <td>29.7074</td>\n",
       "      <td>23.0769</td>\n",
       "      <td>31.0122</td>\n",
       "      <td>6.16438</td>\n",
       "      <td>10.9339</td>\n",
       "      <td>11.8812</td>\n",
       "      <td>39.4271</td>\n",
       "      <td>23.9316</td>\n",
       "      <td>18.9411</td>\n",
       "      <td>12.7337</td>\n",
       "      <td>4.78405</td>\n",
       "      <td>38.4798</td>\n",
       "      <td>7.55773</td>\n",
       "      <td>64.4889</td>\n",
       "      <td>152.113</td>\n",
       "      <td>20.7992</td>\n",
       "      <td>11.7519</td>\n",
       "      <td>9.26641</td>\n",
       "      <td>10.4218</td>\n",
       "      <td>10.0418</td>\n",
       "      <td>21.8579</td>\n",
       "    </tr>\n",
       "    <tr>\n",
       "      <th>Rider_exp</th>\n",
       "      <td>17.2579</td>\n",
       "      <td>17.2579</td>\n",
       "      <td>17.2579</td>\n",
       "      <td>17.2579</td>\n",
       "      <td>17.2579</td>\n",
       "      <td>17.2579</td>\n",
       "      <td>17.2579</td>\n",
       "      <td>17.2579</td>\n",
       "      <td>17.2579</td>\n",
       "      <td>17.2579</td>\n",
       "      <td>17.2579</td>\n",
       "      <td>17.2579</td>\n",
       "      <td>17.2579</td>\n",
       "      <td>17.2579</td>\n",
       "      <td>17.2579</td>\n",
       "      <td>17.2579</td>\n",
       "      <td>17.2579</td>\n",
       "      <td>17.2579</td>\n",
       "      <td>17.2579</td>\n",
       "      <td>17.2579</td>\n",
       "      <td>17.2579</td>\n",
       "      <td>17.2579</td>\n",
       "      <td>17.2579</td>\n",
       "      <td>15.8867</td>\n",
       "      <td>15.8867</td>\n",
       "      <td>15.8867</td>\n",
       "      <td>15.8867</td>\n",
       "      <td>15.8867</td>\n",
       "      <td>15.8867</td>\n",
       "      <td>15.8867</td>\n",
       "      <td>15.8867</td>\n",
       "      <td>15.8867</td>\n",
       "      <td>15.8867</td>\n",
       "      <td>15.8867</td>\n",
       "      <td>15.8867</td>\n",
       "      <td>15.8867</td>\n",
       "      <td>15.8867</td>\n",
       "      <td>15.8867</td>\n",
       "      <td>15.8867</td>\n",
       "      <td>15.8867</td>\n",
       "      <td>...</td>\n",
       "      <td>50.7</td>\n",
       "      <td>32.8754</td>\n",
       "      <td>11.8637</td>\n",
       "      <td>4.20288</td>\n",
       "      <td>4.20288</td>\n",
       "      <td>4.20288</td>\n",
       "      <td>17.5126</td>\n",
       "      <td>17.5126</td>\n",
       "      <td>12.6228</td>\n",
       "      <td>12.6228</td>\n",
       "      <td>12.6228</td>\n",
       "      <td>33.7613</td>\n",
       "      <td>43.2865</td>\n",
       "      <td>35.5541</td>\n",
       "      <td>35.5541</td>\n",
       "      <td>35.5541</td>\n",
       "      <td>35.5541</td>\n",
       "      <td>35.5541</td>\n",
       "      <td>35.5541</td>\n",
       "      <td>0</td>\n",
       "      <td>33.0123</td>\n",
       "      <td>16.6039</td>\n",
       "      <td>16.1436</td>\n",
       "      <td>16.1436</td>\n",
       "      <td>0</td>\n",
       "      <td>5.29412</td>\n",
       "      <td>0</td>\n",
       "      <td>26.9417</td>\n",
       "      <td>0</td>\n",
       "      <td>0</td>\n",
       "      <td>0</td>\n",
       "      <td>0</td>\n",
       "      <td>28.7326</td>\n",
       "      <td>21.7058</td>\n",
       "      <td>20.6198</td>\n",
       "      <td>45.6966</td>\n",
       "      <td>1.60069</td>\n",
       "      <td>0</td>\n",
       "      <td>0.167411</td>\n",
       "      <td>2.97719</td>\n",
       "    </tr>\n",
       "  </tbody>\n",
       "</table>\n",
       "<p>31 rows × 21201 columns</p>\n",
       "</div>"
      ],
      "text/plain": [
       "                                             0      ...           21200\n",
       "Order_No                             Order_No_4211  ...  Order_No_15578\n",
       "User_Id                                User_Id_633  ...    User_Id_2174\n",
       "Vehicle_Type                                  Bike  ...            Bike\n",
       "Platform_Type                                    3  ...               3\n",
       "Type                                      Business  ...        Business\n",
       "Placement_Day_of_Month                           9  ...              30\n",
       "Placement_Weekday                                5  ...               5\n",
       "Placement_Time                          9:35:46 AM  ...      9:51:23 AM\n",
       "Confirmation_Day_of_Month                        9  ...              30\n",
       "Confirmation_Weekday                             5  ...               5\n",
       "Confirmation_Time                       9:40:10 AM  ...      9:51:32 AM\n",
       "Arrival_at_Pickup_Day_of_Month                   9  ...              30\n",
       "Arrival_at_Pickup_Weekday                        5  ...               5\n",
       "Arrival_at_Pickup_Time                 10:04:47 AM  ...      9:52:56 AM\n",
       "Pickup_Day_of_Month                              9  ...              30\n",
       "Pickup_Weekday                                   5  ...               5\n",
       "Pickup_Time                            10:27:30 AM  ...      9:59:31 AM\n",
       "Arrival_at_Destination_Day_of_Month              9  ...              30\n",
       "Arrival_at_Destination_Weekday                   5  ...               5\n",
       "Arrival_at_Destination_Time            10:39:55 AM  ...     10:26:58 AM\n",
       "Distance                                         4  ...              10\n",
       "Temperature                                   20.4  ...            19.1\n",
       "Precipitation                                    0  ...               0\n",
       "Pickup_Lat                                -1.31775  ...        -1.24828\n",
       "Pickup_Long                                36.8304  ...         36.8841\n",
       "Destination_Lat                           -1.30041  ...        -1.28681\n",
       "Destination_Long                           36.8297  ...         36.8219\n",
       "Rider_Id                              Rider_Id_432  ...     Rider_Id_53\n",
       "Time_from_Pickup_to_Arrival                    745  ...            1647\n",
       "speed                                      19.3289  ...         21.8579\n",
       "Rider_exp                                  17.2579  ...         2.97719\n",
       "\n",
       "[31 rows x 21201 columns]"
      ]
     },
     "execution_count": 20,
     "metadata": {
      "tags": []
     },
     "output_type": "execute_result"
    }
   ],
   "source": [
    "riders[\"Rider_exp\"]=(riders['No_Of_Orders']/(riders[\"Age\"]))*riders['Average_Rating']\n",
    "riders.Rider_exp\n",
    "data = pd.merge(data, riders[['Rider_Id','Rider_exp']], on='Rider_Id')\n",
    "data.transpose()"
   ]
  },
  {
   "cell_type": "code",
   "execution_count": 0,
   "metadata": {
    "colab": {},
    "colab_type": "code",
    "id": "sejd8CMrcohI"
   },
   "outputs": [],
   "source": []
  },
  {
   "cell_type": "markdown",
   "metadata": {
    "colab_type": "text",
    "id": "3ZZ-7UxbfA2j"
   },
   "source": [
    "## Data transformation\n",
    "One hot encoding of platform type ( 1, 2, 3, 4 ) and order type (Business,Personal)"
   ]
  },
  {
   "cell_type": "code",
   "execution_count": 0,
   "metadata": {
    "colab": {
     "base_uri": "https://localhost:8080/",
     "height": 139
    },
    "colab_type": "code",
    "id": "ouc55rmSfXSV",
    "outputId": "c178c5a4-49f6-4134-86f9-8993cd5d6bd8"
   },
   "outputs": [
    {
     "name": "stderr",
     "output_type": "stream",
     "text": [
      "/usr/local/lib/python3.6/dist-packages/sklearn/preprocessing/_encoders.py:415: FutureWarning:\n",
      "\n",
      "The handling of integer data will change in version 0.22. Currently, the categories are determined based on the range [0, max(values)], while in the future they will be determined based on the unique values.\n",
      "If you want the future behaviour and silence this warning, you can specify \"categories='auto'\".\n",
      "In case you used a LabelEncoder before this OneHotEncoder to convert the categories to integers, then you can now use the OneHotEncoder directly.\n",
      "\n"
     ]
    }
   ],
   "source": [
    "int_data=LabelEncoder().fit_transform(data['Platform_Type'])\n",
    "one_hot_data=OneHotEncoder().fit_transform(int_data.reshape(-1,1)).toarray()\n",
    "data['1']=one_hot_data[:,0]\n",
    "data['2']=one_hot_data[:,1]\n",
    "data['3']=one_hot_data[:,2]\n",
    "data['4']=one_hot_data[:,3]\n",
    "#onehotencoder = OneHotEncoder(categorical_features = ['Platform_Type'])\n",
    "#data = onehotencoder.fit_transform(data['Platform_Type']).toarray()"
   ]
  },
  {
   "cell_type": "code",
   "execution_count": 0,
   "metadata": {
    "colab": {
     "base_uri": "https://localhost:8080/",
     "height": 139
    },
    "colab_type": "code",
    "id": "xx3GnEe9fk0u",
    "outputId": "03d68648-0dc8-464c-d99a-b05fa315b19b"
   },
   "outputs": [
    {
     "name": "stderr",
     "output_type": "stream",
     "text": [
      "/usr/local/lib/python3.6/dist-packages/sklearn/preprocessing/_encoders.py:415: FutureWarning:\n",
      "\n",
      "The handling of integer data will change in version 0.22. Currently, the categories are determined based on the range [0, max(values)], while in the future they will be determined based on the unique values.\n",
      "If you want the future behaviour and silence this warning, you can specify \"categories='auto'\".\n",
      "In case you used a LabelEncoder before this OneHotEncoder to convert the categories to integers, then you can now use the OneHotEncoder directly.\n",
      "\n"
     ]
    }
   ],
   "source": [
    "int_data=LabelEncoder().fit_transform(data['Type'])\n",
    "one_hot_data=OneHotEncoder().fit_transform(int_data.reshape(-1,1)).toarray()\n",
    "data['Business']=one_hot_data[:,0]\n",
    "data['Personal']=one_hot_data[:,1]"
   ]
  },
  {
   "cell_type": "markdown",
   "metadata": {
    "colab_type": "text",
    "id": "IeW7hrFag7eD"
   },
   "source": [
    "## Data reduction"
   ]
  },
  {
   "cell_type": "markdown",
   "metadata": {
    "colab_type": "text",
    "id": "dW8rgszQhEKW"
   },
   "source": [
    "### Attribute subset selection\n",
    "1. Drop Order_No attribute as it is not contributing in prediction.\n",
    "\n",
    "2. Drop Placement_Day_of_Month , Placement_Weekday,   \n",
    "     Confirmation_Day_of_Month , Confirmation_Weekday,                                       \n",
    "     Arrival_at_Pickup_Day_of_Month , Arrival_at_Pickup_Weekday ,                                                                                                          \n",
    "     Pickup_Day_of_Month , Pickup_Weekday attributes                                \n",
    "     beacuse they are done on the same day hence redundant values.\n"
   ]
  },
  {
   "cell_type": "markdown",
   "metadata": {
    "colab_type": "text",
    "id": "9kjqO1wGlL1T"
   },
   "source": [
    "### Atrribute / Feature creation"
   ]
  },
  {
   "cell_type": "markdown",
   "metadata": {
    "colab_type": "text",
    "id": "fxn5uA7mlZ3z"
   },
   "source": [
    "Estimation of time elapsed using time atrributes\n",
    "\n",
    "Time taken for confirmation\n",
    "\n",
    "Time taken to arrive at pickup\n",
    "\n",
    "Time taken to pickup\n"
   ]
  },
  {
   "cell_type": "code",
   "execution_count": 0,
   "metadata": {
    "colab": {
     "base_uri": "https://localhost:8080/",
     "height": 153
    },
    "colab_type": "code",
    "id": "x3fA20jOhbiq",
    "outputId": "71a1fb48-ca39-4e87-d55d-d4492c1f78fb"
   },
   "outputs": [
    {
     "name": "stderr",
     "output_type": "stream",
     "text": [
      "/usr/local/lib/python3.6/dist-packages/ipykernel_launcher.py:18: FutureWarning:\n",
      "\n",
      "Passing timedelta64-dtype data is deprecated, will raise a TypeError in a future version\n",
      "\n",
      "/usr/local/lib/python3.6/dist-packages/ipykernel_launcher.py:23: FutureWarning:\n",
      "\n",
      "Passing timedelta64-dtype data is deprecated, will raise a TypeError in a future version\n",
      "\n"
     ]
    }
   ],
   "source": [
    "#difference in placement and confirmation times\n",
    "def hfmt(x):\n",
    "  return x.strftime('%H:%M:%S')\n",
    "data['Placement_Time']=pd.to_datetime(data['Placement_Time'])\n",
    "data['Placement_Time']=data['Placement_Time'].apply(hfmt)\n",
    "data['Placement_Time']=pd.to_timedelta(data['Placement_Time'])\n",
    "\n",
    "data['Confirmation_Time']=pd.to_datetime(data['Confirmation_Time'])\n",
    "data['Confirmation_Time']=data['Confirmation_Time'].apply(hfmt)\n",
    "data['Confirmation_Time']=pd.to_timedelta(data['Confirmation_Time'])\n",
    "\n",
    "data['Arrival_at_Pickup_Time']=pd.to_datetime(data['Arrival_at_Pickup_Time'])\n",
    "data['Arrival_at_Pickup_Time']=data['Arrival_at_Pickup_Time'].apply(hfmt)\n",
    "data['Arrival_at_Pickup_Time']=pd.to_timedelta(data['Arrival_at_Pickup_Time'])\n",
    "\n",
    "data['Pickup_Time']=pd.to_datetime(data['Pickup_Time'])\n",
    "data['Pickup_Time']=data['Pickup_Time'].apply(hfmt)\n",
    "data['Pickup_Time']=pd.to_timedelta(data['Pickup_Time'])\n",
    "data['pickup_hour']=pd.to_datetime(data['Pickup_Time']).dt.hour\n",
    "\n",
    "data['Arrival_at_Destination_Time']=pd.to_datetime(data['Arrival_at_Destination_Time'])\n",
    "data['Arrival_at_Destination_Time']=data['Arrival_at_Destination_Time'].apply(hfmt)\n",
    "data['Arrival_at_Destination_Time']=pd.to_timedelta(data['Arrival_at_Destination_Time'])\n",
    "data['arrival_hour']=pd.to_datetime(data['Arrival_at_Destination_Time']).dt.hour\n",
    "#time=pd.to_timedelta('00:01:00')\n",
    "#data[data['Confirmation_Time']-data['Placement_Time']<time]['Placement_Weekday'].value_counts()"
   ]
  },
  {
   "cell_type": "code",
   "execution_count": 0,
   "metadata": {
    "colab": {
     "base_uri": "https://localhost:8080/",
     "height": 357
    },
    "colab_type": "code",
    "id": "5xemdyURmIjI",
    "outputId": "0fd5d217-4294-4f59-870e-aa3f384ed504"
   },
   "outputs": [
    {
     "name": "stderr",
     "output_type": "stream",
     "text": [
      "/usr/local/lib/python3.6/dist-packages/ipykernel_launcher.py:2: FutureWarning:\n",
      "\n",
      "Passing timedelta64-dtype data is deprecated, will raise a TypeError in a future version\n",
      "\n",
      "/usr/local/lib/python3.6/dist-packages/ipykernel_launcher.py:7: FutureWarning:\n",
      "\n",
      "Passing timedelta64-dtype data is deprecated, will raise a TypeError in a future version\n",
      "\n",
      "/usr/local/lib/python3.6/dist-packages/ipykernel_launcher.py:12: FutureWarning:\n",
      "\n",
      "Passing timedelta64-dtype data is deprecated, will raise a TypeError in a future version\n",
      "\n",
      "/usr/local/lib/python3.6/dist-packages/ipykernel_launcher.py:17: FutureWarning:\n",
      "\n",
      "Passing timedelta64-dtype data is deprecated, will raise a TypeError in a future version\n",
      "\n",
      "/usr/local/lib/python3.6/dist-packages/ipykernel_launcher.py:21: FutureWarning:\n",
      "\n",
      "Passing timedelta64-dtype data is deprecated, will raise a TypeError in a future version\n",
      "\n"
     ]
    }
   ],
   "source": [
    "data['conf_no']=data['Confirmation_Time']-data['Placement_Time']\n",
    "conf_temp=pd.DatetimeIndex(data['conf_no'])\n",
    "conf_temp=(conf_temp.hour*60+conf_temp.minute+(conf_temp.second/60))\n",
    "data['confirmation_time_min']=conf_temp\n",
    "\n",
    "data['Arrival_no']=data['Arrival_at_Pickup_Time']-data['Confirmation_Time']\n",
    "conf_temp=pd.DatetimeIndex(data['Arrival_no'])\n",
    "conf_temp=(conf_temp.hour*60+conf_temp.minute+(conf_temp.second/60))\n",
    "data['Arrival_time_min']=conf_temp\n",
    "\n",
    "data['Pickup_no']=data['Pickup_Time']-data['Arrival_at_Pickup_Time']\n",
    "conf_temp=pd.DatetimeIndex(data['Pickup_no'])\n",
    "conf_temp=(conf_temp.hour*60+conf_temp.minute+(conf_temp.second/60))\n",
    "data['Pickup_time_min']=conf_temp\n",
    "\n",
    "data['Dest_no']=data['Arrival_at_Destination_Time']-data['Pickup_Time']\n",
    "conf_temp=pd.DatetimeIndex(data['Dest_no'])\n",
    "conf_temp=(conf_temp.hour*60+conf_temp.minute+(conf_temp.second/60))\n",
    "data['Dest_time_min']=conf_temp\n",
    "\n",
    "conf_temp=pd.DatetimeIndex(data['Pickup_Time'])\n",
    "data['pick_hour']=conf_temp.hour"
   ]
  },
  {
   "cell_type": "markdown",
   "metadata": {
    "colab_type": "text",
    "id": "6e2cUuHUnq3K"
   },
   "source": [
    "Avarage speed of a rider and his experience."
   ]
  },
  {
   "cell_type": "code",
   "execution_count": 0,
   "metadata": {
    "colab": {
     "base_uri": "https://localhost:8080/",
     "height": 136
    },
    "colab_type": "code",
    "id": "HXqWjmBjmTou",
    "outputId": "f5292567-5ae5-425f-87a0-7b6e8cc11e12"
   },
   "outputs": [
    {
     "name": "stderr",
     "output_type": "stream",
     "text": [
      "/usr/local/lib/python3.6/dist-packages/ipykernel_launcher.py:3: SettingWithCopyWarning:\n",
      "\n",
      "\n",
      "A value is trying to be set on a copy of a slice from a DataFrame\n",
      "\n",
      "See the caveats in the documentation: http://pandas.pydata.org/pandas-docs/stable/user_guide/indexing.html#returning-a-view-versus-a-copy\n",
      "\n"
     ]
    }
   ],
   "source": [
    "data['speed']=data['Distance']*3600/data['Time_from_Pickup_to_Arrival']\n",
    "line_data = data[['Distance','Time_from_Pickup_to_Arrival','speed']]\n",
    "line_data.sort_values(\"speed\",inplace = True)"
   ]
  },
  {
   "cell_type": "code",
   "execution_count": 0,
   "metadata": {
    "colab": {},
    "colab_type": "code",
    "id": "HcuEhhUVoRvZ"
   },
   "outputs": [],
   "source": [
    "rider_speeds=data.groupby(['Rider_Id'])\n",
    "xx=rider_speeds['speed'].mean()/10\n",
    "data.replace(xx.index,xx.values,inplace=True)"
   ]
  },
  {
   "cell_type": "code",
   "execution_count": 0,
   "metadata": {
    "colab": {},
    "colab_type": "code",
    "id": "_PxmlQgWoXs5"
   },
   "outputs": [],
   "source": [
    "data['Rider_Id']=data['Rider_Id'].apply(pd.to_numeric)"
   ]
  },
  {
   "cell_type": "markdown",
   "metadata": {
    "colab_type": "text",
    "id": "gCdlw-rCqOd2"
   },
   "source": [
    "## Model Building"
   ]
  },
  {
   "cell_type": "markdown",
   "metadata": {
    "colab_type": "text",
    "id": "nnGKdZ_9scnc"
   },
   "source": [
    "Feature Selection"
   ]
  },
  {
   "cell_type": "code",
   "execution_count": 0,
   "metadata": {
    "colab": {},
    "colab_type": "code",
    "id": "FXXcQX7AqUCr"
   },
   "outputs": [],
   "source": [
    "X=data[['Personal','Business','Pickup_time_min','Distance','Rider_Id','Rider_exp','Destination_Lat','Destination_Long','Pickup_Lat','Pickup_Long']].values\n",
    "y=data['Dest_time_min'].values "
   ]
  },
  {
   "cell_type": "markdown",
   "metadata": {
    "colab_type": "text",
    "id": "sskBaHV4qWHx"
   },
   "source": [
    "Split dataset in the ratio of 7:3 for testing."
   ]
  },
  {
   "cell_type": "code",
   "execution_count": 0,
   "metadata": {
    "colab": {},
    "colab_type": "code",
    "id": "-kE93uHqq2Yw"
   },
   "outputs": [],
   "source": [
    "X_train, X_test, y_train, y_test = train_test_split(X, y, test_size=0.3, random_state=0)"
   ]
  },
  {
   "cell_type": "markdown",
   "metadata": {
    "colab_type": "text",
    "id": "6OpNcYmPtKHx"
   },
   "source": [
    "Feature Generation"
   ]
  },
  {
   "cell_type": "code",
   "execution_count": 0,
   "metadata": {
    "colab": {},
    "colab_type": "code",
    "id": "wfptYVATss05"
   },
   "outputs": [],
   "source": [
    "polynomial_features= PolynomialFeatures(degree=2)\n",
    "x_poly = polynomial_features.fit_transform(X_train)\n",
    "x_test = polynomial_features.fit_transform(X_test)"
   ]
  },
  {
   "cell_type": "markdown",
   "metadata": {
    "colab_type": "text",
    "id": "4dRp72N-yC_y"
   },
   "source": [
    "Linear regression"
   ]
  },
  {
   "cell_type": "code",
   "execution_count": 0,
   "metadata": {
    "colab": {},
    "colab_type": "code",
    "id": "LDIY1WfoyCAC"
   },
   "outputs": [],
   "source": [
    "Lin_reg=LinearRegression()"
   ]
  },
  {
   "cell_type": "code",
   "execution_count": 0,
   "metadata": {
    "colab": {},
    "colab_type": "code",
    "id": "_BS3ACWZyI4M"
   },
   "outputs": [],
   "source": [
    "Lin_fit=Lin_reg.fit(x_poly,y_train)"
   ]
  },
  {
   "cell_type": "code",
   "execution_count": 0,
   "metadata": {
    "colab": {},
    "colab_type": "code",
    "id": "e786piw-yV9K"
   },
   "outputs": [],
   "source": [
    "Lin_pred = Lin_fit.predict(x_test)"
   ]
  },
  {
   "cell_type": "code",
   "execution_count": 62,
   "metadata": {
    "colab": {
     "base_uri": "https://localhost:8080/",
     "height": 204
    },
    "colab_type": "code",
    "id": "OBPqEE2ryWDI",
    "outputId": "290a4425-48e1-4498-d733-36de0d6fc4e7"
   },
   "outputs": [
    {
     "data": {
      "text/html": [
       "<div>\n",
       "<style scoped>\n",
       "    .dataframe tbody tr th:only-of-type {\n",
       "        vertical-align: middle;\n",
       "    }\n",
       "\n",
       "    .dataframe tbody tr th {\n",
       "        vertical-align: top;\n",
       "    }\n",
       "\n",
       "    .dataframe thead th {\n",
       "        text-align: right;\n",
       "    }\n",
       "</style>\n",
       "<table border=\"1\" class=\"dataframe\">\n",
       "  <thead>\n",
       "    <tr style=\"text-align: right;\">\n",
       "      <th></th>\n",
       "      <th>Actual</th>\n",
       "      <th>Predicted</th>\n",
       "    </tr>\n",
       "  </thead>\n",
       "  <tbody>\n",
       "    <tr>\n",
       "      <th>0</th>\n",
       "      <td>8.250000</td>\n",
       "      <td>18.177476</td>\n",
       "    </tr>\n",
       "    <tr>\n",
       "      <th>1</th>\n",
       "      <td>22.366667</td>\n",
       "      <td>31.488975</td>\n",
       "    </tr>\n",
       "    <tr>\n",
       "      <th>2</th>\n",
       "      <td>68.133333</td>\n",
       "      <td>46.332550</td>\n",
       "    </tr>\n",
       "    <tr>\n",
       "      <th>3</th>\n",
       "      <td>32.033333</td>\n",
       "      <td>17.162891</td>\n",
       "    </tr>\n",
       "    <tr>\n",
       "      <th>4</th>\n",
       "      <td>10.466667</td>\n",
       "      <td>10.868591</td>\n",
       "    </tr>\n",
       "  </tbody>\n",
       "</table>\n",
       "</div>"
      ],
      "text/plain": [
       "      Actual  Predicted\n",
       "0   8.250000  18.177476\n",
       "1  22.366667  31.488975\n",
       "2  68.133333  46.332550\n",
       "3  32.033333  17.162891\n",
       "4  10.466667  10.868591"
      ]
     },
     "execution_count": 62,
     "metadata": {
      "tags": []
     },
     "output_type": "execute_result"
    }
   ],
   "source": [
    "test_df = pd.DataFrame({'Actual': y_test, 'Predicted': Lin_pred})\n",
    "test_df.head()"
   ]
  },
  {
   "cell_type": "code",
   "execution_count": 63,
   "metadata": {
    "colab": {
     "base_uri": "https://localhost:8080/",
     "height": 34
    },
    "colab_type": "code",
    "id": "cMFZ4nNQyigN",
    "outputId": "42d0c098-08f1-485e-bb43-0893030ae804"
   },
   "outputs": [
    {
     "data": {
      "text/plain": [
       "163.5835098490185"
      ]
     },
     "execution_count": 63,
     "metadata": {
      "tags": []
     },
     "output_type": "execute_result"
    }
   ],
   "source": [
    "metrics.mean_squared_error(y_test, test_df['Predicted'])"
   ]
  },
  {
   "cell_type": "markdown",
   "metadata": {
    "colab_type": "text",
    "id": "gIIzQqCLtkX_"
   },
   "source": [
    "**Adaboost regresser**"
   ]
  },
  {
   "cell_type": "code",
   "execution_count": null,
   "metadata": {},
   "outputs": [],
   "source": [
    "gsc = GridSearchCV(\n",
    "        estimator=AdaBoostRegressor(base_estimator=xgb.XGBRegressor(objective ='reg:squarederror', colsample_bytree = 0.3, learning_rate = 0.1,\n",
    "                max_depth = 3, alpha = 10, n_estimators = 400)),\n",
    "        param_grid={\n",
    "            'learning_rate': (0.1,0.07,0.08),\n",
    "            'n_estimators': (6,7,8),\n",
    "        },\n",
    "        cv=5, scoring='neg_mean_squared_error', verbose=0,n_jobs=-1)\n",
    "    \n",
    "grid_result = gsc.fit(X_train, y_train)\n",
    "best_params = grid_result.best_params_"
   ]
  },
  {
   "cell_type": "code",
   "execution_count": 0,
   "metadata": {
    "colab": {},
    "colab_type": "code",
    "id": "0_ZFQ0r9tYBV"
   },
   "outputs": [],
   "source": [
    "Ada_reg = AdaBoostRegressor(base_estimator=xgb.XGBRegressor(objective ='reg:squarederror', colsample_bytree = 0.3, learning_rate = 0.1,\n",
    "                max_depth = 3, alpha = 10, n_estimators = 400), n_estimators=7, learning_rate=0.05, loss='square', random_state=None)"
   ]
  },
  {
   "cell_type": "code",
   "execution_count": 0,
   "metadata": {
    "colab": {},
    "colab_type": "code",
    "id": "fF080Hamtzq4"
   },
   "outputs": [],
   "source": [
    "Ada_fit = Ada_reg.fit(x_poly,y_train)"
   ]
  },
  {
   "cell_type": "markdown",
   "metadata": {
    "colab_type": "text",
    "id": "bwaMgQZ0vmYH"
   },
   "source": [
    "Prediction"
   ]
  },
  {
   "cell_type": "code",
   "execution_count": 0,
   "metadata": {
    "colab": {},
    "colab_type": "code",
    "id": "B9K0uuouudxV"
   },
   "outputs": [],
   "source": [
    "Ada_pred = Ada_fit.predict(x_test)"
   ]
  },
  {
   "cell_type": "code",
   "execution_count": 0,
   "metadata": {
    "colab": {
     "base_uri": "https://localhost:8080/",
     "height": 204
    },
    "colab_type": "code",
    "id": "DReTW8a5u5Bs",
    "outputId": "6ac97f3d-54f1-4752-8d1e-eab8bc0bc51d"
   },
   "outputs": [
    {
     "data": {
      "text/html": [
       "<div>\n",
       "<style scoped>\n",
       "    .dataframe tbody tr th:only-of-type {\n",
       "        vertical-align: middle;\n",
       "    }\n",
       "\n",
       "    .dataframe tbody tr th {\n",
       "        vertical-align: top;\n",
       "    }\n",
       "\n",
       "    .dataframe thead th {\n",
       "        text-align: right;\n",
       "    }\n",
       "</style>\n",
       "<table border=\"1\" class=\"dataframe\">\n",
       "  <thead>\n",
       "    <tr style=\"text-align: right;\">\n",
       "      <th></th>\n",
       "      <th>Actual</th>\n",
       "      <th>Predicted</th>\n",
       "    </tr>\n",
       "  </thead>\n",
       "  <tbody>\n",
       "    <tr>\n",
       "      <th>0</th>\n",
       "      <td>8.250000</td>\n",
       "      <td>13.796331</td>\n",
       "    </tr>\n",
       "    <tr>\n",
       "      <th>1</th>\n",
       "      <td>22.366667</td>\n",
       "      <td>30.246632</td>\n",
       "    </tr>\n",
       "    <tr>\n",
       "      <th>2</th>\n",
       "      <td>68.133333</td>\n",
       "      <td>54.573921</td>\n",
       "    </tr>\n",
       "    <tr>\n",
       "      <th>3</th>\n",
       "      <td>32.033333</td>\n",
       "      <td>23.407330</td>\n",
       "    </tr>\n",
       "    <tr>\n",
       "      <th>4</th>\n",
       "      <td>10.466667</td>\n",
       "      <td>8.169461</td>\n",
       "    </tr>\n",
       "  </tbody>\n",
       "</table>\n",
       "</div>"
      ],
      "text/plain": [
       "      Actual  Predicted\n",
       "0   8.250000  13.796331\n",
       "1  22.366667  30.246632\n",
       "2  68.133333  54.573921\n",
       "3  32.033333  23.407330\n",
       "4  10.466667   8.169461"
      ]
     },
     "execution_count": 34,
     "metadata": {
      "tags": []
     },
     "output_type": "execute_result"
    }
   ],
   "source": [
    "test_df = pd.DataFrame({'Actual': y_test, 'Predicted': Ada_pred})\n",
    "test_df.head()"
   ]
  },
  {
   "cell_type": "markdown",
   "metadata": {
    "colab_type": "text",
    "id": "QdpFkWbPvtI0"
   },
   "source": [
    "Mean Squared Error"
   ]
  },
  {
   "cell_type": "code",
   "execution_count": 0,
   "metadata": {
    "colab": {
     "base_uri": "https://localhost:8080/",
     "height": 34
    },
    "colab_type": "code",
    "id": "--6BCeLPvTXs",
    "outputId": "74848cb6-69d8-414f-c13f-e70c7c3eb904"
   },
   "outputs": [
    {
     "data": {
      "text/plain": [
       "147.96962407453714"
      ]
     },
     "execution_count": 35,
     "metadata": {
      "tags": []
     },
     "output_type": "execute_result"
    }
   ],
   "source": [
    "metrics.mean_squared_error(y_test, test_df['Predicted'])"
   ]
  },
  {
   "cell_type": "markdown",
   "metadata": {
    "colab_type": "text",
    "id": "P_dPVdwov0aO"
   },
   "source": [
    "Accuracy"
   ]
  },
  {
   "cell_type": "code",
   "execution_count": 0,
   "metadata": {
    "colab": {
     "base_uri": "https://localhost:8080/",
     "height": 34
    },
    "colab_type": "code",
    "id": "TqWcdkhCvsBb",
    "outputId": "652986e4-203e-47eb-8c5c-42d2483e9925"
   },
   "outputs": [
    {
     "name": "stdout",
     "output_type": "stream",
     "text": [
      "0.4519365741343727\n"
     ]
    }
   ],
   "source": [
    "print(r2_score(y_test,test_df['Predicted']))"
   ]
  },
  {
   "cell_type": "markdown",
   "metadata": {
    "colab_type": "text",
    "id": "PAQeYK4Ix9LT"
   },
   "source": [
    "**GradientBoost regresser**"
   ]
  },
  {
   "cell_type": "code",
   "execution_count": null,
   "metadata": {},
   "outputs": [],
   "source": [
    "gsc = GridSearchCV(\n",
    "        estimator=GradientBoostingRegressor(),\n",
    "        param_grid={\n",
    "            'learning_rate': (0.1,0.07,0.08),\n",
    "            'n_estimators': (100,200,300),\n",
    "        },\n",
    "        cv=5, scoring='neg_mean_squared_error', verbose=0,n_jobs=-1)\n",
    "    \n",
    "grid_result = gsc.fit(X_train, y_train)\n",
    "best_params = grid_result.best_params_"
   ]
  },
  {
   "cell_type": "code",
   "execution_count": 0,
   "metadata": {
    "colab": {},
    "colab_type": "code",
    "id": "4Vb1uxLSxi_1"
   },
   "outputs": [],
   "source": [
    "Grad_reg = GradientBoostingRegressor(loss='ls', learning_rate=0.1, n_estimators=100, subsample=1.0, criterion='friedman_mse', min_samples_split=2, min_samples_leaf=1, min_weight_fraction_leaf=0.0, max_depth=4, min_impurity_decrease=0.0, min_impurity_split=None, init=None, random_state=None, max_features=None, alpha=0.9, verbose=0, max_leaf_nodes=None, warm_start=False, presort='auto', validation_fraction=0.1, n_iter_no_change=None, tol=0.0001)"
   ]
  },
  {
   "cell_type": "code",
   "execution_count": 0,
   "metadata": {
    "colab": {},
    "colab_type": "code",
    "id": "yb28BVOBxi7a"
   },
   "outputs": [],
   "source": [
    "Grad_fit=Grad_reg.fit(x_poly,y_train)"
   ]
  },
  {
   "cell_type": "markdown",
   "metadata": {
    "colab_type": "text",
    "id": "JrcVIji_zWoU"
   },
   "source": [
    "Prediction"
   ]
  },
  {
   "cell_type": "code",
   "execution_count": 0,
   "metadata": {
    "colab": {},
    "colab_type": "code",
    "id": "IxI-EFCBxi39"
   },
   "outputs": [],
   "source": [
    "Grad_pred = Grad_fit.predict(x_test)"
   ]
  },
  {
   "cell_type": "code",
   "execution_count": 0,
   "metadata": {
    "colab": {
     "base_uri": "https://localhost:8080/",
     "height": 204
    },
    "colab_type": "code",
    "id": "dlR3Mjw2xQ5Q",
    "outputId": "cdf11ee9-8a90-407c-93a1-209e3f9a2a7f"
   },
   "outputs": [
    {
     "data": {
      "text/html": [
       "<div>\n",
       "<style scoped>\n",
       "    .dataframe tbody tr th:only-of-type {\n",
       "        vertical-align: middle;\n",
       "    }\n",
       "\n",
       "    .dataframe tbody tr th {\n",
       "        vertical-align: top;\n",
       "    }\n",
       "\n",
       "    .dataframe thead th {\n",
       "        text-align: right;\n",
       "    }\n",
       "</style>\n",
       "<table border=\"1\" class=\"dataframe\">\n",
       "  <thead>\n",
       "    <tr style=\"text-align: right;\">\n",
       "      <th></th>\n",
       "      <th>Actual</th>\n",
       "      <th>Predicted</th>\n",
       "    </tr>\n",
       "  </thead>\n",
       "  <tbody>\n",
       "    <tr>\n",
       "      <th>0</th>\n",
       "      <td>8.250000</td>\n",
       "      <td>15.253814</td>\n",
       "    </tr>\n",
       "    <tr>\n",
       "      <th>1</th>\n",
       "      <td>22.366667</td>\n",
       "      <td>29.904732</td>\n",
       "    </tr>\n",
       "    <tr>\n",
       "      <th>2</th>\n",
       "      <td>68.133333</td>\n",
       "      <td>49.884703</td>\n",
       "    </tr>\n",
       "    <tr>\n",
       "      <th>3</th>\n",
       "      <td>32.033333</td>\n",
       "      <td>24.369487</td>\n",
       "    </tr>\n",
       "    <tr>\n",
       "      <th>4</th>\n",
       "      <td>10.466667</td>\n",
       "      <td>8.631892</td>\n",
       "    </tr>\n",
       "  </tbody>\n",
       "</table>\n",
       "</div>"
      ],
      "text/plain": [
       "      Actual  Predicted\n",
       "0   8.250000  15.253814\n",
       "1  22.366667  29.904732\n",
       "2  68.133333  49.884703\n",
       "3  32.033333  24.369487\n",
       "4  10.466667   8.631892"
      ]
     },
     "execution_count": 40,
     "metadata": {
      "tags": []
     },
     "output_type": "execute_result"
    }
   ],
   "source": [
    "test_df = pd.DataFrame({'Actual': y_test, 'Predicted': Grad_pred})\n",
    "test_df.head()"
   ]
  },
  {
   "cell_type": "markdown",
   "metadata": {
    "colab_type": "text",
    "id": "epzDR2KuzbGg"
   },
   "source": [
    "Mean Squared Error"
   ]
  },
  {
   "cell_type": "code",
   "execution_count": 0,
   "metadata": {
    "colab": {
     "base_uri": "https://localhost:8080/",
     "height": 34
    },
    "colab_type": "code",
    "id": "MEMlVrAJy7fQ",
    "outputId": "6e0db61e-6586-487e-ec1d-ba4ec219b76e"
   },
   "outputs": [
    {
     "data": {
      "text/plain": [
       "149.7004073445024"
      ]
     },
     "execution_count": 41,
     "metadata": {
      "tags": []
     },
     "output_type": "execute_result"
    }
   ],
   "source": [
    "metrics.mean_squared_error(y_test, test_df['Predicted'])"
   ]
  },
  {
   "cell_type": "markdown",
   "metadata": {
    "colab_type": "text",
    "id": "oXDwcS99zhrn"
   },
   "source": [
    "Accuracy"
   ]
  },
  {
   "cell_type": "code",
   "execution_count": 0,
   "metadata": {
    "colab": {
     "base_uri": "https://localhost:8080/",
     "height": 34
    },
    "colab_type": "code",
    "id": "YdhGBwmGy7a1",
    "outputId": "818a0610-167d-44d0-ef20-ba8a6d98c357"
   },
   "outputs": [
    {
     "name": "stdout",
     "output_type": "stream",
     "text": [
      "0.4455259407743105\n"
     ]
    }
   ],
   "source": [
    "print(r2_score(y_test,test_df['Predicted']))"
   ]
  },
  {
   "cell_type": "markdown",
   "metadata": {
    "colab_type": "text",
    "id": "KGeyUdjczm10"
   },
   "source": [
    "**XGBoost Regresser**"
   ]
  },
  {
   "cell_type": "code",
   "execution_count": null,
   "metadata": {},
   "outputs": [],
   "source": [
    "gsc = GridSearchCV(\n",
    "        estimator=xgb.XGBRegressor(),\n",
    "        param_grid={\n",
    "            'learning_rate': (0.1,0.07,0.08),\n",
    "            'n_estimators': (400,500),\n",
    "        },\n",
    "        cv=5, scoring='neg_mean_squared_error', verbose=0,n_jobs=-1)\n",
    "    \n",
    "grid_result = gsc.fit(X_train, y_train)\n",
    "best_params = grid_result.best_params_"
   ]
  },
  {
   "cell_type": "code",
   "execution_count": 0,
   "metadata": {
    "colab": {},
    "colab_type": "code",
    "id": "j8bp4lu6z3iO"
   },
   "outputs": [],
   "source": [
    "Xg_reg = xgb.XGBRegressor(objective ='reg:squarederror', colsample_bytree = 0.3, learning_rate = 0.1,\n",
    "                max_depth = 3, alpha = 10, n_estimators = 400,booster='gbtree') "
   ]
  },
  {
   "cell_type": "code",
   "execution_count": 0,
   "metadata": {
    "colab": {},
    "colab_type": "code",
    "id": "rvuJwsJxzxgC"
   },
   "outputs": [],
   "source": [
    "Xg_fit=Xg_reg.fit(x_poly,y_train)"
   ]
  },
  {
   "cell_type": "markdown",
   "metadata": {
    "colab_type": "text",
    "id": "4e92otvr0fJn"
   },
   "source": [
    "Prediction"
   ]
  },
  {
   "cell_type": "code",
   "execution_count": 0,
   "metadata": {
    "colab": {},
    "colab_type": "code",
    "id": "DIQImreY0hoL"
   },
   "outputs": [],
   "source": [
    "Xg_pred = Xg_fit.predict(x_test)"
   ]
  },
  {
   "cell_type": "code",
   "execution_count": 0,
   "metadata": {
    "colab": {
     "base_uri": "https://localhost:8080/",
     "height": 204
    },
    "colab_type": "code",
    "id": "4sye0fDs0Jm2",
    "outputId": "4f6390d6-cf30-4d58-88eb-681c81dfd934"
   },
   "outputs": [
    {
     "data": {
      "text/html": [
       "<div>\n",
       "<style scoped>\n",
       "    .dataframe tbody tr th:only-of-type {\n",
       "        vertical-align: middle;\n",
       "    }\n",
       "\n",
       "    .dataframe tbody tr th {\n",
       "        vertical-align: top;\n",
       "    }\n",
       "\n",
       "    .dataframe thead th {\n",
       "        text-align: right;\n",
       "    }\n",
       "</style>\n",
       "<table border=\"1\" class=\"dataframe\">\n",
       "  <thead>\n",
       "    <tr style=\"text-align: right;\">\n",
       "      <th></th>\n",
       "      <th>Actual</th>\n",
       "      <th>Predicted</th>\n",
       "    </tr>\n",
       "  </thead>\n",
       "  <tbody>\n",
       "    <tr>\n",
       "      <th>0</th>\n",
       "      <td>8.250000</td>\n",
       "      <td>14.290668</td>\n",
       "    </tr>\n",
       "    <tr>\n",
       "      <th>1</th>\n",
       "      <td>22.366667</td>\n",
       "      <td>28.793074</td>\n",
       "    </tr>\n",
       "    <tr>\n",
       "      <th>2</th>\n",
       "      <td>68.133333</td>\n",
       "      <td>55.114517</td>\n",
       "    </tr>\n",
       "    <tr>\n",
       "      <th>3</th>\n",
       "      <td>32.033333</td>\n",
       "      <td>23.465504</td>\n",
       "    </tr>\n",
       "    <tr>\n",
       "      <th>4</th>\n",
       "      <td>10.466667</td>\n",
       "      <td>7.767723</td>\n",
       "    </tr>\n",
       "  </tbody>\n",
       "</table>\n",
       "</div>"
      ],
      "text/plain": [
       "      Actual  Predicted\n",
       "0   8.250000  14.290668\n",
       "1  22.366667  28.793074\n",
       "2  68.133333  55.114517\n",
       "3  32.033333  23.465504\n",
       "4  10.466667   7.767723"
      ]
     },
     "execution_count": 46,
     "metadata": {
      "tags": []
     },
     "output_type": "execute_result"
    }
   ],
   "source": [
    "test_df = pd.DataFrame({'Actual': y_test, 'Predicted': Xg_pred})\n",
    "test_df.head()"
   ]
  },
  {
   "cell_type": "markdown",
   "metadata": {
    "colab_type": "text",
    "id": "t37WkvrB01vr"
   },
   "source": [
    "Mean squared Error"
   ]
  },
  {
   "cell_type": "code",
   "execution_count": 0,
   "metadata": {
    "colab": {
     "base_uri": "https://localhost:8080/",
     "height": 34
    },
    "colab_type": "code",
    "id": "wI8Ci3Tz0Ji1",
    "outputId": "6ea6b27a-1d4e-49ec-a72a-9ad75c6a1d46"
   },
   "outputs": [
    {
     "data": {
      "text/plain": [
       "148.88742919603348"
      ]
     },
     "execution_count": 47,
     "metadata": {
      "tags": []
     },
     "output_type": "execute_result"
    }
   ],
   "source": [
    "metrics.mean_squared_error(y_test, test_df['Predicted'])"
   ]
  },
  {
   "cell_type": "markdown",
   "metadata": {
    "colab_type": "text",
    "id": "dnVAJUaF1IBh"
   },
   "source": [
    "Accuracy\n"
   ]
  },
  {
   "cell_type": "code",
   "execution_count": 0,
   "metadata": {
    "colab": {
     "base_uri": "https://localhost:8080/",
     "height": 34
    },
    "colab_type": "code",
    "id": "fCmQ4HX50JgE",
    "outputId": "1bd4ef1b-ba9a-4923-9269-023603c1f6b3"
   },
   "outputs": [
    {
     "name": "stdout",
     "output_type": "stream",
     "text": [
      "0.4485371235896385\n"
     ]
    }
   ],
   "source": [
    "print(r2_score(y_test,test_df['Predicted']))"
   ]
  },
  {
   "cell_type": "markdown",
   "metadata": {
    "colab_type": "text",
    "id": "CW9fII6L2Y-R"
   },
   "source": [
    "**RandomForest Regresser**"
   ]
  },
  {
   "cell_type": "code",
   "execution_count": null,
   "metadata": {},
   "outputs": [],
   "source": [
    "gsc = GridSearchCV(\n",
    "        estimator=RandomForestRegressor(),\n",
    "        param_grid={\n",
    "            'max_depth': range(5,10),\n",
    "            'n_estimators': (400,500),\n",
    "        },\n",
    "        cv=5, scoring='neg_mean_squared_error', verbose=0,n_jobs=-1)\n",
    "    \n",
    "grid_result = gsc.fit(X_train, y_train)\n",
    "best_params = grid_result.best_params_"
   ]
  },
  {
   "cell_type": "code",
   "execution_count": 0,
   "metadata": {
    "colab": {},
    "colab_type": "code",
    "id": "ctB1L91H2iJg"
   },
   "outputs": [],
   "source": [
    "Rf_reg=RandomForestRegressor(max_depth=10, n_estimators=500,random_state=False, verbose=False)"
   ]
  },
  {
   "cell_type": "code",
   "execution_count": 0,
   "metadata": {
    "colab": {},
    "colab_type": "code",
    "id": "ZqhGhROX2x2o"
   },
   "outputs": [],
   "source": [
    "Rf_fit=Rf_reg.fit(x_poly,y_train)"
   ]
  },
  {
   "cell_type": "markdown",
   "metadata": {
    "colab_type": "text",
    "id": "84cYvHCq29xB"
   },
   "source": [
    "Prediction"
   ]
  },
  {
   "cell_type": "code",
   "execution_count": 0,
   "metadata": {
    "colab": {},
    "colab_type": "code",
    "id": "jqwuQ33u3kI-"
   },
   "outputs": [],
   "source": [
    "Rf_pred = Rf_fit.predict(x_test)"
   ]
  },
  {
   "cell_type": "code",
   "execution_count": 56,
   "metadata": {
    "colab": {
     "base_uri": "https://localhost:8080/",
     "height": 204
    },
    "colab_type": "code",
    "id": "rPXLAJCA3oz0",
    "outputId": "d1b2d6fc-ecfd-4d93-fd2e-b201a1a9f44e"
   },
   "outputs": [
    {
     "data": {
      "text/html": [
       "<div>\n",
       "<style scoped>\n",
       "    .dataframe tbody tr th:only-of-type {\n",
       "        vertical-align: middle;\n",
       "    }\n",
       "\n",
       "    .dataframe tbody tr th {\n",
       "        vertical-align: top;\n",
       "    }\n",
       "\n",
       "    .dataframe thead th {\n",
       "        text-align: right;\n",
       "    }\n",
       "</style>\n",
       "<table border=\"1\" class=\"dataframe\">\n",
       "  <thead>\n",
       "    <tr style=\"text-align: right;\">\n",
       "      <th></th>\n",
       "      <th>Actual</th>\n",
       "      <th>Predicted</th>\n",
       "    </tr>\n",
       "  </thead>\n",
       "  <tbody>\n",
       "    <tr>\n",
       "      <th>0</th>\n",
       "      <td>8.250000</td>\n",
       "      <td>13.821218</td>\n",
       "    </tr>\n",
       "    <tr>\n",
       "      <th>1</th>\n",
       "      <td>22.366667</td>\n",
       "      <td>30.561187</td>\n",
       "    </tr>\n",
       "    <tr>\n",
       "      <th>2</th>\n",
       "      <td>68.133333</td>\n",
       "      <td>48.113558</td>\n",
       "    </tr>\n",
       "    <tr>\n",
       "      <th>3</th>\n",
       "      <td>32.033333</td>\n",
       "      <td>31.152737</td>\n",
       "    </tr>\n",
       "    <tr>\n",
       "      <th>4</th>\n",
       "      <td>10.466667</td>\n",
       "      <td>8.866749</td>\n",
       "    </tr>\n",
       "  </tbody>\n",
       "</table>\n",
       "</div>"
      ],
      "text/plain": [
       "      Actual  Predicted\n",
       "0   8.250000  13.821218\n",
       "1  22.366667  30.561187\n",
       "2  68.133333  48.113558\n",
       "3  32.033333  31.152737\n",
       "4  10.466667   8.866749"
      ]
     },
     "execution_count": 56,
     "metadata": {
      "tags": []
     },
     "output_type": "execute_result"
    }
   ],
   "source": [
    "test_df = pd.DataFrame({'Actual': y_test, 'Predicted': Rf_pred})\n",
    "test_df.head()"
   ]
  },
  {
   "cell_type": "markdown",
   "metadata": {
    "colab_type": "text",
    "id": "-v84XMA93Jhv"
   },
   "source": [
    "Mean Squared Error\n"
   ]
  },
  {
   "cell_type": "code",
   "execution_count": 57,
   "metadata": {
    "colab": {
     "base_uri": "https://localhost:8080/",
     "height": 34
    },
    "colab_type": "code",
    "id": "MZi5Kd4A3ZNk",
    "outputId": "3c63baa6-40fa-4a7a-8a09-13a4fc26ff87"
   },
   "outputs": [
    {
     "data": {
      "text/plain": [
       "153.41261965268325"
      ]
     },
     "execution_count": 57,
     "metadata": {
      "tags": []
     },
     "output_type": "execute_result"
    }
   ],
   "source": [
    "metrics.mean_squared_error(y_test, test_df['Predicted'])"
   ]
  },
  {
   "cell_type": "markdown",
   "metadata": {
    "colab_type": "text",
    "id": "jGLdvMAV3UbM"
   },
   "source": [
    "Accuracy"
   ]
  },
  {
   "cell_type": "code",
   "execution_count": 58,
   "metadata": {
    "colab": {
     "base_uri": "https://localhost:8080/",
     "height": 34
    },
    "colab_type": "code",
    "id": "lTwX4-yQ3fA9",
    "outputId": "1f7ad57c-04e3-4e5a-d766-7bba58cca56d"
   },
   "outputs": [
    {
     "name": "stdout",
     "output_type": "stream",
     "text": [
      "0.43177630933551414\n"
     ]
    }
   ],
   "source": [
    "print(r2_score(y_test,test_df['Predicted']))"
   ]
  },
  {
   "cell_type": "markdown",
   "metadata": {
    "colab_type": "text",
    "id": "9VryDK2A1VHZ"
   },
   "source": [
    "**Avarage of AdaBoost, GradientBoost And XGBoost**\n"
   ]
  },
  {
   "cell_type": "code",
   "execution_count": 0,
   "metadata": {
    "colab": {
     "base_uri": "https://localhost:8080/",
     "height": 206
    },
    "colab_type": "code",
    "id": "uw_CovD51hZq",
    "outputId": "66a22098-b400-4d49-d669-746718c31d3d"
   },
   "outputs": [
    {
     "data": {
      "text/html": [
       "<div>\n",
       "<style scoped>\n",
       "    .dataframe tbody tr th:only-of-type {\n",
       "        vertical-align: middle;\n",
       "    }\n",
       "\n",
       "    .dataframe tbody tr th {\n",
       "        vertical-align: top;\n",
       "    }\n",
       "\n",
       "    .dataframe thead th {\n",
       "        text-align: right;\n",
       "    }\n",
       "</style>\n",
       "<table border=\"1\" class=\"dataframe\">\n",
       "  <thead>\n",
       "    <tr style=\"text-align: right;\">\n",
       "      <th></th>\n",
       "      <th>Actual</th>\n",
       "      <th>Predicted</th>\n",
       "    </tr>\n",
       "  </thead>\n",
       "  <tbody>\n",
       "    <tr>\n",
       "      <th>0</th>\n",
       "      <td>8.250000</td>\n",
       "      <td>14.466994</td>\n",
       "    </tr>\n",
       "    <tr>\n",
       "      <th>1</th>\n",
       "      <td>22.366667</td>\n",
       "      <td>29.797783</td>\n",
       "    </tr>\n",
       "    <tr>\n",
       "      <th>2</th>\n",
       "      <td>68.133333</td>\n",
       "      <td>51.732448</td>\n",
       "    </tr>\n",
       "    <tr>\n",
       "      <th>3</th>\n",
       "      <td>32.033333</td>\n",
       "      <td>26.287468</td>\n",
       "    </tr>\n",
       "    <tr>\n",
       "      <th>4</th>\n",
       "      <td>10.466667</td>\n",
       "      <td>8.086807</td>\n",
       "    </tr>\n",
       "  </tbody>\n",
       "</table>\n",
       "</div>"
      ],
      "text/plain": [
       "      Actual  Predicted\n",
       "0   8.250000  14.466994\n",
       "1  22.366667  29.797783\n",
       "2  68.133333  51.732448\n",
       "3  32.033333  26.287468\n",
       "4  10.466667   8.086807"
      ]
     },
     "execution_count": 122,
     "metadata": {
      "tags": []
     },
     "output_type": "execute_result"
    }
   ],
   "source": [
    "test_df = pd.DataFrame({'Actual': y_test, 'Predicted': (Ada_pred+Grad_pred+Xg_pred)/3})\n",
    "test_df.head()\n"
   ]
  },
  {
   "cell_type": "markdown",
   "metadata": {
    "colab_type": "text",
    "id": "TexkgRBk1yWt"
   },
   "source": [
    "Mean squared Error"
   ]
  },
  {
   "cell_type": "code",
   "execution_count": 0,
   "metadata": {
    "colab": {
     "base_uri": "https://localhost:8080/",
     "height": 34
    },
    "colab_type": "code",
    "id": "a0rKREqS10i0",
    "outputId": "feed5202-b0c0-45a9-ed1d-bf548042bd3b"
   },
   "outputs": [
    {
     "data": {
      "text/plain": [
       "147.8486510057253"
      ]
     },
     "execution_count": 123,
     "metadata": {
      "tags": []
     },
     "output_type": "execute_result"
    }
   ],
   "source": [
    "metrics.mean_squared_error(y_test, test_df['Predicted'])"
   ]
  },
  {
   "cell_type": "markdown",
   "metadata": {
    "colab_type": "text",
    "id": "AWJ8VZV12BcZ"
   },
   "source": [
    "Accuracy"
   ]
  },
  {
   "cell_type": "code",
   "execution_count": 0,
   "metadata": {
    "colab": {
     "base_uri": "https://localhost:8080/",
     "height": 34
    },
    "colab_type": "code",
    "id": "GqO54ovx1-XW",
    "outputId": "250a8af6-4e91-440c-8722-40a7d4fb374d"
   },
   "outputs": [
    {
     "name": "stdout",
     "output_type": "stream",
     "text": [
      "0.45238464524994904\n"
     ]
    }
   ],
   "source": [
    "print(r2_score(y_test,test_df['Predicted']))"
   ]
  },
  {
   "cell_type": "markdown",
   "metadata": {
    "colab_type": "text",
    "id": "N7ZEPGjO4MSS"
   },
   "source": [
    "# **Testing Dataset**"
   ]
  },
  {
   "cell_type": "code",
   "execution_count": 0,
   "metadata": {
    "colab": {},
    "colab_type": "code",
    "id": "BYmKu_xc4e28"
   },
   "outputs": [],
   "source": [
    "col_names=['Order_No', 'User_Id', 'Vehicle_Type', 'Platform_Type',\n",
    "       'Type', 'Placement_Day_of_Month',\n",
    "       'Placement_Weekday', 'Placement_Time',\n",
    "       'Confirmation_Day_of_Month', 'Confirmation_Weekday',\n",
    "       'Confirmation_Time', 'Arrival_at_Pickup_Day_of_Month',\n",
    "       'Arrival_at_Pickup_Weekday', 'Arrival_at_Pickup_Time',\n",
    "       'Pickup_Day_of_Month', 'Pickup_Weekday', 'Pickup_Time',\n",
    "        'Distance', 'Temperature',\n",
    "       'Precipitation', 'Pickup_Lat', 'Pickup_Long',\n",
    "       'Destination_Lat', 'Destination_Long', 'Rider_Id',]"
   ]
  },
  {
   "cell_type": "code",
   "execution_count": 0,
   "metadata": {
    "colab": {
     "base_uri": "https://localhost:8080/",
     "height": 261
    },
    "colab_type": "code",
    "id": "ZIWTP6hB5W7X",
    "outputId": "aaa62781-537e-49ee-f2aa-bd1ac978f3f4"
   },
   "outputs": [
    {
     "data": {
      "text/html": [
       "<div>\n",
       "<style scoped>\n",
       "    .dataframe tbody tr th:only-of-type {\n",
       "        vertical-align: middle;\n",
       "    }\n",
       "\n",
       "    .dataframe tbody tr th {\n",
       "        vertical-align: top;\n",
       "    }\n",
       "\n",
       "    .dataframe thead th {\n",
       "        text-align: right;\n",
       "    }\n",
       "</style>\n",
       "<table border=\"1\" class=\"dataframe\">\n",
       "  <thead>\n",
       "    <tr style=\"text-align: right;\">\n",
       "      <th></th>\n",
       "      <th>Order_No</th>\n",
       "      <th>User_Id</th>\n",
       "      <th>Vehicle_Type</th>\n",
       "      <th>Platform_Type</th>\n",
       "      <th>Type</th>\n",
       "      <th>Placement_Day_of_Month</th>\n",
       "      <th>Placement_Weekday</th>\n",
       "      <th>Placement_Time</th>\n",
       "      <th>Confirmation_Day_of_Month</th>\n",
       "      <th>Confirmation_Weekday</th>\n",
       "      <th>Confirmation_Time</th>\n",
       "      <th>Arrival_at_Pickup_Day_of_Month</th>\n",
       "      <th>Arrival_at_Pickup_Weekday</th>\n",
       "      <th>Arrival_at_Pickup_Time</th>\n",
       "      <th>Pickup_Day_of_Month</th>\n",
       "      <th>Pickup_Weekday</th>\n",
       "      <th>Pickup_Time</th>\n",
       "      <th>Distance</th>\n",
       "      <th>Temperature</th>\n",
       "      <th>Precipitation</th>\n",
       "      <th>Pickup_Lat</th>\n",
       "      <th>Pickup_Long</th>\n",
       "      <th>Destination_Lat</th>\n",
       "      <th>Destination_Long</th>\n",
       "      <th>Rider_Id</th>\n",
       "    </tr>\n",
       "  </thead>\n",
       "  <tbody>\n",
       "    <tr>\n",
       "      <th>0</th>\n",
       "      <td>Order_No_19248</td>\n",
       "      <td>User_Id_3355</td>\n",
       "      <td>Bike</td>\n",
       "      <td>3</td>\n",
       "      <td>Business</td>\n",
       "      <td>27</td>\n",
       "      <td>3</td>\n",
       "      <td>4:44:10 PM</td>\n",
       "      <td>27</td>\n",
       "      <td>3</td>\n",
       "      <td>4:44:29 PM</td>\n",
       "      <td>27</td>\n",
       "      <td>3</td>\n",
       "      <td>4:53:04 PM</td>\n",
       "      <td>27</td>\n",
       "      <td>3</td>\n",
       "      <td>5:06:47 PM</td>\n",
       "      <td>8</td>\n",
       "      <td>NaN</td>\n",
       "      <td>NaN</td>\n",
       "      <td>-1.333275</td>\n",
       "      <td>36.870815</td>\n",
       "      <td>-1.305249</td>\n",
       "      <td>36.822390</td>\n",
       "      <td>Rider_Id_192</td>\n",
       "    </tr>\n",
       "    <tr>\n",
       "      <th>1</th>\n",
       "      <td>Order_No_12736</td>\n",
       "      <td>User_Id_3647</td>\n",
       "      <td>Bike</td>\n",
       "      <td>3</td>\n",
       "      <td>Business</td>\n",
       "      <td>17</td>\n",
       "      <td>5</td>\n",
       "      <td>12:57:35 PM</td>\n",
       "      <td>17</td>\n",
       "      <td>5</td>\n",
       "      <td>12:59:17 PM</td>\n",
       "      <td>17</td>\n",
       "      <td>5</td>\n",
       "      <td>1:20:27 PM</td>\n",
       "      <td>17</td>\n",
       "      <td>5</td>\n",
       "      <td>1:25:37 PM</td>\n",
       "      <td>5</td>\n",
       "      <td>NaN</td>\n",
       "      <td>NaN</td>\n",
       "      <td>-1.272639</td>\n",
       "      <td>36.794723</td>\n",
       "      <td>-1.277007</td>\n",
       "      <td>36.823907</td>\n",
       "      <td>Rider_Id_868</td>\n",
       "    </tr>\n",
       "    <tr>\n",
       "      <th>2</th>\n",
       "      <td>Order_No_768</td>\n",
       "      <td>User_Id_2154</td>\n",
       "      <td>Bike</td>\n",
       "      <td>3</td>\n",
       "      <td>Business</td>\n",
       "      <td>27</td>\n",
       "      <td>4</td>\n",
       "      <td>11:08:14 AM</td>\n",
       "      <td>27</td>\n",
       "      <td>4</td>\n",
       "      <td>11:25:05 AM</td>\n",
       "      <td>27</td>\n",
       "      <td>4</td>\n",
       "      <td>11:33:20 AM</td>\n",
       "      <td>27</td>\n",
       "      <td>4</td>\n",
       "      <td>11:57:54 AM</td>\n",
       "      <td>5</td>\n",
       "      <td>22.8</td>\n",
       "      <td>NaN</td>\n",
       "      <td>-1.290894</td>\n",
       "      <td>36.822971</td>\n",
       "      <td>-1.276574</td>\n",
       "      <td>36.851365</td>\n",
       "      <td>Rider_Id_26</td>\n",
       "    </tr>\n",
       "    <tr>\n",
       "      <th>3</th>\n",
       "      <td>Order_No_15332</td>\n",
       "      <td>User_Id_2910</td>\n",
       "      <td>Bike</td>\n",
       "      <td>3</td>\n",
       "      <td>Business</td>\n",
       "      <td>17</td>\n",
       "      <td>1</td>\n",
       "      <td>1:51:35 PM</td>\n",
       "      <td>17</td>\n",
       "      <td>1</td>\n",
       "      <td>1:53:27 PM</td>\n",
       "      <td>17</td>\n",
       "      <td>1</td>\n",
       "      <td>2:02:41 PM</td>\n",
       "      <td>17</td>\n",
       "      <td>1</td>\n",
       "      <td>2:16:52 PM</td>\n",
       "      <td>5</td>\n",
       "      <td>24.5</td>\n",
       "      <td>NaN</td>\n",
       "      <td>-1.290503</td>\n",
       "      <td>36.809646</td>\n",
       "      <td>-1.303382</td>\n",
       "      <td>36.790658</td>\n",
       "      <td>Rider_Id_685</td>\n",
       "    </tr>\n",
       "    <tr>\n",
       "      <th>4</th>\n",
       "      <td>Order_No_21373</td>\n",
       "      <td>User_Id_1205</td>\n",
       "      <td>Bike</td>\n",
       "      <td>3</td>\n",
       "      <td>Business</td>\n",
       "      <td>11</td>\n",
       "      <td>2</td>\n",
       "      <td>11:30:28 AM</td>\n",
       "      <td>11</td>\n",
       "      <td>2</td>\n",
       "      <td>11:34:45 AM</td>\n",
       "      <td>11</td>\n",
       "      <td>2</td>\n",
       "      <td>11:47:19 AM</td>\n",
       "      <td>11</td>\n",
       "      <td>2</td>\n",
       "      <td>11:56:04 AM</td>\n",
       "      <td>6</td>\n",
       "      <td>24.4</td>\n",
       "      <td>NaN</td>\n",
       "      <td>-1.281081</td>\n",
       "      <td>36.814423</td>\n",
       "      <td>-1.266467</td>\n",
       "      <td>36.792161</td>\n",
       "      <td>Rider_Id_858</td>\n",
       "    </tr>\n",
       "  </tbody>\n",
       "</table>\n",
       "</div>"
      ],
      "text/plain": [
       "         Order_No       User_Id  ... Destination_Long      Rider_Id\n",
       "0  Order_No_19248  User_Id_3355  ...        36.822390  Rider_Id_192\n",
       "1  Order_No_12736  User_Id_3647  ...        36.823907  Rider_Id_868\n",
       "2    Order_No_768  User_Id_2154  ...        36.851365   Rider_Id_26\n",
       "3  Order_No_15332  User_Id_2910  ...        36.790658  Rider_Id_685\n",
       "4  Order_No_21373  User_Id_1205  ...        36.792161  Rider_Id_858\n",
       "\n",
       "[5 rows x 25 columns]"
      ]
     },
     "execution_count": 125,
     "metadata": {
      "tags": []
     },
     "output_type": "execute_result"
    }
   ],
   "source": [
    "test=pd.read_csv('Test.csv',names=col_names,skiprows=1)\n",
    "test.head()"
   ]
  },
  {
   "cell_type": "markdown",
   "metadata": {
    "colab_type": "text",
    "id": "hNbV6Qb4oqa-"
   },
   "source": [
    "Integrating Riders information"
   ]
  },
  {
   "cell_type": "code",
   "execution_count": 0,
   "metadata": {
    "colab": {},
    "colab_type": "code",
    "id": "bR3O2v3C5kQv"
   },
   "outputs": [],
   "source": [
    "test = pd.merge(test,\n",
    "                 riders[['Rider_Id', 'Average_Rating','Rider_exp']],\n",
    "                 on='Rider_Id')"
   ]
  },
  {
   "cell_type": "markdown",
   "metadata": {
    "colab_type": "text",
    "id": "8O8Z2K4AtJW2"
   },
   "source": [
    "Generating time attributes"
   ]
  },
  {
   "cell_type": "code",
   "execution_count": 0,
   "metadata": {
    "colab": {},
    "colab_type": "code",
    "id": "gm3tDKza5wZ-"
   },
   "outputs": [],
   "source": [
    "def hfmt(x):\n",
    "  return x.strftime('%H:%M:%S')\n",
    "test['Placement_Time']=pd.to_datetime(test['Placement_Time'])\n",
    "test['Placement_Time']=test['Placement_Time'].apply(hfmt)\n",
    "test['Placement_Time']=pd.to_timedelta(test['Placement_Time'])\n",
    "\n",
    "test['Confirmation_Time']=pd.to_datetime(test['Confirmation_Time'])\n",
    "test['Confirmation_Time']=test['Confirmation_Time'].apply(hfmt)\n",
    "test['Confirmation_Time']=pd.to_timedelta(test['Confirmation_Time'])\n",
    "\n",
    "test['Arrival_at_Pickup_Time']=pd.to_datetime(test['Arrival_at_Pickup_Time'])\n",
    "test['Arrival_at_Pickup_Time']=test['Arrival_at_Pickup_Time'].apply(hfmt)\n",
    "test['Arrival_at_Pickup_Time']=pd.to_timedelta(test['Arrival_at_Pickup_Time'])\n",
    "\n",
    "test['Pickup_Time']=pd.to_datetime(test['Pickup_Time'])\n",
    "test['Pickup_Time']=test['Pickup_Time'].apply(hfmt)\n",
    "test['Pickup_Time']=pd.to_timedelta(test['Pickup_Time'])\n"
   ]
  },
  {
   "cell_type": "code",
   "execution_count": 0,
   "metadata": {
    "colab": {
     "base_uri": "https://localhost:8080/",
     "height": 225
    },
    "colab_type": "code",
    "id": "3mlCWisr5wXq",
    "outputId": "44aa13a2-718f-4dad-c574-bc3881504c88"
   },
   "outputs": [
    {
     "name": "stderr",
     "output_type": "stream",
     "text": [
      "/usr/local/lib/python3.6/dist-packages/ipykernel_launcher.py:2: FutureWarning:\n",
      "\n",
      "Passing timedelta64-dtype data is deprecated, will raise a TypeError in a future version\n",
      "\n",
      "/usr/local/lib/python3.6/dist-packages/ipykernel_launcher.py:7: FutureWarning:\n",
      "\n",
      "Passing timedelta64-dtype data is deprecated, will raise a TypeError in a future version\n",
      "\n",
      "/usr/local/lib/python3.6/dist-packages/ipykernel_launcher.py:12: FutureWarning:\n",
      "\n",
      "Passing timedelta64-dtype data is deprecated, will raise a TypeError in a future version\n",
      "\n"
     ]
    }
   ],
   "source": [
    "test['conf_no']=test['Confirmation_Time']-test['Placement_Time']\n",
    "conf_temp=pd.DatetimeIndex(test['conf_no'])\n",
    "conf_temp=(conf_temp.hour*60+conf_temp.minute+(conf_temp.second/60))\n",
    "test['confirmation_time_min']=conf_temp\n",
    "\n",
    "test['Arrival_no']=test['Arrival_at_Pickup_Time']-test['Confirmation_Time']\n",
    "conf_temp=pd.DatetimeIndex(test['Arrival_no'])\n",
    "conf_temp=(conf_temp.hour*60+conf_temp.minute+(conf_temp.second/60))\n",
    "test['Arrival_time_min']=conf_temp\n",
    "\n",
    "test['Pickup_no']=test['Pickup_Time']-test['Arrival_at_Pickup_Time']\n",
    "conf_temp=pd.DatetimeIndex(test['Pickup_no'])\n",
    "conf_temp=(conf_temp.hour*60+conf_temp.minute+(conf_temp.second/60))\n",
    "test['Pickup_time_min']=conf_temp\n"
   ]
  },
  {
   "cell_type": "markdown",
   "metadata": {
    "colab_type": "text",
    "id": "8uf4g-X8pl7H"
   },
   "source": [
    "One hot encoding of platform types(1,2,3,4) and type(business,personal)"
   ]
  },
  {
   "cell_type": "code",
   "execution_count": 0,
   "metadata": {
    "colab": {
     "base_uri": "https://localhost:8080/",
     "height": 121
    },
    "colab_type": "code",
    "id": "WZsgYNIK5wTq",
    "outputId": "33e960dd-9c7a-4587-81a2-a0c15576ac2f"
   },
   "outputs": [
    {
     "name": "stderr",
     "output_type": "stream",
     "text": [
      "/usr/local/lib/python3.6/dist-packages/sklearn/preprocessing/_encoders.py:415: FutureWarning:\n",
      "\n",
      "The handling of integer data will change in version 0.22. Currently, the categories are determined based on the range [0, max(values)], while in the future they will be determined based on the unique values.\n",
      "If you want the future behaviour and silence this warning, you can specify \"categories='auto'\".\n",
      "In case you used a LabelEncoder before this OneHotEncoder to convert the categories to integers, then you can now use the OneHotEncoder directly.\n",
      "\n"
     ]
    }
   ],
   "source": [
    "int_data=LabelEncoder().fit_transform(test['Platform_Type'])\n",
    "one_hot_data=OneHotEncoder().fit_transform(int_data.reshape(-1,1)).toarray()\n",
    "test['1']=one_hot_data[:,0]\n",
    "test['2']=one_hot_data[:,1]\n",
    "test['3']=one_hot_data[:,2]\n",
    "test['4']=one_hot_data[:,3]"
   ]
  },
  {
   "cell_type": "code",
   "execution_count": 0,
   "metadata": {
    "colab": {
     "base_uri": "https://localhost:8080/",
     "height": 121
    },
    "colab_type": "code",
    "id": "mqj6RHTZ5wPl",
    "outputId": "2e897b56-6ec7-42fc-ed04-f5432616c874"
   },
   "outputs": [
    {
     "name": "stderr",
     "output_type": "stream",
     "text": [
      "/usr/local/lib/python3.6/dist-packages/sklearn/preprocessing/_encoders.py:415: FutureWarning:\n",
      "\n",
      "The handling of integer data will change in version 0.22. Currently, the categories are determined based on the range [0, max(values)], while in the future they will be determined based on the unique values.\n",
      "If you want the future behaviour and silence this warning, you can specify \"categories='auto'\".\n",
      "In case you used a LabelEncoder before this OneHotEncoder to convert the categories to integers, then you can now use the OneHotEncoder directly.\n",
      "\n"
     ]
    }
   ],
   "source": [
    "int_data=LabelEncoder().fit_transform(test['Type'])\n",
    "one_hot_data=OneHotEncoder().fit_transform(int_data.reshape(-1,1)).toarray()\n",
    "test['Business']=one_hot_data[:,0]\n",
    "test['Personal']=one_hot_data[:,1]"
   ]
  },
  {
   "cell_type": "markdown",
   "metadata": {
    "colab_type": "text",
    "id": "-DHEVULwstVb"
   },
   "source": [
    "Handling Null values for temperature and precipitation"
   ]
  },
  {
   "cell_type": "code",
   "execution_count": 0,
   "metadata": {
    "colab": {},
    "colab_type": "code",
    "id": "DdaGhakh6Dcc"
   },
   "outputs": [],
   "source": [
    "med_temp=test.Temperature.median()\n",
    "test['Temperature'].fillna(med_temp,inplace=True)"
   ]
  },
  {
   "cell_type": "code",
   "execution_count": 0,
   "metadata": {
    "colab": {
     "base_uri": "https://localhost:8080/",
     "height": 34
    },
    "colab_type": "code",
    "id": "Q9xfGhrS6FC2",
    "outputId": "08fc5929-71a4-4959-e21d-7daa60c99dd1"
   },
   "outputs": [
    {
     "data": {
      "text/plain": [
       "0"
      ]
     },
     "execution_count": 132,
     "metadata": {
      "tags": []
     },
     "output_type": "execute_result"
    }
   ],
   "source": [
    "test['Precipitation'].fillna(0,inplace=True)\n",
    "test['Precipitation'].isnull().sum()"
   ]
  },
  {
   "cell_type": "markdown",
   "metadata": {
    "colab_type": "text",
    "id": "TpJJnsjfr2l7"
   },
   "source": [
    "Inserting Rider average speeds"
   ]
  },
  {
   "cell_type": "code",
   "execution_count": 0,
   "metadata": {
    "colab": {},
    "colab_type": "code",
    "id": "ckPX7o0J6DYP"
   },
   "outputs": [],
   "source": [
    "test.replace(xx.index,xx.values,inplace=True)"
   ]
  },
  {
   "cell_type": "markdown",
   "metadata": {
    "colab_type": "text",
    "id": "TDmQwENPsBCy"
   },
   "source": [
    "Inserting mean speed for those riders not present in the training Dataset"
   ]
  },
  {
   "cell_type": "code",
   "execution_count": 0,
   "metadata": {
    "colab": {},
    "colab_type": "code",
    "id": "doBvxncvmSFq"
   },
   "outputs": [],
   "source": [
    "ttt=test.loc[test.Rider_Id.str.contains('^Rider_Id').notnull()]\n",
    "yy=ttt['Rider_Id']\n",
    "yy\n",
    "test.replace(yy.values,2.2254,inplace=True)"
   ]
  },
  {
   "cell_type": "markdown",
   "metadata": {
    "colab_type": "text",
    "id": "6n50dlp8sd_Y"
   },
   "source": [
    "Predicting for the testing dataset"
   ]
  },
  {
   "cell_type": "code",
   "execution_count": 0,
   "metadata": {
    "colab": {},
    "colab_type": "code",
    "id": "eM7v_gy36lYh"
   },
   "outputs": [],
   "source": [
    "test_data=test[['Personal','Business','Pickup_time_min','Distance','Rider_Id','new_attr','Destination_Lat','Destination_Long','Pickup_Lat','Pickup_Long']].values"
   ]
  },
  {
   "cell_type": "code",
   "execution_count": 0,
   "metadata": {
    "colab": {},
    "colab_type": "code",
    "id": "zEH_Z56Nmico"
   },
   "outputs": [],
   "source": [
    "polynomial_features= PolynomialFeatures(degree=2)\n",
    "x_testing_poly=polynomial_features.fit_transform(test_data)"
   ]
  },
  {
   "cell_type": "code",
   "execution_count": 0,
   "metadata": {
    "colab": {},
    "colab_type": "code",
    "id": "yM7_Q4Vnmi1W"
   },
   "outputs": [],
   "source": [
    "y_pred = Grad_fit.predict(x_testing_poly)\n",
    "y_pred1 = Xg_fit.predict(x_testing_poly)\n",
    "y_pred2 = Ada_fit.predict(x_testing_poly)\n",
    "test['time_in_sec']=((y_pred+y_pred1+y_pred2)/3)*60"
   ]
  },
  {
   "cell_type": "code",
   "execution_count": 0,
   "metadata": {
    "colab": {},
    "colab_type": "code",
    "id": "fy0JAxjWmi9P"
   },
   "outputs": [],
   "source": [
    "sub_file=test[['Order_No','time_in_sec']]\n",
    "sub_file.head()"
   ]
  },
  {
   "cell_type": "code",
   "execution_count": 0,
   "metadata": {
    "colab": {},
    "colab_type": "code",
    "id": "uQ7xjgjlmi5y"
   },
   "outputs": [],
   "source": [
    "sub_file.columns=['Order_No','Time from Pickup to Arrival']"
   ]
  },
  {
   "cell_type": "code",
   "execution_count": 0,
   "metadata": {
    "colab": {},
    "colab_type": "code",
    "id": "L5iGF7ZInycz"
   },
   "outputs": [],
   "source": [
    "sub_file['Time from Pickup to Arrival']=sub_file['Time from Pickup to Arrival'].astype(int)\n",
    "sub_file.head()"
   ]
  },
  {
   "cell_type": "code",
   "execution_count": 0,
   "metadata": {
    "colab": {},
    "colab_type": "code",
    "id": "gHRBTZvtn2wa"
   },
   "outputs": [],
   "source": [
    "sub_file.to_csv('xgav1.csv',index=False)"
   ]
  }
 ],
 "metadata": {
  "colab": {
   "collapsed_sections": [],
   "name": "sendy_pre_processing(1).ipynb",
   "provenance": []
  },
  "kernelspec": {
   "display_name": "Python 3",
   "language": "python",
   "name": "python3"
  },
  "language_info": {
   "codemirror_mode": {
    "name": "ipython",
    "version": 3
   },
   "file_extension": ".py",
   "mimetype": "text/x-python",
   "name": "python",
   "nbconvert_exporter": "python",
   "pygments_lexer": "ipython3",
   "version": "3.8.2"
  }
 },
 "nbformat": 4,
 "nbformat_minor": 1
}
